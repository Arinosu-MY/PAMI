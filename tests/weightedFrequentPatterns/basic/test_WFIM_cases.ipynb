{
  "nbformat": 4,
  "nbformat_minor": 0,
  "metadata": {
    "colab": {
      "provenance": []
    },
    "kernelspec": {
      "name": "python3",
      "display_name": "Python 3"
    },
    "language_info": {
      "name": "python"
    }
  },
  "cells": [
    {
      "cell_type": "code",
      "source": [
        "!pip install -U pami"
      ],
      "metadata": {
        "colab": {
          "base_uri": "https://localhost:8080/"
        },
        "id": "JIpQR7kqWfJ8",
        "outputId": "9f8587ee-6d87-4b0f-ac2f-bb28c777af04"
      },
      "execution_count": 1,
      "outputs": [
        {
          "output_type": "stream",
          "name": "stdout",
          "text": [
            "Collecting pami\n",
            "  Downloading pami-2024.6.18.1-py3-none-any.whl (1.0 MB)\n",
            "\u001b[2K     \u001b[90m━━━━━━━━━━━━━━━━━━━━━━━━━━━━━━━━━━━━━━━━\u001b[0m \u001b[32m1.0/1.0 MB\u001b[0m \u001b[31m4.8 MB/s\u001b[0m eta \u001b[36m0:00:00\u001b[0m\n",
            "\u001b[?25hRequirement already satisfied: psutil in /usr/local/lib/python3.10/dist-packages (from pami) (5.9.5)\n",
            "Requirement already satisfied: pandas in /usr/local/lib/python3.10/dist-packages (from pami) (2.0.3)\n",
            "Requirement already satisfied: plotly in /usr/local/lib/python3.10/dist-packages (from pami) (5.15.0)\n",
            "Requirement already satisfied: matplotlib in /usr/local/lib/python3.10/dist-packages (from pami) (3.7.1)\n",
            "Collecting resource (from pami)\n",
            "  Downloading Resource-0.2.1-py2.py3-none-any.whl (25 kB)\n",
            "Collecting validators (from pami)\n",
            "  Downloading validators-0.28.3-py3-none-any.whl (40 kB)\n",
            "\u001b[2K     \u001b[90m━━━━━━━━━━━━━━━━━━━━━━━━━━━━━━━━━━━━━━━━\u001b[0m \u001b[32m40.0/40.0 kB\u001b[0m \u001b[31m2.9 MB/s\u001b[0m eta \u001b[36m0:00:00\u001b[0m\n",
            "\u001b[?25hRequirement already satisfied: urllib3 in /usr/local/lib/python3.10/dist-packages (from pami) (2.0.7)\n",
            "Requirement already satisfied: Pillow in /usr/local/lib/python3.10/dist-packages (from pami) (9.4.0)\n",
            "Requirement already satisfied: numpy in /usr/local/lib/python3.10/dist-packages (from pami) (1.25.2)\n",
            "Requirement already satisfied: sphinx in /usr/local/lib/python3.10/dist-packages (from pami) (5.0.2)\n",
            "Collecting sphinx-rtd-theme (from pami)\n",
            "  Downloading sphinx_rtd_theme-2.0.0-py2.py3-none-any.whl (2.8 MB)\n",
            "\u001b[2K     \u001b[90m━━━━━━━━━━━━━━━━━━━━━━━━━━━━━━━━━━━━━━━━\u001b[0m \u001b[32m2.8/2.8 MB\u001b[0m \u001b[31m33.3 MB/s\u001b[0m eta \u001b[36m0:00:00\u001b[0m\n",
            "\u001b[?25hCollecting discord.py (from pami)\n",
            "  Downloading discord.py-2.3.2-py3-none-any.whl (1.1 MB)\n",
            "\u001b[2K     \u001b[90m━━━━━━━━━━━━━━━━━━━━━━━━━━━━━━━━━━━━━━━━\u001b[0m \u001b[32m1.1/1.1 MB\u001b[0m \u001b[31m20.7 MB/s\u001b[0m eta \u001b[36m0:00:00\u001b[0m\n",
            "\u001b[?25hRequirement already satisfied: networkx in /usr/local/lib/python3.10/dist-packages (from pami) (3.3)\n",
            "Collecting deprecated (from pami)\n",
            "  Downloading Deprecated-1.2.14-py2.py3-none-any.whl (9.6 kB)\n",
            "Requirement already satisfied: wrapt<2,>=1.10 in /usr/local/lib/python3.10/dist-packages (from deprecated->pami) (1.14.1)\n",
            "Requirement already satisfied: aiohttp<4,>=3.7.4 in /usr/local/lib/python3.10/dist-packages (from discord.py->pami) (3.9.5)\n",
            "Requirement already satisfied: contourpy>=1.0.1 in /usr/local/lib/python3.10/dist-packages (from matplotlib->pami) (1.2.1)\n",
            "Requirement already satisfied: cycler>=0.10 in /usr/local/lib/python3.10/dist-packages (from matplotlib->pami) (0.12.1)\n",
            "Requirement already satisfied: fonttools>=4.22.0 in /usr/local/lib/python3.10/dist-packages (from matplotlib->pami) (4.53.0)\n",
            "Requirement already satisfied: kiwisolver>=1.0.1 in /usr/local/lib/python3.10/dist-packages (from matplotlib->pami) (1.4.5)\n",
            "Requirement already satisfied: packaging>=20.0 in /usr/local/lib/python3.10/dist-packages (from matplotlib->pami) (24.1)\n",
            "Requirement already satisfied: pyparsing>=2.3.1 in /usr/local/lib/python3.10/dist-packages (from matplotlib->pami) (3.1.2)\n",
            "Requirement already satisfied: python-dateutil>=2.7 in /usr/local/lib/python3.10/dist-packages (from matplotlib->pami) (2.8.2)\n",
            "Requirement already satisfied: pytz>=2020.1 in /usr/local/lib/python3.10/dist-packages (from pandas->pami) (2023.4)\n",
            "Requirement already satisfied: tzdata>=2022.1 in /usr/local/lib/python3.10/dist-packages (from pandas->pami) (2024.1)\n",
            "Requirement already satisfied: tenacity>=6.2.0 in /usr/local/lib/python3.10/dist-packages (from plotly->pami) (8.3.0)\n",
            "Collecting JsonForm>=0.0.2 (from resource->pami)\n",
            "  Downloading JsonForm-0.0.2.tar.gz (2.4 kB)\n",
            "  Preparing metadata (setup.py) ... \u001b[?25l\u001b[?25hdone\n",
            "Collecting JsonSir>=0.0.2 (from resource->pami)\n",
            "  Downloading JsonSir-0.0.2.tar.gz (2.2 kB)\n",
            "  Preparing metadata (setup.py) ... \u001b[?25l\u001b[?25hdone\n",
            "Collecting python-easyconfig>=0.1.0 (from resource->pami)\n",
            "  Downloading Python_EasyConfig-0.1.7-py2.py3-none-any.whl (5.4 kB)\n",
            "Requirement already satisfied: sphinxcontrib-applehelp in /usr/local/lib/python3.10/dist-packages (from sphinx->pami) (1.0.8)\n",
            "Requirement already satisfied: sphinxcontrib-devhelp in /usr/local/lib/python3.10/dist-packages (from sphinx->pami) (1.0.6)\n",
            "Requirement already satisfied: sphinxcontrib-jsmath in /usr/local/lib/python3.10/dist-packages (from sphinx->pami) (1.0.1)\n",
            "Requirement already satisfied: sphinxcontrib-htmlhelp>=2.0.0 in /usr/local/lib/python3.10/dist-packages (from sphinx->pami) (2.0.5)\n",
            "Requirement already satisfied: sphinxcontrib-serializinghtml>=1.1.5 in /usr/local/lib/python3.10/dist-packages (from sphinx->pami) (1.1.10)\n",
            "Requirement already satisfied: sphinxcontrib-qthelp in /usr/local/lib/python3.10/dist-packages (from sphinx->pami) (1.0.7)\n",
            "Requirement already satisfied: Jinja2>=2.3 in /usr/local/lib/python3.10/dist-packages (from sphinx->pami) (3.1.4)\n",
            "Requirement already satisfied: Pygments>=2.0 in /usr/local/lib/python3.10/dist-packages (from sphinx->pami) (2.16.1)\n",
            "Requirement already satisfied: docutils<0.19,>=0.14 in /usr/local/lib/python3.10/dist-packages (from sphinx->pami) (0.18.1)\n",
            "Requirement already satisfied: snowballstemmer>=1.1 in /usr/local/lib/python3.10/dist-packages (from sphinx->pami) (2.2.0)\n",
            "Requirement already satisfied: babel>=1.3 in /usr/local/lib/python3.10/dist-packages (from sphinx->pami) (2.15.0)\n",
            "Requirement already satisfied: alabaster<0.8,>=0.7 in /usr/local/lib/python3.10/dist-packages (from sphinx->pami) (0.7.16)\n",
            "Requirement already satisfied: imagesize in /usr/local/lib/python3.10/dist-packages (from sphinx->pami) (1.4.1)\n",
            "Requirement already satisfied: requests>=2.5.0 in /usr/local/lib/python3.10/dist-packages (from sphinx->pami) (2.31.0)\n",
            "Collecting sphinxcontrib-jquery<5,>=4 (from sphinx-rtd-theme->pami)\n",
            "  Downloading sphinxcontrib_jquery-4.1-py2.py3-none-any.whl (121 kB)\n",
            "\u001b[2K     \u001b[90m━━━━━━━━━━━━━━━━━━━━━━━━━━━━━━━━━━━━━━━━\u001b[0m \u001b[32m121.1/121.1 kB\u001b[0m \u001b[31m4.3 MB/s\u001b[0m eta \u001b[36m0:00:00\u001b[0m\n",
            "\u001b[?25hRequirement already satisfied: aiosignal>=1.1.2 in /usr/local/lib/python3.10/dist-packages (from aiohttp<4,>=3.7.4->discord.py->pami) (1.3.1)\n",
            "Requirement already satisfied: attrs>=17.3.0 in /usr/local/lib/python3.10/dist-packages (from aiohttp<4,>=3.7.4->discord.py->pami) (23.2.0)\n",
            "Requirement already satisfied: frozenlist>=1.1.1 in /usr/local/lib/python3.10/dist-packages (from aiohttp<4,>=3.7.4->discord.py->pami) (1.4.1)\n",
            "Requirement already satisfied: multidict<7.0,>=4.5 in /usr/local/lib/python3.10/dist-packages (from aiohttp<4,>=3.7.4->discord.py->pami) (6.0.5)\n",
            "Requirement already satisfied: yarl<2.0,>=1.0 in /usr/local/lib/python3.10/dist-packages (from aiohttp<4,>=3.7.4->discord.py->pami) (1.9.4)\n",
            "Requirement already satisfied: async-timeout<5.0,>=4.0 in /usr/local/lib/python3.10/dist-packages (from aiohttp<4,>=3.7.4->discord.py->pami) (4.0.3)\n",
            "Requirement already satisfied: MarkupSafe>=2.0 in /usr/local/lib/python3.10/dist-packages (from Jinja2>=2.3->sphinx->pami) (2.1.5)\n",
            "Requirement already satisfied: jsonschema in /usr/local/lib/python3.10/dist-packages (from JsonForm>=0.0.2->resource->pami) (4.19.2)\n",
            "Requirement already satisfied: six>=1.5 in /usr/local/lib/python3.10/dist-packages (from python-dateutil>=2.7->matplotlib->pami) (1.16.0)\n",
            "Requirement already satisfied: PyYAML in /usr/local/lib/python3.10/dist-packages (from python-easyconfig>=0.1.0->resource->pami) (6.0.1)\n",
            "Requirement already satisfied: charset-normalizer<4,>=2 in /usr/local/lib/python3.10/dist-packages (from requests>=2.5.0->sphinx->pami) (3.3.2)\n",
            "Requirement already satisfied: idna<4,>=2.5 in /usr/local/lib/python3.10/dist-packages (from requests>=2.5.0->sphinx->pami) (3.7)\n",
            "Requirement already satisfied: certifi>=2017.4.17 in /usr/local/lib/python3.10/dist-packages (from requests>=2.5.0->sphinx->pami) (2024.6.2)\n",
            "Requirement already satisfied: jsonschema-specifications>=2023.03.6 in /usr/local/lib/python3.10/dist-packages (from jsonschema->JsonForm>=0.0.2->resource->pami) (2023.12.1)\n",
            "Requirement already satisfied: referencing>=0.28.4 in /usr/local/lib/python3.10/dist-packages (from jsonschema->JsonForm>=0.0.2->resource->pami) (0.35.1)\n",
            "Requirement already satisfied: rpds-py>=0.7.1 in /usr/local/lib/python3.10/dist-packages (from jsonschema->JsonForm>=0.0.2->resource->pami) (0.18.1)\n",
            "Building wheels for collected packages: JsonForm, JsonSir\n",
            "  Building wheel for JsonForm (setup.py) ... \u001b[?25l\u001b[?25hdone\n",
            "  Created wheel for JsonForm: filename=JsonForm-0.0.2-py3-none-any.whl size=3314 sha256=9f1759d662ce3cc4c8c7e49894c407ef74701a09c81c826e6f551bbcf4257556\n",
            "  Stored in directory: /root/.cache/pip/wheels/b6/e5/87/11026246d3bd4ad67c0615682d2d6748bbd9a40ac0490882bd\n",
            "  Building wheel for JsonSir (setup.py) ... \u001b[?25l\u001b[?25hdone\n",
            "  Created wheel for JsonSir: filename=JsonSir-0.0.2-py3-none-any.whl size=4752 sha256=7c58db4241755f61c9d9220645e8ee3589176be0d8bd23d0a5de15f98e376d0a\n",
            "  Stored in directory: /root/.cache/pip/wheels/1d/4c/d3/4d9757425983b43eb709be1043d82cd03fb863ce5f56f117e6\n",
            "Successfully built JsonForm JsonSir\n",
            "Installing collected packages: JsonSir, validators, python-easyconfig, deprecated, sphinxcontrib-jquery, discord.py, sphinx-rtd-theme, JsonForm, resource, pami\n",
            "Successfully installed JsonForm-0.0.2 JsonSir-0.0.2 deprecated-1.2.14 discord.py-2.3.2 pami-2024.6.18.1 python-easyconfig-0.1.7 resource-0.2.1 sphinx-rtd-theme-2.0.0 sphinxcontrib-jquery-4.1 validators-0.28.3\n"
          ]
        }
      ]
    },
    {
      "cell_type": "code",
      "source": [
        "!wget -nc https://u-aizu.ac.jp/~udayrage/datasets/transactionalDatabases/Transactional_T10I4D100K.csv"
      ],
      "metadata": {
        "colab": {
          "base_uri": "https://localhost:8080/"
        },
        "id": "Wc4QUoJMeNDC",
        "outputId": "27eb3c34-21ba-45e9-add8-419fde029fbb"
      },
      "execution_count": 8,
      "outputs": [
        {
          "output_type": "stream",
          "name": "stdout",
          "text": [
            "--2024-06-18 08:57:24--  https://u-aizu.ac.jp/~udayrage/datasets/transactionalDatabases/Transactional_T10I4D100K.csv\n",
            "Resolving u-aizu.ac.jp (u-aizu.ac.jp)... 150.95.161.176, 150.31.244.160\n",
            "Connecting to u-aizu.ac.jp (u-aizu.ac.jp)|150.95.161.176|:443... connected.\n",
            "HTTP request sent, awaiting response... 200 OK\n",
            "Length: 4019277 (3.8M) [text/csv]\n",
            "Saving to: ‘Transactional_T10I4D100K.csv’\n",
            "\n",
            "Transactional_T10I4 100%[===================>]   3.83M   838KB/s    in 4.7s    \n",
            "\n",
            "2024-06-18 08:57:30 (838 KB/s) - ‘Transactional_T10I4D100K.csv’ saved [4019277/4019277]\n",
            "\n"
          ]
        }
      ]
    },
    {
      "cell_type": "markdown",
      "source": [
        "#Test Cases for T10I4D100K Dataset"
      ],
      "metadata": {
        "id": "cLfV1dPzWj18"
      }
    },
    {
      "cell_type": "markdown",
      "source": [
        "##Test case 1 for T10I4D100K Dataset"
      ],
      "metadata": {
        "id": "hLgApfC4W1Cn"
      }
    },
    {
      "cell_type": "code",
      "source": [
        "from PAMI.weightedFrequentPattern.basic import WFIM as alg\n",
        "import pandas as pd\n",
        "\n",
        "#Set the input parameters\n",
        "url='https://u-aizu.ac.jp/~udayrage/datasets/transactionalDatabases/Transactional_T10I4D100K.csv'\n",
        "weightFile='mxt.txt'\n",
        "separetor='\\t'\n",
        "minWeight = 100\n",
        "MinimumSupportCountList=[100, 200, 300, 400, 500]\n",
        "\n",
        "# Initialize a data frame to store the results of WFIM\n",
        "result = pd.DataFrame(columns=['algorithm', 'minSup', 'patterns', 'runtime', 'memory'])\n",
        "\n",
        "# Execute the algorithm at different minSup values\n",
        "\n",
        "for minSupCount in MinimumSupportCountList:\n",
        "  obj = alg.WFIM(url, wFile=weightFile, minSup=minSupCount, minWeight=minWeight, sep=separetor)\n",
        "  obj.mine()\n",
        "  #Store the results in the data frame\n",
        "  result.loc[result.shape[0]] = ['WFIM', minSupCount, len(obj.getPatterns()), obj.getRuntime(), obj.getMemoryRSS()]\n",
        "\n",
        "# Print the results\n",
        "print(f\"Weighted Frequent patterns were generated successfully using WFIM algorithm\")\n",
        "print(result)"
      ],
      "metadata": {
        "colab": {
          "base_uri": "https://localhost:8080/"
        },
        "id": "tBX90tM9WgdJ",
        "outputId": "22282b7a-3790-4c3f-9dd7-9fca832ac4d8"
      },
      "execution_count": 9,
      "outputs": [
        {
          "output_type": "stream",
          "name": "stdout",
          "text": [
            "Weighted Frequent patterns were generated successfully using basic algorithm\n",
            "Weighted Frequent patterns were generated successfully using basic algorithm\n",
            "Weighted Frequent patterns were generated successfully using basic algorithm\n",
            "Weighted Frequent patterns were generated successfully using basic algorithm\n",
            "Weighted Frequent patterns were generated successfully using basic algorithm\n",
            "Weighted Frequent patterns were generated successfully using WFIM algorithm\n",
            "  algorithm  minSup  patterns    runtime     memory\n",
            "0      WFIM     100     27517  22.961262  573857792\n",
            "1      WFIM     200     13252  21.965357  553861120\n",
            "2      WFIM     300      4540  22.474250  546680832\n",
            "3      WFIM     400      2000  20.519261  537477120\n",
            "4      WFIM     500      1072  20.425869  526843904\n"
          ]
        }
      ]
    },
    {
      "cell_type": "markdown",
      "source": [
        "##Test case 2 for T10I4D100K Dataset"
      ],
      "metadata": {
        "id": "iD56o75ZYM8g"
      }
    },
    {
      "cell_type": "code",
      "source": [
        "from PAMI.weightedFrequentPattern.basic import WFIM as alg\n",
        "import pandas as pd\n",
        "\n",
        "#Set the input parameters\n",
        "inputFile='Transactional_T10I4D100K.csv'\n",
        "weightFile='mxt.txt'\n",
        "separetor='\\t'\n",
        "minWeight = 100\n",
        "MinimumSupportCountList=[100, 200, 300, 400, 500]\n",
        "\n",
        "# Initialize a data frame to store the results of WFIM\n",
        "result = pd.DataFrame(columns=['algorithm', 'minSup', 'patterns', 'runtime', 'memory'])\n",
        "\n",
        "# Execute the algorithm at different minSup values\n",
        "\n",
        "for minSupCount in MinimumSupportCountList:\n",
        "  obj = alg.WFIM(inputFile, wFile=weightFile, minSup=minSupCount, minWeight=minWeight, sep=separetor)\n",
        "  obj.mine()\n",
        "  #Store the results in the data frame\n",
        "  result.loc[result.shape[0]] = ['WFIM', minSupCount, len(obj.getPatterns()), obj.getRuntime(), obj.getMemoryRSS()]\n",
        "\n",
        "# Print the results\n",
        "print(f\"Weighted Frequent patterns were generated successfully using WFIM algorithm\")\n",
        "print(result)"
      ],
      "metadata": {
        "colab": {
          "base_uri": "https://localhost:8080/"
        },
        "id": "vYp33_iJYtmQ",
        "outputId": "b8cc32c8-06ef-4612-857c-85aad8f3bba8"
      },
      "execution_count": 10,
      "outputs": [
        {
          "output_type": "stream",
          "name": "stdout",
          "text": [
            "Weighted Frequent patterns were generated successfully using basic algorithm\n",
            "Weighted Frequent patterns were generated successfully using basic algorithm\n",
            "Weighted Frequent patterns were generated successfully using basic algorithm\n",
            "Weighted Frequent patterns were generated successfully using basic algorithm\n",
            "Weighted Frequent patterns were generated successfully using basic algorithm\n",
            "Weighted Frequent patterns were generated successfully using WFIM algorithm\n",
            "  algorithm  minSup  patterns    runtime     memory\n",
            "0      WFIM     100     27517  18.333022  567906304\n",
            "1      WFIM     200     13252  17.788230  554942464\n",
            "2      WFIM     300      4540  15.461157  547209216\n",
            "3      WFIM     400      2000  14.430020  538423296\n",
            "4      WFIM     500      1072  15.730994  527622144\n"
          ]
        }
      ]
    },
    {
      "cell_type": "markdown",
      "source": [
        "##Test case 3 for T10I4D100K Dataset"
      ],
      "metadata": {
        "id": "yxQ3mPl0aDW0"
      }
    },
    {
      "cell_type": "code",
      "source": [
        "from PAMI.weightedFrequentPattern.basic import WFIM as alg\n",
        "import pandas as pd\n",
        "\n",
        "# Set the input parameters\n",
        "inputFile='Transactional_T10I4D100K.csv'\n",
        "weightFile='mxt.txt'\n",
        "separetor='\\t'\n",
        "minWeight = 100\n",
        "MinimumSupportCountList=[100, 200, 300, 400, 500]\n",
        "\n",
        "# Read the CSV file into a DataFrame\n",
        "df = pd.read_csv(inputFile, header=[0], sep=' ')\n",
        "df = df.rename(columns={df.columns[0]: \"Transactions\"})\n",
        "\n",
        "# Ensure all data in the \"Transaction\" column is string before splitting\n",
        "df[\"Transactions\"] = df[\"Transactions\"].astype(str)\n",
        "\n",
        "# Preprocess the dataset\n",
        "# transactions = df[\"Transaction\"].apply(lambda x: x.split(separetor)).tolist()\n",
        "transactions = df['Transactions'].apply(lambda x: x.split(separetor))\n",
        "transactions = pd.DataFrame(transactions, columns=['Transactions'])\n",
        "\n",
        "# Initialize a data frame to store the results of WFIM\n",
        "result = pd.DataFrame(columns=['algorithm', 'minSup', 'patterns', 'runtime', 'memory'])\n",
        "\n",
        "# Execute the algorithm at different minSup values\n",
        "for minSupCount in MinimumSupportCountList:\n",
        "    obj = alg.WFIM(transactions, wFile=weightFile, minSup=minSupCount, minWeight=minWeight, sep=separetor)\n",
        "    obj.mine()\n",
        "\n",
        "    # Get the patterns found\n",
        "    patterns = obj.getPatterns()\n",
        "\n",
        "    # Store the results in the data frame\n",
        "    result.loc[len(result)] = ['WFIM', minSupCount, len(patterns), obj.getRuntime(), obj.getMemoryRSS()]\n",
        "\n",
        "# Print the results\n",
        "print(\"Weighted Frequent patterns were generated successfully using WFIM algorithm\")\n",
        "print(result)\n"
      ],
      "metadata": {
        "colab": {
          "base_uri": "https://localhost:8080/"
        },
        "id": "sPtFLCnRZS2P",
        "outputId": "cd9f2a07-8d73-4c5d-9a55-011b387813eb"
      },
      "execution_count": 17,
      "outputs": [
        {
          "output_type": "stream",
          "name": "stdout",
          "text": [
            "Weighted Frequent patterns were generated successfully using basic algorithm\n",
            "Weighted Frequent patterns were generated successfully using basic algorithm\n",
            "Weighted Frequent patterns were generated successfully using basic algorithm\n",
            "Weighted Frequent patterns were generated successfully using basic algorithm\n",
            "Weighted Frequent patterns were generated successfully using basic algorithm\n",
            "Weighted Frequent patterns were generated successfully using WFIM algorithm\n",
            "  algorithm  minSup  patterns    runtime     memory\n",
            "0      WFIM     100     27517  17.294559  602550272\n",
            "1      WFIM     200     13252  16.641990  580907008\n",
            "2      WFIM     300      4540  17.723464  573353984\n",
            "3      WFIM     400      2000  15.179190  568504320\n",
            "4      WFIM     500      1072  13.612912  553627648\n"
          ]
        }
      ]
    },
    {
      "cell_type": "code",
      "source": [
        "!wget https://u-aizu.ac.jp/~udayrage/datasets/transactionalDatabases/Transactional_retail.csv"
      ],
      "metadata": {
        "colab": {
          "base_uri": "https://localhost:8080/"
        },
        "id": "MUv5M5SAl93T",
        "outputId": "a5ef7df8-dc56-435c-e189-9b40ba5c1193"
      },
      "execution_count": 13,
      "outputs": [
        {
          "output_type": "stream",
          "name": "stdout",
          "text": [
            "--2024-06-18 09:06:09--  https://u-aizu.ac.jp/~udayrage/datasets/transactionalDatabases/Transactional_retail.csv\n",
            "Resolving u-aizu.ac.jp (u-aizu.ac.jp)... 150.95.161.176, 150.31.244.160\n",
            "Connecting to u-aizu.ac.jp (u-aizu.ac.jp)|150.95.161.176|:443... connected.\n",
            "HTTP request sent, awaiting response... 200 OK\n",
            "Length: 4165546 (4.0M) [text/csv]\n",
            "Saving to: ‘Transactional_retail.csv’\n",
            "\n",
            "Transactional_retai 100%[===================>]   3.97M   837KB/s    in 4.9s    \n",
            "\n",
            "2024-06-18 09:06:15 (837 KB/s) - ‘Transactional_retail.csv’ saved [4165546/4165546]\n",
            "\n"
          ]
        }
      ]
    },
    {
      "cell_type": "markdown",
      "source": [
        "# Test Cases Retail Dataset"
      ],
      "metadata": {
        "id": "a-MknH0yaQge"
      }
    },
    {
      "cell_type": "markdown",
      "source": [
        "##Test case 1 for Retail Dataset"
      ],
      "metadata": {
        "id": "LHVv3kqHdOvB"
      }
    },
    {
      "cell_type": "code",
      "source": [
        "from PAMI.weightedFrequentPattern.basic import WFIM as alg\n",
        "import pandas as pd\n",
        "\n",
        "#Set the input parameters\n",
        "url='https://u-aizu.ac.jp/~udayrage/datasets/transactionalDatabases/Transactional_retail.csv'\n",
        "weightFile='mxt.txt'\n",
        "separetor='\\t'\n",
        "minWeight = 100\n",
        "MinimumSupportCountList=[100, 200, 300, 400, 500]\n",
        "\n",
        "# Initialize a data frame to store the results of WFIM\n",
        "result = pd.DataFrame(columns=['algorithm', 'minSup', 'patterns', 'runtime', 'memory'])\n",
        "\n",
        "# Execute the algorithm at different minSup values\n",
        "\n",
        "for minSupCount in MinimumSupportCountList:\n",
        "  obj = alg.WFIM(url, wFile=weightFile, minSup=minSupCount, minWeight=minWeight, sep=separetor)\n",
        "  obj.mine()\n",
        "  #Store the results in the data frame\n",
        "  result.loc[result.shape[0]] = ['WFIM', minSupCount, len(obj.getPatterns()), obj.getRuntime(), obj.getMemoryRSS()]\n",
        "\n",
        "# Print the results\n",
        "print(f\"Weighted Frequent patterns were generated successfully using WFIM algorithm\")\n",
        "print(result)"
      ],
      "metadata": {
        "colab": {
          "base_uri": "https://localhost:8080/"
        },
        "id": "3y3Vyu5TaGyB",
        "outputId": "b0ad0167-ef28-455d-9423-ee5ba535cceb"
      },
      "execution_count": 14,
      "outputs": [
        {
          "output_type": "stream",
          "name": "stdout",
          "text": [
            "Weighted Frequent patterns were generated successfully using basic algorithm\n",
            "Weighted Frequent patterns were generated successfully using basic algorithm\n",
            "Weighted Frequent patterns were generated successfully using basic algorithm\n",
            "Weighted Frequent patterns were generated successfully using basic algorithm\n",
            "Weighted Frequent patterns were generated successfully using basic algorithm\n",
            "Weighted Frequent patterns were generated successfully using WFIM algorithm\n",
            "  algorithm  minSup  patterns    runtime     memory\n",
            "0      WFIM     100      6448  34.328173  579567616\n",
            "1      WFIM     200      2190  22.600420  553807872\n",
            "2      WFIM     300      1132  16.987370  548872192\n",
            "3      WFIM     400       699  12.198650  540614656\n",
            "4      WFIM     500       468  11.256000  539582464\n"
          ]
        }
      ]
    },
    {
      "cell_type": "markdown",
      "source": [
        "##Test case 2 for Retail Dataset"
      ],
      "metadata": {
        "id": "sBgF2j1pdYFs"
      }
    },
    {
      "cell_type": "code",
      "source": [
        "from PAMI.weightedFrequentPattern.basic import WFIM as alg\n",
        "import pandas as pd\n",
        "\n",
        "#Set the input parameters\n",
        "inputFile='Transactional_retail.csv'\n",
        "weightFile='mxt.txt'\n",
        "separetor='\\t'\n",
        "minWeight = 100\n",
        "MinimumSupportCountList=[100, 200, 300, 400, 500]\n",
        "\n",
        "# Initialize a data frame to store the results of WFIM\n",
        "result = pd.DataFrame(columns=['algorithm', 'minSup', 'patterns', 'runtime', 'memory'])\n",
        "\n",
        "# Execute the algorithm at different minSup values\n",
        "\n",
        "for minSupCount in MinimumSupportCountList:\n",
        "  obj = alg.WFIM(inputFile, wFile=weightFile, minSup=minSupCount, minWeight=minWeight, sep=separetor)\n",
        "  obj.mine()\n",
        "  #Store the results in the data frame\n",
        "  result.loc[result.shape[0]] = ['WFIM', minSupCount, len(obj.getPatterns()), obj.getRuntime(), obj.getMemoryRSS()]\n",
        "\n",
        "# Print the results\n",
        "print(f\"Weighted Frequent patterns were generated successfully using WFIM algorithm\")\n",
        "print(result)"
      ],
      "metadata": {
        "colab": {
          "base_uri": "https://localhost:8080/"
        },
        "id": "b7DjVlh4auoH",
        "outputId": "9021bac1-6044-4cd6-be71-0ad069c5401b"
      },
      "execution_count": 15,
      "outputs": [
        {
          "output_type": "stream",
          "name": "stdout",
          "text": [
            "Weighted Frequent patterns were generated successfully using basic algorithm\n",
            "Weighted Frequent patterns were generated successfully using basic algorithm\n",
            "Weighted Frequent patterns were generated successfully using basic algorithm\n",
            "Weighted Frequent patterns were generated successfully using basic algorithm\n",
            "Weighted Frequent patterns were generated successfully using basic algorithm\n",
            "Weighted Frequent patterns were generated successfully using WFIM algorithm\n",
            "  algorithm  minSup  patterns    runtime     memory\n",
            "0      WFIM     100      6448  25.213582  539582464\n",
            "1      WFIM     200      2190  14.555882  563367936\n",
            "2      WFIM     300      1132  10.466241  546852864\n",
            "3      WFIM     400       699   7.671069  546852864\n",
            "4      WFIM     500       468   4.349251  545820672\n"
          ]
        }
      ]
    },
    {
      "cell_type": "markdown",
      "source": [
        "##Test case 3 for Retail Dataset"
      ],
      "metadata": {
        "id": "asPH72UPdbzV"
      }
    },
    {
      "cell_type": "code",
      "source": [
        "from PAMI.weightedFrequentPattern.basic import WFIM as alg\n",
        "import pandas as pd\n",
        "\n",
        "# Set the input parameters\n",
        "inputFile='Transactional_retail.csv'\n",
        "weightFile='mxt.txt'\n",
        "separetor='\\t'\n",
        "minWeight = 100\n",
        "MinimumSupportCountList=[100, 200, 300, 400, 500]\n",
        "\n",
        "# Read the CSV file into a DataFrame\n",
        "df = pd.read_csv(inputFile, header=[0], sep=' ')\n",
        "df = df.rename(columns={df.columns[0]: \"Transactions\"})\n",
        "\n",
        "# Ensure all data in the \"Transaction\" column is string before splitting\n",
        "df[\"Transactions\"] = df[\"Transactions\"].astype(str)\n",
        "\n",
        "# Preprocess the dataset\n",
        "# transactions = df[\"Transaction\"].apply(lambda x: x.split(separetor)).tolist()\n",
        "transactions = df['Transactions'].apply(lambda x: x.split(separetor))\n",
        "transactions = pd.DataFrame(transactions, columns=['Transactions'])\n",
        "\n",
        "# Initialize a data frame to store the results of WFIM\n",
        "result = pd.DataFrame(columns=['algorithm', 'minSup', 'patterns', 'runtime', 'memory'])\n",
        "\n",
        "# Execute the algorithm at different minSup values\n",
        "for minSupCount in MinimumSupportCountList:\n",
        "    obj = alg.WFIM(transactions, wFile=weightFile, minSup=minSupCount, minWeight=minWeight, sep=separetor)\n",
        "    obj.mine()\n",
        "\n",
        "    # Get the patterns found\n",
        "    patterns = obj.getPatterns()\n",
        "\n",
        "    # Store the results in the data frame\n",
        "    result.loc[len(result)] = ['WFIM', minSupCount, len(patterns), obj.getRuntime(), obj.getMemoryRSS()]\n",
        "\n",
        "# Print the results\n",
        "print(\"Weighted Frequent patterns were generated successfully using WFIM algorithm\")\n",
        "print(result)\n"
      ],
      "metadata": {
        "colab": {
          "base_uri": "https://localhost:8080/"
        },
        "id": "TX-1anxPbJfG",
        "outputId": "89aa6313-601c-4564-989a-0b0ee6230953"
      },
      "execution_count": 16,
      "outputs": [
        {
          "output_type": "stream",
          "name": "stdout",
          "text": [
            "Weighted Frequent patterns were generated successfully using basic algorithm\n",
            "Weighted Frequent patterns were generated successfully using basic algorithm\n",
            "Weighted Frequent patterns were generated successfully using basic algorithm\n",
            "Weighted Frequent patterns were generated successfully using basic algorithm\n",
            "Weighted Frequent patterns were generated successfully using basic algorithm\n",
            "Weighted Frequent patterns were generated successfully using WFIM algorithm\n",
            "  algorithm  minSup  patterns    runtime     memory\n",
            "0      WFIM     100      6447  24.474216  481034240\n",
            "1      WFIM     200      2189  15.276232  481034240\n",
            "2      WFIM     300      1132   8.737538  478969856\n",
            "3      WFIM     400       699   5.148840  478969856\n",
            "4      WFIM     500       468   4.804722  476905472\n"
          ]
        }
      ]
    },
    {
      "cell_type": "code",
      "source": [
        "!wget https://u-aizu.ac.jp/~udayrage/datasets/transactionalDatabases/Transactional_chess1.csv"
      ],
      "metadata": {
        "colab": {
          "base_uri": "https://localhost:8080/"
        },
        "id": "emQmppAQmx3A",
        "outputId": "c780e44a-f8f7-4688-cde7-cab260a98ef2"
      },
      "execution_count": 18,
      "outputs": [
        {
          "output_type": "stream",
          "name": "stdout",
          "text": [
            "--2024-06-18 09:11:18--  https://u-aizu.ac.jp/~udayrage/datasets/transactionalDatabases/Transactional_chess1.csv\n",
            "Resolving u-aizu.ac.jp (u-aizu.ac.jp)... 150.95.161.176, 150.31.244.160\n",
            "Connecting to u-aizu.ac.jp (u-aizu.ac.jp)|150.95.161.176|:443... connected.\n",
            "HTTP request sent, awaiting response... 200 OK\n",
            "Length: 341866 (334K) [text/csv]\n",
            "Saving to: ‘Transactional_chess1.csv’\n",
            "\n",
            "Transactional_chess 100%[===================>] 333.85K   190KB/s    in 1.8s    \n",
            "\n",
            "2024-06-18 09:11:21 (190 KB/s) - ‘Transactional_chess1.csv’ saved [341866/341866]\n",
            "\n"
          ]
        }
      ]
    },
    {
      "cell_type": "markdown",
      "source": [
        "# Test Cases for Chess Dataset"
      ],
      "metadata": {
        "id": "4hK7XBAsbbQV"
      }
    },
    {
      "cell_type": "markdown",
      "source": [
        "## Test Case1 for chess Dataset"
      ],
      "metadata": {
        "id": "egnVrUUObd30"
      }
    },
    {
      "cell_type": "code",
      "source": [
        "from PAMI.weightedFrequentPattern.basic import WFIM as alg\n",
        "import pandas as pd\n",
        "\n",
        "#Set the input parameters\n",
        "url='https://u-aizu.ac.jp/~udayrage/datasets/transactionalDatabases/Transactional_chess1.csv'\n",
        "weightFile='mxt.txt'\n",
        "separetor='\\t'\n",
        "minWeight = 100\n",
        "MinimumSupportCountList=[2000, 2500]\n",
        "\n",
        "# Initialize a data frame to store the results of WFIM\n",
        "result = pd.DataFrame(columns=['algorithm', 'minSup', 'patterns', 'runtime', 'memory'])\n",
        "\n",
        "# Execute the algorithm at different minSup values\n",
        "\n",
        "for minSupCount in MinimumSupportCountList:\n",
        "  obj = alg.WFIM(url, wFile=weightFile, minSup=minSupCount, minWeight=minWeight, sep=separetor)\n",
        "  obj.mine()\n",
        "  #Store the results in the data frame\n",
        "  result.loc[result.shape[0]] = ['WFIM', minSupCount, len(obj.getPatterns()), obj.getRuntime(), obj.getMemoryRSS()]\n",
        "\n",
        "# Print the results\n",
        "print(f\"Weighted Frequent patterns were generated successfully using WFIM algorithm\")\n",
        "print(result)"
      ],
      "metadata": {
        "colab": {
          "base_uri": "https://localhost:8080/"
        },
        "id": "O9wBEwB9bWoM",
        "outputId": "04eb9d97-492a-460e-adec-8e8e833bbafc"
      },
      "execution_count": 22,
      "outputs": [
        {
          "output_type": "stream",
          "name": "stdout",
          "text": [
            "Weighted Frequent patterns were generated successfully using basic algorithm\n",
            "Weighted Frequent patterns were generated successfully using basic algorithm\n",
            "Weighted Frequent patterns were generated successfully using WFIM algorithm\n",
            "  algorithm  minSup  patterns   runtime      memory\n",
            "0      WFIM    2000    166432  6.959243  1591767040\n",
            "1      WFIM    2500     11474  4.746681  1590988800\n"
          ]
        }
      ]
    },
    {
      "cell_type": "markdown",
      "source": [
        "## Test Case2 for chess Dataset"
      ],
      "metadata": {
        "id": "XO1jPjSpbtAk"
      }
    },
    {
      "cell_type": "code",
      "source": [
        "from PAMI.weightedFrequentPattern.basic import WFIM as alg\n",
        "import pandas as pd\n",
        "\n",
        "#Set the input parameters\n",
        "inputFile='Transactional_chess1.csv'\n",
        "weightFile='mxt.txt'\n",
        "separetor='\\t'\n",
        "minWeight = 100\n",
        "MinimumSupportCountList=[2000, 2500]\n",
        "\n",
        "# Initialize a data frame to store the results of WFIM\n",
        "result = pd.DataFrame(columns=['algorithm', 'minSup', 'patterns', 'runtime', 'memory'])\n",
        "\n",
        "# Execute the algorithm at different minSup values\n",
        "\n",
        "for minSupCount in MinimumSupportCountList:\n",
        "  obj = alg.WFIM(inputFile, wFile=weightFile, minSup=minSupCount, minWeight=minWeight, sep=separetor)\n",
        "  obj.mine()\n",
        "  #Store the results in the data frame\n",
        "  result.loc[result.shape[0]] = ['WFIM', minSupCount, len(obj.getPatterns()), obj.getRuntime(), obj.getMemoryRSS()]\n",
        "\n",
        "# Print the results\n",
        "print(f\"Weighted Frequent patterns were generated successfully using WFIM algorithm\")\n",
        "print(result)"
      ],
      "metadata": {
        "colab": {
          "base_uri": "https://localhost:8080/"
        },
        "id": "xngPA6jnbmUy",
        "outputId": "8f8926cb-93f9-4478-ee4a-6c117771e7ef"
      },
      "execution_count": 23,
      "outputs": [
        {
          "output_type": "stream",
          "name": "stdout",
          "text": [
            "Weighted Frequent patterns were generated successfully using basic algorithm\n",
            "Weighted Frequent patterns were generated successfully using basic algorithm\n",
            "Weighted Frequent patterns were generated successfully using WFIM algorithm\n",
            "  algorithm  minSup  patterns   runtime      memory\n",
            "0      WFIM    2000    166432  4.990703  1572298752\n",
            "1      WFIM    2500     11474  0.670314  1571250176\n"
          ]
        }
      ]
    },
    {
      "cell_type": "markdown",
      "source": [
        "## Test Case3 for chess Dataset"
      ],
      "metadata": {
        "id": "XmsIqeJXchat"
      }
    },
    {
      "cell_type": "code",
      "source": [
        "from PAMI.weightedFrequentPattern.basic import WFIM as alg\n",
        "import pandas as pd\n",
        "\n",
        "# Set the input parameters\n",
        "inputFile='Transactional_chess1.csv'\n",
        "weightFile='mxt.txt'\n",
        "separetor='\\t'\n",
        "minWeight = 100\n",
        "MinimumSupportCountList=[2000, 2500]\n",
        "\n",
        "# Read the CSV file into a DataFrame\n",
        "df = pd.read_csv(inputFile, header=[0], sep=' ')\n",
        "df = df.rename(columns={df.columns[0]: \"Transactions\"})\n",
        "\n",
        "# Ensure all data in the \"Transaction\" column is string before splitting\n",
        "df[\"Transactions\"] = df[\"Transactions\"].astype(str)\n",
        "\n",
        "# Preprocess the dataset\n",
        "# transactions = df[\"Transaction\"].apply(lambda x: x.split(separetor)).tolist()\n",
        "transactions = df['Transactions'].apply(lambda x: x.split(separetor))\n",
        "transactions = pd.DataFrame(transactions, columns=['Transactions'])\n",
        "\n",
        "# Initialize a data frame to store the results of WFIM\n",
        "result = pd.DataFrame(columns=['algorithm', 'minSup', 'patterns', 'runtime', 'memory'])\n",
        "\n",
        "# Execute the algorithm at different minSup values\n",
        "for minSupCount in MinimumSupportCountList:\n",
        "    obj = alg.WFIM(transactions, wFile=weightFile, minSup=minSupCount, minWeight=minWeight, sep=separetor)\n",
        "    obj.mine()\n",
        "\n",
        "    # Get the patterns found\n",
        "    patterns = obj.getPatterns()\n",
        "\n",
        "    # Store the results in the data frame\n",
        "    result.loc[len(result)] = ['WFIM', minSupCount, len(patterns), obj.getRuntime(), obj.getMemoryRSS()]\n",
        "\n",
        "# Print the results\n",
        "print(\"Weighted Frequent patterns were generated successfully using WFIM algorithm\")\n",
        "print(result)\n"
      ],
      "metadata": {
        "colab": {
          "base_uri": "https://localhost:8080/"
        },
        "id": "Kk7Y5sjScZtN",
        "outputId": "d0494b49-8ed8-4cd8-f66a-e26859a19e73"
      },
      "execution_count": 24,
      "outputs": [
        {
          "output_type": "stream",
          "name": "stdout",
          "text": [
            "Weighted Frequent patterns were generated successfully using basic algorithm\n",
            "Weighted Frequent patterns were generated successfully using basic algorithm\n",
            "Weighted Frequent patterns were generated successfully using WFIM algorithm\n",
            "  algorithm  minSup  patterns   runtime      memory\n",
            "0      WFIM    2000    165570  3.313747  1559089152\n",
            "1      WFIM    2500     11401  0.293717  1558056960\n"
          ]
        }
      ]
    },
    {
      "cell_type": "code",
      "source": [],
      "metadata": {
        "id": "-l1_kr6BczmN"
      },
      "execution_count": null,
      "outputs": []
    }
  ]
}