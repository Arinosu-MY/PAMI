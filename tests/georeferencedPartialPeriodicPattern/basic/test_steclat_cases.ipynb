{
 "cells": [
  {
   "cell_type": "code",
   "execution_count": 1,
   "metadata": {},
   "outputs": [
    {
     "name": "stdout",
     "output_type": "stream",
     "text": [
      "Requirement already satisfied: pami in c:\\python310\\lib\\site-packages (2024.6.10)\n",
      "Requirement already satisfied: psutil in c:\\users\\aechx\\appdata\\roaming\\python\\python310\\site-packages (from pami) (5.9.8)\n",
      "Requirement already satisfied: pandas in c:\\python310\\lib\\site-packages (from pami) (2.2.1)\n",
      "Requirement already satisfied: plotly in c:\\python310\\lib\\site-packages (from pami) (5.18.0)\n",
      "Requirement already satisfied: matplotlib in c:\\users\\aechx\\appdata\\roaming\\python\\python310\\site-packages (from pami) (3.9.0)\n",
      "Requirement already satisfied: resource in c:\\users\\aechx\\appdata\\roaming\\python\\python310\\site-packages (from pami) (0.2.1)\n",
      "Requirement already satisfied: validators in c:\\python310\\lib\\site-packages (from pami) (0.28.3)\n",
      "Requirement already satisfied: urllib3 in c:\\python310\\lib\\site-packages (from pami) (2.2.1)\n",
      "Requirement already satisfied: Pillow in c:\\python310\\lib\\site-packages (from pami) (10.3.0)\n",
      "Requirement already satisfied: numpy in c:\\python310\\lib\\site-packages (from pami) (1.26.4)\n",
      "Requirement already satisfied: sphinx in c:\\users\\aechx\\appdata\\roaming\\python\\python310\\site-packages (from pami) (7.3.7)\n",
      "Requirement already satisfied: sphinx-rtd-theme in c:\\users\\aechx\\appdata\\roaming\\python\\python310\\site-packages (from pami) (2.0.0)\n",
      "Requirement already satisfied: discord.py in c:\\users\\aechx\\appdata\\roaming\\python\\python310\\site-packages (from pami) (2.3.2)\n",
      "Requirement already satisfied: networkx in c:\\python310\\lib\\site-packages (from pami) (3.3)\n",
      "Requirement already satisfied: deprecated in c:\\users\\aechx\\appdata\\roaming\\python\\python310\\site-packages (from pami) (1.2.14)\n",
      "Requirement already satisfied: wrapt<2,>=1.10 in c:\\python310\\lib\\site-packages (from deprecated->pami) (1.16.0)\n",
      "Requirement already satisfied: aiohttp<4,>=3.7.4 in c:\\users\\aechx\\appdata\\roaming\\python\\python310\\site-packages (from discord.py->pami) (3.9.5)\n",
      "Requirement already satisfied: contourpy>=1.0.1 in c:\\users\\aechx\\appdata\\roaming\\python\\python310\\site-packages (from matplotlib->pami) (1.2.1)\n",
      "Requirement already satisfied: cycler>=0.10 in c:\\users\\aechx\\appdata\\roaming\\python\\python310\\site-packages (from matplotlib->pami) (0.12.1)\n",
      "Requirement already satisfied: fonttools>=4.22.0 in c:\\python310\\lib\\site-packages (from matplotlib->pami) (4.52.4)\n",
      "Requirement already satisfied: kiwisolver>=1.3.1 in c:\\python310\\lib\\site-packages (from matplotlib->pami) (1.4.5)\n",
      "Requirement already satisfied: packaging>=20.0 in c:\\users\\aechx\\appdata\\roaming\\python\\python310\\site-packages (from matplotlib->pami) (24.0)\n",
      "Requirement already satisfied: pyparsing>=2.3.1 in c:\\python310\\lib\\site-packages (from matplotlib->pami) (3.1.2)\n",
      "Requirement already satisfied: python-dateutil>=2.7 in c:\\python310\\lib\\site-packages (from matplotlib->pami) (2.8.2)\n",
      "Requirement already satisfied: pytz>=2020.1 in c:\\python310\\lib\\site-packages (from pandas->pami) (2023.3.post1)\n",
      "Requirement already satisfied: tzdata>=2022.7 in c:\\python310\\lib\\site-packages (from pandas->pami) (2023.4)\n",
      "Requirement already satisfied: tenacity>=6.2.0 in c:\\python310\\lib\\site-packages (from plotly->pami) (8.2.3)\n",
      "Requirement already satisfied: JsonForm>=0.0.2 in c:\\users\\aechx\\appdata\\roaming\\python\\python310\\site-packages (from resource->pami) (0.0.2)\n",
      "Requirement already satisfied: JsonSir>=0.0.2 in c:\\python310\\lib\\site-packages (from resource->pami) (0.0.2)\n",
      "Requirement already satisfied: python-easyconfig>=0.1.0 in c:\\python310\\lib\\site-packages (from resource->pami) (0.1.7)\n",
      "Requirement already satisfied: sphinxcontrib-applehelp in c:\\python310\\lib\\site-packages (from sphinx->pami) (1.0.8)\n",
      "Requirement already satisfied: sphinxcontrib-devhelp in c:\\python310\\lib\\site-packages (from sphinx->pami) (1.0.6)\n",
      "Requirement already satisfied: sphinxcontrib-jsmath in c:\\python310\\lib\\site-packages (from sphinx->pami) (1.0.1)\n",
      "Requirement already satisfied: sphinxcontrib-htmlhelp>=2.0.0 in c:\\python310\\lib\\site-packages (from sphinx->pami) (2.0.5)\n",
      "Requirement already satisfied: sphinxcontrib-serializinghtml>=1.1.9 in c:\\python310\\lib\\site-packages (from sphinx->pami) (1.1.10)\n",
      "Requirement already satisfied: sphinxcontrib-qthelp in c:\\python310\\lib\\site-packages (from sphinx->pami) (1.0.7)\n",
      "Requirement already satisfied: Jinja2>=3.0 in c:\\python310\\lib\\site-packages (from sphinx->pami) (3.1.2)\n",
      "Requirement already satisfied: Pygments>=2.14 in c:\\users\\aechx\\appdata\\roaming\\python\\python310\\site-packages (from sphinx->pami) (2.18.0)\n",
      "Requirement already satisfied: docutils<0.22,>=0.18.1 in c:\\python310\\lib\\site-packages (from sphinx->pami) (0.20.1)\n",
      "Requirement already satisfied: snowballstemmer>=2.0 in c:\\python310\\lib\\site-packages (from sphinx->pami) (2.2.0)\n",
      "Requirement already satisfied: babel>=2.9 in c:\\users\\aechx\\appdata\\roaming\\python\\python310\\site-packages (from sphinx->pami) (2.15.0)\n",
      "Requirement already satisfied: alabaster~=0.7.14 in c:\\users\\aechx\\appdata\\roaming\\python\\python310\\site-packages (from sphinx->pami) (0.7.16)\n",
      "Requirement already satisfied: imagesize>=1.3 in c:\\python310\\lib\\site-packages (from sphinx->pami) (1.4.1)\n",
      "Requirement already satisfied: requests>=2.25.0 in c:\\users\\aechx\\appdata\\roaming\\python\\python310\\site-packages (from sphinx->pami) (2.32.2)\n",
      "Requirement already satisfied: tomli>=2 in c:\\python310\\lib\\site-packages (from sphinx->pami) (2.0.1)\n",
      "Requirement already satisfied: colorama>=0.4.5 in c:\\python310\\lib\\site-packages (from sphinx->pami) (0.4.6)\n",
      "Requirement already satisfied: sphinxcontrib-jquery<5,>=4 in c:\\users\\aechx\\appdata\\roaming\\python\\python310\\site-packages (from sphinx-rtd-theme->pami) (4.1)\n",
      "Requirement already satisfied: aiosignal>=1.1.2 in c:\\users\\aechx\\appdata\\roaming\\python\\python310\\site-packages (from aiohttp<4,>=3.7.4->discord.py->pami) (1.3.1)\n",
      "Requirement already satisfied: attrs>=17.3.0 in c:\\users\\aechx\\appdata\\roaming\\python\\python310\\site-packages (from aiohttp<4,>=3.7.4->discord.py->pami) (23.2.0)\n",
      "Requirement already satisfied: frozenlist>=1.1.1 in c:\\python310\\lib\\site-packages (from aiohttp<4,>=3.7.4->discord.py->pami) (1.4.1)\n",
      "Requirement already satisfied: multidict<7.0,>=4.5 in c:\\python310\\lib\\site-packages (from aiohttp<4,>=3.7.4->discord.py->pami) (6.0.5)\n",
      "Requirement already satisfied: yarl<2.0,>=1.0 in c:\\python310\\lib\\site-packages (from aiohttp<4,>=3.7.4->discord.py->pami) (1.9.4)\n",
      "Requirement already satisfied: async-timeout<5.0,>=4.0 in c:\\users\\aechx\\appdata\\roaming\\python\\python310\\site-packages (from aiohttp<4,>=3.7.4->discord.py->pami) (4.0.3)\n",
      "Requirement already satisfied: MarkupSafe>=2.0 in c:\\python310\\lib\\site-packages (from Jinja2>=3.0->sphinx->pami) (2.1.1)\n",
      "Requirement already satisfied: jsonschema in c:\\users\\aechx\\appdata\\roaming\\python\\python310\\site-packages (from JsonForm>=0.0.2->resource->pami) (4.22.0)\n",
      "Requirement already satisfied: six>=1.5 in c:\\users\\aechx\\appdata\\roaming\\python\\python310\\site-packages (from python-dateutil>=2.7->matplotlib->pami) (1.16.0)\n",
      "Requirement already satisfied: PyYAML in c:\\python310\\lib\\site-packages (from python-easyconfig>=0.1.0->resource->pami) (6.0)\n",
      "Requirement already satisfied: charset-normalizer<4,>=2 in c:\\python310\\lib\\site-packages (from requests>=2.25.0->sphinx->pami) (3.0.1)\n",
      "Requirement already satisfied: idna<4,>=2.5 in c:\\python310\\lib\\site-packages (from requests>=2.25.0->sphinx->pami) (3.7)\n",
      "Requirement already satisfied: certifi>=2017.4.17 in c:\\users\\aechx\\appdata\\roaming\\python\\python310\\site-packages (from requests>=2.25.0->sphinx->pami) (2024.2.2)\n",
      "Requirement already satisfied: jsonschema-specifications>=2023.03.6 in c:\\users\\aechx\\appdata\\roaming\\python\\python310\\site-packages (from jsonschema->JsonForm>=0.0.2->resource->pami) (2023.12.1)\n",
      "Requirement already satisfied: referencing>=0.28.4 in c:\\users\\aechx\\appdata\\roaming\\python\\python310\\site-packages (from jsonschema->JsonForm>=0.0.2->resource->pami) (0.35.1)\n",
      "Requirement already satisfied: rpds-py>=0.7.1 in c:\\python310\\lib\\site-packages (from jsonschema->JsonForm>=0.0.2->resource->pami) (0.18.1)\n"
     ]
    },
    {
     "name": "stderr",
     "output_type": "stream",
     "text": [
      "WARNING: Ignoring invalid distribution - (c:\\python310\\lib\\site-packages)\n",
      "WARNING: Ignoring invalid distribution -ip (c:\\python310\\lib\\site-packages)\n",
      "WARNING: Ignoring invalid distribution -p (c:\\python310\\lib\\site-packages)\n",
      "WARNING: Ignoring invalid distribution - (c:\\python310\\lib\\site-packages)\n",
      "WARNING: Ignoring invalid distribution -ip (c:\\python310\\lib\\site-packages)\n",
      "WARNING: Ignoring invalid distribution -p (c:\\python310\\lib\\site-packages)\n"
     ]
    }
   ],
   "source": [
    "!pip install -U pami"
   ]
  },
  {
   "cell_type": "markdown",
   "metadata": {},
   "source": [
    "# Test cases for T10I4D100K Datasets"
   ]
  },
  {
   "cell_type": "markdown",
   "metadata": {},
   "source": [
    "### Test case 1 for T10I4D100K Dataset"
   ]
  },
  {
   "cell_type": "code",
   "execution_count": 9,
   "metadata": {},
   "outputs": [
    {
     "name": "stdout",
     "output_type": "stream",
     "text": [
      "Spatial Periodic Frequent patterns were generated successfully using SpatialEclat algorithm\n",
      "Spatial Periodic Frequent patterns were generated successfully using SpatialEclat algorithm\n",
      "Spatial Periodic Frequent patterns were generated successfully using SpatialEclat algorithm\n",
      "Spatial Periodic Frequent patterns were generated successfully using SpatialEclat algorithm\n",
      "Spatial Periodic Frequent patterns were generated successfully using SpatialEclat algorithm\n",
      "Frequent patterns were generated successfully using STEclat algorithm\n",
      "  algorithm  minPS  patterns    runtime     memory\n",
      "0   STEclat    100       364  12.361711  218058752\n",
      "1   STEclat    200       247  17.685177  218071040\n",
      "2   STEclat    300       179  15.240705  218107904\n",
      "3   STEclat    400       144  11.904593  218329088\n",
      "4   STEclat    500       120  18.248517  218214400\n"
     ]
    }
   ],
   "source": [
    "import PAMI.georeferencedPartialPeriodicPattern.basic.STEclat as alg\n",
    "import pandas as pd\n",
    "# Set the input parameters\n",
    "URL = 'https://u-aizu.ac.jp/~udayrage/datasets/temporalDatabases/Temporal_T10I4D100K.csv'\n",
    "separator = '\\t'\n",
    "minimumPartialSuppoort = [100, 200, 300, 400, 500]\n",
    "maxIAT=10\n",
    "neighbourFile=\"t10_neighbours.txt\"\n",
    "# Initialize a data frame to store the results of STEclat\n",
    "result = pd.DataFrame(columns=['algorithm', 'minPS', 'patterns', 'runtime', 'memory'])\n",
    "# Execute the algorithm at different minPS values\n",
    "for minPS in minimumPartialSuppoort:\n",
    "    obj = alg.STEclat(URL, minPS=minPS, maxIAT=maxIAT, nFile=neighbourFile, sep=separator)\n",
    "    obj.mine()\n",
    "    # Store the results in the data frame\n",
    "    result.loc[result.shape[0]] = ['STEclat', minPS, len(obj.getPatterns()), obj.getRuntime(), obj.getMemoryRSS(),]\n",
    "# Print the results\n",
    "print(f\"Frequent patterns were generated successfully using STEclat algorithm\")\n",
    "print(result)"
   ]
  },
  {
   "cell_type": "markdown",
   "metadata": {},
   "source": [
    "### Test case 2 for T10I4D100K Dataset"
   ]
  },
  {
   "cell_type": "code",
   "execution_count": 3,
   "metadata": {},
   "outputs": [
    {
     "name": "stdout",
     "output_type": "stream",
     "text": [
      "Spatial Periodic Frequent patterns were generated successfully using SpatialEclat algorithm\n",
      "Spatial Periodic Frequent patterns were generated successfully using SpatialEclat algorithm\n",
      "Spatial Periodic Frequent patterns were generated successfully using SpatialEclat algorithm\n",
      "Spatial Periodic Frequent patterns were generated successfully using SpatialEclat algorithm\n",
      "Spatial Periodic Frequent patterns were generated successfully using SpatialEclat algorithm\n",
      "Frequent patterns were generated successfully using STEclat algorithm\n",
      "  algorithm  minPS  patterns   runtime     memory\n",
      "0   STEclat    100       364  1.398572  212529152\n",
      "1   STEclat    200       247  1.367373  212176896\n",
      "2   STEclat    300       179  1.562137  212201472\n",
      "3   STEclat    400       144  1.651765  212185088\n",
      "4   STEclat    500       120  1.225013  212144128\n"
     ]
    }
   ],
   "source": [
    "import PAMI.georeferencedPartialPeriodicPattern.basic.STEclat as alg\n",
    "import pandas as pd\n",
    "# Set the input parameters\n",
    "inputFile = 'Temporal_T10I4D100K.csv'\n",
    "separator = '\\t'\n",
    "minimumPartialSuppoort = [100, 200, 300, 400, 500]\n",
    "maxIAT=10\n",
    "neighbourFile=\"t10_neighbours.txt\"\n",
    "# Initialize a data frame to store the results of STEclat\n",
    "result = pd.DataFrame(columns=['algorithm', 'minPS', 'patterns', 'runtime', 'memory'])\n",
    "# Execute the algorithm at different minPS values\n",
    "for minPS in minimumPartialSuppoort:\n",
    "    obj = alg.STEclat(inputFile, minPS=minPS, maxIAT=maxIAT, nFile=neighbourFile, sep=separator)\n",
    "    obj.mine()\n",
    "    # Store the results in the data frame\n",
    "    result.loc[result.shape[0]] = ['STEclat', minPS, len(obj.getPatterns()), obj.getRuntime(), obj.getMemoryRSS(),]\n",
    "# Print the results\n",
    "print(f\"Frequent patterns were generated successfully using STEclat algorithm\")\n",
    "print(result)"
   ]
  },
  {
   "cell_type": "markdown",
   "metadata": {},
   "source": [
    "# Test Cases for Retail Dataset"
   ]
  },
  {
   "cell_type": "markdown",
   "metadata": {},
   "source": [
    "## Test Case 1 for Retail Dataset"
   ]
  },
  {
   "cell_type": "code",
   "execution_count": 4,
   "metadata": {},
   "outputs": [
    {
     "name": "stdout",
     "output_type": "stream",
     "text": [
      "Spatial Periodic Frequent patterns were generated successfully using SpatialEclat algorithm\n",
      "Spatial Periodic Frequent patterns were generated successfully using SpatialEclat algorithm\n",
      "Spatial Periodic Frequent patterns were generated successfully using SpatialEclat algorithm\n",
      "Spatial Periodic Frequent patterns were generated successfully using SpatialEclat algorithm\n",
      "Spatial Periodic Frequent patterns were generated successfully using SpatialEclat algorithm\n",
      "Frequent patterns were generated successfully using STEclat algorithm\n",
      "  algorithm  minPS  patterns    runtime     memory\n",
      "0   STEclat    100        96  11.573554  204251136\n",
      "1   STEclat    200        49  16.346871  204386304\n",
      "2   STEclat    300        34  14.751942  204341248\n",
      "3   STEclat    400        29  14.977722  204537856\n",
      "4   STEclat    500        25  15.967318  204369920\n"
     ]
    }
   ],
   "source": [
    "import PAMI.georeferencedPartialPeriodicPattern.basic.STEclat as alg\n",
    "import pandas as pd\n",
    "# Set the input parameters\n",
    "URL = 'https://u-aizu.ac.jp/~udayrage/datasets/temporalDatabases/Temporal_retail.csv'\n",
    "separator = '\\t'\n",
    "minimumPartialSuppoort = [100, 200, 300, 400, 500]\n",
    "maxIAT=10\n",
    "neighbourFile=\"t10_neighbours.txt\"\n",
    "# Initialize a data frame to store the results of STEclat\n",
    "result = pd.DataFrame(columns=['algorithm', 'minPS', 'patterns', 'runtime', 'memory'])\n",
    "# Execute the algorithm at different minPS values\n",
    "for minPS in minimumPartialSuppoort:\n",
    "    obj = alg.STEclat(URL, minPS=minPS, maxIAT=maxIAT, nFile=neighbourFile, sep=separator)\n",
    "    obj.mine()\n",
    "    # Store the results in the data frame\n",
    "    result.loc[result.shape[0]] = ['STEclat', minPS, len(obj.getPatterns()), obj.getRuntime(), obj.getMemoryRSS(),]\n",
    "# Print the results\n",
    "print(f\"Frequent patterns were generated successfully using STEclat algorithm\")\n",
    "print(result)"
   ]
  },
  {
   "cell_type": "markdown",
   "metadata": {},
   "source": [
    "## Test Case 2 for Retail Dataset"
   ]
  },
  {
   "cell_type": "code",
   "execution_count": 5,
   "metadata": {},
   "outputs": [
    {
     "name": "stdout",
     "output_type": "stream",
     "text": [
      "Spatial Periodic Frequent patterns were generated successfully using SpatialEclat algorithm\n",
      "Spatial Periodic Frequent patterns were generated successfully using SpatialEclat algorithm\n",
      "Spatial Periodic Frequent patterns were generated successfully using SpatialEclat algorithm\n",
      "Spatial Periodic Frequent patterns were generated successfully using SpatialEclat algorithm\n",
      "Spatial Periodic Frequent patterns were generated successfully using SpatialEclat algorithm\n",
      "Frequent patterns were generated successfully using STEclat algorithm\n",
      "  algorithm  minPS  patterns   runtime     memory\n",
      "0   STEclat    100        96  1.576744  204283904\n",
      "1   STEclat    200        49  2.428203  204251136\n",
      "2   STEclat    300        34  1.156959  204288000\n",
      "3   STEclat    400        29  1.361492  204402688\n",
      "4   STEclat    500        25  1.096876  204255232\n"
     ]
    }
   ],
   "source": [
    "import PAMI.georeferencedPartialPeriodicPattern.basic.STEclat as alg\n",
    "import pandas as pd\n",
    "# Set the input parameters\n",
    "inputFile = 'Temporal_retail.csv'\n",
    "separator = '\\t'\n",
    "minPS_minimumPartialSuppoortvalues = [100, 200, 300, 400, 500]\n",
    "maxIAT=10\n",
    "neighbourFile=\"t10_neighbours.txt\"\n",
    "# Initialize a data frame to store the results of STEclat\n",
    "result = pd.DataFrame(columns=['algorithm', 'minPS', 'patterns', 'runtime', 'memory'])\n",
    "# Execute the algorithm at different minPS values\n",
    "for minPS in minimumPartialSuppoort:\n",
    "    obj = alg.STEclat(inputFile, minPS=minPS, maxIAT=maxIAT, nFile=neighbourFile, sep=separator)\n",
    "    obj.mine()\n",
    "    # Store the results in the data frame\n",
    "    result.loc[result.shape[0]] = ['STEclat', minPS, len(obj.getPatterns()), obj.getRuntime(), obj.getMemoryRSS(),]\n",
    "# Print the results\n",
    "print(f\"Frequent patterns were generated successfully using STEclat algorithm\")\n",
    "print(result)"
   ]
  },
  {
   "cell_type": "markdown",
   "metadata": {},
   "source": [
    "# Test Cases for Chess Dataset"
   ]
  },
  {
   "cell_type": "markdown",
   "metadata": {},
   "source": [
    "## Test Case 1 for chess Dataset"
   ]
  },
  {
   "cell_type": "code",
   "execution_count": 6,
   "metadata": {},
   "outputs": [
    {
     "name": "stdout",
     "output_type": "stream",
     "text": [
      "Spatial Periodic Frequent patterns were generated successfully using SpatialEclat algorithm\n",
      "Spatial Periodic Frequent patterns were generated successfully using SpatialEclat algorithm\n",
      "Spatial Periodic Frequent patterns were generated successfully using SpatialEclat algorithm\n",
      "Spatial Periodic Frequent patterns were generated successfully using SpatialEclat algorithm\n",
      "Spatial Periodic Frequent patterns were generated successfully using SpatialEclat algorithm\n",
      "Frequent patterns were generated successfully using STEclat algorithm\n",
      "  algorithm  minPS  patterns   runtime     memory\n",
      "0   STEclat    100        67  3.794117  167211008\n",
      "1   STEclat    200        61  3.239571  167063552\n",
      "2   STEclat    300        59  3.093062  166739968\n",
      "3   STEclat    400        56  3.071314  166002688\n",
      "4   STEclat    500        54  3.037762  166907904\n"
     ]
    }
   ],
   "source": [
    "import PAMI.georeferencedPartialPeriodicPattern.basic.STEclat as alg\n",
    "import pandas as pd\n",
    "# Set the input parameters\n",
    "URL = 'https://u-aizu.ac.jp/~udayrage/datasets/transactionalDatabases/Transactional_chess.csv'\n",
    "separator = '\\t'\n",
    "minimumPartialSuppoort = [100, 200, 300, 400, 500]\n",
    "maxIAT=10\n",
    "neighbourFile=\"t10_neighbours.txt\"\n",
    "# Initialize a data frame to store the results of STEclat\n",
    "result = pd.DataFrame(columns=['algorithm', 'minPS', 'patterns', 'runtime', 'memory'])\n",
    "# Execute the algorithm at different minPS values\n",
    "for minPS in minimumPartialSuppoort:\n",
    "    obj = alg.STEclat(URL, minPS=minPS, maxIAT=maxIAT, nFile=neighbourFile, sep=separator)\n",
    "    obj.mine()\n",
    "    # Store the results in the data frame\n",
    "    result.loc[result.shape[0]] = ['STEclat', minPS, len(obj.getPatterns()), obj.getRuntime(), obj.getMemoryRSS(),]\n",
    "# Print the results\n",
    "print(f\"Frequent patterns were generated successfully using STEclat algorithm\")\n",
    "print(result)"
   ]
  },
  {
   "cell_type": "markdown",
   "metadata": {},
   "source": [
    "## Test Case 2 for chess Dataset"
   ]
  },
  {
   "cell_type": "code",
   "execution_count": 7,
   "metadata": {},
   "outputs": [
    {
     "name": "stdout",
     "output_type": "stream",
     "text": [
      "Spatial Periodic Frequent patterns were generated successfully using SpatialEclat algorithm\n",
      "Spatial Periodic Frequent patterns were generated successfully using SpatialEclat algorithm\n",
      "Spatial Periodic Frequent patterns were generated successfully using SpatialEclat algorithm\n",
      "Spatial Periodic Frequent patterns were generated successfully using SpatialEclat algorithm\n",
      "Spatial Periodic Frequent patterns were generated successfully using SpatialEclat algorithm\n",
      "Frequent patterns were generated successfully using STEclat algorithm\n",
      "  algorithm  minPS  patterns   runtime     memory\n",
      "0   STEclat    100        67  0.127136  165863424\n",
      "1   STEclat    200        61  0.120834  165916672\n",
      "2   STEclat    300        59  0.116048  165367808\n",
      "3   STEclat    400        56  0.105087  164847616\n",
      "4   STEclat    500        54  0.100641  164896768\n"
     ]
    }
   ],
   "source": [
    "import PAMI.georeferencedPartialPeriodicPattern.basic.STEclat as alg\n",
    "import pandas as pd\n",
    "# Set the input parameters\n",
    "inputFile = 'Transactional_chess1.csv'\n",
    "separator = '\\t'\n",
    "minimumPartialSuppoort = [100, 200, 300, 400, 500]\n",
    "maxIAT=10\n",
    "neighbourFile=\"t10_neighbours.txt\"\n",
    "# Initialize a data frame to store the results of STEclat\n",
    "result = pd.DataFrame(columns=['algorithm', 'minPS', 'patterns', 'runtime', 'memory'])\n",
    "# Execute the algorithm at different minPS values\n",
    "for minPS in minimumPartialSuppoort:\n",
    "    obj = alg.STEclat(inputFile, minPS=minPS, maxIAT=maxIAT, nFile=neighbourFile, sep=separator)\n",
    "    obj.mine()\n",
    "    # Store the results in the data frame\n",
    "    result.loc[result.shape[0]] = ['STEclat', minPS, len(obj.getPatterns()), obj.getRuntime(), obj.getMemoryRSS(),]\n",
    "# Print the results\n",
    "print(f\"Frequent patterns were generated successfully using STEclat algorithm\")\n",
    "print(result)"
   ]
  }
 ],
 "metadata": {
  "kernelspec": {
   "display_name": "Python 3",
   "language": "python",
   "name": "python3"
  },
  "language_info": {
   "codemirror_mode": {
    "name": "ipython",
    "version": 3
   },
   "file_extension": ".py",
   "mimetype": "text/x-python",
   "name": "python",
   "nbconvert_exporter": "python",
   "pygments_lexer": "ipython3",
   "version": "3.10.5"
  }
 },
 "nbformat": 4,
 "nbformat_minor": 2
}
