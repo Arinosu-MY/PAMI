{
  "nbformat": 4,
  "nbformat_minor": 0,
  "metadata": {
    "colab": {
      "provenance": [],
      "authorship_tag": "ABX9TyOjLhHOyol72vjdn+jLSoEq"
    },
    "kernelspec": {
      "name": "python3",
      "display_name": "Python 3"
    },
    "language_info": {
      "name": "python"
    }
  },
  "cells": [
    {
      "cell_type": "code",
      "execution_count": 1,
      "metadata": {
        "colab": {
          "base_uri": "https://localhost:8080/"
        },
        "id": "ixvJmwm09QWD",
        "outputId": "b3aac0da-01e6-45dc-938b-588e78a9c64c"
      },
      "outputs": [
        {
          "output_type": "stream",
          "name": "stdout",
          "text": [
            "Collecting PAMI\n",
            "  Downloading pami-2024.6.10-py3-none-any.whl (1.0 MB)\n",
            "\u001b[2K     \u001b[90m━━━━━━━━━━━━━━━━━━━━━━━━━━━━━━━━━━━━━━━━\u001b[0m \u001b[32m1.0/1.0 MB\u001b[0m \u001b[31m6.9 MB/s\u001b[0m eta \u001b[36m0:00:00\u001b[0m\n",
            "\u001b[?25hRequirement already satisfied: psutil in /usr/local/lib/python3.10/dist-packages (from PAMI) (5.9.5)\n",
            "Requirement already satisfied: pandas in /usr/local/lib/python3.10/dist-packages (from PAMI) (2.0.3)\n",
            "Requirement already satisfied: plotly in /usr/local/lib/python3.10/dist-packages (from PAMI) (5.15.0)\n",
            "Requirement already satisfied: matplotlib in /usr/local/lib/python3.10/dist-packages (from PAMI) (3.7.1)\n",
            "Collecting resource (from PAMI)\n",
            "  Downloading Resource-0.2.1-py2.py3-none-any.whl (25 kB)\n",
            "Collecting validators (from PAMI)\n",
            "  Downloading validators-0.28.3-py3-none-any.whl (40 kB)\n",
            "\u001b[2K     \u001b[90m━━━━━━━━━━━━━━━━━━━━━━━━━━━━━━━━━━━━━━━━\u001b[0m \u001b[32m40.0/40.0 kB\u001b[0m \u001b[31m1.6 MB/s\u001b[0m eta \u001b[36m0:00:00\u001b[0m\n",
            "\u001b[?25hRequirement already satisfied: urllib3 in /usr/local/lib/python3.10/dist-packages (from PAMI) (2.0.7)\n",
            "Requirement already satisfied: Pillow in /usr/local/lib/python3.10/dist-packages (from PAMI) (9.4.0)\n",
            "Requirement already satisfied: numpy in /usr/local/lib/python3.10/dist-packages (from PAMI) (1.25.2)\n",
            "Requirement already satisfied: sphinx in /usr/local/lib/python3.10/dist-packages (from PAMI) (5.0.2)\n",
            "Collecting sphinx-rtd-theme (from PAMI)\n",
            "  Downloading sphinx_rtd_theme-2.0.0-py2.py3-none-any.whl (2.8 MB)\n",
            "\u001b[2K     \u001b[90m━━━━━━━━━━━━━━━━━━━━━━━━━━━━━━━━━━━━━━━━\u001b[0m \u001b[32m2.8/2.8 MB\u001b[0m \u001b[31m21.1 MB/s\u001b[0m eta \u001b[36m0:00:00\u001b[0m\n",
            "\u001b[?25hCollecting discord.py (from PAMI)\n",
            "  Downloading discord.py-2.3.2-py3-none-any.whl (1.1 MB)\n",
            "\u001b[2K     \u001b[90m━━━━━━━━━━━━━━━━━━━━━━━━━━━━━━━━━━━━━━━━\u001b[0m \u001b[32m1.1/1.1 MB\u001b[0m \u001b[31m32.8 MB/s\u001b[0m eta \u001b[36m0:00:00\u001b[0m\n",
            "\u001b[?25hRequirement already satisfied: networkx in /usr/local/lib/python3.10/dist-packages (from PAMI) (3.3)\n",
            "Collecting deprecated (from PAMI)\n",
            "  Downloading Deprecated-1.2.14-py2.py3-none-any.whl (9.6 kB)\n",
            "Requirement already satisfied: wrapt<2,>=1.10 in /usr/local/lib/python3.10/dist-packages (from deprecated->PAMI) (1.14.1)\n",
            "Requirement already satisfied: aiohttp<4,>=3.7.4 in /usr/local/lib/python3.10/dist-packages (from discord.py->PAMI) (3.9.5)\n",
            "Requirement already satisfied: contourpy>=1.0.1 in /usr/local/lib/python3.10/dist-packages (from matplotlib->PAMI) (1.2.1)\n",
            "Requirement already satisfied: cycler>=0.10 in /usr/local/lib/python3.10/dist-packages (from matplotlib->PAMI) (0.12.1)\n",
            "Requirement already satisfied: fonttools>=4.22.0 in /usr/local/lib/python3.10/dist-packages (from matplotlib->PAMI) (4.53.0)\n",
            "Requirement already satisfied: kiwisolver>=1.0.1 in /usr/local/lib/python3.10/dist-packages (from matplotlib->PAMI) (1.4.5)\n",
            "Requirement already satisfied: packaging>=20.0 in /usr/local/lib/python3.10/dist-packages (from matplotlib->PAMI) (24.1)\n",
            "Requirement already satisfied: pyparsing>=2.3.1 in /usr/local/lib/python3.10/dist-packages (from matplotlib->PAMI) (3.1.2)\n",
            "Requirement already satisfied: python-dateutil>=2.7 in /usr/local/lib/python3.10/dist-packages (from matplotlib->PAMI) (2.8.2)\n",
            "Requirement already satisfied: pytz>=2020.1 in /usr/local/lib/python3.10/dist-packages (from pandas->PAMI) (2023.4)\n",
            "Requirement already satisfied: tzdata>=2022.1 in /usr/local/lib/python3.10/dist-packages (from pandas->PAMI) (2024.1)\n",
            "Requirement already satisfied: tenacity>=6.2.0 in /usr/local/lib/python3.10/dist-packages (from plotly->PAMI) (8.3.0)\n",
            "Collecting JsonForm>=0.0.2 (from resource->PAMI)\n",
            "  Downloading JsonForm-0.0.2.tar.gz (2.4 kB)\n",
            "  Preparing metadata (setup.py) ... \u001b[?25l\u001b[?25hdone\n",
            "Collecting JsonSir>=0.0.2 (from resource->PAMI)\n",
            "  Downloading JsonSir-0.0.2.tar.gz (2.2 kB)\n",
            "  Preparing metadata (setup.py) ... \u001b[?25l\u001b[?25hdone\n",
            "Collecting python-easyconfig>=0.1.0 (from resource->PAMI)\n",
            "  Downloading Python_EasyConfig-0.1.7-py2.py3-none-any.whl (5.4 kB)\n",
            "Requirement already satisfied: sphinxcontrib-applehelp in /usr/local/lib/python3.10/dist-packages (from sphinx->PAMI) (1.0.8)\n",
            "Requirement already satisfied: sphinxcontrib-devhelp in /usr/local/lib/python3.10/dist-packages (from sphinx->PAMI) (1.0.6)\n",
            "Requirement already satisfied: sphinxcontrib-jsmath in /usr/local/lib/python3.10/dist-packages (from sphinx->PAMI) (1.0.1)\n",
            "Requirement already satisfied: sphinxcontrib-htmlhelp>=2.0.0 in /usr/local/lib/python3.10/dist-packages (from sphinx->PAMI) (2.0.5)\n",
            "Requirement already satisfied: sphinxcontrib-serializinghtml>=1.1.5 in /usr/local/lib/python3.10/dist-packages (from sphinx->PAMI) (1.1.10)\n",
            "Requirement already satisfied: sphinxcontrib-qthelp in /usr/local/lib/python3.10/dist-packages (from sphinx->PAMI) (1.0.7)\n",
            "Requirement already satisfied: Jinja2>=2.3 in /usr/local/lib/python3.10/dist-packages (from sphinx->PAMI) (3.1.4)\n",
            "Requirement already satisfied: Pygments>=2.0 in /usr/local/lib/python3.10/dist-packages (from sphinx->PAMI) (2.16.1)\n",
            "Requirement already satisfied: docutils<0.19,>=0.14 in /usr/local/lib/python3.10/dist-packages (from sphinx->PAMI) (0.18.1)\n",
            "Requirement already satisfied: snowballstemmer>=1.1 in /usr/local/lib/python3.10/dist-packages (from sphinx->PAMI) (2.2.0)\n",
            "Requirement already satisfied: babel>=1.3 in /usr/local/lib/python3.10/dist-packages (from sphinx->PAMI) (2.15.0)\n",
            "Requirement already satisfied: alabaster<0.8,>=0.7 in /usr/local/lib/python3.10/dist-packages (from sphinx->PAMI) (0.7.16)\n",
            "Requirement already satisfied: imagesize in /usr/local/lib/python3.10/dist-packages (from sphinx->PAMI) (1.4.1)\n",
            "Requirement already satisfied: requests>=2.5.0 in /usr/local/lib/python3.10/dist-packages (from sphinx->PAMI) (2.31.0)\n",
            "Collecting sphinxcontrib-jquery<5,>=4 (from sphinx-rtd-theme->PAMI)\n",
            "  Downloading sphinxcontrib_jquery-4.1-py2.py3-none-any.whl (121 kB)\n",
            "\u001b[2K     \u001b[90m━━━━━━━━━━━━━━━━━━━━━━━━━━━━━━━━━━━━━━━━\u001b[0m \u001b[32m121.1/121.1 kB\u001b[0m \u001b[31m6.5 MB/s\u001b[0m eta \u001b[36m0:00:00\u001b[0m\n",
            "\u001b[?25hRequirement already satisfied: aiosignal>=1.1.2 in /usr/local/lib/python3.10/dist-packages (from aiohttp<4,>=3.7.4->discord.py->PAMI) (1.3.1)\n",
            "Requirement already satisfied: attrs>=17.3.0 in /usr/local/lib/python3.10/dist-packages (from aiohttp<4,>=3.7.4->discord.py->PAMI) (23.2.0)\n",
            "Requirement already satisfied: frozenlist>=1.1.1 in /usr/local/lib/python3.10/dist-packages (from aiohttp<4,>=3.7.4->discord.py->PAMI) (1.4.1)\n",
            "Requirement already satisfied: multidict<7.0,>=4.5 in /usr/local/lib/python3.10/dist-packages (from aiohttp<4,>=3.7.4->discord.py->PAMI) (6.0.5)\n",
            "Requirement already satisfied: yarl<2.0,>=1.0 in /usr/local/lib/python3.10/dist-packages (from aiohttp<4,>=3.7.4->discord.py->PAMI) (1.9.4)\n",
            "Requirement already satisfied: async-timeout<5.0,>=4.0 in /usr/local/lib/python3.10/dist-packages (from aiohttp<4,>=3.7.4->discord.py->PAMI) (4.0.3)\n",
            "Requirement already satisfied: MarkupSafe>=2.0 in /usr/local/lib/python3.10/dist-packages (from Jinja2>=2.3->sphinx->PAMI) (2.1.5)\n",
            "Requirement already satisfied: jsonschema in /usr/local/lib/python3.10/dist-packages (from JsonForm>=0.0.2->resource->PAMI) (4.19.2)\n",
            "Requirement already satisfied: six>=1.5 in /usr/local/lib/python3.10/dist-packages (from python-dateutil>=2.7->matplotlib->PAMI) (1.16.0)\n",
            "Requirement already satisfied: PyYAML in /usr/local/lib/python3.10/dist-packages (from python-easyconfig>=0.1.0->resource->PAMI) (6.0.1)\n",
            "Requirement already satisfied: charset-normalizer<4,>=2 in /usr/local/lib/python3.10/dist-packages (from requests>=2.5.0->sphinx->PAMI) (3.3.2)\n",
            "Requirement already satisfied: idna<4,>=2.5 in /usr/local/lib/python3.10/dist-packages (from requests>=2.5.0->sphinx->PAMI) (3.7)\n",
            "Requirement already satisfied: certifi>=2017.4.17 in /usr/local/lib/python3.10/dist-packages (from requests>=2.5.0->sphinx->PAMI) (2024.6.2)\n",
            "Requirement already satisfied: jsonschema-specifications>=2023.03.6 in /usr/local/lib/python3.10/dist-packages (from jsonschema->JsonForm>=0.0.2->resource->PAMI) (2023.12.1)\n",
            "Requirement already satisfied: referencing>=0.28.4 in /usr/local/lib/python3.10/dist-packages (from jsonschema->JsonForm>=0.0.2->resource->PAMI) (0.35.1)\n",
            "Requirement already satisfied: rpds-py>=0.7.1 in /usr/local/lib/python3.10/dist-packages (from jsonschema->JsonForm>=0.0.2->resource->PAMI) (0.18.1)\n",
            "Building wheels for collected packages: JsonForm, JsonSir\n",
            "  Building wheel for JsonForm (setup.py) ... \u001b[?25l\u001b[?25hdone\n",
            "  Created wheel for JsonForm: filename=JsonForm-0.0.2-py3-none-any.whl size=3314 sha256=a9cb8380c676784a666e8bbf352f383fa18a25a9de0bb74500f773c716e2ccdd\n",
            "  Stored in directory: /root/.cache/pip/wheels/b6/e5/87/11026246d3bd4ad67c0615682d2d6748bbd9a40ac0490882bd\n",
            "  Building wheel for JsonSir (setup.py) ... \u001b[?25l\u001b[?25hdone\n",
            "  Created wheel for JsonSir: filename=JsonSir-0.0.2-py3-none-any.whl size=4752 sha256=cec95b4d616613531d09ee03c84699849390aea1c438ee663841823414d43d09\n",
            "  Stored in directory: /root/.cache/pip/wheels/1d/4c/d3/4d9757425983b43eb709be1043d82cd03fb863ce5f56f117e6\n",
            "Successfully built JsonForm JsonSir\n",
            "Installing collected packages: JsonSir, validators, python-easyconfig, deprecated, sphinxcontrib-jquery, discord.py, sphinx-rtd-theme, JsonForm, resource, PAMI\n",
            "Successfully installed JsonForm-0.0.2 JsonSir-0.0.2 PAMI-2024.6.10 deprecated-1.2.14 discord.py-2.3.2 python-easyconfig-0.1.7 resource-0.2.1 sphinx-rtd-theme-2.0.0 sphinxcontrib-jquery-4.1 validators-0.28.3\n"
          ]
        }
      ],
      "source": [
        "!pip install -U PAMI"
      ]
    },
    {
      "cell_type": "markdown",
      "source": [
        "## Test Cases for Fuzzy_T10I4D100K Dataset ##\n",
        "\n"
      ],
      "metadata": {
        "id": "TsK8EpAO-yBu"
      }
    },
    {
      "cell_type": "markdown",
      "source": [
        "### Test Case1 for Fuzzy_T10I4D100K Dataset ###"
      ],
      "metadata": {
        "id": "rOcM7hPS-m5a"
      }
    },
    {
      "cell_type": "code",
      "source": [
        "from PAMI.fuzzyCorrelatedPattern.basic import FCPGrowth  as alg\n",
        "import pandas as pd\n",
        "# Set the input parameters\n",
        "URL = 'https://u-aizu.ac.jp/~udayrage/datasets/fuzzyDatabases/Fuzzy_T10I4D100K.csv'\n",
        "separator = '\\t'\n",
        "minAllConf=0.8\n",
        "minimumSupportCountList = [3000,3500,4000,4500,5000]\n",
        "\n",
        "# Initialize a data frame to store the results of FCPGrowth\n",
        "result = pd.DataFrame(columns=['algorithm', 'minSup', 'patterns', 'runtime', 'memory'])\n",
        "\n",
        "# Execute the algorithm at different minSup values\n",
        "for minSupCount in minimumSupportCountList:\n",
        "    obj = alg.FCPGrowth(URL, minSup=minSupCount,minAllConf=minAllConf, sep=separator)\n",
        "    obj.mine()\n",
        "    # Store the results in the data frame\n",
        "    result.loc[result.shape[0]] = ['FCPGrowth', minSupCount, len(obj.getPatterns()), obj.getRuntime(), obj.getMemoryRSS()]\n",
        "\n",
        "# Print the results\n",
        "print(\"Frequent patterns were generated successfully using FCPGrowth algorithm\")\n",
        "\n",
        "print(result)"
      ],
      "metadata": {
        "colab": {
          "base_uri": "https://localhost:8080/"
        },
        "id": "pZprgPkS-wJh",
        "outputId": "260c166e-2e6c-4e25-8227-aeb409a11832"
      },
      "execution_count": 23,
      "outputs": [
        {
          "output_type": "stream",
          "name": "stdout",
          "text": [
            "Fuzzy Correlated Patterns Successfully generated using FCPGrowth algorithms\n",
            "Fuzzy Correlated Patterns Successfully generated using FCPGrowth algorithms\n",
            "Fuzzy Correlated Patterns Successfully generated using FCPGrowth algorithms\n",
            "Fuzzy Correlated Patterns Successfully generated using FCPGrowth algorithms\n",
            "Fuzzy Correlated Patterns Successfully generated using FCPGrowth algorithms\n",
            "Frequent patterns were generated successfully using FCPGrowth algorithm\n",
            "   algorithm  minSup  patterns    runtime     memory\n",
            "0  FCPGrowth    3000        47  38.138874  482811904\n",
            "1  FCPGrowth    3500        32  29.634952  474365952\n",
            "2  FCPGrowth    4000        21  21.081635  468803584\n",
            "3  FCPGrowth    4500        13  19.862157  468803584\n",
            "4  FCPGrowth    5000         8  16.206319  468803584\n"
          ]
        }
      ]
    },
    {
      "cell_type": "markdown",
      "source": [
        "### Test Case2 for Fuzzy_T10I4D100K Dataset ###"
      ],
      "metadata": {
        "id": "d8LocZCCMZx5"
      }
    },
    {
      "cell_type": "code",
      "source": [
        "!wget -nc https://u-aizu.ac.jp/~udayrage/datasets/fuzzyDatabases/Fuzzy_T10I4D100K.csv #download a sample fuzzy database"
      ],
      "metadata": {
        "colab": {
          "base_uri": "https://localhost:8080/"
        },
        "id": "q3WrCDEsCaNS",
        "outputId": "0d45493f-d072-416d-8da4-45304b34036b"
      },
      "execution_count": 10,
      "outputs": [
        {
          "output_type": "stream",
          "name": "stdout",
          "text": [
            "--2024-06-15 03:56:02--  https://u-aizu.ac.jp/~udayrage/datasets/fuzzyDatabases/Fuzzy_T10I4D100K.csv\n",
            "Resolving u-aizu.ac.jp (u-aizu.ac.jp)... 150.95.161.176, 150.31.244.160\n",
            "Connecting to u-aizu.ac.jp (u-aizu.ac.jp)|150.95.161.176|:443... connected.\n",
            "HTTP request sent, awaiting response... 200 OK\n",
            "Length: 9151461 (8.7M) [text/csv]\n",
            "Saving to: ‘Fuzzy_T10I4D100K.csv’\n",
            "\n",
            "Fuzzy_T10I4D100K.cs 100%[===================>]   8.73M  2.18MB/s    in 6.8s    \n",
            "\n",
            "2024-06-15 03:56:10 (1.28 MB/s) - ‘Fuzzy_T10I4D100K.csv’ saved [9151461/9151461]\n",
            "\n"
          ]
        }
      ]
    },
    {
      "cell_type": "code",
      "source": [
        "from PAMI.fuzzyCorrelatedPattern.basic import FCPGrowth  as alg\n",
        "import pandas as pd\n",
        "\n",
        "# Set the input parameters\n",
        "inputFile = 'Fuzzy_T10I4D100K.csv'\n",
        "separator = '\\t'\n",
        "minAllConf=0.8\n",
        "minimumSupportCountList = [3000,3500,4000,4500,5000]\n",
        "\n",
        "# Initialize a data frame to store the results of Apriori\n",
        "result = pd.DataFrame(columns=['algorithm', 'minSup', 'patterns', 'runtime', 'memory'])\n",
        "\n",
        "# Execute the algorithm at different minSup values\n",
        "for minSupCount in minimumSupportCountList:\n",
        "    obj = alg.FCPGrowth(inputFile, minSup=minSupCount,minAllConf=minAllConf, sep=separator)\n",
        "    obj.mine()\n",
        "    # Store the results in the data frame\n",
        "    result.loc[result.shape[0]] = ['FCPGrowth', minSupCount, len(obj.getPatterns()), obj.getRuntime(), obj.getMemoryRSS()]\n",
        "\n",
        "# Print the results\n",
        "print(f\"Frequent patterns were generated successfully using FCPGrowth algorithm\")\n",
        "\n",
        "print(result)"
      ],
      "metadata": {
        "colab": {
          "base_uri": "https://localhost:8080/"
        },
        "id": "-kgCK13-A8IV",
        "outputId": "bf1505a3-e60e-44ee-e1b8-4e770840d989"
      },
      "execution_count": 24,
      "outputs": [
        {
          "output_type": "stream",
          "name": "stdout",
          "text": [
            "Fuzzy Correlated Patterns Successfully generated using FCPGrowth algorithms\n",
            "Fuzzy Correlated Patterns Successfully generated using FCPGrowth algorithms\n",
            "Fuzzy Correlated Patterns Successfully generated using FCPGrowth algorithms\n",
            "Fuzzy Correlated Patterns Successfully generated using FCPGrowth algorithms\n",
            "Fuzzy Correlated Patterns Successfully generated using FCPGrowth algorithms\n",
            "Frequent patterns were generated successfully using FCPGrowth algorithm\n",
            "   algorithm  minSup  patterns    runtime     memory\n",
            "0  FCPGrowth    3000        47  28.714280  483241984\n",
            "1  FCPGrowth    3500        32  17.176297  491769856\n",
            "2  FCPGrowth    4000        21  12.506592  477171712\n",
            "3  FCPGrowth    4500        13   9.736856  475090944\n",
            "4  FCPGrowth    5000         8   8.046227  475189248\n"
          ]
        }
      ]
    },
    {
      "cell_type": "markdown",
      "source": [
        "### Test Case3 for Fuzzy_T10I4D100K Dataset ###"
      ],
      "metadata": {
        "id": "XpTgvGh2MzIx"
      }
    },
    {
      "cell_type": "code",
      "source": [
        "from PAMI.fuzzyCorrelatedPattern.basic import FCPGrowth  as alg\n",
        "import pandas as pd\n",
        "\n",
        "# Set the input parameters\n",
        "inputFile = 'Fuzzy_T10I4D100K.csv'\n",
        "separator = '\\t'\n",
        "minAllConf=0.8\n",
        "minimumSupportCountList = [3000,3500,4000,4500,5000]\n",
        "\n",
        "# Read the CSV file into a DataFrame\n",
        "df = pd.read_csv(inputFile, header=[0], sep=' ')\n",
        "df = df.rename(columns={df.columns[0]: \"Transactions\"})\n",
        "\n",
        "# Ensure all data in the \"Transaction\" column is string before splitting\n",
        "df[\"Transactions\"] = df[\"Transactions\"].astype(str)\n",
        "\n",
        "# Preprocess the dataset\n",
        "# transactions = df[\"Transaction\"].apply(lambda x: x.split(separator)).tolist()\n",
        "transactions = df['Transactions'].apply(lambda x: x.split(separator))\n",
        "transactions = pd.DataFrame(transactions, columns=['Transactions'])\n",
        "\n",
        "# Initialize a data frame to store the results of Apriori\n",
        "result = pd.DataFrame(columns=['algorithm', 'minSup', 'patterns', 'runtime', 'memory'])\n",
        "\n",
        "# Execute the algorithm at different minSup values\n",
        "for minSupCount in minimumSupportCountList:\n",
        "    obj = alg.FCPGrowth(inputFile, minSup=minSupCount,minAllConf=minAllConf, sep=separator)\n",
        "    obj.mine()\n",
        "\n",
        "    # Get the patterns found\n",
        "    patterns = obj.getPatterns()\n",
        "\n",
        "    # Store the results in the data frame\n",
        "    result.loc[len(result)] = ['FCPGrowth', minSupCount, len(patterns), obj.getRuntime(), obj.getMemoryRSS()]\n",
        "\n",
        "# Print the results\n",
        "print(\"Frequent patterns were generated successfully using FCPGrowth algorithm\")\n",
        "print(result)"
      ],
      "metadata": {
        "colab": {
          "base_uri": "https://localhost:8080/"
        },
        "id": "-fXGLkDrM1Y7",
        "outputId": "68484ecb-3153-413b-a9cf-a80b81469a31"
      },
      "execution_count": 26,
      "outputs": [
        {
          "output_type": "stream",
          "name": "stdout",
          "text": [
            "Fuzzy Correlated Patterns Successfully generated using FCPGrowth algorithms\n",
            "Fuzzy Correlated Patterns Successfully generated using FCPGrowth algorithms\n",
            "Fuzzy Correlated Patterns Successfully generated using FCPGrowth algorithms\n",
            "Fuzzy Correlated Patterns Successfully generated using FCPGrowth algorithms\n",
            "Fuzzy Correlated Patterns Successfully generated using FCPGrowth algorithms\n",
            "Frequent patterns were generated successfully using FCPGrowth algorithm\n",
            "   algorithm  minSup  patterns    runtime     memory\n",
            "0  FCPGrowth    3000        47  30.410480  539758592\n",
            "1  FCPGrowth    3500        32  17.582543  506204160\n",
            "2  FCPGrowth    4000        21  12.662806  506204160\n",
            "3  FCPGrowth    4500        13   9.556901  518688768\n",
            "4  FCPGrowth    5000         8   7.309658  505257984\n"
          ]
        }
      ]
    },
    {
      "cell_type": "markdown",
      "source": [
        "## Test Cases for Retail Dataset ##"
      ],
      "metadata": {
        "id": "1RJqb9HAPick"
      }
    },
    {
      "cell_type": "markdown",
      "source": [
        "### Test Case1 for Retail Dataset ###"
      ],
      "metadata": {
        "id": "1Vx_thr3PzA6"
      }
    },
    {
      "cell_type": "code",
      "source": [
        "from PAMI.fuzzyCorrelatedPattern.basic import FCPGrowth  as alg\n",
        "import pandas as pd\n",
        "# Set the input parameters\n",
        "URL = 'https://u-aizu.ac.jp/~udayrage/datasets/fuzzyDatabases/Fuzzy_retail.csv'\n",
        "separator = '\\t'\n",
        "minAllConf=0.8\n",
        "minimumSupportCountList = [3000,3500,4000,4500,5000]\n",
        "\n",
        "# Initialize a data frame to store the results of FCPGrowth\n",
        "result = pd.DataFrame(columns=['algorithm', 'minSup', 'patterns', 'runtime', 'memory'])\n",
        "\n",
        "# Execute the algorithm at different minSup values\n",
        "for minSupCount in minimumSupportCountList:\n",
        "    obj = alg.FCPGrowth(URL, minSup=minSupCount,minAllConf=minAllConf, sep=separator)\n",
        "    obj.mine()\n",
        "    # Store the results in the data frame\n",
        "    result.loc[result.shape[0]] = ['FCPGrowth', minSupCount, len(obj.getPatterns()), obj.getRuntime(), obj.getMemoryRSS()]\n",
        "\n",
        "# Print the results\n",
        "print(\"Frequent patterns were generated successfully using FCPGrowth algorithm\")\n",
        "\n",
        "print(result)"
      ],
      "metadata": {
        "colab": {
          "base_uri": "https://localhost:8080/"
        },
        "id": "k3TKGsQOP6Dj",
        "outputId": "8719ed41-4108-489b-d220-c1763fbb8ed8"
      },
      "execution_count": 29,
      "outputs": [
        {
          "output_type": "stream",
          "name": "stdout",
          "text": [
            "Fuzzy Correlated Patterns Successfully generated using FCPGrowth algorithms\n",
            "Fuzzy Correlated Patterns Successfully generated using FCPGrowth algorithms\n",
            "Fuzzy Correlated Patterns Successfully generated using FCPGrowth algorithms\n",
            "Fuzzy Correlated Patterns Successfully generated using FCPGrowth algorithms\n",
            "Fuzzy Correlated Patterns Successfully generated using FCPGrowth algorithms\n",
            "Frequent patterns were generated successfully using FCPGrowth algorithm\n",
            "   algorithm  minSup  patterns    runtime     memory\n",
            "0  FCPGrowth    3000         3  30.937624  596226048\n",
            "1  FCPGrowth    3500         2  26.002422  592297984\n",
            "2  FCPGrowth    4000         3  29.892440  589156352\n",
            "3  FCPGrowth    4500         2  28.526143  587059200\n",
            "4  FCPGrowth    5000         2  28.234819  584953856\n"
          ]
        }
      ]
    },
    {
      "cell_type": "markdown",
      "source": [
        "### Test Case2 for Retail Dataset ###"
      ],
      "metadata": {
        "id": "cMQ1c35jTZgq"
      }
    },
    {
      "cell_type": "code",
      "source": [
        "!wget -nc https://u-aizu.ac.jp/~udayrage/datasets/fuzzyDatabases/Fuzzy_retail.csv"
      ],
      "metadata": {
        "colab": {
          "base_uri": "https://localhost:8080/"
        },
        "id": "M6x83Of5TdnT",
        "outputId": "b7e65f0e-7d04-430a-cfff-43f1221079a1"
      },
      "execution_count": 30,
      "outputs": [
        {
          "output_type": "stream",
          "name": "stdout",
          "text": [
            "--2024-06-15 05:11:19--  https://u-aizu.ac.jp/~udayrage/datasets/fuzzyDatabases/Fuzzy_retail.csv\n",
            "Resolving u-aizu.ac.jp (u-aizu.ac.jp)... 150.31.244.160, 150.95.161.176\n",
            "Connecting to u-aizu.ac.jp (u-aizu.ac.jp)|150.31.244.160|:443... connected.\n",
            "HTTP request sent, awaiting response... 200 OK\n",
            "Length: 12342035 (12M) [text/csv]\n",
            "Saving to: ‘Fuzzy_retail.csv’\n",
            "\n",
            "Fuzzy_retail.csv    100%[===================>]  11.77M  2.40MB/s    in 8.9s    \n",
            "\n",
            "2024-06-15 05:11:30 (1.32 MB/s) - ‘Fuzzy_retail.csv’ saved [12342035/12342035]\n",
            "\n"
          ]
        }
      ]
    },
    {
      "cell_type": "code",
      "source": [
        "from PAMI.fuzzyCorrelatedPattern.basic import FCPGrowth  as alg\n",
        "import pandas as pd\n",
        "\n",
        "# Set the input parameters\n",
        "inputFile = 'Fuzzy_retail.csv'\n",
        "separator = '\\t'\n",
        "minAllConf=0.8\n",
        "minimumSupportCountList = [3000,3500,4000,4500,5000]\n",
        "\n",
        "# Initialize a data frame to store the results of Apriori\n",
        "result = pd.DataFrame(columns=['algorithm', 'minSup', 'patterns', 'runtime', 'memory'])\n",
        "\n",
        "# Execute the algorithm at different minSup values\n",
        "for minSupCount in minimumSupportCountList:\n",
        "    obj = alg.FCPGrowth(inputFile, minSup=minSupCount,minAllConf=minAllConf, sep=separator)\n",
        "    obj.mine()\n",
        "    # Store the results in the data frame\n",
        "    result.loc[result.shape[0]] = ['FCPGrowth', minSupCount, len(obj.getPatterns()), obj.getRuntime(), obj.getMemoryRSS()]\n",
        "\n",
        "# Print the results\n",
        "print(f\"Frequent patterns were generated successfully using FCPGrowth algorithm\")\n",
        "\n",
        "print(result)"
      ],
      "metadata": {
        "colab": {
          "base_uri": "https://localhost:8080/"
        },
        "id": "vHE-mUzeTw84",
        "outputId": "2c0c951e-3a76-4be4-9f50-75f61bc71f57"
      },
      "execution_count": 31,
      "outputs": [
        {
          "output_type": "stream",
          "name": "stdout",
          "text": [
            "Fuzzy Correlated Patterns Successfully generated using FCPGrowth algorithms\n",
            "Fuzzy Correlated Patterns Successfully generated using FCPGrowth algorithms\n",
            "Fuzzy Correlated Patterns Successfully generated using FCPGrowth algorithms\n",
            "Fuzzy Correlated Patterns Successfully generated using FCPGrowth algorithms\n",
            "Fuzzy Correlated Patterns Successfully generated using FCPGrowth algorithms\n",
            "Frequent patterns were generated successfully using FCPGrowth algorithm\n",
            "   algorithm  minSup  patterns    runtime     memory\n",
            "0  FCPGrowth    3000         3  18.041836  596332544\n",
            "1  FCPGrowth    3500         2  20.770245  612945920\n",
            "2  FCPGrowth    4000         3  17.755379  611872768\n",
            "3  FCPGrowth    4500         2  18.129359  586948608\n",
            "4  FCPGrowth    5000         2  16.147533  600211456\n"
          ]
        }
      ]
    },
    {
      "cell_type": "markdown",
      "source": [
        "### Test Case3 for Retail dataset"
      ],
      "metadata": {
        "id": "8NhZlW_cUP7B"
      }
    },
    {
      "cell_type": "code",
      "source": [
        "from PAMI.fuzzyCorrelatedPattern.basic import FCPGrowth  as alg\n",
        "import pandas as pd\n",
        "\n",
        "# Set the input parameters\n",
        "inputFile = 'Fuzzy_retail.csv'\n",
        "separator = '\\t'\n",
        "minAllConf=0.8\n",
        "minimumSupportCountList = [3000,3500,4000,4500,5000]\n",
        "\n",
        "# Read the CSV file into a DataFrame\n",
        "df = pd.read_csv(inputFile, header=[0], sep=' ')\n",
        "df = df.rename(columns={df.columns[0]: \"Transactions\"})\n",
        "\n",
        "# Ensure all data in the \"Transaction\" column is string before splitting\n",
        "df[\"Transactions\"] = df[\"Transactions\"].astype(str)\n",
        "\n",
        "# Preprocess the dataset\n",
        "# transactions = df[\"Transaction\"].apply(lambda x: x.split(separator)).tolist()\n",
        "transactions = df['Transactions'].apply(lambda x: x.split(separator))\n",
        "transactions = pd.DataFrame(transactions, columns=['Transactions'])\n",
        "\n",
        "# Initialize a data frame to store the results of Apriori\n",
        "result = pd.DataFrame(columns=['algorithm', 'minSup', 'patterns', 'runtime', 'memory'])\n",
        "\n",
        "# Execute the algorithm at different minSup values\n",
        "for minSupCount in minimumSupportCountList:\n",
        "    obj = alg.FCPGrowth(inputFile, minSup=minSupCount,minAllConf=minAllConf, sep=separator)\n",
        "    obj.mine()\n",
        "\n",
        "    # Get the patterns found\n",
        "    patterns = obj.getPatterns()\n",
        "\n",
        "    # Store the results in the data frame\n",
        "    result.loc[len(result)] = ['FCPGrowth', minSupCount, len(patterns), obj.getRuntime(), obj.getMemoryRSS()]\n",
        "\n",
        "# Print the results\n",
        "print(\"Frequent patterns were generated successfully using FCPGrowth algorithm\")\n",
        "print(result)"
      ],
      "metadata": {
        "colab": {
          "base_uri": "https://localhost:8080/"
        },
        "id": "qTCqm5lfUT-K",
        "outputId": "159a284a-4b04-48a1-c954-9590228a3c39"
      },
      "execution_count": 32,
      "outputs": [
        {
          "output_type": "stream",
          "name": "stdout",
          "text": [
            "Fuzzy Correlated Patterns Successfully generated using FCPGrowth algorithms\n",
            "Fuzzy Correlated Patterns Successfully generated using FCPGrowth algorithms\n",
            "Fuzzy Correlated Patterns Successfully generated using FCPGrowth algorithms\n",
            "Fuzzy Correlated Patterns Successfully generated using FCPGrowth algorithms\n",
            "Fuzzy Correlated Patterns Successfully generated using FCPGrowth algorithms\n",
            "Frequent patterns were generated successfully using FCPGrowth algorithm\n",
            "   algorithm  minSup  patterns    runtime     memory\n",
            "0  FCPGrowth    3000         3  19.317794  666357760\n",
            "1  FCPGrowth    3500         2  16.878988  679071744\n",
            "2  FCPGrowth    4000         3  16.980136  633053184\n",
            "3  FCPGrowth    4500         2  20.583134  712544256\n",
            "4  FCPGrowth    5000         2  17.565883  628703232\n"
          ]
        }
      ]
    },
    {
      "cell_type": "markdown",
      "source": [
        "## Test Cases for T20I6D100K Database ##"
      ],
      "metadata": {
        "id": "F8313W3BUw4v"
      }
    },
    {
      "cell_type": "markdown",
      "source": [
        "### Test Case1 for T20I6D100K Database ###"
      ],
      "metadata": {
        "id": "VUaUdpC2U6_6"
      }
    },
    {
      "cell_type": "code",
      "source": [
        "from PAMI.fuzzyCorrelatedPattern.basic import FCPGrowth  as alg\n",
        "import pandas as pd\n",
        "# Set the input parameters\n",
        "URL = 'https://u-aizu.ac.jp/~udayrage/datasets/fuzzyDatabases/Fuzzy_T20I6D100K.csv'\n",
        "separator = '\\t'\n",
        "minAllConf=0.8\n",
        "minimumSupportCountList = [6000,6500,7000,8500,9000]\n",
        "\n",
        "# Initialize a data frame to store the results of FCPGrowth\n",
        "result = pd.DataFrame(columns=['algorithm', 'minSup', 'patterns', 'runtime', 'memory'])\n",
        "\n",
        "# Execute the algorithm at different minSup values\n",
        "for minSupCount in minimumSupportCountList:\n",
        "    obj = alg.FCPGrowth(URL, minSup=minSupCount,minAllConf=minAllConf, sep=separator)\n",
        "    obj.mine()\n",
        "    # Store the results in the data frame\n",
        "    result.loc[result.shape[0]] = ['FCPGrowth', minSupCount, len(obj.getPatterns()), obj.getRuntime(), obj.getMemoryRSS()]\n",
        "\n",
        "# Print the results\n",
        "print(\"Frequent patterns were generated successfully using FCPGrowth algorithm\")\n",
        "\n",
        "print(result)"
      ],
      "metadata": {
        "colab": {
          "base_uri": "https://localhost:8080/"
        },
        "id": "r6uNZbqIVAsR",
        "outputId": "b36d2df9-b7b7-432b-d5bf-faff1b95b9ce"
      },
      "execution_count": 43,
      "outputs": [
        {
          "output_type": "stream",
          "name": "stdout",
          "text": [
            "Fuzzy Correlated Patterns Successfully generated using FCPGrowth algorithms\n",
            "Fuzzy Correlated Patterns Successfully generated using FCPGrowth algorithms\n",
            "Fuzzy Correlated Patterns Successfully generated using FCPGrowth algorithms\n",
            "Fuzzy Correlated Patterns Successfully generated using FCPGrowth algorithms\n",
            "Fuzzy Correlated Patterns Successfully generated using FCPGrowth algorithms\n",
            "Frequent patterns were generated successfully using FCPGrowth algorithm\n",
            "   algorithm  minSup  patterns    runtime      memory\n",
            "0  FCPGrowth    6000        42  57.264177  1166438400\n",
            "1  FCPGrowth    6500        34  51.450313  1164357632\n",
            "2  FCPGrowth    7000        27  40.667873  1164357632\n",
            "3  FCPGrowth    8500         9  31.101558  1164357632\n",
            "4  FCPGrowth    9000         8  24.453143  1164357632\n"
          ]
        }
      ]
    },
    {
      "cell_type": "markdown",
      "source": [
        "### Test Case2 for T20I6D100K Database ###"
      ],
      "metadata": {
        "id": "INKnJdSYZ4SM"
      }
    },
    {
      "cell_type": "code",
      "source": [
        "!wget -nc https://u-aizu.ac.jp/~udayrage/datasets/fuzzyDatabases/Fuzzy_T20I6D100K.csv"
      ],
      "metadata": {
        "colab": {
          "base_uri": "https://localhost:8080/"
        },
        "id": "URzra-Dzazu1",
        "outputId": "a9db8772-9942-4678-9d68-6285b5b99522"
      },
      "execution_count": 44,
      "outputs": [
        {
          "output_type": "stream",
          "name": "stdout",
          "text": [
            "--2024-06-15 05:43:10--  https://u-aizu.ac.jp/~udayrage/datasets/fuzzyDatabases/Fuzzy_T20I6D100K.csv\n",
            "Resolving u-aizu.ac.jp (u-aizu.ac.jp)... 150.31.244.160, 150.95.161.176\n",
            "Connecting to u-aizu.ac.jp (u-aizu.ac.jp)|150.31.244.160|:443... connected.\n",
            "HTTP request sent, awaiting response... 200 OK\n",
            "Length: 17657765 (17M) [text/csv]\n",
            "Saving to: ‘Fuzzy_T20I6D100K.csv’\n",
            "\n",
            "Fuzzy_T20I6D100K.cs 100%[===================>]  16.84M  3.01MB/s    in 11s     \n",
            "\n",
            "2024-06-15 05:43:23 (1.51 MB/s) - ‘Fuzzy_T20I6D100K.csv’ saved [17657765/17657765]\n",
            "\n"
          ]
        }
      ]
    },
    {
      "cell_type": "code",
      "source": [
        "from PAMI.fuzzyCorrelatedPattern.basic import FCPGrowth  as alg\n",
        "import pandas as pd\n",
        "\n",
        "# Set the input parameters\n",
        "inputFile = 'Fuzzy_T20I6D100K.csv'\n",
        "separator = '\\t'\n",
        "minAllConf=0.8\n",
        "minimumSupportCountList = [6000,6500,7000,8500,9000]\n",
        "\n",
        "# Initialize a data frame to store the results of Apriori\n",
        "result = pd.DataFrame(columns=['algorithm', 'minSup', 'patterns', 'runtime', 'memory'])\n",
        "\n",
        "# Execute the algorithm at different minSup values\n",
        "for minSupCount in minimumSupportCountList:\n",
        "    obj = alg.FCPGrowth(inputFile, minSup=minSupCount,minAllConf=minAllConf, sep=separator)\n",
        "    obj.mine()\n",
        "    # Store the results in the data frame\n",
        "    result.loc[result.shape[0]] = ['FCPGrowth', minSupCount, len(obj.getPatterns()), obj.getRuntime(), obj.getMemoryRSS()]\n",
        "\n",
        "# Print the results\n",
        "print(f\"Frequent patterns were generated successfully using FCPGrowth algorithm\")\n",
        "\n",
        "print(result)"
      ],
      "metadata": {
        "colab": {
          "base_uri": "https://localhost:8080/"
        },
        "id": "GIzQz_T9bYqR",
        "outputId": "015f9664-4af9-4394-8b63-7df34a98a66a"
      },
      "execution_count": 45,
      "outputs": [
        {
          "output_type": "stream",
          "name": "stdout",
          "text": [
            "Fuzzy Correlated Patterns Successfully generated using FCPGrowth algorithms\n",
            "Fuzzy Correlated Patterns Successfully generated using FCPGrowth algorithms\n",
            "Fuzzy Correlated Patterns Successfully generated using FCPGrowth algorithms\n",
            "Fuzzy Correlated Patterns Successfully generated using FCPGrowth algorithms\n",
            "Fuzzy Correlated Patterns Successfully generated using FCPGrowth algorithms\n",
            "Frequent patterns were generated successfully using FCPGrowth algorithm\n",
            "   algorithm  minSup  patterns    runtime      memory\n",
            "0  FCPGrowth    6000        42  55.715518  1164357632\n",
            "1  FCPGrowth    6500        34  34.064637  1164357632\n",
            "2  FCPGrowth    7000        27  30.517954  1163325440\n",
            "3  FCPGrowth    8500         9  15.670099  1163325440\n",
            "4  FCPGrowth    9000         8  16.341662  1163325440\n"
          ]
        }
      ]
    },
    {
      "cell_type": "markdown",
      "source": [
        "### Test Case3 for T20I6D100K Database ###"
      ],
      "metadata": {
        "id": "UVlHa-Dxcd1n"
      }
    },
    {
      "cell_type": "code",
      "source": [
        "from PAMI.fuzzyCorrelatedPattern.basic import FCPGrowth  as alg\n",
        "import pandas as pd\n",
        "\n",
        "# Set the input parameters\n",
        "inputFile = 'Fuzzy_T20I6D100K.csv'\n",
        "separator = '\\t'\n",
        "minAllConf=0.8\n",
        "minimumSupportCountList = [6000,6500,7000,8500,9000]\n",
        "\n",
        "# Read the CSV file into a DataFrame\n",
        "df = pd.read_csv(inputFile, header=[0], sep=' ')\n",
        "df = df.rename(columns={df.columns[0]: \"Transactions\"})\n",
        "\n",
        "# Ensure all data in the \"Transaction\" column is string before splitting\n",
        "df[\"Transactions\"] = df[\"Transactions\"].astype(str)\n",
        "\n",
        "# Preprocess the dataset\n",
        "# transactions = df[\"Transaction\"].apply(lambda x: x.split(separator)).tolist()\n",
        "transactions = df['Transactions'].apply(lambda x: x.split(separator))\n",
        "transactions = pd.DataFrame(transactions, columns=['Transactions'])\n",
        "\n",
        "# Initialize a data frame to store the results of Apriori\n",
        "result = pd.DataFrame(columns=['algorithm', 'minSup', 'patterns', 'runtime', 'memory'])\n",
        "\n",
        "# Execute the algorithm at different minSup values\n",
        "for minSupCount in minimumSupportCountList:\n",
        "    obj = alg.FCPGrowth(inputFile, minSup=minSupCount,minAllConf=minAllConf, sep=separator)\n",
        "    obj.mine()\n",
        "\n",
        "    # Get the patterns found\n",
        "    patterns = obj.getPatterns()\n",
        "\n",
        "    # Store the results in the data frame\n",
        "    result.loc[len(result)] = ['FCPGrowth', minSupCount, len(patterns), obj.getRuntime(), obj.getMemoryRSS()]\n",
        "\n",
        "# Print the results\n",
        "print(\"Frequent patterns were generated successfully using FCPGrowth algorithm\")\n",
        "print(result)"
      ],
      "metadata": {
        "colab": {
          "base_uri": "https://localhost:8080/"
        },
        "id": "2H5isHK8cgRK",
        "outputId": "cd9a6ba4-d777-4e9b-fffa-77ae9701139d"
      },
      "execution_count": 46,
      "outputs": [
        {
          "output_type": "stream",
          "name": "stdout",
          "text": [
            "Fuzzy Correlated Patterns Successfully generated using FCPGrowth algorithms\n",
            "Fuzzy Correlated Patterns Successfully generated using FCPGrowth algorithms\n",
            "Fuzzy Correlated Patterns Successfully generated using FCPGrowth algorithms\n",
            "Fuzzy Correlated Patterns Successfully generated using FCPGrowth algorithms\n",
            "Fuzzy Correlated Patterns Successfully generated using FCPGrowth algorithms\n",
            "Frequent patterns were generated successfully using FCPGrowth algorithm\n",
            "   algorithm  minSup  patterns    runtime      memory\n",
            "0  FCPGrowth    6000        42  48.852129  1120514048\n",
            "1  FCPGrowth    6500        34  37.504079  1114189824\n",
            "2  FCPGrowth    7000        27  30.127846  1086091264\n",
            "3  FCPGrowth    8500         9  19.061869  1112043520\n",
            "4  FCPGrowth    9000         8  15.407887  1084813312\n"
          ]
        }
      ]
    }
  ]
}