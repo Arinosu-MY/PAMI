{
  "cells": [
    {
      "cell_type": "code",
      "execution_count": 1,
      "metadata": {
        "colab": {
          "base_uri": "https://localhost:8080/"
        },
        "id": "JIpQR7kqWfJ8",
        "outputId": "f08d6b60-4ced-4eed-f38e-d496f5dfba97"
      },
      "outputs": [
        {
          "output_type": "stream",
          "name": "stdout",
          "text": [
            "Collecting pami\n",
            "  Downloading pami-2024.6.18.1-py3-none-any.whl (1.0 MB)\n",
            "\u001b[2K     \u001b[90m━━━━━━━━━━━━━━━━━━━━━━━━━━━━━━━━━━━━━━━━\u001b[0m \u001b[32m1.0/1.0 MB\u001b[0m \u001b[31m5.7 MB/s\u001b[0m eta \u001b[36m0:00:00\u001b[0m\n",
            "\u001b[?25hRequirement already satisfied: psutil in /usr/local/lib/python3.10/dist-packages (from pami) (5.9.5)\n",
            "Requirement already satisfied: pandas in /usr/local/lib/python3.10/dist-packages (from pami) (2.0.3)\n",
            "Requirement already satisfied: plotly in /usr/local/lib/python3.10/dist-packages (from pami) (5.15.0)\n",
            "Requirement already satisfied: matplotlib in /usr/local/lib/python3.10/dist-packages (from pami) (3.7.1)\n",
            "Collecting resource (from pami)\n",
            "  Downloading Resource-0.2.1-py2.py3-none-any.whl (25 kB)\n",
            "Collecting validators (from pami)\n",
            "  Downloading validators-0.28.3-py3-none-any.whl (40 kB)\n",
            "\u001b[2K     \u001b[90m━━━━━━━━━━━━━━━━━━━━━━━━━━━━━━━━━━━━━━━━\u001b[0m \u001b[32m40.0/40.0 kB\u001b[0m \u001b[31m4.9 MB/s\u001b[0m eta \u001b[36m0:00:00\u001b[0m\n",
            "\u001b[?25hRequirement already satisfied: urllib3 in /usr/local/lib/python3.10/dist-packages (from pami) (2.0.7)\n",
            "Requirement already satisfied: Pillow in /usr/local/lib/python3.10/dist-packages (from pami) (9.4.0)\n",
            "Requirement already satisfied: numpy in /usr/local/lib/python3.10/dist-packages (from pami) (1.25.2)\n",
            "Requirement already satisfied: sphinx in /usr/local/lib/python3.10/dist-packages (from pami) (5.0.2)\n",
            "Collecting sphinx-rtd-theme (from pami)\n",
            "  Downloading sphinx_rtd_theme-2.0.0-py2.py3-none-any.whl (2.8 MB)\n",
            "\u001b[2K     \u001b[90m━━━━━━━━━━━━━━━━━━━━━━━━━━━━━━━━━━━━━━━━\u001b[0m \u001b[32m2.8/2.8 MB\u001b[0m \u001b[31m38.8 MB/s\u001b[0m eta \u001b[36m0:00:00\u001b[0m\n",
            "\u001b[?25hCollecting discord.py (from pami)\n",
            "  Downloading discord.py-2.3.2-py3-none-any.whl (1.1 MB)\n",
            "\u001b[2K     \u001b[90m━━━━━━━━━━━━━━━━━━━━━━━━━━━━━━━━━━━━━━━━\u001b[0m \u001b[32m1.1/1.1 MB\u001b[0m \u001b[31m59.3 MB/s\u001b[0m eta \u001b[36m0:00:00\u001b[0m\n",
            "\u001b[?25hRequirement already satisfied: networkx in /usr/local/lib/python3.10/dist-packages (from pami) (3.3)\n",
            "Collecting deprecated (from pami)\n",
            "  Downloading Deprecated-1.2.14-py2.py3-none-any.whl (9.6 kB)\n",
            "Requirement already satisfied: wrapt<2,>=1.10 in /usr/local/lib/python3.10/dist-packages (from deprecated->pami) (1.14.1)\n",
            "Requirement already satisfied: aiohttp<4,>=3.7.4 in /usr/local/lib/python3.10/dist-packages (from discord.py->pami) (3.9.5)\n",
            "Requirement already satisfied: contourpy>=1.0.1 in /usr/local/lib/python3.10/dist-packages (from matplotlib->pami) (1.2.1)\n",
            "Requirement already satisfied: cycler>=0.10 in /usr/local/lib/python3.10/dist-packages (from matplotlib->pami) (0.12.1)\n",
            "Requirement already satisfied: fonttools>=4.22.0 in /usr/local/lib/python3.10/dist-packages (from matplotlib->pami) (4.53.0)\n",
            "Requirement already satisfied: kiwisolver>=1.0.1 in /usr/local/lib/python3.10/dist-packages (from matplotlib->pami) (1.4.5)\n",
            "Requirement already satisfied: packaging>=20.0 in /usr/local/lib/python3.10/dist-packages (from matplotlib->pami) (24.1)\n",
            "Requirement already satisfied: pyparsing>=2.3.1 in /usr/local/lib/python3.10/dist-packages (from matplotlib->pami) (3.1.2)\n",
            "Requirement already satisfied: python-dateutil>=2.7 in /usr/local/lib/python3.10/dist-packages (from matplotlib->pami) (2.8.2)\n",
            "Requirement already satisfied: pytz>=2020.1 in /usr/local/lib/python3.10/dist-packages (from pandas->pami) (2023.4)\n",
            "Requirement already satisfied: tzdata>=2022.1 in /usr/local/lib/python3.10/dist-packages (from pandas->pami) (2024.1)\n",
            "Requirement already satisfied: tenacity>=6.2.0 in /usr/local/lib/python3.10/dist-packages (from plotly->pami) (8.3.0)\n",
            "Collecting JsonForm>=0.0.2 (from resource->pami)\n",
            "  Downloading JsonForm-0.0.2.tar.gz (2.4 kB)\n",
            "  Preparing metadata (setup.py) ... \u001b[?25l\u001b[?25hdone\n",
            "Collecting JsonSir>=0.0.2 (from resource->pami)\n",
            "  Downloading JsonSir-0.0.2.tar.gz (2.2 kB)\n",
            "  Preparing metadata (setup.py) ... \u001b[?25l\u001b[?25hdone\n",
            "Collecting python-easyconfig>=0.1.0 (from resource->pami)\n",
            "  Downloading Python_EasyConfig-0.1.7-py2.py3-none-any.whl (5.4 kB)\n",
            "Requirement already satisfied: sphinxcontrib-applehelp in /usr/local/lib/python3.10/dist-packages (from sphinx->pami) (1.0.8)\n",
            "Requirement already satisfied: sphinxcontrib-devhelp in /usr/local/lib/python3.10/dist-packages (from sphinx->pami) (1.0.6)\n",
            "Requirement already satisfied: sphinxcontrib-jsmath in /usr/local/lib/python3.10/dist-packages (from sphinx->pami) (1.0.1)\n",
            "Requirement already satisfied: sphinxcontrib-htmlhelp>=2.0.0 in /usr/local/lib/python3.10/dist-packages (from sphinx->pami) (2.0.5)\n",
            "Requirement already satisfied: sphinxcontrib-serializinghtml>=1.1.5 in /usr/local/lib/python3.10/dist-packages (from sphinx->pami) (1.1.10)\n",
            "Requirement already satisfied: sphinxcontrib-qthelp in /usr/local/lib/python3.10/dist-packages (from sphinx->pami) (1.0.7)\n",
            "Requirement already satisfied: Jinja2>=2.3 in /usr/local/lib/python3.10/dist-packages (from sphinx->pami) (3.1.4)\n",
            "Requirement already satisfied: Pygments>=2.0 in /usr/local/lib/python3.10/dist-packages (from sphinx->pami) (2.16.1)\n",
            "Requirement already satisfied: docutils<0.19,>=0.14 in /usr/local/lib/python3.10/dist-packages (from sphinx->pami) (0.18.1)\n",
            "Requirement already satisfied: snowballstemmer>=1.1 in /usr/local/lib/python3.10/dist-packages (from sphinx->pami) (2.2.0)\n",
            "Requirement already satisfied: babel>=1.3 in /usr/local/lib/python3.10/dist-packages (from sphinx->pami) (2.15.0)\n",
            "Requirement already satisfied: alabaster<0.8,>=0.7 in /usr/local/lib/python3.10/dist-packages (from sphinx->pami) (0.7.16)\n",
            "Requirement already satisfied: imagesize in /usr/local/lib/python3.10/dist-packages (from sphinx->pami) (1.4.1)\n",
            "Requirement already satisfied: requests>=2.5.0 in /usr/local/lib/python3.10/dist-packages (from sphinx->pami) (2.31.0)\n",
            "Collecting sphinxcontrib-jquery<5,>=4 (from sphinx-rtd-theme->pami)\n",
            "  Downloading sphinxcontrib_jquery-4.1-py2.py3-none-any.whl (121 kB)\n",
            "\u001b[2K     \u001b[90m━━━━━━━━━━━━━━━━━━━━━━━━━━━━━━━━━━━━━━━━\u001b[0m \u001b[32m121.1/121.1 kB\u001b[0m \u001b[31m14.4 MB/s\u001b[0m eta \u001b[36m0:00:00\u001b[0m\n",
            "\u001b[?25hRequirement already satisfied: aiosignal>=1.1.2 in /usr/local/lib/python3.10/dist-packages (from aiohttp<4,>=3.7.4->discord.py->pami) (1.3.1)\n",
            "Requirement already satisfied: attrs>=17.3.0 in /usr/local/lib/python3.10/dist-packages (from aiohttp<4,>=3.7.4->discord.py->pami) (23.2.0)\n",
            "Requirement already satisfied: frozenlist>=1.1.1 in /usr/local/lib/python3.10/dist-packages (from aiohttp<4,>=3.7.4->discord.py->pami) (1.4.1)\n",
            "Requirement already satisfied: multidict<7.0,>=4.5 in /usr/local/lib/python3.10/dist-packages (from aiohttp<4,>=3.7.4->discord.py->pami) (6.0.5)\n",
            "Requirement already satisfied: yarl<2.0,>=1.0 in /usr/local/lib/python3.10/dist-packages (from aiohttp<4,>=3.7.4->discord.py->pami) (1.9.4)\n",
            "Requirement already satisfied: async-timeout<5.0,>=4.0 in /usr/local/lib/python3.10/dist-packages (from aiohttp<4,>=3.7.4->discord.py->pami) (4.0.3)\n",
            "Requirement already satisfied: MarkupSafe>=2.0 in /usr/local/lib/python3.10/dist-packages (from Jinja2>=2.3->sphinx->pami) (2.1.5)\n",
            "Requirement already satisfied: jsonschema in /usr/local/lib/python3.10/dist-packages (from JsonForm>=0.0.2->resource->pami) (4.19.2)\n",
            "Requirement already satisfied: six>=1.5 in /usr/local/lib/python3.10/dist-packages (from python-dateutil>=2.7->matplotlib->pami) (1.16.0)\n",
            "Requirement already satisfied: PyYAML in /usr/local/lib/python3.10/dist-packages (from python-easyconfig>=0.1.0->resource->pami) (6.0.1)\n",
            "Requirement already satisfied: charset-normalizer<4,>=2 in /usr/local/lib/python3.10/dist-packages (from requests>=2.5.0->sphinx->pami) (3.3.2)\n",
            "Requirement already satisfied: idna<4,>=2.5 in /usr/local/lib/python3.10/dist-packages (from requests>=2.5.0->sphinx->pami) (3.7)\n",
            "Requirement already satisfied: certifi>=2017.4.17 in /usr/local/lib/python3.10/dist-packages (from requests>=2.5.0->sphinx->pami) (2024.6.2)\n",
            "Requirement already satisfied: jsonschema-specifications>=2023.03.6 in /usr/local/lib/python3.10/dist-packages (from jsonschema->JsonForm>=0.0.2->resource->pami) (2023.12.1)\n",
            "Requirement already satisfied: referencing>=0.28.4 in /usr/local/lib/python3.10/dist-packages (from jsonschema->JsonForm>=0.0.2->resource->pami) (0.35.1)\n",
            "Requirement already satisfied: rpds-py>=0.7.1 in /usr/local/lib/python3.10/dist-packages (from jsonschema->JsonForm>=0.0.2->resource->pami) (0.18.1)\n",
            "Building wheels for collected packages: JsonForm, JsonSir\n",
            "  Building wheel for JsonForm (setup.py) ... \u001b[?25l\u001b[?25hdone\n",
            "  Created wheel for JsonForm: filename=JsonForm-0.0.2-py3-none-any.whl size=3314 sha256=8677bdae318c8484c15528c768866c077fbeb5d7b6cf9d722010f92a4a83f886\n",
            "  Stored in directory: /root/.cache/pip/wheels/b6/e5/87/11026246d3bd4ad67c0615682d2d6748bbd9a40ac0490882bd\n",
            "  Building wheel for JsonSir (setup.py) ... \u001b[?25l\u001b[?25hdone\n",
            "  Created wheel for JsonSir: filename=JsonSir-0.0.2-py3-none-any.whl size=4752 sha256=c56b87ac04994d569a7402fa6e7d1cefa1b865ef9b70b8db023e4b53a79fb67d\n",
            "  Stored in directory: /root/.cache/pip/wheels/1d/4c/d3/4d9757425983b43eb709be1043d82cd03fb863ce5f56f117e6\n",
            "Successfully built JsonForm JsonSir\n",
            "Installing collected packages: JsonSir, validators, python-easyconfig, deprecated, sphinxcontrib-jquery, discord.py, sphinx-rtd-theme, JsonForm, resource, pami\n",
            "Successfully installed JsonForm-0.0.2 JsonSir-0.0.2 deprecated-1.2.14 discord.py-2.3.2 pami-2024.6.18.1 python-easyconfig-0.1.7 resource-0.2.1 sphinx-rtd-theme-2.0.0 sphinxcontrib-jquery-4.1 validators-0.28.3\n"
          ]
        }
      ],
      "source": [
        "!pip install -U pami"
      ]
    },
    {
      "cell_type": "markdown",
      "metadata": {
        "id": "cLfV1dPzWj18"
      },
      "source": [
        "#Test Cases for T10I4D100K Dataset"
      ]
    },
    {
      "cell_type": "markdown",
      "metadata": {
        "id": "hLgApfC4W1Cn"
      },
      "source": [
        "##Test case 1 for T10I4D100K Dataset"
      ]
    },
    {
      "cell_type": "code",
      "execution_count": null,
      "metadata": {
        "colab": {
          "base_uri": "https://localhost:8080/"
        },
        "id": "MD154VZc0RWb",
        "outputId": "f34a986f-415f-4e4f-ddd1-89969888a260"
      },
      "outputs": [
        {
          "output_type": "stream",
          "name": "stdout",
          "text": [
            "--2024-06-14 15:20:41--  https://u-aizu.ac.jp/~udayrage/datasets/utilityDatabases/Utility_T10I4D100K.csv\n",
            "Resolving u-aizu.ac.jp (u-aizu.ac.jp)... 150.95.161.176, 150.31.244.160\n",
            "Connecting to u-aizu.ac.jp (u-aizu.ac.jp)|150.95.161.176|:443... connected.\n",
            "HTTP request sent, awaiting response... 200 OK\n",
            "Length: 7356594 (7.0M) [text/csv]\n",
            "Saving to: ‘Utility_T10I4D100K.csv.1’\n",
            "\n",
            "Utility_T10I4D100K. 100%[===================>]   7.02M  1.87MB/s    in 4.8s    \n",
            "\n",
            "2024-06-14 15:20:48 (1.47 MB/s) - ‘Utility_T10I4D100K.csv.1’ saved [7356594/7356594]\n",
            "\n"
          ]
        }
      ],
      "source": [
        "!wget https://u-aizu.ac.jp/~udayrage/datasets/utilityDatabases/Utility_T10I4D100K.csv"
      ]
    },
    {
      "cell_type": "code",
      "execution_count": null,
      "metadata": {
        "colab": {
          "base_uri": "https://localhost:8080/"
        },
        "id": "tBX90tM9WgdJ",
        "outputId": "d7cea384-b6f1-4e4d-ab33-e6c4607d3b54"
      },
      "outputs": [
        {
          "output_type": "stream",
          "name": "stdout",
          "text": [
            "High Utility Frequent patterns were generated successfully using HUFIM algorithm\n",
            "High Utility Frequent patterns were generated successfully using HUFIM algorithm\n",
            "High Utility Frequent patterns were generated successfully using HUFIM algorithm\n",
            "High Utility Frequent patterns were generated successfully using HUFIM algorithm\n",
            "High Utility Frequent patterns were generated successfully using HUFIM algorithm\n",
            "High Utility Frequent patterns were generated successfully using HUFIM algorithm\n",
            "  algorithm  minUtilCount  minSup  patterns    runtime     memory\n",
            "0     HUFIM         30000    1000       385  96.715107  244846592\n",
            "1     HUFIM         30000    2000       155  53.841797  230699008\n",
            "2     HUFIM         30000    3000        60  26.579692  232022016\n",
            "3     HUFIM         30000    4000        26  18.004241  232235008\n",
            "4     HUFIM         30000    5000        10  13.449978  232148992\n"
          ]
        }
      ],
      "source": [
        "from PAMI.highUtilityFrequentPattern.basic import HUFIM  as alg\n",
        "import pandas as pd\n",
        "\n",
        "#Set the input parameters\n",
        "url='https://u-aizu.ac.jp/~udayrage/datasets/utilityDatabases/Utility_T10I4D100K.csv'\n",
        "separetor='\\t'\n",
        "minUtilCount = 30000\n",
        "minimumSupportCountList = [1000, 2000, 3000, 4000, 5000]\n",
        "\n",
        "# Initialize a data frame to store the results of HUFIM\n",
        "result = pd.DataFrame(columns=['algorithm', 'minUtilCount', 'minSup', 'patterns', 'runtime', 'memory'])\n",
        "\n",
        "# Execute the algorithm at different minSup values\n",
        "\n",
        "for minSupCount in minimumSupportCountList:\n",
        "  obj = alg.HUFIM(url, minUtil=minUtilCount, minSup=minSupCount, sep=separetor)\n",
        "  obj.mine()\n",
        "  #Store the results in the data frame\n",
        "  result.loc[result.shape[0]] = ['HUFIM', minUtilCount, minSupCount, len(obj.getPatterns()), obj.getRuntime(), obj.getMemoryRSS()]\n",
        "\n",
        "# Print the results\n",
        "print(f\"High Utility Frequent patterns were generated successfully using HUFIM algorithm\")\n",
        "print(result)"
      ]
    },
    {
      "cell_type": "markdown",
      "metadata": {
        "id": "iD56o75ZYM8g"
      },
      "source": [
        "##Test case 2 for T10I4D100K Dataset"
      ]
    },
    {
      "cell_type": "code",
      "execution_count": null,
      "metadata": {
        "colab": {
          "base_uri": "https://localhost:8080/"
        },
        "id": "vYp33_iJYtmQ",
        "outputId": "d16585a6-4068-4a38-d39d-81826b8d2aa5"
      },
      "outputs": [
        {
          "output_type": "stream",
          "name": "stdout",
          "text": [
            "High Utility Frequent patterns were generated successfully using HUFIM algorithm\n",
            "High Utility Frequent patterns were generated successfully using HUFIM algorithm\n",
            "High Utility Frequent patterns were generated successfully using HUFIM algorithm\n",
            "High Utility Frequent patterns were generated successfully using HUFIM algorithm\n",
            "High Utility Frequent patterns were generated successfully using HUFIM algorithm\n",
            "High Utility Frequent patterns were generated successfully using HUFIM algorithm\n",
            "  algorithm  minUtilCount  minSup  patterns    runtime     memory\n",
            "0     HUFIM         30000    1000       385  88.074908  233242624\n",
            "1     HUFIM         30000    2000       155  43.996388  233242624\n",
            "2     HUFIM         30000    3000        60  19.662629  233242624\n",
            "3     HUFIM         30000    4000        26  13.106469  233242624\n",
            "4     HUFIM         30000    5000        10   9.362650  237838336\n"
          ]
        }
      ],
      "source": [
        "from PAMI.highUtilityFrequentPattern.basic import HUFIM  as alg\n",
        "import pandas as pd\n",
        "\n",
        "# Set the input parameters\n",
        "inputFile = 'Utility_T10I4D100K.csv'\n",
        "separator = '\\t'\n",
        "minUtilCount = 30000\n",
        "minimumSupportCountList = [1000, 2000, 3000, 4000, 5000]\n",
        "\n",
        "# Initialize a data frame to store the results of HUFIM\n",
        "result = pd.DataFrame(columns=['algorithm', 'minUtilCount', 'minSup', 'patterns', 'runtime', 'memory'])\n",
        "\n",
        "# Execute the algorithm at different minSup values\n",
        "for minSupCount in minimumSupportCountList:\n",
        "    obj = alg.HUFIM(inputFile, minUtil=minUtilCount, minSup=minSupCount, sep=separator)\n",
        "    obj.mine()\n",
        "    # Store the results in the data frame\n",
        "    result.loc[result.shape[0]] = ['HUFIM', minUtilCount, minSupCount, len(obj.getPatterns()), obj.getRuntime(), obj.getMemoryRSS()]\n",
        "\n",
        "# Print the results\n",
        "print(f\"High Utility Frequent patterns were generated successfully using HUFIM algorithm\")\n",
        "print(result)"
      ]
    },
    {
      "cell_type": "markdown",
      "metadata": {
        "id": "a-MknH0yaQge"
      },
      "source": [
        "# Test Cases Retail Dataset"
      ]
    },
    {
      "cell_type": "markdown",
      "metadata": {
        "id": "LHVv3kqHdOvB"
      },
      "source": [
        "##Test case 1 for Retail Dataset"
      ]
    },
    {
      "cell_type": "code",
      "source": [
        "!wget https://u-aizu.ac.jp/~udayrage/datasets/utilityDatabases/Utility_retail.csv"
      ],
      "metadata": {
        "colab": {
          "base_uri": "https://localhost:8080/"
        },
        "id": "ZInnRG7IUBhm",
        "outputId": "baa9ecb5-89ca-4331-cd72-1b12662d5e44"
      },
      "execution_count": null,
      "outputs": [
        {
          "output_type": "stream",
          "name": "stdout",
          "text": [
            "--2024-06-14 15:33:33--  https://u-aizu.ac.jp/~udayrage/datasets/utilityDatabases/Utility_retail.csv\n",
            "Resolving u-aizu.ac.jp (u-aizu.ac.jp)... 150.95.161.176, 150.31.244.160\n",
            "Connecting to u-aizu.ac.jp (u-aizu.ac.jp)|150.95.161.176|:443... connected.\n",
            "HTTP request sent, awaiting response... 200 OK\n",
            "Length: 7163550 (6.8M) [text/csv]\n",
            "Saving to: ‘Utility_retail.csv.1’\n",
            "\n",
            "Utility_retail.csv. 100%[===================>]   6.83M  1.44MB/s    in 5.0s    \n",
            "\n",
            "2024-06-14 15:33:39 (1.38 MB/s) - ‘Utility_retail.csv.1’ saved [7163550/7163550]\n",
            "\n"
          ]
        }
      ]
    },
    {
      "cell_type": "code",
      "execution_count": null,
      "metadata": {
        "colab": {
          "base_uri": "https://localhost:8080/"
        },
        "id": "3y3Vyu5TaGyB",
        "outputId": "de6d573a-bee3-4a99-bdb7-be0d7c7c0eb5"
      },
      "outputs": [
        {
          "output_type": "stream",
          "name": "stdout",
          "text": [
            "High Utility Frequent patterns were generated successfully using HUFIM algorithm\n",
            "High Utility Frequent patterns were generated successfully using HUFIM algorithm\n",
            "High Utility Frequent patterns were generated successfully using HUFIM algorithm\n",
            "High Utility Frequent patterns were generated successfully using HUFIM algorithm\n",
            "High Utility Frequent patterns were generated successfully using HUFIM algorithm\n",
            "High Utility Frequent patterns were generated successfully using HUFIM algorithm\n",
            "  algorithm  minUtilCount  minSup  patterns    runtime     memory\n",
            "0     HUFIM         30000    1000       145  24.031894  399069184\n",
            "1     HUFIM         30000    2000        48  16.785800  401055744\n",
            "2     HUFIM         30000    3000        24  15.397806  401121280\n",
            "3     HUFIM         30000    4000        16  14.253765  401154048\n",
            "4     HUFIM         30000    5000        15  13.221557  401154048\n"
          ]
        }
      ],
      "source": [
        "from PAMI.highUtilityFrequentPattern.basic import HUFIM  as alg\n",
        "import pandas as pd\n",
        "# Set the input parameters\n",
        "URL = 'https://u-aizu.ac.jp/~udayrage/datasets/utilityDatabases/Utility_retail.csv'\n",
        "separator = '\\t'\n",
        "minUtilCount = 30000\n",
        "minimumSupportCountList = [1000, 2000, 3000, 4000, 5000]\n",
        "\n",
        "# Initialize a data frame to store the results of HUFIM\n",
        "result = pd.DataFrame(columns=['algorithm', 'minUtilCount', 'minSup', 'patterns', 'runtime', 'memory'])\n",
        "\n",
        "# Execute the algorithm at different minSup values\n",
        "for minSupCount in minimumSupportCountList:\n",
        "    obj = alg.HUFIM(URL, minUtil=minUtilCount, minSup=minSupCount, sep=separator)\n",
        "    obj.mine()\n",
        "    # Store the results in the data frame\n",
        "    result.loc[result.shape[0]] = ['HUFIM', minUtilCount, minSupCount, len(obj.getPatterns()), obj.getRuntime(), obj.getMemoryRSS()]\n",
        "\n",
        "# Print the results\n",
        "print(f\"High Utility Frequent patterns were generated successfully using HUFIM algorithm\")\n",
        "print(result)"
      ]
    },
    {
      "cell_type": "markdown",
      "metadata": {
        "id": "sBgF2j1pdYFs"
      },
      "source": [
        "##Test case 2 for Retail Dataset"
      ]
    },
    {
      "cell_type": "code",
      "execution_count": null,
      "metadata": {
        "colab": {
          "base_uri": "https://localhost:8080/"
        },
        "id": "b7DjVlh4auoH",
        "outputId": "e89721f1-4c1a-465f-eec6-f2bc88df6efe"
      },
      "outputs": [
        {
          "output_type": "stream",
          "name": "stdout",
          "text": [
            "High Utility Frequent patterns were generated successfully using HUFIM algorithm\n",
            "High Utility Frequent patterns were generated successfully using HUFIM algorithm\n",
            "High Utility Frequent patterns were generated successfully using HUFIM algorithm\n",
            "High Utility Frequent patterns were generated successfully using HUFIM algorithm\n",
            "High Utility Frequent patterns were generated successfully using HUFIM algorithm\n",
            "High Utility Frequent patterns were generated successfully using HUFIM algorithm\n",
            "  algorithm  minUtilCount  minSup  patterns    runtime     memory\n",
            "0     HUFIM         30000    1000       145  21.595549  401424384\n",
            "1     HUFIM         30000    2000        48  12.735965  401965056\n",
            "2     HUFIM         30000    3000        24  10.666248  404668416\n",
            "3     HUFIM         30000    4000        16   9.003537  404668416\n",
            "4     HUFIM         30000    5000        15   9.618778  403111936\n"
          ]
        }
      ],
      "source": [
        "from PAMI.highUtilityFrequentPattern.basic import HUFIM  as alg\n",
        "import pandas as pd\n",
        "\n",
        "# Set the input parameters\n",
        "inputFile = 'Utility_retail.csv'\n",
        "separator = '\\t'\n",
        "minUtilCount = 30000\n",
        "minimumSupportCountList = [1000, 2000, 3000, 4000, 5000]\n",
        "\n",
        "# Initialize a data frame to store the results of HUFIM\n",
        "result = pd.DataFrame(columns=['algorithm', 'minUtilCount', 'minSup', 'patterns', 'runtime', 'memory'])\n",
        "\n",
        "# Execute the algorithm at different k values\n",
        "for minSupCount in minimumSupportCountList:\n",
        "    obj = alg.HUFIM(inputFile, minUtil=minUtilCount, minSup=minSupCount, sep=separator)\n",
        "    obj.mine()\n",
        "    # Store the results in the data frame\n",
        "    result.loc[result.shape[0]] = ['HUFIM', minUtilCount, minSupCount, len(obj.getPatterns()), obj.getRuntime(), obj.getMemoryRSS()]\n",
        "\n",
        "# Print the results\n",
        "print(f\"High Utility Frequent patterns were generated successfully using HUFIM algorithm\")\n",
        "print(result)"
      ]
    },
    {
      "cell_type": "markdown",
      "source": [
        "#Test cases for Cases for T20I6D100K Dataset"
      ],
      "metadata": {
        "id": "KeD7SaWumqtF"
      }
    },
    {
      "cell_type": "code",
      "source": [
        "!wget https://u-aizu.ac.jp/~udayrage/datasets/utilityDatabases/Utility_T20I6D100K.csv"
      ],
      "metadata": {
        "id": "05sKGc1LZIuL",
        "colab": {
          "base_uri": "https://localhost:8080/"
        },
        "outputId": "b75d8d32-f7d5-4323-e0fe-283d8fc4f682"
      },
      "execution_count": 3,
      "outputs": [
        {
          "output_type": "stream",
          "name": "stdout",
          "text": [
            "--2024-06-18 18:44:48--  https://u-aizu.ac.jp/~udayrage/datasets/utilityDatabases/Utility_T20I6D100K.csv\n",
            "Resolving u-aizu.ac.jp (u-aizu.ac.jp)... 150.31.244.160, 150.95.161.176\n",
            "Connecting to u-aizu.ac.jp (u-aizu.ac.jp)|150.31.244.160|:443... connected.\n",
            "HTTP request sent, awaiting response... 200 OK\n",
            "Length: 14063394 (13M) [text/csv]\n",
            "Saving to: ‘Utility_T20I6D100K.csv’\n",
            "\n",
            "Utility_T20I6D100K. 100%[===================>]  13.41M  2.37MB/s    in 11s     \n",
            "\n",
            "2024-06-18 18:45:01 (1.19 MB/s) - ‘Utility_T20I6D100K.csv’ saved [14063394/14063394]\n",
            "\n"
          ]
        }
      ]
    },
    {
      "cell_type": "markdown",
      "source": [
        "##Test case 1 for for T20I6D100K Dataset"
      ],
      "metadata": {
        "id": "da56zuMBraIC"
      }
    },
    {
      "cell_type": "code",
      "source": [
        "from PAMI.highUtilityFrequentPattern.basic import HUFIM  as alg\n",
        "import pandas as pd\n",
        "# Set the input parameters\n",
        "URL = 'https://u-aizu.ac.jp/~udayrage/datasets/utilityDatabases/Utility_T20I6D100K.csv'\n",
        "separator = '\\t'\n",
        "minUtilCount = 30000\n",
        "minimumSupportCountList = [5000, 6000, 7000, 8000]\n",
        "\n",
        "# Initialize a data frame to store the results of HUFIM\n",
        "result = pd.DataFrame(columns=['algorithm', 'minUtilCount', 'minSup', 'patterns', 'runtime', 'memory'])\n",
        "\n",
        "# Execute the algorithm at different minSup values\n",
        "for minSupCount in minimumSupportCountList:\n",
        "    obj = alg.HUFIM(URL, minUtil=minUtilCount, minSup=minSupCount, sep=separator)\n",
        "    obj.mine()\n",
        "    # Store the results in the data frame\n",
        "    result.loc[result.shape[0]] = ['HUFIM', minUtilCount, minSupCount, len(obj.getPatterns()), obj.getRuntime(), obj.getMemoryRSS()]\n",
        "\n",
        "# Print the results\n",
        "print(f\"High Utility Frequent patterns were generated successfully using HUFIM algorithm\")\n",
        "print(result)"
      ],
      "metadata": {
        "colab": {
          "base_uri": "https://localhost:8080/"
        },
        "id": "g8GLzPLPnf5M",
        "outputId": "894d57b8-1731-4de2-9e07-e89136020415"
      },
      "execution_count": 7,
      "outputs": [
        {
          "output_type": "stream",
          "name": "stdout",
          "text": [
            "High Utility Frequent patterns were generated successfully using HUFIM algorithm\n",
            "High Utility Frequent patterns were generated successfully using HUFIM algorithm\n",
            "High Utility Frequent patterns were generated successfully using HUFIM algorithm\n",
            "High Utility Frequent patterns were generated successfully using HUFIM algorithm\n",
            "High Utility Frequent patterns were generated successfully using HUFIM algorithm\n",
            "  algorithm  minUtilCount  minSup  patterns    runtime     memory\n",
            "0     HUFIM         30000    5000        99  57.782517  256991232\n",
            "1     HUFIM         30000    6000        60  39.223279  257531904\n",
            "2     HUFIM         30000    7000        34  27.703682  257531904\n",
            "3     HUFIM         30000    8000        23  24.800584  257531904\n"
          ]
        }
      ]
    },
    {
      "cell_type": "markdown",
      "source": [
        "##Test case 2 for for T20I6D100K Dataset"
      ],
      "metadata": {
        "id": "tev-TgTgsF3r"
      }
    },
    {
      "cell_type": "code",
      "source": [
        "from PAMI.highUtilityFrequentPattern.basic import HUFIM  as alg\n",
        "import pandas as pd\n",
        "# Set the input parameters\n",
        "inputFile = 'Utility_T20I6D100K.csv'\n",
        "separator = '\\t'\n",
        "minUtilCount = 30000\n",
        "minimumSupportCountList = [5000, 6000, 7000, 8000]\n",
        "\n",
        "# Initialize a data frame to store the results of HUFIM\n",
        "result = pd.DataFrame(columns=['algorithm', 'minUtilCount', 'minSup', 'patterns', 'runtime', 'memory'])\n",
        "\n",
        "# Execute the algorithm at different minSup values\n",
        "for minSupCount in minimumSupportCountList:\n",
        "    obj = alg.HUFIM(inputFile, minUtil=minUtilCount, minSup=minSupCount, sep=separator)\n",
        "    obj.mine()\n",
        "    # Store the results in the data frame\n",
        "    result.loc[result.shape[0]] = ['HUFIM', minUtilCount, minSupCount, len(obj.getPatterns()), obj.getRuntime(), obj.getMemoryRSS()]\n",
        "\n",
        "# Print the results\n",
        "print(f\"High Utility Frequent patterns were generated successfully using HUFIM algorithm\")\n",
        "print(result)"
      ],
      "metadata": {
        "colab": {
          "base_uri": "https://localhost:8080/"
        },
        "id": "exPhTZPFrRfm",
        "outputId": "9ac41a93-8b62-4103-dbd3-f464dd6fd2a8"
      },
      "execution_count": 8,
      "outputs": [
        {
          "output_type": "stream",
          "name": "stdout",
          "text": [
            "High Utility Frequent patterns were generated successfully using HUFIM algorithm\n",
            "High Utility Frequent patterns were generated successfully using HUFIM algorithm\n",
            "High Utility Frequent patterns were generated successfully using HUFIM algorithm\n",
            "High Utility Frequent patterns were generated successfully using HUFIM algorithm\n",
            "High Utility Frequent patterns were generated successfully using HUFIM algorithm\n",
            "  algorithm  minUtilCount  minSup  patterns    runtime     memory\n",
            "0     HUFIM         30000    5000        99  50.059243  258072576\n",
            "1     HUFIM         30000    6000        60  32.501155  258613248\n",
            "2     HUFIM         30000    7000        34  21.265333  258613248\n",
            "3     HUFIM         30000    8000        23  15.885346  258613248\n"
          ]
        }
      ]
    },
    {
      "cell_type": "code",
      "source": [],
      "metadata": {
        "id": "Jmpd_egcrsKV"
      },
      "execution_count": null,
      "outputs": []
    }
  ],
  "metadata": {
    "colab": {
      "provenance": []
    },
    "kernelspec": {
      "display_name": "Python 3",
      "name": "python3"
    },
    "language_info": {
      "name": "python"
    }
  },
  "nbformat": 4,
  "nbformat_minor": 0
}