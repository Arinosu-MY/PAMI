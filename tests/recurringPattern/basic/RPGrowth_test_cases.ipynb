{
  "nbformat": 4,
  "nbformat_minor": 0,
  "metadata": {
    "colab": {
      "provenance": []
    },
    "kernelspec": {
      "name": "python3",
      "display_name": "Python 3"
    },
    "language_info": {
      "name": "python"
    }
  },
  "cells": [
    {
      "cell_type": "code",
      "execution_count": 3,
      "metadata": {
        "colab": {
          "base_uri": "https://localhost:8080/"
        },
        "id": "5mzNbFYZEZIE",
        "outputId": "cb503c94-2887-4bd5-bc8e-4a21453fded3"
      },
      "outputs": [
        {
          "output_type": "stream",
          "name": "stdout",
          "text": [
            "Collecting pami\n",
            "  Downloading pami-2024.6.18.1-py3-none-any.whl (1.0 MB)\n",
            "\u001b[?25l     \u001b[90m━━━━━━━━━━━━━━━━━━━━━━━━━━━━━━━━━━━━━━━━\u001b[0m \u001b[32m0.0/1.0 MB\u001b[0m \u001b[31m?\u001b[0m eta \u001b[36m-:--:--\u001b[0m\r\u001b[2K     \u001b[91m━━━\u001b[0m\u001b[91m╸\u001b[0m\u001b[90m━━━━━━━━━━━━━━━━━━━━━━━━━━━━━━━━━━━━\u001b[0m \u001b[32m0.1/1.0 MB\u001b[0m \u001b[31m2.6 MB/s\u001b[0m eta \u001b[36m0:00:01\u001b[0m\r\u001b[2K     \u001b[91m━━━━━━━━━━━━━━━━━━━━━\u001b[0m\u001b[91m╸\u001b[0m\u001b[90m━━━━━━━━━━━━━━━━━━\u001b[0m \u001b[32m0.6/1.0 MB\u001b[0m \u001b[31m8.0 MB/s\u001b[0m eta \u001b[36m0:00:01\u001b[0m\r\u001b[2K     \u001b[91m━━━━━━━━━━━━━━━━━━━━━━━━━━━━━━━━━━━━━━━\u001b[0m\u001b[91m╸\u001b[0m \u001b[32m1.0/1.0 MB\u001b[0m \u001b[31m10.0 MB/s\u001b[0m eta \u001b[36m0:00:01\u001b[0m\r\u001b[2K     \u001b[90m━━━━━━━━━━━━━━━━━━━━━━━━━━━━━━━━━━━━━━━━\u001b[0m \u001b[32m1.0/1.0 MB\u001b[0m \u001b[31m8.2 MB/s\u001b[0m eta \u001b[36m0:00:00\u001b[0m\n",
            "\u001b[?25hRequirement already satisfied: psutil in /usr/local/lib/python3.10/dist-packages (from pami) (5.9.5)\n",
            "Requirement already satisfied: pandas in /usr/local/lib/python3.10/dist-packages (from pami) (2.0.3)\n",
            "Requirement already satisfied: plotly in /usr/local/lib/python3.10/dist-packages (from pami) (5.15.0)\n",
            "Requirement already satisfied: matplotlib in /usr/local/lib/python3.10/dist-packages (from pami) (3.7.1)\n",
            "Collecting resource (from pami)\n",
            "  Downloading Resource-0.2.1-py2.py3-none-any.whl (25 kB)\n",
            "Collecting validators (from pami)\n",
            "  Downloading validators-0.28.3-py3-none-any.whl (40 kB)\n",
            "\u001b[?25l     \u001b[90m━━━━━━━━━━━━━━━━━━━━━━━━━━━━━━━━━━━━━━━━\u001b[0m \u001b[32m0.0/40.0 kB\u001b[0m \u001b[31m?\u001b[0m eta \u001b[36m-:--:--\u001b[0m\r\u001b[2K     \u001b[90m━━━━━━━━━━━━━━━━━━━━━━━━━━━━━━━━━━━━━━━━\u001b[0m \u001b[32m40.0/40.0 kB\u001b[0m \u001b[31m3.3 MB/s\u001b[0m eta \u001b[36m0:00:00\u001b[0m\n",
            "\u001b[?25hRequirement already satisfied: urllib3 in /usr/local/lib/python3.10/dist-packages (from pami) (2.0.7)\n",
            "Requirement already satisfied: Pillow in /usr/local/lib/python3.10/dist-packages (from pami) (9.4.0)\n",
            "Requirement already satisfied: numpy in /usr/local/lib/python3.10/dist-packages (from pami) (1.25.2)\n",
            "Requirement already satisfied: sphinx in /usr/local/lib/python3.10/dist-packages (from pami) (5.0.2)\n",
            "Collecting sphinx-rtd-theme (from pami)\n",
            "  Downloading sphinx_rtd_theme-2.0.0-py2.py3-none-any.whl (2.8 MB)\n",
            "\u001b[?25l     \u001b[90m━━━━━━━━━━━━━━━━━━━━━━━━━━━━━━━━━━━━━━━━\u001b[0m \u001b[32m0.0/2.8 MB\u001b[0m \u001b[31m?\u001b[0m eta \u001b[36m-:--:--\u001b[0m\r\u001b[2K     \u001b[91m━━━━━━━━\u001b[0m\u001b[90m╺\u001b[0m\u001b[90m━━━━━━━━━━━━━━━━━━━━━━━━━━━━━━━\u001b[0m \u001b[32m0.6/2.8 MB\u001b[0m \u001b[31m18.5 MB/s\u001b[0m eta \u001b[36m0:00:01\u001b[0m\r\u001b[2K     \u001b[91m━━━━━━━━━━━━━━━━━━\u001b[0m\u001b[91m╸\u001b[0m\u001b[90m━━━━━━━━━━━━━━━━━━━━━\u001b[0m \u001b[32m1.3/2.8 MB\u001b[0m \u001b[31m18.9 MB/s\u001b[0m eta \u001b[36m0:00:01\u001b[0m\r\u001b[2K     \u001b[91m━━━━━━━━━━━━━━━━━━━━━━━━━━━━━━━\u001b[0m\u001b[90m╺\u001b[0m\u001b[90m━━━━━━━━\u001b[0m \u001b[32m2.2/2.8 MB\u001b[0m \u001b[31m20.6 MB/s\u001b[0m eta \u001b[36m0:00:01\u001b[0m\r\u001b[2K     \u001b[91m━━━━━━━━━━━━━━━━━━━━━━━━━━━━━━━━━━━━━━━\u001b[0m\u001b[91m╸\u001b[0m \u001b[32m2.8/2.8 MB\u001b[0m \u001b[31m22.0 MB/s\u001b[0m eta \u001b[36m0:00:01\u001b[0m\r\u001b[2K     \u001b[90m━━━━━━━━━━━━━━━━━━━━━━━━━━━━━━━━━━━━━━━━\u001b[0m \u001b[32m2.8/2.8 MB\u001b[0m \u001b[31m17.5 MB/s\u001b[0m eta \u001b[36m0:00:00\u001b[0m\n",
            "\u001b[?25hCollecting discord.py (from pami)\n",
            "  Downloading discord.py-2.3.2-py3-none-any.whl (1.1 MB)\n",
            "\u001b[?25l     \u001b[90m━━━━━━━━━━━━━━━━━━━━━━━━━━━━━━━━━━━━━━━━\u001b[0m \u001b[32m0.0/1.1 MB\u001b[0m \u001b[31m?\u001b[0m eta \u001b[36m-:--:--\u001b[0m\r\u001b[2K     \u001b[91m━━━━━━━━━━━━━━━━━━━━━━━━━━━━━━━━━━━━━━━\u001b[0m\u001b[91m╸\u001b[0m \u001b[32m1.1/1.1 MB\u001b[0m \u001b[31m36.8 MB/s\u001b[0m eta \u001b[36m0:00:01\u001b[0m\r\u001b[2K     \u001b[90m━━━━━━━━━━━━━━━━━━━━━━━━━━━━━━━━━━━━━━━━\u001b[0m \u001b[32m1.1/1.1 MB\u001b[0m \u001b[31m21.8 MB/s\u001b[0m eta \u001b[36m0:00:00\u001b[0m\n",
            "\u001b[?25hRequirement already satisfied: networkx in /usr/local/lib/python3.10/dist-packages (from pami) (3.3)\n",
            "Collecting deprecated (from pami)\n",
            "  Downloading Deprecated-1.2.14-py2.py3-none-any.whl (9.6 kB)\n",
            "Requirement already satisfied: wrapt<2,>=1.10 in /usr/local/lib/python3.10/dist-packages (from deprecated->pami) (1.14.1)\n",
            "Requirement already satisfied: aiohttp<4,>=3.7.4 in /usr/local/lib/python3.10/dist-packages (from discord.py->pami) (3.9.5)\n",
            "Requirement already satisfied: contourpy>=1.0.1 in /usr/local/lib/python3.10/dist-packages (from matplotlib->pami) (1.2.1)\n",
            "Requirement already satisfied: cycler>=0.10 in /usr/local/lib/python3.10/dist-packages (from matplotlib->pami) (0.12.1)\n",
            "Requirement already satisfied: fonttools>=4.22.0 in /usr/local/lib/python3.10/dist-packages (from matplotlib->pami) (4.53.0)\n",
            "Requirement already satisfied: kiwisolver>=1.0.1 in /usr/local/lib/python3.10/dist-packages (from matplotlib->pami) (1.4.5)\n",
            "Requirement already satisfied: packaging>=20.0 in /usr/local/lib/python3.10/dist-packages (from matplotlib->pami) (24.1)\n",
            "Requirement already satisfied: pyparsing>=2.3.1 in /usr/local/lib/python3.10/dist-packages (from matplotlib->pami) (3.1.2)\n",
            "Requirement already satisfied: python-dateutil>=2.7 in /usr/local/lib/python3.10/dist-packages (from matplotlib->pami) (2.8.2)\n",
            "Requirement already satisfied: pytz>=2020.1 in /usr/local/lib/python3.10/dist-packages (from pandas->pami) (2023.4)\n",
            "Requirement already satisfied: tzdata>=2022.1 in /usr/local/lib/python3.10/dist-packages (from pandas->pami) (2024.1)\n",
            "Requirement already satisfied: tenacity>=6.2.0 in /usr/local/lib/python3.10/dist-packages (from plotly->pami) (8.3.0)\n",
            "Collecting JsonForm>=0.0.2 (from resource->pami)\n",
            "  Downloading JsonForm-0.0.2.tar.gz (2.4 kB)\n",
            "  Preparing metadata (setup.py) ... \u001b[?25l\u001b[?25hdone\n",
            "Collecting JsonSir>=0.0.2 (from resource->pami)\n",
            "  Downloading JsonSir-0.0.2.tar.gz (2.2 kB)\n",
            "  Preparing metadata (setup.py) ... \u001b[?25l\u001b[?25hdone\n",
            "Collecting python-easyconfig>=0.1.0 (from resource->pami)\n",
            "  Downloading Python_EasyConfig-0.1.7-py2.py3-none-any.whl (5.4 kB)\n",
            "Requirement already satisfied: sphinxcontrib-applehelp in /usr/local/lib/python3.10/dist-packages (from sphinx->pami) (1.0.8)\n",
            "Requirement already satisfied: sphinxcontrib-devhelp in /usr/local/lib/python3.10/dist-packages (from sphinx->pami) (1.0.6)\n",
            "Requirement already satisfied: sphinxcontrib-jsmath in /usr/local/lib/python3.10/dist-packages (from sphinx->pami) (1.0.1)\n",
            "Requirement already satisfied: sphinxcontrib-htmlhelp>=2.0.0 in /usr/local/lib/python3.10/dist-packages (from sphinx->pami) (2.0.5)\n",
            "Requirement already satisfied: sphinxcontrib-serializinghtml>=1.1.5 in /usr/local/lib/python3.10/dist-packages (from sphinx->pami) (1.1.10)\n",
            "Requirement already satisfied: sphinxcontrib-qthelp in /usr/local/lib/python3.10/dist-packages (from sphinx->pami) (1.0.7)\n",
            "Requirement already satisfied: Jinja2>=2.3 in /usr/local/lib/python3.10/dist-packages (from sphinx->pami) (3.1.4)\n",
            "Requirement already satisfied: Pygments>=2.0 in /usr/local/lib/python3.10/dist-packages (from sphinx->pami) (2.16.1)\n",
            "Requirement already satisfied: docutils<0.19,>=0.14 in /usr/local/lib/python3.10/dist-packages (from sphinx->pami) (0.18.1)\n",
            "Requirement already satisfied: snowballstemmer>=1.1 in /usr/local/lib/python3.10/dist-packages (from sphinx->pami) (2.2.0)\n",
            "Requirement already satisfied: babel>=1.3 in /usr/local/lib/python3.10/dist-packages (from sphinx->pami) (2.15.0)\n",
            "Requirement already satisfied: alabaster<0.8,>=0.7 in /usr/local/lib/python3.10/dist-packages (from sphinx->pami) (0.7.16)\n",
            "Requirement already satisfied: imagesize in /usr/local/lib/python3.10/dist-packages (from sphinx->pami) (1.4.1)\n",
            "Requirement already satisfied: requests>=2.5.0 in /usr/local/lib/python3.10/dist-packages (from sphinx->pami) (2.31.0)\n",
            "Collecting sphinxcontrib-jquery<5,>=4 (from sphinx-rtd-theme->pami)\n",
            "  Downloading sphinxcontrib_jquery-4.1-py2.py3-none-any.whl (121 kB)\n",
            "\u001b[2K     \u001b[90m━━━━━━━━━━━━━━━━━━━━━━━━━━━━━━━━━━━━━━━━\u001b[0m \u001b[32m121.1/121.1 kB\u001b[0m \u001b[31m13.6 MB/s\u001b[0m eta \u001b[36m0:00:00\u001b[0m\n",
            "\u001b[?25hRequirement already satisfied: aiosignal>=1.1.2 in /usr/local/lib/python3.10/dist-packages (from aiohttp<4,>=3.7.4->discord.py->pami) (1.3.1)\n",
            "Requirement already satisfied: attrs>=17.3.0 in /usr/local/lib/python3.10/dist-packages (from aiohttp<4,>=3.7.4->discord.py->pami) (23.2.0)\n",
            "Requirement already satisfied: frozenlist>=1.1.1 in /usr/local/lib/python3.10/dist-packages (from aiohttp<4,>=3.7.4->discord.py->pami) (1.4.1)\n",
            "Requirement already satisfied: multidict<7.0,>=4.5 in /usr/local/lib/python3.10/dist-packages (from aiohttp<4,>=3.7.4->discord.py->pami) (6.0.5)\n",
            "Requirement already satisfied: yarl<2.0,>=1.0 in /usr/local/lib/python3.10/dist-packages (from aiohttp<4,>=3.7.4->discord.py->pami) (1.9.4)\n",
            "Requirement already satisfied: async-timeout<5.0,>=4.0 in /usr/local/lib/python3.10/dist-packages (from aiohttp<4,>=3.7.4->discord.py->pami) (4.0.3)\n",
            "Requirement already satisfied: MarkupSafe>=2.0 in /usr/local/lib/python3.10/dist-packages (from Jinja2>=2.3->sphinx->pami) (2.1.5)\n",
            "Requirement already satisfied: jsonschema in /usr/local/lib/python3.10/dist-packages (from JsonForm>=0.0.2->resource->pami) (4.19.2)\n",
            "Requirement already satisfied: six>=1.5 in /usr/local/lib/python3.10/dist-packages (from python-dateutil>=2.7->matplotlib->pami) (1.16.0)\n",
            "Requirement already satisfied: PyYAML in /usr/local/lib/python3.10/dist-packages (from python-easyconfig>=0.1.0->resource->pami) (6.0.1)\n",
            "Requirement already satisfied: charset-normalizer<4,>=2 in /usr/local/lib/python3.10/dist-packages (from requests>=2.5.0->sphinx->pami) (3.3.2)\n",
            "Requirement already satisfied: idna<4,>=2.5 in /usr/local/lib/python3.10/dist-packages (from requests>=2.5.0->sphinx->pami) (3.7)\n",
            "Requirement already satisfied: certifi>=2017.4.17 in /usr/local/lib/python3.10/dist-packages (from requests>=2.5.0->sphinx->pami) (2024.6.2)\n",
            "Requirement already satisfied: jsonschema-specifications>=2023.03.6 in /usr/local/lib/python3.10/dist-packages (from jsonschema->JsonForm>=0.0.2->resource->pami) (2023.12.1)\n",
            "Requirement already satisfied: referencing>=0.28.4 in /usr/local/lib/python3.10/dist-packages (from jsonschema->JsonForm>=0.0.2->resource->pami) (0.35.1)\n",
            "Requirement already satisfied: rpds-py>=0.7.1 in /usr/local/lib/python3.10/dist-packages (from jsonschema->JsonForm>=0.0.2->resource->pami) (0.18.1)\n",
            "Building wheels for collected packages: JsonForm, JsonSir\n",
            "  Building wheel for JsonForm (setup.py) ... \u001b[?25l\u001b[?25hdone\n",
            "  Created wheel for JsonForm: filename=JsonForm-0.0.2-py3-none-any.whl size=3314 sha256=588a142fda2b0439ef2de9c1daa910c4d06d4d8739df0fc8551abc9058c4b12a\n",
            "  Stored in directory: /root/.cache/pip/wheels/b6/e5/87/11026246d3bd4ad67c0615682d2d6748bbd9a40ac0490882bd\n",
            "  Building wheel for JsonSir (setup.py) ... \u001b[?25l\u001b[?25hdone\n",
            "  Created wheel for JsonSir: filename=JsonSir-0.0.2-py3-none-any.whl size=4752 sha256=d04b7a611e9a5a6c7f343e9c0c6828e731b2971c4841f9fcc6e1ee79a7652fd2\n",
            "  Stored in directory: /root/.cache/pip/wheels/1d/4c/d3/4d9757425983b43eb709be1043d82cd03fb863ce5f56f117e6\n",
            "Successfully built JsonForm JsonSir\n",
            "Installing collected packages: JsonSir, validators, python-easyconfig, deprecated, sphinxcontrib-jquery, discord.py, sphinx-rtd-theme, JsonForm, resource, pami\n",
            "Successfully installed JsonForm-0.0.2 JsonSir-0.0.2 deprecated-1.2.14 discord.py-2.3.2 pami-2024.6.18.1 python-easyconfig-0.1.7 resource-0.2.1 sphinx-rtd-theme-2.0.0 sphinxcontrib-jquery-4.1 validators-0.28.3\n"
          ]
        }
      ],
      "source": [
        "!pip install -U pami\n"
      ]
    },
    {
      "cell_type": "code",
      "source": [
        "!wget -nc https://u-aizu.ac.jp/~udayrage/datasets/temporalDatabases/Temporal_T10I4D100K.csv #download a sample temporal database\n"
      ],
      "metadata": {
        "colab": {
          "base_uri": "https://localhost:8080/"
        },
        "id": "lQAxfTgfJr-_",
        "outputId": "34ef1192-1843-498c-eb2c-9bcaa7593dc6"
      },
      "execution_count": null,
      "outputs": [
        {
          "output_type": "stream",
          "name": "stdout",
          "text": [
            "File ‘Temporal_T10I4D100K.csv’ already there; not retrieving.\n",
            "\n"
          ]
        }
      ]
    },
    {
      "cell_type": "markdown",
      "source": [
        "# Test Cases for T10I4D100K Dataset"
      ],
      "metadata": {
        "id": "rY9Qy736Erg9"
      }
    },
    {
      "cell_type": "markdown",
      "source": [
        "## Test Case1 for T10I4D100K Dataset\n",
        "\n",
        "> Add blockquote\n",
        "\n"
      ],
      "metadata": {
        "id": "4H2G-ohlE3NU"
      }
    },
    {
      "cell_type": "code",
      "source": [
        "from PAMI.recurringPattern.basic import RPGrowth as alg\n",
        "import pandas as pd\n",
        "# Set the input parameters\n",
        "URL = 'https://u-aizu.ac.jp/~udayrage/datasets/temporalDatabases/Temporal_T10I4D100K.csv'\n",
        "separator = '\\t'\n",
        "maximumPeriodCount = 5000\n",
        "minRec = 1.8\n",
        "minimumSupportCountList = [100, 200, 300, 400, 500]\n",
        "\n",
        "# Initialize a data frame to store the results of  RPGrowth\n",
        "result = pd.DataFrame(columns=['algorithm', 'minSup','maximumPeriodCount', 'minRec', 'patterns', 'runtime', 'memory'])\n",
        "\n",
        "# Execute the algorithm at different minSup values\n",
        "for minSupCount in minimumSupportCountList:\n",
        "    obj = alg.RPGrowth(URL, minPS=minSupCount,maxPer=maximumPeriodCount, minRec=minRec, sep=separator)\n",
        "    obj.Mine()\n",
        "    # Store the results in the data frame\n",
        "    result.loc[result.shape[0]] = ['RPGrowth', minSupCount,maximumPeriodCount, minRec, len(obj.getPatterns()), obj.getRuntime(), obj.getMemoryRSS()]\n",
        "\n",
        "# Print the results\n",
        "print(f\"Frequent patterns were generated successfully using RPGrowth algorithm\")\n",
        "\n",
        "print(result)"
      ],
      "metadata": {
        "colab": {
          "base_uri": "https://localhost:8080/"
        },
        "id": "p-afjpimHDPd",
        "outputId": "e442255d-8ffe-439c-eb90-cdbb3a3bdf2e"
      },
      "execution_count": null,
      "outputs": [
        {
          "output_type": "stream",
          "name": "stdout",
          "text": [
            "Recurring patterns were generated successfully using RPGrowth algorithm \n",
            "Recurring patterns were generated successfully using RPGrowth algorithm \n",
            "Recurring patterns were generated successfully using RPGrowth algorithm \n",
            "Recurring patterns were generated successfully using RPGrowth algorithm \n",
            "Recurring patterns were generated successfully using RPGrowth algorithm \n",
            "Frequent patterns were generated successfully using RPGrowth algorithm\n",
            "  algorithm  minSup  maximumPeriodCount  minRec  patterns    runtime  \\\n",
            "0  RPGrowth     100                5000     1.8     25955  27.555516   \n",
            "1  RPGrowth     200                5000     1.8     13232  25.950279   \n",
            "2  RPGrowth     300                5000     1.8      4529  22.560969   \n",
            "3  RPGrowth     400                5000     1.8      1999  22.279131   \n",
            "4  RPGrowth     500                5000     1.8      1072  22.142859   \n",
            "\n",
            "      memory  \n",
            "0  635256832  \n",
            "1  626528256  \n",
            "2  617250816  \n",
            "3  606048256  \n",
            "4  593371136  \n"
          ]
        }
      ]
    },
    {
      "cell_type": "markdown",
      "source": [
        "## Test Case2 for T10I4D100K Dataset"
      ],
      "metadata": {
        "id": "jaO-2CnBHHib"
      }
    },
    {
      "cell_type": "code",
      "source": [
        "from PAMI.recurringPattern.basic import RPGrowth as alg\n",
        "import pandas as pd\n",
        "# Set the input parameters\n",
        "URL = '/content/Temporal_T10I4D100K.csv'\n",
        "separator = '\\t'\n",
        "maximumPeriodCount = 5000\n",
        "minRec = 1.8\n",
        "minimumSupportCountList = [100, 200, 300, 400, 500]\n",
        "\n",
        "# Initialize a data frame to store the results of  RPGrowth\n",
        "result = pd.DataFrame(columns=['algorithm', 'minSup','maximumPeriodCount', 'minRec', 'patterns', 'runtime', 'memory'])\n",
        "\n",
        "# Execute the algorithm at different minSup values\n",
        "for minSupCount in minimumSupportCountList:\n",
        "    obj = alg.RPGrowth(URL, minPS=minSupCount,maxPer=maximumPeriodCount, minRec=minRec, sep=separator)\n",
        "    obj.Mine()\n",
        "    # Store the results in the data frame\n",
        "    result.loc[result.shape[0]] = ['RPGrowth', minSupCount,maximumPeriodCount, minRec, len(obj.getPatterns()), obj.getRuntime(), obj.getMemoryRSS()]\n",
        "\n",
        "# Print the results\n",
        "print(f\"Frequent patterns were generated successfully using RPGrowth algorithm\")\n",
        "\n",
        "print(result)"
      ],
      "metadata": {
        "colab": {
          "base_uri": "https://localhost:8080/"
        },
        "id": "PQnTyS5oHMlZ",
        "outputId": "b84dfc2f-58d5-440c-de61-a64500601e51"
      },
      "execution_count": null,
      "outputs": [
        {
          "output_type": "stream",
          "name": "stdout",
          "text": [
            "Recurring patterns were generated successfully using RPGrowth algorithm \n",
            "Recurring patterns were generated successfully using RPGrowth algorithm \n",
            "Recurring patterns were generated successfully using RPGrowth algorithm \n",
            "Recurring patterns were generated successfully using RPGrowth algorithm \n",
            "Recurring patterns were generated successfully using RPGrowth algorithm \n",
            "Frequent patterns were generated successfully using RPGrowth algorithm\n",
            "  algorithm  minSup  maximumPeriodCount  minRec  patterns    runtime  \\\n",
            "0  RPGrowth     100                5000     1.8     25955  23.711461   \n",
            "1  RPGrowth     200                5000     1.8     13232  22.735668   \n",
            "2  RPGrowth     300                5000     1.8      4529  18.272834   \n",
            "3  RPGrowth     400                5000     1.8      1999  19.062001   \n",
            "4  RPGrowth     500                5000     1.8      1072  15.465954   \n",
            "\n",
            "      memory  \n",
            "0  636108800  \n",
            "1  626561024  \n",
            "2  617000960  \n",
            "3  606081024  \n",
            "4  593408000  \n"
          ]
        }
      ]
    },
    {
      "cell_type": "code",
      "source": [
        "!wget -nc https://u-aizu.ac.jp/~udayrage/datasets/temporalDatabases/Temporal_retail.csv #download a sample temporal database\n"
      ],
      "metadata": {
        "id": "QDF-l3emOfI4",
        "outputId": "8b9dc4fe-d19f-4d53-939b-d4164be53461",
        "colab": {
          "base_uri": "https://localhost:8080/"
        }
      },
      "execution_count": 1,
      "outputs": [
        {
          "output_type": "stream",
          "name": "stdout",
          "text": [
            "--2024-06-18 02:43:24--  https://u-aizu.ac.jp/~udayrage/datasets/temporalDatabases/Temporal_retail.csv\n",
            "Resolving u-aizu.ac.jp (u-aizu.ac.jp)... 150.95.161.176, 150.31.244.160\n",
            "Connecting to u-aizu.ac.jp (u-aizu.ac.jp)|150.95.161.176|:443... connected.\n",
            "HTTP request sent, awaiting response... 200 OK\n",
            "Length: 4677834 (4.5M) [text/csv]\n",
            "Saving to: ‘Temporal_retail.csv’\n",
            "\n",
            "Temporal_retail.csv 100%[===================>]   4.46M  1.03MB/s    in 4.3s    \n",
            "\n",
            "2024-06-18 02:43:29 (1.03 MB/s) - ‘Temporal_retail.csv’ saved [4677834/4677834]\n",
            "\n"
          ]
        }
      ]
    },
    {
      "cell_type": "markdown",
      "source": [
        "## Test Case1 for Retail Dataset"
      ],
      "metadata": {
        "id": "YnOyen1fJYHg"
      }
    },
    {
      "cell_type": "code",
      "source": [
        "from PAMI.recurringPattern.basic import RPGrowth as alg\n",
        "import pandas as pd\n",
        "# Set the input parameters\n",
        "URL = 'https://u-aizu.ac.jp/~udayrage/datasets/temporalDatabases/Temporal_retail.csv'\n",
        "separator = '\\t'\n",
        "maximumPeriodCount = 5000\n",
        "minRec = 1.8\n",
        "minimumSupportCountList = [100, 200, 300, 400, 500]\n",
        "\n",
        "# Initialize a data frame to store the results of  RPGrowth\n",
        "result = pd.DataFrame(columns=['algorithm', 'minSup','maximumPeriodCount', 'minRec', 'patterns', 'runtime', 'memory'])\n",
        "\n",
        "# Execute the algorithm at different minSup values\n",
        "for minSupCount in minimumSupportCountList:\n",
        "    obj = alg.RPGrowth(URL, minPS=minSupCount,maxPer=maximumPeriodCount, minRec=minRec, sep=separator)\n",
        "    obj.Mine()\n",
        "    # Store the results in the data frame\n",
        "    result.loc[result.shape[0]] = ['RPGrowth', minSupCount,maximumPeriodCount, minRec, len(obj.getPatterns()), obj.getRuntime(), obj.getMemoryRSS()]\n",
        "\n",
        "# Print the results\n",
        "print(f\"Frequent patterns were generated successfully using RPGrowth algorithm\")\n",
        "\n",
        "print(result)"
      ],
      "metadata": {
        "id": "1SSMbXEKJcE8",
        "outputId": "d9ad1896-7700-4d03-e1f3-47131714b6c4",
        "colab": {
          "base_uri": "https://localhost:8080/"
        }
      },
      "execution_count": 4,
      "outputs": [
        {
          "output_type": "stream",
          "name": "stdout",
          "text": [
            "Recurring patterns were generated successfully using RPGrowth algorithm \n",
            "Recurring patterns were generated successfully using RPGrowth algorithm \n",
            "Recurring patterns were generated successfully using RPGrowth algorithm \n",
            "Recurring patterns were generated successfully using RPGrowth algorithm \n",
            "Recurring patterns were generated successfully using RPGrowth algorithm \n",
            "Frequent patterns were generated successfully using RPGrowth algorithm\n",
            "  algorithm  minSup  maximumPeriodCount  minRec  patterns    runtime  \\\n",
            "0  RPGrowth     100                5000     1.8      5374  23.420660   \n",
            "1  RPGrowth     200                5000     1.8      2000  15.282454   \n",
            "2  RPGrowth     300                5000     1.8      1055  13.305225   \n",
            "3  RPGrowth     400                5000     1.8       645  11.831031   \n",
            "4  RPGrowth     500                5000     1.8       431  11.232613   \n",
            "\n",
            "      memory  \n",
            "0  437764096  \n",
            "1  373813248  \n",
            "2  332705792  \n",
            "3  312356864  \n",
            "4  296951808  \n"
          ]
        }
      ]
    },
    {
      "cell_type": "markdown",
      "source": [
        "## Test Case2 for Retail Dataset"
      ],
      "metadata": {
        "id": "J59gv19hQP5S"
      }
    },
    {
      "cell_type": "code",
      "source": [
        "from PAMI.recurringPattern.basic import RPGrowth as alg\n",
        "import pandas as pd\n",
        "# Set the input parameters\n",
        "URL = '/content/Temporal_retail.csv'\n",
        "separator = '\\t'\n",
        "maximumPeriodCount = 5000\n",
        "minRec = 1.8\n",
        "minimumSupportCountList = [100, 200, 300, 400, 500]\n",
        "\n",
        "# Initialize a data frame to store the results of  RPGrowth\n",
        "result = pd.DataFrame(columns=['algorithm', 'minSup','maximumPeriodCount', 'minRec', 'patterns', 'runtime', 'memory'])\n",
        "\n",
        "# Execute the algorithm at different minSup values\n",
        "for minSupCount in minimumSupportCountList:\n",
        "    obj = alg.RPGrowth(URL, minPS=minSupCount,maxPer=maximumPeriodCount, minRec=minRec, sep=separator)\n",
        "    obj.Mine()\n",
        "    # Store the results in the data frame\n",
        "    result.loc[result.shape[0]] = ['RPGrowth', minSupCount,maximumPeriodCount, minRec, len(obj.getPatterns()), obj.getRuntime(), obj.getMemoryRSS()]\n",
        "\n",
        "# Print the results\n",
        "print(f\"Frequent patterns were generated successfully using RPGrowth algorithm\")\n",
        "\n",
        "print(result)"
      ],
      "metadata": {
        "id": "-FnEeIPsQJNM",
        "outputId": "3fd59344-35f1-4f2b-d2a0-62882ec1b3d8",
        "colab": {
          "base_uri": "https://localhost:8080/"
        }
      },
      "execution_count": 5,
      "outputs": [
        {
          "output_type": "stream",
          "name": "stdout",
          "text": [
            "Recurring patterns were generated successfully using RPGrowth algorithm \n",
            "Recurring patterns were generated successfully using RPGrowth algorithm \n",
            "Recurring patterns were generated successfully using RPGrowth algorithm \n",
            "Recurring patterns were generated successfully using RPGrowth algorithm \n",
            "Recurring patterns were generated successfully using RPGrowth algorithm \n",
            "Frequent patterns were generated successfully using RPGrowth algorithm\n",
            "  algorithm  minSup  maximumPeriodCount  minRec  patterns    runtime  \\\n",
            "0  RPGrowth     100                5000     1.8      5374  15.460881   \n",
            "1  RPGrowth     200                5000     1.8      2000  10.226117   \n",
            "2  RPGrowth     300                5000     1.8      1055   7.409433   \n",
            "3  RPGrowth     400                5000     1.8       645   6.799548   \n",
            "4  RPGrowth     500                5000     1.8       431   6.137145   \n",
            "\n",
            "      memory  \n",
            "0  438984704  \n",
            "1  417366016  \n",
            "2  414277632  \n",
            "3  390729728  \n",
            "4  378343424  \n"
          ]
        }
      ]
    },
    {
      "cell_type": "code",
      "source": [
        "!wget -nc https://u-aizu.ac.jp/~udayrage/datasets/temporalDatabases/Temporal_T20I6D100K.csv #download a sample temporal database\n"
      ],
      "metadata": {
        "id": "An6mLAFkQVWF",
        "outputId": "104e0250-99de-4023-c21f-1871b6beeb32",
        "colab": {
          "base_uri": "https://localhost:8080/"
        }
      },
      "execution_count": 6,
      "outputs": [
        {
          "output_type": "stream",
          "name": "stdout",
          "text": [
            "--2024-06-18 02:52:13--  https://u-aizu.ac.jp/~udayrage/datasets/temporalDatabases/Temporal_T20I6D100K.csv\n",
            "Resolving u-aizu.ac.jp (u-aizu.ac.jp)... 150.95.161.176, 150.31.244.160\n",
            "Connecting to u-aizu.ac.jp (u-aizu.ac.jp)|150.95.161.176|:443... connected.\n",
            "HTTP request sent, awaiting response... 200 OK\n",
            "Length: 8414399 (8.0M) [text/csv]\n",
            "Saving to: ‘Temporal_T20I6D100K.csv’\n",
            "\n",
            "Temporal_T20I6D100K 100%[===================>]   8.02M  1.85MB/s    in 4.9s    \n",
            "\n",
            "2024-06-18 02:52:19 (1.63 MB/s) - ‘Temporal_T20I6D100K.csv’ saved [8414399/8414399]\n",
            "\n"
          ]
        }
      ]
    },
    {
      "cell_type": "markdown",
      "source": [
        "## Test Case1 for T20I6D100K Dataset"
      ],
      "metadata": {
        "id": "aNVQ1KLCQild"
      }
    },
    {
      "cell_type": "code",
      "source": [
        "from PAMI.recurringPattern.basic import RPGrowth as alg\n",
        "import pandas as pd\n",
        "# Set the input parameters\n",
        "URL = 'https://u-aizu.ac.jp/~udayrage/datasets/temporalDatabases/Temporal_T20I6D100K.csv'\n",
        "separator = '\\t'\n",
        "maximumPeriodCount = 5000\n",
        "minRec = 1.8\n",
        "minimumSupportCountList = [100, 200, 300, 400, 500]\n",
        "\n",
        "# Initialize a data frame to store the results of  RPGrowth\n",
        "result = pd.DataFrame(columns=['algorithm', 'minSup','maximumPeriodCount', 'minRec', 'patterns', 'runtime', 'memory'])\n",
        "\n",
        "# Execute the algorithm at different minSup values\n",
        "for minSupCount in minimumSupportCountList:\n",
        "    obj = alg.RPGrowth(URL, minPS=minSupCount,maxPer=maximumPeriodCount, minRec=minRec, sep=separator)\n",
        "    obj.Mine()\n",
        "    # Store the results in the data frame\n",
        "    result.loc[result.shape[0]] = ['RPGrowth', minSupCount,maximumPeriodCount, minRec, len(obj.getPatterns()), obj.getRuntime(), obj.getMemoryRSS()]\n",
        "\n",
        "# Print the results\n",
        "print(f\"Frequent patterns were generated successfully using RPGrowth algorithm\")\n",
        "\n",
        "print(result)"
      ],
      "metadata": {
        "id": "mQGq43kLQov2",
        "outputId": "252b887a-9453-4f5e-d26f-755f7bec955a",
        "colab": {
          "base_uri": "https://localhost:8080/"
        }
      },
      "execution_count": 7,
      "outputs": [
        {
          "output_type": "stream",
          "name": "stdout",
          "text": [
            "Recurring patterns were generated successfully using RPGrowth algorithm \n",
            "Recurring patterns were generated successfully using RPGrowth algorithm \n",
            "Recurring patterns were generated successfully using RPGrowth algorithm \n",
            "Recurring patterns were generated successfully using RPGrowth algorithm \n",
            "Recurring patterns were generated successfully using RPGrowth algorithm \n",
            "Frequent patterns were generated successfully using RPGrowth algorithm\n",
            "  algorithm  minSup  maximumPeriodCount  minRec  patterns     runtime  \\\n",
            "0  RPGrowth     100                5000     1.8    342628  229.323732   \n",
            "1  RPGrowth     200                5000     1.8    192445  155.281920   \n",
            "2  RPGrowth     300                5000     1.8    114301  126.756394   \n",
            "3  RPGrowth     400                5000     1.8     35924   92.696985   \n",
            "4  RPGrowth     500                5000     1.8     25721   83.079374   \n",
            "\n",
            "       memory  \n",
            "0  1296408576  \n",
            "1  1248235520  \n",
            "2  1213489152  \n",
            "3  1183055872  \n",
            "4  1170788352  \n"
          ]
        }
      ]
    },
    {
      "cell_type": "markdown",
      "source": [
        "## Test Case2 for T20I6D100K Dataset"
      ],
      "metadata": {
        "id": "sCYf9Y6tJoIv"
      }
    },
    {
      "cell_type": "code",
      "source": [
        "from PAMI.recurringPattern.basic import RPGrowth as alg\n",
        "import pandas as pd\n",
        "# Set the input parameters\n",
        "URL = '/content/Temporal_T20I6D100K.csv'\n",
        "separator = '\\t'\n",
        "maximumPeriodCount = 5000\n",
        "minRec = 1.8\n",
        "minimumSupportCountList = [100, 200, 300, 400, 500]\n",
        "\n",
        "# Initialize a data frame to store the results of  RPGrowth\n",
        "result = pd.DataFrame(columns=['algorithm', 'minSup','maximumPeriodCount', 'minRec', 'patterns', 'runtime', 'memory'])\n",
        "\n",
        "# Execute the algorithm at different minSup values\n",
        "for minSupCount in minimumSupportCountList:\n",
        "    obj = alg.RPGrowth(URL, minPS=minSupCount,maxPer=maximumPeriodCount, minRec=minRec, sep=separator)\n",
        "    obj.Mine()\n",
        "    # Store the results in the data frame\n",
        "    result.loc[result.shape[0]] = ['RPGrowth', minSupCount,maximumPeriodCount, minRec, len(obj.getPatterns()), obj.getRuntime(), obj.getMemoryRSS()]\n",
        "\n",
        "# Print the results\n",
        "print(f\"Frequent patterns were generated successfully using RPGrowth algorithm\")\n",
        "\n",
        "print(result)"
      ],
      "metadata": {
        "id": "l5XlOXl1Qx58",
        "outputId": "8d78581a-ca57-4c82-8aff-92318af4b2e6",
        "colab": {
          "base_uri": "https://localhost:8080/"
        }
      },
      "execution_count": 8,
      "outputs": [
        {
          "output_type": "stream",
          "name": "stdout",
          "text": [
            "Recurring patterns were generated successfully using RPGrowth algorithm \n",
            "Recurring patterns were generated successfully using RPGrowth algorithm \n",
            "Recurring patterns were generated successfully using RPGrowth algorithm \n",
            "Recurring patterns were generated successfully using RPGrowth algorithm \n",
            "Recurring patterns were generated successfully using RPGrowth algorithm \n",
            "Frequent patterns were generated successfully using RPGrowth algorithm\n",
            "  algorithm  minSup  maximumPeriodCount  minRec  patterns     runtime  \\\n",
            "0  RPGrowth     100                5000     1.8    342628  227.955889   \n",
            "1  RPGrowth     200                5000     1.8    192445  159.161610   \n",
            "2  RPGrowth     300                5000     1.8    114301  118.900453   \n",
            "3  RPGrowth     400                5000     1.8     35924   92.132434   \n",
            "4  RPGrowth     500                5000     1.8     25721   81.125071   \n",
            "\n",
            "       memory  \n",
            "0  1305182208  \n",
            "1  1249189888  \n",
            "2  1209151488  \n",
            "3  1191997440  \n",
            "4  1171542016  \n"
          ]
        }
      ]
    },
    {
      "cell_type": "code",
      "source": [],
      "metadata": {
        "id": "FIQ7RbaXQ6KL"
      },
      "execution_count": null,
      "outputs": []
    }
  ]
}