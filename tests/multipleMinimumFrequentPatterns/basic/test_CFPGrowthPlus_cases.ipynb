{
  "nbformat": 4,
  "nbformat_minor": 0,
  "metadata": {
    "colab": {
      "provenance": []
    },
    "kernelspec": {
      "name": "python3",
      "display_name": "Python 3"
    },
    "language_info": {
      "name": "python"
    }
  },
  "cells": [
    {
      "cell_type": "code",
      "source": [
        "!pip install -U pami"
      ],
      "metadata": {
        "colab": {
          "base_uri": "https://localhost:8080/"
        },
        "id": "JIpQR7kqWfJ8",
        "outputId": "d24ca718-1fce-4343-f267-f67a94143c22"
      },
      "execution_count": null,
      "outputs": [
        {
          "output_type": "stream",
          "name": "stdout",
          "text": [
            "Collecting pami\n",
            "  Downloading pami-2024.6.10-py3-none-any.whl (1.0 MB)\n",
            "\u001b[2K     \u001b[90m━━━━━━━━━━━━━━━━━━━━━━━━━━━━━━━━━━━━━━━━\u001b[0m \u001b[32m1.0/1.0 MB\u001b[0m \u001b[31m7.7 MB/s\u001b[0m eta \u001b[36m0:00:00\u001b[0m\n",
            "\u001b[?25hRequirement already satisfied: psutil in /usr/local/lib/python3.10/dist-packages (from pami) (5.9.5)\n",
            "Requirement already satisfied: pandas in /usr/local/lib/python3.10/dist-packages (from pami) (2.0.3)\n",
            "Requirement already satisfied: plotly in /usr/local/lib/python3.10/dist-packages (from pami) (5.15.0)\n",
            "Requirement already satisfied: matplotlib in /usr/local/lib/python3.10/dist-packages (from pami) (3.7.1)\n",
            "Collecting resource (from pami)\n",
            "  Downloading Resource-0.2.1-py2.py3-none-any.whl (25 kB)\n",
            "Collecting validators (from pami)\n",
            "  Downloading validators-0.28.3-py3-none-any.whl (40 kB)\n",
            "\u001b[2K     \u001b[90m━━━━━━━━━━━━━━━━━━━━━━━━━━━━━━━━━━━━━━━━\u001b[0m \u001b[32m40.0/40.0 kB\u001b[0m \u001b[31m3.8 MB/s\u001b[0m eta \u001b[36m0:00:00\u001b[0m\n",
            "\u001b[?25hRequirement already satisfied: urllib3 in /usr/local/lib/python3.10/dist-packages (from pami) (2.0.7)\n",
            "Requirement already satisfied: Pillow in /usr/local/lib/python3.10/dist-packages (from pami) (9.4.0)\n",
            "Requirement already satisfied: numpy in /usr/local/lib/python3.10/dist-packages (from pami) (1.25.2)\n",
            "Requirement already satisfied: sphinx in /usr/local/lib/python3.10/dist-packages (from pami) (5.0.2)\n",
            "Collecting sphinx-rtd-theme (from pami)\n",
            "  Downloading sphinx_rtd_theme-2.0.0-py2.py3-none-any.whl (2.8 MB)\n",
            "\u001b[2K     \u001b[90m━━━━━━━━━━━━━━━━━━━━━━━━━━━━━━━━━━━━━━━━\u001b[0m \u001b[32m2.8/2.8 MB\u001b[0m \u001b[31m13.4 MB/s\u001b[0m eta \u001b[36m0:00:00\u001b[0m\n",
            "\u001b[?25hCollecting discord.py (from pami)\n",
            "  Downloading discord.py-2.3.2-py3-none-any.whl (1.1 MB)\n",
            "\u001b[2K     \u001b[90m━━━━━━━━━━━━━━━━━━━━━━━━━━━━━━━━━━━━━━━━\u001b[0m \u001b[32m1.1/1.1 MB\u001b[0m \u001b[31m25.5 MB/s\u001b[0m eta \u001b[36m0:00:00\u001b[0m\n",
            "\u001b[?25hRequirement already satisfied: networkx in /usr/local/lib/python3.10/dist-packages (from pami) (3.3)\n",
            "Collecting deprecated (from pami)\n",
            "  Downloading Deprecated-1.2.14-py2.py3-none-any.whl (9.6 kB)\n",
            "Requirement already satisfied: wrapt<2,>=1.10 in /usr/local/lib/python3.10/dist-packages (from deprecated->pami) (1.14.1)\n",
            "Requirement already satisfied: aiohttp<4,>=3.7.4 in /usr/local/lib/python3.10/dist-packages (from discord.py->pami) (3.9.5)\n",
            "Requirement already satisfied: contourpy>=1.0.1 in /usr/local/lib/python3.10/dist-packages (from matplotlib->pami) (1.2.1)\n",
            "Requirement already satisfied: cycler>=0.10 in /usr/local/lib/python3.10/dist-packages (from matplotlib->pami) (0.12.1)\n",
            "Requirement already satisfied: fonttools>=4.22.0 in /usr/local/lib/python3.10/dist-packages (from matplotlib->pami) (4.53.0)\n",
            "Requirement already satisfied: kiwisolver>=1.0.1 in /usr/local/lib/python3.10/dist-packages (from matplotlib->pami) (1.4.5)\n",
            "Requirement already satisfied: packaging>=20.0 in /usr/local/lib/python3.10/dist-packages (from matplotlib->pami) (24.1)\n",
            "Requirement already satisfied: pyparsing>=2.3.1 in /usr/local/lib/python3.10/dist-packages (from matplotlib->pami) (3.1.2)\n",
            "Requirement already satisfied: python-dateutil>=2.7 in /usr/local/lib/python3.10/dist-packages (from matplotlib->pami) (2.8.2)\n",
            "Requirement already satisfied: pytz>=2020.1 in /usr/local/lib/python3.10/dist-packages (from pandas->pami) (2023.4)\n",
            "Requirement already satisfied: tzdata>=2022.1 in /usr/local/lib/python3.10/dist-packages (from pandas->pami) (2024.1)\n",
            "Requirement already satisfied: tenacity>=6.2.0 in /usr/local/lib/python3.10/dist-packages (from plotly->pami) (8.3.0)\n",
            "Collecting JsonForm>=0.0.2 (from resource->pami)\n",
            "  Downloading JsonForm-0.0.2.tar.gz (2.4 kB)\n",
            "  Preparing metadata (setup.py) ... \u001b[?25l\u001b[?25hdone\n",
            "Collecting JsonSir>=0.0.2 (from resource->pami)\n",
            "  Downloading JsonSir-0.0.2.tar.gz (2.2 kB)\n",
            "  Preparing metadata (setup.py) ... \u001b[?25l\u001b[?25hdone\n",
            "Collecting python-easyconfig>=0.1.0 (from resource->pami)\n",
            "  Downloading Python_EasyConfig-0.1.7-py2.py3-none-any.whl (5.4 kB)\n",
            "Requirement already satisfied: sphinxcontrib-applehelp in /usr/local/lib/python3.10/dist-packages (from sphinx->pami) (1.0.8)\n",
            "Requirement already satisfied: sphinxcontrib-devhelp in /usr/local/lib/python3.10/dist-packages (from sphinx->pami) (1.0.6)\n",
            "Requirement already satisfied: sphinxcontrib-jsmath in /usr/local/lib/python3.10/dist-packages (from sphinx->pami) (1.0.1)\n",
            "Requirement already satisfied: sphinxcontrib-htmlhelp>=2.0.0 in /usr/local/lib/python3.10/dist-packages (from sphinx->pami) (2.0.5)\n",
            "Requirement already satisfied: sphinxcontrib-serializinghtml>=1.1.5 in /usr/local/lib/python3.10/dist-packages (from sphinx->pami) (1.1.10)\n",
            "Requirement already satisfied: sphinxcontrib-qthelp in /usr/local/lib/python3.10/dist-packages (from sphinx->pami) (1.0.7)\n",
            "Requirement already satisfied: Jinja2>=2.3 in /usr/local/lib/python3.10/dist-packages (from sphinx->pami) (3.1.4)\n",
            "Requirement already satisfied: Pygments>=2.0 in /usr/local/lib/python3.10/dist-packages (from sphinx->pami) (2.16.1)\n",
            "Requirement already satisfied: docutils<0.19,>=0.14 in /usr/local/lib/python3.10/dist-packages (from sphinx->pami) (0.18.1)\n",
            "Requirement already satisfied: snowballstemmer>=1.1 in /usr/local/lib/python3.10/dist-packages (from sphinx->pami) (2.2.0)\n",
            "Requirement already satisfied: babel>=1.3 in /usr/local/lib/python3.10/dist-packages (from sphinx->pami) (2.15.0)\n",
            "Requirement already satisfied: alabaster<0.8,>=0.7 in /usr/local/lib/python3.10/dist-packages (from sphinx->pami) (0.7.16)\n",
            "Requirement already satisfied: imagesize in /usr/local/lib/python3.10/dist-packages (from sphinx->pami) (1.4.1)\n",
            "Requirement already satisfied: requests>=2.5.0 in /usr/local/lib/python3.10/dist-packages (from sphinx->pami) (2.31.0)\n",
            "Collecting sphinxcontrib-jquery<5,>=4 (from sphinx-rtd-theme->pami)\n",
            "  Downloading sphinxcontrib_jquery-4.1-py2.py3-none-any.whl (121 kB)\n",
            "\u001b[2K     \u001b[90m━━━━━━━━━━━━━━━━━━━━━━━━━━━━━━━━━━━━━━━━\u001b[0m \u001b[32m121.1/121.1 kB\u001b[0m \u001b[31m10.3 MB/s\u001b[0m eta \u001b[36m0:00:00\u001b[0m\n",
            "\u001b[?25hRequirement already satisfied: aiosignal>=1.1.2 in /usr/local/lib/python3.10/dist-packages (from aiohttp<4,>=3.7.4->discord.py->pami) (1.3.1)\n",
            "Requirement already satisfied: attrs>=17.3.0 in /usr/local/lib/python3.10/dist-packages (from aiohttp<4,>=3.7.4->discord.py->pami) (23.2.0)\n",
            "Requirement already satisfied: frozenlist>=1.1.1 in /usr/local/lib/python3.10/dist-packages (from aiohttp<4,>=3.7.4->discord.py->pami) (1.4.1)\n",
            "Requirement already satisfied: multidict<7.0,>=4.5 in /usr/local/lib/python3.10/dist-packages (from aiohttp<4,>=3.7.4->discord.py->pami) (6.0.5)\n",
            "Requirement already satisfied: yarl<2.0,>=1.0 in /usr/local/lib/python3.10/dist-packages (from aiohttp<4,>=3.7.4->discord.py->pami) (1.9.4)\n",
            "Requirement already satisfied: async-timeout<5.0,>=4.0 in /usr/local/lib/python3.10/dist-packages (from aiohttp<4,>=3.7.4->discord.py->pami) (4.0.3)\n",
            "Requirement already satisfied: MarkupSafe>=2.0 in /usr/local/lib/python3.10/dist-packages (from Jinja2>=2.3->sphinx->pami) (2.1.5)\n",
            "Requirement already satisfied: jsonschema in /usr/local/lib/python3.10/dist-packages (from JsonForm>=0.0.2->resource->pami) (4.19.2)\n",
            "Requirement already satisfied: six>=1.5 in /usr/local/lib/python3.10/dist-packages (from python-dateutil>=2.7->matplotlib->pami) (1.16.0)\n",
            "Requirement already satisfied: PyYAML in /usr/local/lib/python3.10/dist-packages (from python-easyconfig>=0.1.0->resource->pami) (6.0.1)\n",
            "Requirement already satisfied: charset-normalizer<4,>=2 in /usr/local/lib/python3.10/dist-packages (from requests>=2.5.0->sphinx->pami) (3.3.2)\n",
            "Requirement already satisfied: idna<4,>=2.5 in /usr/local/lib/python3.10/dist-packages (from requests>=2.5.0->sphinx->pami) (3.7)\n",
            "Requirement already satisfied: certifi>=2017.4.17 in /usr/local/lib/python3.10/dist-packages (from requests>=2.5.0->sphinx->pami) (2024.6.2)\n",
            "Requirement already satisfied: jsonschema-specifications>=2023.03.6 in /usr/local/lib/python3.10/dist-packages (from jsonschema->JsonForm>=0.0.2->resource->pami) (2023.12.1)\n",
            "Requirement already satisfied: referencing>=0.28.4 in /usr/local/lib/python3.10/dist-packages (from jsonschema->JsonForm>=0.0.2->resource->pami) (0.35.1)\n",
            "Requirement already satisfied: rpds-py>=0.7.1 in /usr/local/lib/python3.10/dist-packages (from jsonschema->JsonForm>=0.0.2->resource->pami) (0.18.1)\n",
            "Building wheels for collected packages: JsonForm, JsonSir\n",
            "  Building wheel for JsonForm (setup.py) ... \u001b[?25l\u001b[?25hdone\n",
            "  Created wheel for JsonForm: filename=JsonForm-0.0.2-py3-none-any.whl size=3314 sha256=7b3d754cfb2cf93bfa7c25e70ec178552d9a83e22cb99ce0d3596a28308d4e01\n",
            "  Stored in directory: /root/.cache/pip/wheels/b6/e5/87/11026246d3bd4ad67c0615682d2d6748bbd9a40ac0490882bd\n",
            "  Building wheel for JsonSir (setup.py) ... \u001b[?25l\u001b[?25hdone\n",
            "  Created wheel for JsonSir: filename=JsonSir-0.0.2-py3-none-any.whl size=4752 sha256=201774846b4f5c2cd17f2af6a05455cc2d3c917ed173ee07ae2ef8077ed031c2\n",
            "  Stored in directory: /root/.cache/pip/wheels/1d/4c/d3/4d9757425983b43eb709be1043d82cd03fb863ce5f56f117e6\n",
            "Successfully built JsonForm JsonSir\n",
            "Installing collected packages: JsonSir, validators, python-easyconfig, deprecated, sphinxcontrib-jquery, discord.py, sphinx-rtd-theme, JsonForm, resource, pami\n",
            "Successfully installed JsonForm-0.0.2 JsonSir-0.0.2 deprecated-1.2.14 discord.py-2.3.2 pami-2024.6.10 python-easyconfig-0.1.7 resource-0.2.1 sphinx-rtd-theme-2.0.0 sphinxcontrib-jquery-4.1 validators-0.28.3\n"
          ]
        }
      ]
    },
    {
      "cell_type": "markdown",
      "source": [
        "#Test Cases for T10I4D100K Dataset"
      ],
      "metadata": {
        "id": "cLfV1dPzWj18"
      }
    },
    {
      "cell_type": "code",
      "source": [
        "!wget https://u-aizu.ac.jp/~udayrage/datasets/transactionalDatabases/Transactional_T10I4D100K.csv"
      ],
      "metadata": {
        "colab": {
          "base_uri": "https://localhost:8080/"
        },
        "id": "YBVN9LbH9U0H",
        "outputId": "97a0400e-99d9-48e3-997b-e002f930f42a"
      },
      "execution_count": null,
      "outputs": [
        {
          "output_type": "stream",
          "name": "stdout",
          "text": [
            "--2024-06-15 17:32:40--  https://u-aizu.ac.jp/~udayrage/datasets/transactionalDatabases/Transactional_T10I4D100K.csv\n",
            "Resolving u-aizu.ac.jp (u-aizu.ac.jp)... 150.31.244.160, 150.95.161.176\n",
            "Connecting to u-aizu.ac.jp (u-aizu.ac.jp)|150.31.244.160|:443... connected.\n",
            "HTTP request sent, awaiting response... 200 OK\n",
            "Length: 4019277 (3.8M) [text/csv]\n",
            "Saving to: ‘Transactional_T10I4D100K.csv’\n",
            "\n",
            "Transactional_T10I4 100%[===================>]   3.83M   994KB/s    in 3.9s    \n",
            "\n",
            "2024-06-15 17:32:45 (994 KB/s) - ‘Transactional_T10I4D100K.csv’ saved [4019277/4019277]\n",
            "\n"
          ]
        }
      ]
    },
    {
      "cell_type": "code",
      "source": [
        "from PAMI.extras.calculateMISValues import usingBeta as ub\n",
        "inputFile = \"Transactional_T10I4D100K.csv\"\n",
        "beta = 1.8\n",
        "LS = 500\n",
        "sep = \"\\t\"\n",
        "output = \"MIS_T10.txt\"\n",
        "cd = ub.usingBeta(inputFile, beta, LS, sep)\n",
        "cd.calculateMIS()\n",
        "cd.save(output)"
      ],
      "metadata": {
        "id": "THskzC5Dn3R9"
      },
      "execution_count": null,
      "outputs": []
    },
    {
      "cell_type": "markdown",
      "source": [
        "##Test case 1 for T10I4D100K Dataset"
      ],
      "metadata": {
        "id": "hLgApfC4W1Cn"
      }
    },
    {
      "cell_type": "code",
      "source": [
        "from PAMI.multipleMinimumSupportBasedFrequentPattern.basic import CFPGrowthPlus as alg\n",
        "import pandas as pd\n",
        "\n",
        "#Set the input parameters\n",
        "url='https://u-aizu.ac.jp/~udayrage/datasets/transactionalDatabases/Transactional_T10I4D100K.csv'\n",
        "\n",
        "MIS = 'MIS_T10.txt'\n",
        "\n",
        "seperator='\\t'\n",
        "\n",
        "betaList = [0.1, 1.0, 2.0, 3.0, 4.0]\n",
        "\n",
        "# Initialize a data frame to store the results of CFPGrowthPlus\n",
        "result = pd.DataFrame(columns=['algorithm', 'minSup', 'patterns', 'runtime', 'memory'])\n",
        "\n",
        "# Execute the algorithm at different minSup values\n",
        "\n",
        "\n",
        "for beta in betaList:\n",
        "  from PAMI.extras.calculateMISValues import usingBeta as ub\n",
        "  inputFile = \"Transactional_T10I4D100K.csv\"\n",
        "  beta = beta\n",
        "  LS = 500\n",
        "  sep = \"\\t\"\n",
        "  output = \"MIS_T10.txt\"\n",
        "  cd = ub.usingBeta(inputFile, beta, LS, sep)\n",
        "  cd.calculateMIS()\n",
        "  cd.save(output)\n",
        "  obj = alg.CFPGrowthPlus(iFile=url, MIS=MIS, sep=seperator)\n",
        "  obj.Mine()\n",
        "  result.loc[result.shape[0]] = ['CFPGrowthPlus', beta, len(obj.getPatterns()), obj.getRuntime(), obj.getMemoryRSS()]\n",
        "\n",
        "# Print the results\n",
        "print(f\"Frequent patterns were generated successfully using CFPGrowthPlus algorithm\")\n",
        "print(result)"
      ],
      "metadata": {
        "colab": {
          "base_uri": "https://localhost:8080/"
        },
        "id": "tBX90tM9WgdJ",
        "outputId": "b3f33e65-59d4-4d21-ba5b-dbac9f432587"
      },
      "execution_count": null,
      "outputs": [
        {
          "output_type": "stream",
          "name": "stdout",
          "text": [
            "Frequent patterns were generated successfully using frequentPatternGrowth algorithm\n",
            "Frequent patterns were generated successfully using frequentPatternGrowth algorithm\n",
            "Frequent patterns were generated successfully using frequentPatternGrowth algorithm\n",
            "Frequent patterns were generated successfully using frequentPatternGrowth algorithm\n",
            "Frequent patterns were generated successfully using frequentPatternGrowth algorithm\n",
            "Frequent patterns were generated successfully using CFPGrowthPlus algorithm\n",
            "       algorithm  minSup  patterns    runtime     memory\n",
            "0  CFPGrowthPlus     0.1       535  19.295073  630603776\n",
            "1  CFPGrowthPlus     1.0       535  18.724865  631435264\n",
            "2  CFPGrowthPlus     2.0       535  20.705501  630980608\n",
            "3  CFPGrowthPlus     3.0       535  20.257454  631754752\n",
            "4  CFPGrowthPlus     4.0       535  19.378404  630661120\n"
          ]
        }
      ]
    },
    {
      "cell_type": "markdown",
      "source": [
        "##Test case 2 for T10I4D100K Dataset"
      ],
      "metadata": {
        "id": "iD56o75ZYM8g"
      }
    },
    {
      "cell_type": "code",
      "source": [
        "from PAMI.multipleMinimumSupportBasedFrequentPattern.basic import CFPGrowthPlus as alg\n",
        "import pandas as pd\n",
        "\n",
        "#Set the input parameters\n",
        "inputFile='Transactional_T10I4D100K.csv'\n",
        "\n",
        "MIS = 'MIS_T10.txt'\n",
        "\n",
        "seperator='\\t'\n",
        "betaList = [0.1, 1.0, 2.0, 3.0, 4.0]\n",
        "\n",
        "# Initialize a data frame to store the results of CFPGrowthPlus\n",
        "result = pd.DataFrame(columns=['algorithm', 'minSup', 'patterns', 'runtime', 'memory'])\n",
        "\n",
        "# Execute the algorithm at different minSup values\n",
        "\n",
        "\n",
        "for beta in betaList:\n",
        "  from PAMI.extras.calculateMISValues import usingBeta as ub\n",
        "  inputFile = \"Transactional_T10I4D100K.csv\"\n",
        "  beta = beta\n",
        "  LS = 500\n",
        "  sep = \"\\t\"\n",
        "  output = \"MIS_T10.txt\"\n",
        "  cd = ub.usingBeta(inputFile, beta, LS, sep)\n",
        "  cd.calculateMIS()\n",
        "  cd.save(output)\n",
        "  obj = alg.CFPGrowthPlus(iFile=inputFile, MIS=MIS, sep=seperator)\n",
        "  obj.Mine()\n",
        "  result.loc[result.shape[0]] = ['CFPGrowthPlus', beta, len(obj.getPatterns()), obj.getRuntime(), obj.getMemoryRSS()]\n",
        "\n",
        "# Print the results\n",
        "print(f\"Frequent patterns were generated successfully using CFPGrowthPlus algorithm\")\n",
        "print(result)"
      ],
      "metadata": {
        "colab": {
          "base_uri": "https://localhost:8080/"
        },
        "id": "vYp33_iJYtmQ",
        "outputId": "1738470f-bf4f-4e53-82e8-6c881850f30a"
      },
      "execution_count": null,
      "outputs": [
        {
          "output_type": "stream",
          "name": "stdout",
          "text": [
            "Frequent patterns were generated successfully using frequentPatternGrowth algorithm\n",
            "Frequent patterns were generated successfully using frequentPatternGrowth algorithm\n",
            "Frequent patterns were generated successfully using frequentPatternGrowth algorithm\n",
            "Frequent patterns were generated successfully using frequentPatternGrowth algorithm\n",
            "Frequent patterns were generated successfully using frequentPatternGrowth algorithm\n",
            "Frequent patterns were generated successfully using CFPGrowthPlus algorithm\n",
            "       algorithm  minSup  patterns    runtime     memory\n",
            "0  CFPGrowthPlus     0.1       535  16.783804  630964224\n",
            "1  CFPGrowthPlus     1.0       535  14.448041  631033856\n",
            "2  CFPGrowthPlus     2.0       535  13.584319  631009280\n",
            "3  CFPGrowthPlus     3.0       535  14.425679  630902784\n",
            "4  CFPGrowthPlus     4.0       535  18.181362  630882304\n"
          ]
        }
      ]
    },
    {
      "cell_type": "markdown",
      "source": [
        "##Test case 3 for T10I4D100K Dataset"
      ],
      "metadata": {
        "id": "yxQ3mPl0aDW0"
      }
    },
    {
      "cell_type": "code",
      "source": [
        "from PAMI.multipleMinimumSupportBasedFrequentPattern.basic import CFPGrowthPlus as alg\n",
        "import pandas as pd\n",
        "\n",
        "# Set the input parameters\n",
        "inputFile = 'Transactional_T10I4D100K.csv'\n",
        "separator = '\\t'\n",
        "MIS = 'MIS_T10.txt'\n",
        "betaList = [0.1, 1.0, 2.0, 3.0, 4.0]\n",
        "\n",
        "# Read the CSV file into a DataFrame\n",
        "df = pd.read_csv(inputFile, header=[0], sep=' ')\n",
        "df = df.rename(columns={df.columns[0]: \"Transactions\"})\n",
        "\n",
        "# Ensure all data in the \"Transaction\" column is string before splitting\n",
        "df[\"Transactions\"] = df[\"Transactions\"].astype(str)\n",
        "\n",
        "# Preprocess the dataset\n",
        "# transactions = df[\"Transaction\"].apply(lambda x: x.split(separator)).tolist()\n",
        "transactions = df['Transactions'].apply(lambda x: x.split(separator))\n",
        "transactions = pd.DataFrame(transactions, columns=['Transactions'])\n",
        "\n",
        "# Initialize a data frame to store the results of CFPGrowthPlus\n",
        "result = pd.DataFrame(columns=['algorithm', 'minSup', 'patterns', 'runtime', 'memory'])\n",
        "\n",
        "# Execute the algorithm at different minSup values\n",
        "for beta in betaList:\n",
        "  from PAMI.extras.calculateMISValues import usingBeta as ub\n",
        "  inputFile = \"Transactional_T10I4D100K.csv\"\n",
        "  beta = beta\n",
        "  LS = 500\n",
        "  sep = \"\\t\"\n",
        "  output = \"MIS_T10.txt\"\n",
        "  cd = ub.usingBeta(inputFile, beta, LS, sep)\n",
        "  cd.calculateMIS()\n",
        "  cd.save(output)\n",
        "  obj = alg.CFPGrowthPlus(transactions, MIS=MIS, sep=seperator)\n",
        "  obj.Mine()\n",
        "  result.loc[result.shape[0]] = ['CFPGrowthPlus', beta, len(obj.getPatterns()), obj.getRuntime(), obj.getMemoryRSS()]\n",
        "\n",
        "# Print the results\n",
        "print(f\"Frequent patterns were generated successfully using CFPGrowthPlus algorithm\")\n",
        "print(result)\n"
      ],
      "metadata": {
        "colab": {
          "base_uri": "https://localhost:8080/"
        },
        "id": "sPtFLCnRZS2P",
        "outputId": "bf3c6095-a61a-4f78-fe8a-083009c1c355"
      },
      "execution_count": null,
      "outputs": [
        {
          "output_type": "stream",
          "name": "stdout",
          "text": [
            "Frequent patterns were generated successfully using frequentPatternGrowth algorithm\n",
            "Frequent patterns were generated successfully using frequentPatternGrowth algorithm\n",
            "Frequent patterns were generated successfully using frequentPatternGrowth algorithm\n",
            "Frequent patterns were generated successfully using frequentPatternGrowth algorithm\n",
            "Frequent patterns were generated successfully using frequentPatternGrowth algorithm\n",
            "Frequent patterns were generated successfully using CFPGrowthPlus algorithm\n",
            "       algorithm  minSup  patterns    runtime     memory\n",
            "0  CFPGrowthPlus     0.1       535  14.966287  647839744\n",
            "1  CFPGrowthPlus     1.0       535  15.194028  676118528\n",
            "2  CFPGrowthPlus     2.0       535  13.528395  645107712\n",
            "3  CFPGrowthPlus     3.0       535  14.087738  642682880\n",
            "4  CFPGrowthPlus     4.0       535  18.065770  643571712\n"
          ]
        }
      ]
    },
    {
      "cell_type": "markdown",
      "source": [
        "# Test Cases Retail Dataset"
      ],
      "metadata": {
        "id": "a-MknH0yaQge"
      }
    },
    {
      "cell_type": "code",
      "source": [
        "!wget https://u-aizu.ac.jp/~udayrage/datasets/transactionalDatabases/Transactional_retail.csv"
      ],
      "metadata": {
        "colab": {
          "base_uri": "https://localhost:8080/"
        },
        "id": "2xRitPpj1-tm",
        "outputId": "f6e5e834-9261-409c-cc1c-d5b8d78a37a9"
      },
      "execution_count": null,
      "outputs": [
        {
          "output_type": "stream",
          "name": "stdout",
          "text": [
            "--2024-06-15 17:42:52--  https://u-aizu.ac.jp/~udayrage/datasets/transactionalDatabases/Transactional_retail.csv\n",
            "Resolving u-aizu.ac.jp (u-aizu.ac.jp)... 150.31.244.160, 150.95.161.176\n",
            "Connecting to u-aizu.ac.jp (u-aizu.ac.jp)|150.31.244.160|:443... connected.\n",
            "HTTP request sent, awaiting response... 200 OK\n",
            "Length: 4165546 (4.0M) [text/csv]\n",
            "Saving to: ‘Transactional_retail.csv’\n",
            "\n",
            "Transactional_retai 100%[===================>]   3.97M   972KB/s    in 4.2s    \n",
            "\n",
            "2024-06-15 17:42:58 (972 KB/s) - ‘Transactional_retail.csv’ saved [4165546/4165546]\n",
            "\n"
          ]
        }
      ]
    },
    {
      "cell_type": "code",
      "source": [
        "from PAMI.extras.calculateMISValues import usingBeta as ub\n",
        "inputFile = \"Transactional_retail.csv\"\n",
        "beta = 1.8\n",
        "LS = 500\n",
        "sep = \"\\t\"\n",
        "output = \"MIS_T11.txt\"\n",
        "cd = ub.usingBeta(inputFile, beta, LS, sep)\n",
        "cd.calculateMIS()\n",
        "cd.save(output)"
      ],
      "metadata": {
        "id": "mdGidRc413b_"
      },
      "execution_count": null,
      "outputs": []
    },
    {
      "cell_type": "markdown",
      "source": [
        "##Test case 1 for Retail Dataset"
      ],
      "metadata": {
        "id": "LHVv3kqHdOvB"
      }
    },
    {
      "cell_type": "code",
      "source": [
        "from PAMI.multipleMinimumSupportBasedFrequentPattern.basic import CFPGrowthPlus as alg\n",
        "import pandas as pd\n",
        "\n",
        "#Set the input parameters\n",
        "url='https://u-aizu.ac.jp/~udayrage/datasets/transactionalDatabases/Transactional_retail.csv'\n",
        "\n",
        "MIS = 'MIS_T11.txt'\n",
        "\n",
        "seperator='\\t'\n",
        "betaList = [0.1, 1.0, 2.0, 3.0, 4.0]\n",
        "\n",
        "# Initialize a data frame to store the results of CFPGrowthPlus\n",
        "result = pd.DataFrame(columns=['algorithm', 'minSup', 'patterns', 'runtime', 'memory'])\n",
        "\n",
        "# Execute the algorithm at different minSup values\n",
        "\n",
        "\n",
        "for beta in betaList:\n",
        "  from PAMI.extras.calculateMISValues import usingBeta as ub\n",
        "  inputFile = \"Transactional_retail.csv\"\n",
        "  beta = beta\n",
        "  LS = 500\n",
        "  sep = \"\\t\"\n",
        "  output = \"MIS_T11.txt\"\n",
        "  cd = ub.usingBeta(inputFile, beta, LS, sep)\n",
        "  cd.calculateMIS()\n",
        "  cd.save(output)\n",
        "  obj = alg.CFPGrowthPlus(iFile=url, MIS=MIS, sep=seperator)\n",
        "  obj.Mine()\n",
        "  result.loc[result.shape[0]] = ['CFPGrowthPlus', beta, len(obj.getPatterns()), obj.getRuntime(), obj.getMemoryRSS()]\n",
        "\n",
        "# Print the results\n",
        "print(f\"Frequent patterns were generated successfully using CFPGrowthPlus algorithm\")\n",
        "print(result)"
      ],
      "metadata": {
        "colab": {
          "base_uri": "https://localhost:8080/"
        },
        "id": "3y3Vyu5TaGyB",
        "outputId": "6633c956-603f-4780-c080-7201bf83948e"
      },
      "execution_count": null,
      "outputs": [
        {
          "output_type": "stream",
          "name": "stdout",
          "text": [
            "Frequent patterns were generated successfully using frequentPatternGrowth algorithm\n",
            "Frequent patterns were generated successfully using frequentPatternGrowth algorithm\n",
            "Frequent patterns were generated successfully using frequentPatternGrowth algorithm\n",
            "Frequent patterns were generated successfully using frequentPatternGrowth algorithm\n",
            "Frequent patterns were generated successfully using frequentPatternGrowth algorithm\n",
            "Frequent patterns were generated successfully using CFPGrowthPlus algorithm\n",
            "       algorithm  minSup  patterns    runtime     memory\n",
            "0  CFPGrowthPlus     0.1       180  17.884059  563269632\n",
            "1  CFPGrowthPlus     1.0       180  18.258104  563269632\n",
            "2  CFPGrowthPlus     2.0       180  16.141103  563806208\n",
            "3  CFPGrowthPlus     3.0       180  15.683311  563806208\n",
            "4  CFPGrowthPlus     4.0       180  17.648065  563806208\n"
          ]
        }
      ]
    },
    {
      "cell_type": "markdown",
      "source": [
        "##Test case 2 for Retail Dataset"
      ],
      "metadata": {
        "id": "sBgF2j1pdYFs"
      }
    },
    {
      "cell_type": "code",
      "source": [
        "from PAMI.multipleMinimumSupportBasedFrequentPattern.basic import CFPGrowthPlus as alg\n",
        "import pandas as pd\n",
        "\n",
        "#Set the input parameters\n",
        "inputFile='Transactional_retail.csv'\n",
        "\n",
        "MIS = 'MIS_T11.txt'\n",
        "\n",
        "seperator='\\t'\n",
        "betaList = [0.1, 1.0, 2.0, 3.0, 4.0]\n",
        "\n",
        "# Initialize a data frame to store the results of CFPGrowthPlus\n",
        "result = pd.DataFrame(columns=['algorithm', 'minSup', 'patterns', 'runtime', 'memory'])\n",
        "\n",
        "# Execute the algorithm at different minSup values\n",
        "\n",
        "\n",
        "for beta in betaList:\n",
        "  from PAMI.extras.calculateMISValues import usingBeta as ub\n",
        "  inputFile = \"Transactional_retail.csv\"\n",
        "  beta = beta\n",
        "  LS = 500\n",
        "  sep = \"\\t\"\n",
        "  output = \"MIS_T11.txt\"\n",
        "  cd = ub.usingBeta(inputFile, beta, LS, sep)\n",
        "  cd.calculateMIS()\n",
        "  cd.save(output)\n",
        "  obj = alg.CFPGrowthPlus(iFile=inputFile, MIS=MIS, sep=seperator)\n",
        "  obj.Mine()\n",
        "  result.loc[result.shape[0]] = ['CFPGrowthPlus', beta, len(obj.getPatterns()), obj.getRuntime(), obj.getMemoryRSS()]\n",
        "\n",
        "# Print the results\n",
        "print(f\"Frequent patterns were generated successfully using CFPGrowthPlus algorithm\")\n",
        "print(result)"
      ],
      "metadata": {
        "colab": {
          "base_uri": "https://localhost:8080/"
        },
        "id": "b7DjVlh4auoH",
        "outputId": "0f2765eb-196d-4ca7-98ba-c301f013ef38"
      },
      "execution_count": null,
      "outputs": [
        {
          "output_type": "stream",
          "name": "stdout",
          "text": [
            "Frequent patterns were generated successfully using frequentPatternGrowth algorithm\n",
            "Frequent patterns were generated successfully using frequentPatternGrowth algorithm\n",
            "Frequent patterns were generated successfully using frequentPatternGrowth algorithm\n",
            "Frequent patterns were generated successfully using frequentPatternGrowth algorithm\n",
            "Frequent patterns were generated successfully using frequentPatternGrowth algorithm\n",
            "Frequent patterns were generated successfully using CFPGrowthPlus algorithm\n",
            "       algorithm  minSup  patterns    runtime     memory\n",
            "0  CFPGrowthPlus     0.1       180  11.743292  563806208\n",
            "1  CFPGrowthPlus     1.0       180  11.739757  563806208\n",
            "2  CFPGrowthPlus     2.0       180  11.801781  563806208\n",
            "3  CFPGrowthPlus     3.0       180  11.670651  563806208\n",
            "4  CFPGrowthPlus     4.0       180  11.410264  563806208\n"
          ]
        }
      ]
    },
    {
      "cell_type": "markdown",
      "source": [
        "##Test case 3 for Retail Dataset"
      ],
      "metadata": {
        "id": "asPH72UPdbzV"
      }
    },
    {
      "cell_type": "code",
      "source": [
        "from PAMI.multipleMinimumSupportBasedFrequentPattern.basic import CFPGrowthPlus as alg\n",
        "import pandas as pd\n",
        "\n",
        "# Set the input parameters\n",
        "inputFile = 'Transactional_retail.csv'\n",
        "separator = '\\t'\n",
        "MIS = 'MIS_T11.txt'\n",
        "betaList = [0.1, 1.0, 2.0, 3.0, 4.0]\n",
        "\n",
        "# Read the CSV file into a DataFrame\n",
        "df = pd.read_csv(inputFile, header=[0], sep=' ')\n",
        "df = df.rename(columns={df.columns[0]: \"Transactions\"})\n",
        "\n",
        "# Ensure all data in the \"Transaction\" column is string before splitting\n",
        "df[\"Transactions\"] = df[\"Transactions\"].astype(str)\n",
        "\n",
        "# Preprocess the dataset\n",
        "# transactions = df[\"Transaction\"].apply(lambda x: x.split(separator)).tolist()\n",
        "transactions = df['Transactions'].apply(lambda x: x.split(separator))\n",
        "transactions = pd.DataFrame(transactions, columns=['Transactions'])\n",
        "\n",
        "# Initialize a data frame to store the results of CFPGrowthPlus\n",
        "result = pd.DataFrame(columns=['algorithm', 'minSup', 'patterns', 'runtime', 'memory'])\n",
        "\n",
        "# Execute the algorithm at different minSup values\n",
        "for beta in betaList:\n",
        "  from PAMI.extras.calculateMISValues import usingBeta as ub\n",
        "  inputFile = \"Transactional_retail.csv\"\n",
        "  beta = beta\n",
        "  LS = 500\n",
        "  sep = \"\\t\"\n",
        "  output = \"MIS_T11.txt\"\n",
        "  cd = ub.usingBeta(inputFile, beta, LS, sep)\n",
        "  cd.calculateMIS()\n",
        "  cd.save(output)\n",
        "  obj = alg.CFPGrowthPlus(transactions, MIS=MIS, sep=seperator)\n",
        "  obj.Mine()\n",
        "  result.loc[result.shape[0]] = ['CFPGrowthPlus', beta, len(obj.getPatterns()), obj.getRuntime(), obj.getMemoryRSS()]\n",
        "\n",
        "# Print the results\n",
        "print(f\"Frequent patterns were generated successfully using CFPGrowthPlus algorithm\")\n",
        "print(result)\n"
      ],
      "metadata": {
        "colab": {
          "base_uri": "https://localhost:8080/"
        },
        "id": "TX-1anxPbJfG",
        "outputId": "b757c6c0-52b6-4a2b-df63-6c01bfb5c74b"
      },
      "execution_count": null,
      "outputs": [
        {
          "output_type": "stream",
          "name": "stdout",
          "text": [
            "Frequent patterns were generated successfully using frequentPatternGrowth algorithm\n",
            "Frequent patterns were generated successfully using frequentPatternGrowth algorithm\n",
            "Frequent patterns were generated successfully using frequentPatternGrowth algorithm\n",
            "Frequent patterns were generated successfully using frequentPatternGrowth algorithm\n",
            "Frequent patterns were generated successfully using frequentPatternGrowth algorithm\n",
            "Frequent patterns were generated successfully using CFPGrowthPlus algorithm\n",
            "       algorithm  minSup  patterns    runtime     memory\n",
            "0  CFPGrowthPlus     0.1       180  11.179054  508108800\n",
            "1  CFPGrowthPlus     1.0       180  14.374009  520699904\n",
            "2  CFPGrowthPlus     2.0       180  11.398095  510169088\n",
            "3  CFPGrowthPlus     3.0       180  10.944329  532459520\n",
            "4  CFPGrowthPlus     4.0       180  12.816701  510124032\n"
          ]
        }
      ]
    },
    {
      "cell_type": "markdown",
      "source": [
        "# Test Cases for Chess Dataset"
      ],
      "metadata": {
        "id": "4hK7XBAsbbQV"
      }
    },
    {
      "cell_type": "code",
      "source": [
        "!wget https://u-aizu.ac.jp/~udayrage/datasets/transactionalDatabases/Transactional_chess1.csv"
      ],
      "metadata": {
        "colab": {
          "base_uri": "https://localhost:8080/"
        },
        "id": "loPz6GdK3NIJ",
        "outputId": "eafdf9b7-32d5-4bda-e0d9-7b62d18e60b3"
      },
      "execution_count": null,
      "outputs": [
        {
          "output_type": "stream",
          "name": "stdout",
          "text": [
            "--2024-06-15 17:50:44--  https://u-aizu.ac.jp/~udayrage/datasets/transactionalDatabases/Transactional_chess1.csv\n",
            "Resolving u-aizu.ac.jp (u-aizu.ac.jp)... 150.31.244.160, 150.95.161.176\n",
            "Connecting to u-aizu.ac.jp (u-aizu.ac.jp)|150.31.244.160|:443... connected.\n",
            "HTTP request sent, awaiting response... 200 OK\n",
            "Length: 341866 (334K) [text/csv]\n",
            "Saving to: ‘Transactional_chess1.csv’\n",
            "\n",
            "Transactional_chess 100%[===================>] 333.85K   269KB/s    in 1.2s    \n",
            "\n",
            "2024-06-15 17:50:46 (269 KB/s) - ‘Transactional_chess1.csv’ saved [341866/341866]\n",
            "\n"
          ]
        }
      ]
    },
    {
      "cell_type": "code",
      "source": [
        "from PAMI.extras.calculateMISValues import usingBeta as ub\n",
        "inputFile = \"Transactional_chess1.csv\"\n",
        "beta = 1.8\n",
        "LS = 500\n",
        "sep = \"\\t\"\n",
        "output = \"MIS_T12.txt\"\n",
        "cd = ub.usingBeta(inputFile, beta, LS, sep)\n",
        "cd.calculateMIS()\n",
        "cd.save(output)"
      ],
      "metadata": {
        "id": "1Nq915rG3M9O"
      },
      "execution_count": null,
      "outputs": []
    },
    {
      "cell_type": "markdown",
      "source": [
        "## Test Case1 for chess Dataset"
      ],
      "metadata": {
        "id": "egnVrUUObd30"
      }
    },
    {
      "cell_type": "code",
      "source": [
        "from PAMI.multipleMinimumSupportBasedFrequentPattern.basic import CFPGrowthPlus as alg\n",
        "import pandas as pd\n",
        "\n",
        "#Set the input parameters\n",
        "url='https://u-aizu.ac.jp/~udayrage/datasets/transactionalDatabases/Transactional_chess1.csv'\n",
        "\n",
        "MIS = 'MIS_T12.txt'\n",
        "\n",
        "seperator='\\t'\n",
        "\n",
        "betaList=[1.0, 2.0]\n",
        "\n",
        "# Initialize a data frame to store the results of CFPGrowthPlus\n",
        "result = pd.DataFrame(columns=['algorithm', 'minSup', 'patterns', 'runtime', 'memory'])\n",
        "\n",
        "# Execute the algorithm at different minSup values\n",
        "\n",
        "\n",
        "for beta in betaList:\n",
        "  from PAMI.extras.calculateMISValues import usingBeta as ub\n",
        "  inputFile = \"Transactional_chess1.csv\"\n",
        "  beta = beta\n",
        "  LS = 500\n",
        "  sep = \"\\t\"\n",
        "  output = \"MIS_T12.txt\"\n",
        "  cd = ub.usingBeta(inputFile, beta, LS, sep)\n",
        "  cd.calculateMIS()\n",
        "  cd.save(output)\n",
        "  obj = alg.CFPGrowthPlus(iFile=url, MIS=MIS, sep=seperator)\n",
        "  obj.Mine()\n",
        "  result.loc[result.shape[0]] = ['CFPGrowthPlus', beta, len(obj.getPatterns()), obj.getRuntime(), obj.getMemoryRSS()]\n",
        "\n",
        "# Print the results\n",
        "print(f\"Frequent patterns were generated successfully using CFPGrowthPlus algorithm\")\n",
        "print(result)"
      ],
      "metadata": {
        "colab": {
          "base_uri": "https://localhost:8080/"
        },
        "id": "O9wBEwB9bWoM",
        "outputId": "340d4dc8-57d9-48d7-dfc7-68e37ffcef38"
      },
      "execution_count": null,
      "outputs": [
        {
          "output_type": "stream",
          "name": "stdout",
          "text": [
            "Frequent patterns were generated successfully using frequentPatternGrowth algorithm\n",
            "Frequent patterns were generated successfully using frequentPatternGrowth algorithm\n",
            "Frequent patterns were generated successfully using CFPGrowthPlus algorithm\n",
            "       algorithm  minSup  patterns   runtime     memory\n",
            "0  CFPGrowthPlus     1.0      8561  2.939817  507248640\n",
            "1  CFPGrowthPlus     2.0      8561  3.918660  504262656\n"
          ]
        }
      ]
    },
    {
      "cell_type": "markdown",
      "source": [
        "## Test Case2 for chess Dataset"
      ],
      "metadata": {
        "id": "XO1jPjSpbtAk"
      }
    },
    {
      "cell_type": "code",
      "source": [
        "from PAMI.multipleMinimumSupportBasedFrequentPattern.basic import CFPGrowthPlus as alg\n",
        "import pandas as pd\n",
        "\n",
        "#Set the input parameters\n",
        "inputFile='Transactional_chess1.csv'\n",
        "\n",
        "MIS = 'MIS_T12.txt'\n",
        "\n",
        "seperator='\\t'\n",
        "\n",
        "betaList=[2.0, 3.0]\n",
        "\n",
        "# Initialize a data frame to store the results of CFPGrowthPlus\n",
        "result = pd.DataFrame(columns=['algorithm', 'minSup', 'patterns', 'runtime', 'memory'])\n",
        "\n",
        "# Execute the algorithm at different minSup values\n",
        "\n",
        "\n",
        "for beta in betaList:\n",
        "  from PAMI.extras.calculateMISValues import usingBeta as ub\n",
        "  inputFile = \"Transactional_chess1.csv\"\n",
        "  beta = beta\n",
        "  LS = 500\n",
        "  sep = \"\\t\"\n",
        "  output = \"MIS_T12.txt\"\n",
        "  cd = ub.usingBeta(inputFile, beta, LS, sep)\n",
        "  cd.calculateMIS()\n",
        "  cd.save(output)\n",
        "  obj = alg.CFPGrowthPlus(iFile=inputFile, MIS=MIS, sep=seperator)\n",
        "  obj.Mine()\n",
        "  result.loc[result.shape[0]] = ['CFPGrowthPlus', beta, len(obj.getPatterns()), obj.getRuntime(), obj.getMemoryRSS()]\n",
        "\n",
        "# Print the results\n",
        "print(f\"Frequent patterns were generated successfully using CFPGrowthPlus algorithm\")\n",
        "print(result)"
      ],
      "metadata": {
        "colab": {
          "base_uri": "https://localhost:8080/"
        },
        "id": "xngPA6jnbmUy",
        "outputId": "72081ad7-9d16-4823-8412-911fb1b7e338"
      },
      "execution_count": null,
      "outputs": [
        {
          "output_type": "stream",
          "name": "stdout",
          "text": [
            "Frequent patterns were generated successfully using frequentPatternGrowth algorithm\n",
            "Frequent patterns were generated successfully using frequentPatternGrowth algorithm\n",
            "Frequent patterns were generated successfully using CFPGrowthPlus algorithm\n",
            "       algorithm  minSup  patterns   runtime     memory\n",
            "0  CFPGrowthPlus     2.0      8561  1.105633  504262656\n",
            "1  CFPGrowthPlus     3.0      8561  1.076154  504262656\n"
          ]
        }
      ]
    },
    {
      "cell_type": "markdown",
      "source": [
        "## Test Case3 for chess Dataset"
      ],
      "metadata": {
        "id": "XmsIqeJXchat"
      }
    },
    {
      "cell_type": "code",
      "source": [
        "from PAMI.multipleMinimumSupportBasedFrequentPattern.basic import CFPGrowthPlus as alg\n",
        "import pandas as pd\n",
        "\n",
        "# Set the input parameters\n",
        "inputFile = 'Transactional_chess1.csv'\n",
        "separator = '\\t'\n",
        "MIS = 'MIS_T12.txt'\n",
        "LSList=[2.0, 3.0]\n",
        "\n",
        "# Read the CSV file into a DataFrame\n",
        "df = pd.read_csv(inputFile, header=[0], sep=' ')\n",
        "df = df.rename(columns={df.columns[0]: \"Transactions\"})\n",
        "\n",
        "# Ensure all data in the \"Transaction\" column is string before splitting\n",
        "df[\"Transactions\"] = df[\"Transactions\"].astype(str)\n",
        "\n",
        "# Preprocess the dataset\n",
        "# transactions = df[\"Transaction\"].apply(lambda x: x.split(separator)).tolist()\n",
        "transactions = df['Transactions'].apply(lambda x: x.split(separator))\n",
        "transactions = pd.DataFrame(transactions, columns=['Transactions'])\n",
        "\n",
        "# Initialize a data frame to store the results of CFPGrowthPlus\n",
        "result = pd.DataFrame(columns=['algorithm', 'minSup', 'patterns', 'runtime', 'memory'])\n",
        "\n",
        "# Execute the algorithm at different minSup values\n",
        "for beta in betaList:\n",
        "  from PAMI.extras.calculateMISValues import usingBeta as ub\n",
        "  inputFile = \"Transactional_chess1.csv\"\n",
        "  beta = beta\n",
        "  LS = 500\n",
        "  sep = \"\\t\"\n",
        "  output = \"MIS_T12.txt\"\n",
        "  cd = ub.usingBeta(inputFile, beta, LS, sep)\n",
        "  cd.calculateMIS()\n",
        "  cd.save(output)\n",
        "  obj = alg.CFPGrowthPlus(transactions, MIS=MIS, sep=seperator)\n",
        "  obj.Mine()\n",
        "  result.loc[result.shape[0]] = ['CFPGrowthPlus', beta, len(obj.getPatterns()), obj.getRuntime(), obj.getMemoryRSS()]\n",
        "\n",
        "# Print the results\n",
        "print(f\"Frequent patterns were generated successfully using CFPGrowthPlus algorithm\")\n",
        "print(result)\n"
      ],
      "metadata": {
        "colab": {
          "base_uri": "https://localhost:8080/"
        },
        "id": "Kk7Y5sjScZtN",
        "outputId": "f38185d6-5eb3-4cd9-c616-833f43d75558"
      },
      "execution_count": null,
      "outputs": [
        {
          "output_type": "stream",
          "name": "stdout",
          "text": [
            "Frequent patterns were generated successfully using frequentPatternGrowth algorithm\n",
            "Frequent patterns were generated successfully using frequentPatternGrowth algorithm\n",
            "Frequent patterns were generated successfully using CFPGrowthPlus algorithm\n",
            "       algorithm  minSup  patterns   runtime     memory\n",
            "0  CFPGrowthPlus     2.0      8561  1.037202  500219904\n",
            "1  CFPGrowthPlus     3.0      8561  0.963639  500219904\n"
          ]
        }
      ]
    },
    {
      "cell_type": "code",
      "source": [],
      "metadata": {
        "id": "-l1_kr6BczmN"
      },
      "execution_count": null,
      "outputs": []
    }
  ]
}