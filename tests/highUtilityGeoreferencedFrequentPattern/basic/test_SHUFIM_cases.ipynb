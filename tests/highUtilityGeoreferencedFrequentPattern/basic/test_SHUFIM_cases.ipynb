{
  "cells": [
    {
      "cell_type": "code",
      "execution_count": 1,
      "metadata": {
        "colab": {
          "base_uri": "https://localhost:8080/"
        },
        "id": "JIpQR7kqWfJ8",
        "outputId": "f9742e14-360b-4e68-e04a-4a10398d1771"
      },
      "outputs": [
        {
          "output_type": "stream",
          "name": "stdout",
          "text": [
            "Collecting pami\n",
            "  Downloading pami-2024.6.18.1-py3-none-any.whl (1.0 MB)\n",
            "\u001b[2K     \u001b[90m━━━━━━━━━━━━━━━━━━━━━━━━━━━━━━━━━━━━━━━━\u001b[0m \u001b[32m1.0/1.0 MB\u001b[0m \u001b[31m11.3 MB/s\u001b[0m eta \u001b[36m0:00:00\u001b[0m\n",
            "\u001b[?25hRequirement already satisfied: psutil in /usr/local/lib/python3.10/dist-packages (from pami) (5.9.5)\n",
            "Requirement already satisfied: pandas in /usr/local/lib/python3.10/dist-packages (from pami) (2.0.3)\n",
            "Requirement already satisfied: plotly in /usr/local/lib/python3.10/dist-packages (from pami) (5.15.0)\n",
            "Requirement already satisfied: matplotlib in /usr/local/lib/python3.10/dist-packages (from pami) (3.7.1)\n",
            "Collecting resource (from pami)\n",
            "  Downloading Resource-0.2.1-py2.py3-none-any.whl (25 kB)\n",
            "Collecting validators (from pami)\n",
            "  Downloading validators-0.28.3-py3-none-any.whl (40 kB)\n",
            "\u001b[2K     \u001b[90m━━━━━━━━━━━━━━━━━━━━━━━━━━━━━━━━━━━━━━━━\u001b[0m \u001b[32m40.0/40.0 kB\u001b[0m \u001b[31m4.8 MB/s\u001b[0m eta \u001b[36m0:00:00\u001b[0m\n",
            "\u001b[?25hRequirement already satisfied: urllib3 in /usr/local/lib/python3.10/dist-packages (from pami) (2.0.7)\n",
            "Requirement already satisfied: Pillow in /usr/local/lib/python3.10/dist-packages (from pami) (9.4.0)\n",
            "Requirement already satisfied: numpy in /usr/local/lib/python3.10/dist-packages (from pami) (1.25.2)\n",
            "Requirement already satisfied: sphinx in /usr/local/lib/python3.10/dist-packages (from pami) (5.0.2)\n",
            "Collecting sphinx-rtd-theme (from pami)\n",
            "  Downloading sphinx_rtd_theme-2.0.0-py2.py3-none-any.whl (2.8 MB)\n",
            "\u001b[2K     \u001b[90m━━━━━━━━━━━━━━━━━━━━━━━━━━━━━━━━━━━━━━━━\u001b[0m \u001b[32m2.8/2.8 MB\u001b[0m \u001b[31m51.4 MB/s\u001b[0m eta \u001b[36m0:00:00\u001b[0m\n",
            "\u001b[?25hCollecting discord.py (from pami)\n",
            "  Downloading discord.py-2.3.2-py3-none-any.whl (1.1 MB)\n",
            "\u001b[2K     \u001b[90m━━━━━━━━━━━━━━━━━━━━━━━━━━━━━━━━━━━━━━━━\u001b[0m \u001b[32m1.1/1.1 MB\u001b[0m \u001b[31m53.1 MB/s\u001b[0m eta \u001b[36m0:00:00\u001b[0m\n",
            "\u001b[?25hRequirement already satisfied: networkx in /usr/local/lib/python3.10/dist-packages (from pami) (3.3)\n",
            "Collecting deprecated (from pami)\n",
            "  Downloading Deprecated-1.2.14-py2.py3-none-any.whl (9.6 kB)\n",
            "Requirement already satisfied: wrapt<2,>=1.10 in /usr/local/lib/python3.10/dist-packages (from deprecated->pami) (1.14.1)\n",
            "Requirement already satisfied: aiohttp<4,>=3.7.4 in /usr/local/lib/python3.10/dist-packages (from discord.py->pami) (3.9.5)\n",
            "Requirement already satisfied: contourpy>=1.0.1 in /usr/local/lib/python3.10/dist-packages (from matplotlib->pami) (1.2.1)\n",
            "Requirement already satisfied: cycler>=0.10 in /usr/local/lib/python3.10/dist-packages (from matplotlib->pami) (0.12.1)\n",
            "Requirement already satisfied: fonttools>=4.22.0 in /usr/local/lib/python3.10/dist-packages (from matplotlib->pami) (4.53.0)\n",
            "Requirement already satisfied: kiwisolver>=1.0.1 in /usr/local/lib/python3.10/dist-packages (from matplotlib->pami) (1.4.5)\n",
            "Requirement already satisfied: packaging>=20.0 in /usr/local/lib/python3.10/dist-packages (from matplotlib->pami) (24.1)\n",
            "Requirement already satisfied: pyparsing>=2.3.1 in /usr/local/lib/python3.10/dist-packages (from matplotlib->pami) (3.1.2)\n",
            "Requirement already satisfied: python-dateutil>=2.7 in /usr/local/lib/python3.10/dist-packages (from matplotlib->pami) (2.8.2)\n",
            "Requirement already satisfied: pytz>=2020.1 in /usr/local/lib/python3.10/dist-packages (from pandas->pami) (2023.4)\n",
            "Requirement already satisfied: tzdata>=2022.1 in /usr/local/lib/python3.10/dist-packages (from pandas->pami) (2024.1)\n",
            "Requirement already satisfied: tenacity>=6.2.0 in /usr/local/lib/python3.10/dist-packages (from plotly->pami) (8.3.0)\n",
            "Collecting JsonForm>=0.0.2 (from resource->pami)\n",
            "  Downloading JsonForm-0.0.2.tar.gz (2.4 kB)\n",
            "  Preparing metadata (setup.py) ... \u001b[?25l\u001b[?25hdone\n",
            "Collecting JsonSir>=0.0.2 (from resource->pami)\n",
            "  Downloading JsonSir-0.0.2.tar.gz (2.2 kB)\n",
            "  Preparing metadata (setup.py) ... \u001b[?25l\u001b[?25hdone\n",
            "Collecting python-easyconfig>=0.1.0 (from resource->pami)\n",
            "  Downloading Python_EasyConfig-0.1.7-py2.py3-none-any.whl (5.4 kB)\n",
            "Requirement already satisfied: sphinxcontrib-applehelp in /usr/local/lib/python3.10/dist-packages (from sphinx->pami) (1.0.8)\n",
            "Requirement already satisfied: sphinxcontrib-devhelp in /usr/local/lib/python3.10/dist-packages (from sphinx->pami) (1.0.6)\n",
            "Requirement already satisfied: sphinxcontrib-jsmath in /usr/local/lib/python3.10/dist-packages (from sphinx->pami) (1.0.1)\n",
            "Requirement already satisfied: sphinxcontrib-htmlhelp>=2.0.0 in /usr/local/lib/python3.10/dist-packages (from sphinx->pami) (2.0.5)\n",
            "Requirement already satisfied: sphinxcontrib-serializinghtml>=1.1.5 in /usr/local/lib/python3.10/dist-packages (from sphinx->pami) (1.1.10)\n",
            "Requirement already satisfied: sphinxcontrib-qthelp in /usr/local/lib/python3.10/dist-packages (from sphinx->pami) (1.0.7)\n",
            "Requirement already satisfied: Jinja2>=2.3 in /usr/local/lib/python3.10/dist-packages (from sphinx->pami) (3.1.4)\n",
            "Requirement already satisfied: Pygments>=2.0 in /usr/local/lib/python3.10/dist-packages (from sphinx->pami) (2.16.1)\n",
            "Requirement already satisfied: docutils<0.19,>=0.14 in /usr/local/lib/python3.10/dist-packages (from sphinx->pami) (0.18.1)\n",
            "Requirement already satisfied: snowballstemmer>=1.1 in /usr/local/lib/python3.10/dist-packages (from sphinx->pami) (2.2.0)\n",
            "Requirement already satisfied: babel>=1.3 in /usr/local/lib/python3.10/dist-packages (from sphinx->pami) (2.15.0)\n",
            "Requirement already satisfied: alabaster<0.8,>=0.7 in /usr/local/lib/python3.10/dist-packages (from sphinx->pami) (0.7.16)\n",
            "Requirement already satisfied: imagesize in /usr/local/lib/python3.10/dist-packages (from sphinx->pami) (1.4.1)\n",
            "Requirement already satisfied: requests>=2.5.0 in /usr/local/lib/python3.10/dist-packages (from sphinx->pami) (2.31.0)\n",
            "Collecting sphinxcontrib-jquery<5,>=4 (from sphinx-rtd-theme->pami)\n",
            "  Downloading sphinxcontrib_jquery-4.1-py2.py3-none-any.whl (121 kB)\n",
            "\u001b[2K     \u001b[90m━━━━━━━━━━━━━━━━━━━━━━━━━━━━━━━━━━━━━━━━\u001b[0m \u001b[32m121.1/121.1 kB\u001b[0m \u001b[31m15.7 MB/s\u001b[0m eta \u001b[36m0:00:00\u001b[0m\n",
            "\u001b[?25hRequirement already satisfied: aiosignal>=1.1.2 in /usr/local/lib/python3.10/dist-packages (from aiohttp<4,>=3.7.4->discord.py->pami) (1.3.1)\n",
            "Requirement already satisfied: attrs>=17.3.0 in /usr/local/lib/python3.10/dist-packages (from aiohttp<4,>=3.7.4->discord.py->pami) (23.2.0)\n",
            "Requirement already satisfied: frozenlist>=1.1.1 in /usr/local/lib/python3.10/dist-packages (from aiohttp<4,>=3.7.4->discord.py->pami) (1.4.1)\n",
            "Requirement already satisfied: multidict<7.0,>=4.5 in /usr/local/lib/python3.10/dist-packages (from aiohttp<4,>=3.7.4->discord.py->pami) (6.0.5)\n",
            "Requirement already satisfied: yarl<2.0,>=1.0 in /usr/local/lib/python3.10/dist-packages (from aiohttp<4,>=3.7.4->discord.py->pami) (1.9.4)\n",
            "Requirement already satisfied: async-timeout<5.0,>=4.0 in /usr/local/lib/python3.10/dist-packages (from aiohttp<4,>=3.7.4->discord.py->pami) (4.0.3)\n",
            "Requirement already satisfied: MarkupSafe>=2.0 in /usr/local/lib/python3.10/dist-packages (from Jinja2>=2.3->sphinx->pami) (2.1.5)\n",
            "Requirement already satisfied: jsonschema in /usr/local/lib/python3.10/dist-packages (from JsonForm>=0.0.2->resource->pami) (4.19.2)\n",
            "Requirement already satisfied: six>=1.5 in /usr/local/lib/python3.10/dist-packages (from python-dateutil>=2.7->matplotlib->pami) (1.16.0)\n",
            "Requirement already satisfied: PyYAML in /usr/local/lib/python3.10/dist-packages (from python-easyconfig>=0.1.0->resource->pami) (6.0.1)\n",
            "Requirement already satisfied: charset-normalizer<4,>=2 in /usr/local/lib/python3.10/dist-packages (from requests>=2.5.0->sphinx->pami) (3.3.2)\n",
            "Requirement already satisfied: idna<4,>=2.5 in /usr/local/lib/python3.10/dist-packages (from requests>=2.5.0->sphinx->pami) (3.7)\n",
            "Requirement already satisfied: certifi>=2017.4.17 in /usr/local/lib/python3.10/dist-packages (from requests>=2.5.0->sphinx->pami) (2024.6.2)\n",
            "Requirement already satisfied: jsonschema-specifications>=2023.03.6 in /usr/local/lib/python3.10/dist-packages (from jsonschema->JsonForm>=0.0.2->resource->pami) (2023.12.1)\n",
            "Requirement already satisfied: referencing>=0.28.4 in /usr/local/lib/python3.10/dist-packages (from jsonschema->JsonForm>=0.0.2->resource->pami) (0.35.1)\n",
            "Requirement already satisfied: rpds-py>=0.7.1 in /usr/local/lib/python3.10/dist-packages (from jsonschema->JsonForm>=0.0.2->resource->pami) (0.18.1)\n",
            "Building wheels for collected packages: JsonForm, JsonSir\n",
            "  Building wheel for JsonForm (setup.py) ... \u001b[?25l\u001b[?25hdone\n",
            "  Created wheel for JsonForm: filename=JsonForm-0.0.2-py3-none-any.whl size=3314 sha256=76424e8ca950ff4d9252a70552b25351493d7a56db20d0a4c3f72981ca463846\n",
            "  Stored in directory: /root/.cache/pip/wheels/b6/e5/87/11026246d3bd4ad67c0615682d2d6748bbd9a40ac0490882bd\n",
            "  Building wheel for JsonSir (setup.py) ... \u001b[?25l\u001b[?25hdone\n",
            "  Created wheel for JsonSir: filename=JsonSir-0.0.2-py3-none-any.whl size=4752 sha256=a478fcbb040ececed10a3adf298c2995ad9acdc75d9c20bb9a64501488e28e1d\n",
            "  Stored in directory: /root/.cache/pip/wheels/1d/4c/d3/4d9757425983b43eb709be1043d82cd03fb863ce5f56f117e6\n",
            "Successfully built JsonForm JsonSir\n",
            "Installing collected packages: JsonSir, validators, python-easyconfig, deprecated, sphinxcontrib-jquery, discord.py, sphinx-rtd-theme, JsonForm, resource, pami\n",
            "Successfully installed JsonForm-0.0.2 JsonSir-0.0.2 deprecated-1.2.14 discord.py-2.3.2 pami-2024.6.18.1 python-easyconfig-0.1.7 resource-0.2.1 sphinx-rtd-theme-2.0.0 sphinxcontrib-jquery-4.1 validators-0.28.3\n"
          ]
        }
      ],
      "source": [
        "!pip install -U pami"
      ]
    },
    {
      "cell_type": "markdown",
      "metadata": {
        "id": "cLfV1dPzWj18"
      },
      "source": [
        "#Test Cases for T10I4D100K Dataset"
      ]
    },
    {
      "cell_type": "markdown",
      "metadata": {
        "id": "hLgApfC4W1Cn"
      },
      "source": [
        "##Test case 1 for T10I4D100K Dataset"
      ]
    },
    {
      "cell_type": "code",
      "execution_count": 2,
      "metadata": {
        "colab": {
          "base_uri": "https://localhost:8080/"
        },
        "id": "MD154VZc0RWb",
        "outputId": "883bca49-2b81-4785-9059-ee77fa1abdaf"
      },
      "outputs": [
        {
          "output_type": "stream",
          "name": "stdout",
          "text": [
            "--2024-06-18 18:57:00--  https://u-aizu.ac.jp/~udayrage/datasets/utilityDatabases/Utility_T10I4D100K.csv\n",
            "Resolving u-aizu.ac.jp (u-aizu.ac.jp)... 150.95.161.176, 150.31.244.160\n",
            "Connecting to u-aizu.ac.jp (u-aizu.ac.jp)|150.95.161.176|:443... connected.\n",
            "HTTP request sent, awaiting response... 200 OK\n",
            "Length: 7356594 (7.0M) [text/csv]\n",
            "Saving to: ‘Utility_T10I4D100K.csv’\n",
            "\n",
            "Utility_T10I4D100K. 100%[===================>]   7.02M  1.77MB/s    in 4.6s    \n",
            "\n",
            "2024-06-18 18:57:06 (1.53 MB/s) - ‘Utility_T10I4D100K.csv’ saved [7356594/7356594]\n",
            "\n"
          ]
        }
      ],
      "source": [
        "!wget https://u-aizu.ac.jp/~udayrage/datasets/utilityDatabases/Utility_T10I4D100K.csv"
      ]
    },
    {
      "cell_type": "code",
      "execution_count": 4,
      "metadata": {
        "id": "tBX90tM9WgdJ",
        "colab": {
          "base_uri": "https://localhost:8080/"
        },
        "outputId": "8d7d6566-e9f6-466f-bdd7-aecf686fbfc1"
      },
      "outputs": [
        {
          "output_type": "stream",
          "name": "stdout",
          "text": [
            "Spatial High Utility Frequent Itemsets generated successfully using SHUFIM algorithm\n",
            "Spatial High Utility Frequent Itemsets generated successfully using SHUFIM algorithm\n",
            "Spatial High Utility Frequent Itemsets generated successfully using SHUFIM algorithm\n",
            "Spatial High Utility Frequent Itemsets generated successfully using SHUFIM algorithm\n",
            "Spatial High Utility Frequent Itemsets generated successfully using SHUFIM algorithm\n",
            "High Utility Frequent patterns were generated successfully using SHUFIM algorithm\n",
            "  algorithm  minUtilCount  minSup  patterns    runtime     memory\n",
            "0    SHUFIM         30000    1000       119  22.748908  283418624\n",
            "1    SHUFIM         30000    2000        70  20.637558  280469504\n",
            "2    SHUFIM         30000    3000        33  17.024262  281534464\n",
            "3    SHUFIM         30000    4000        12  14.464717  281288704\n",
            "4    SHUFIM         30000    5000         7  12.906079  281460736\n"
          ]
        }
      ],
      "source": [
        "from PAMI.highUtilityGeoreferencedFrequentPattern.basic import SHUFIM as alg\n",
        "import pandas as pd\n",
        "\n",
        "#Set the input parameters\n",
        "url='https://u-aizu.ac.jp/~udayrage/datasets/utilityDatabases/Utility_T10I4D100K.csv'\n",
        "separetor='\\t'\n",
        "minUtilCount = 30000\n",
        "minimumSupportCountList = [1000, 2000, 3000, 4000, 5000]\n",
        "neighbourFile = 'mxt.txt'\n",
        "# Initialize a data frame to store the results of SHUFIM\n",
        "result = pd.DataFrame(columns=['algorithm', 'minUtilCount', 'minSup', 'patterns', 'runtime', 'memory'])\n",
        "\n",
        "# Execute the algorithm at different minSup values\n",
        "\n",
        "for minSupCount in minimumSupportCountList:\n",
        "  obj = alg.SHUFIM(url, nFile=neighbourFile, minUtil=minUtilCount, minSup=minSupCount, sep=separetor)\n",
        "  obj.mine()\n",
        "  #Store the results in the data frame\n",
        "  result.loc[result.shape[0]] = ['SHUFIM', minUtilCount, minSupCount, len(obj.getPatterns()), obj.getRuntime(), obj.getMemoryRSS()]\n",
        "\n",
        "# Print the results\n",
        "print(f\"High Utility Frequent patterns were generated successfully using SHUFIM algorithm\")\n",
        "print(result)"
      ]
    },
    {
      "cell_type": "markdown",
      "metadata": {
        "id": "iD56o75ZYM8g"
      },
      "source": [
        "##Test case 2 for T10I4D100K Dataset"
      ]
    },
    {
      "cell_type": "code",
      "execution_count": 5,
      "metadata": {
        "id": "vYp33_iJYtmQ",
        "colab": {
          "base_uri": "https://localhost:8080/"
        },
        "outputId": "bbfbb503-6788-4647-c21e-02ece4af0bd9"
      },
      "outputs": [
        {
          "output_type": "stream",
          "name": "stdout",
          "text": [
            "Spatial High Utility Frequent Itemsets generated successfully using SHUFIM algorithm\n",
            "Spatial High Utility Frequent Itemsets generated successfully using SHUFIM algorithm\n",
            "Spatial High Utility Frequent Itemsets generated successfully using SHUFIM algorithm\n",
            "Spatial High Utility Frequent Itemsets generated successfully using SHUFIM algorithm\n",
            "Spatial High Utility Frequent Itemsets generated successfully using SHUFIM algorithm\n",
            "High Utility Frequent patterns were generated successfully using SHUFIM algorithm\n",
            "  algorithm  minUtilCount  minSup  patterns    runtime     memory\n",
            "0    SHUFIM         30000    1000       182  28.035118  287432704\n",
            "1    SHUFIM         30000    2000        77  18.523036  287432704\n",
            "2    SHUFIM         30000    3000        35  12.858391  290676736\n",
            "3    SHUFIM         30000    4000        14  10.673617  290676736\n",
            "4    SHUFIM         30000    5000         7   8.605278  290676736\n"
          ]
        }
      ],
      "source": [
        "from PAMI.highUtilityGeoreferencedFrequentPattern.basic import SHUFIM as alg\n",
        "import pandas as pd\n",
        "\n",
        "# Set the input parameters\n",
        "inputFile = 'Utility_T10I4D100K.csv'\n",
        "separator = '\\t'\n",
        "minUtilCount = 30000\n",
        "minimumSupportCountList = [1000, 2000, 3000, 4000, 5000]\n",
        "neighbourFile = 'mxt.txt'\n",
        "\n",
        "\n",
        "# Initialize a data frame to store the results of SHUFIM\n",
        "result = pd.DataFrame(columns=['algorithm', 'minUtilCount', 'minSup', 'patterns', 'runtime', 'memory'])\n",
        "\n",
        "# Execute the algorithm at different minSup values\n",
        "for minSupCount in minimumSupportCountList:\n",
        "    obj = alg.SHUFIM(inputFile, nFile=neighbourFile, minUtil=minUtilCount, minSup=minSupCount, sep=separator)\n",
        "    obj.mine()\n",
        "    # Store the results in the data frame\n",
        "    result.loc[result.shape[0]] = ['SHUFIM', minUtilCount, minSupCount, len(obj.getPatterns()), obj.getRuntime(), obj.getMemoryRSS()]\n",
        "\n",
        "# Print the results\n",
        "print(f\"High Utility Frequent patterns were generated successfully using SHUFIM algorithm\")\n",
        "print(result)"
      ]
    },
    {
      "cell_type": "markdown",
      "metadata": {
        "id": "a-MknH0yaQge"
      },
      "source": [
        "# Test Cases Retail Dataset"
      ]
    },
    {
      "cell_type": "markdown",
      "metadata": {
        "id": "LHVv3kqHdOvB"
      },
      "source": [
        "##Test case 1 for Retail Dataset"
      ]
    },
    {
      "cell_type": "code",
      "source": [
        "!wget https://u-aizu.ac.jp/~udayrage/datasets/utilityDatabases/Utility_retail.csv"
      ],
      "metadata": {
        "id": "ZInnRG7IUBhm",
        "colab": {
          "base_uri": "https://localhost:8080/"
        },
        "outputId": "f70e6c03-6401-483a-f879-480b4b0b0352"
      },
      "execution_count": 6,
      "outputs": [
        {
          "output_type": "stream",
          "name": "stdout",
          "text": [
            "--2024-06-18 19:00:37--  https://u-aizu.ac.jp/~udayrage/datasets/utilityDatabases/Utility_retail.csv\n",
            "Resolving u-aizu.ac.jp (u-aizu.ac.jp)... 150.31.244.160, 150.95.161.176\n",
            "Connecting to u-aizu.ac.jp (u-aizu.ac.jp)|150.31.244.160|:443... connected.\n",
            "HTTP request sent, awaiting response... 200 OK\n",
            "Length: 7163550 (6.8M) [text/csv]\n",
            "Saving to: ‘Utility_retail.csv’\n",
            "\n",
            "Utility_retail.csv  100%[===================>]   6.83M  1.42MB/s    in 5.0s    \n",
            "\n",
            "2024-06-18 19:00:43 (1.36 MB/s) - ‘Utility_retail.csv’ saved [7163550/7163550]\n",
            "\n"
          ]
        }
      ]
    },
    {
      "cell_type": "code",
      "execution_count": 15,
      "metadata": {
        "id": "3y3Vyu5TaGyB",
        "colab": {
          "base_uri": "https://localhost:8080/"
        },
        "outputId": "e96792e8-7e84-4a59-a75b-d7b995b2cbf1"
      },
      "outputs": [
        {
          "output_type": "stream",
          "name": "stdout",
          "text": [
            "Spatial High Utility Frequent Itemsets generated successfully using SHUFIM algorithm\n",
            "Spatial High Utility Frequent Itemsets generated successfully using SHUFIM algorithm\n",
            "Spatial High Utility Frequent Itemsets generated successfully using SHUFIM algorithm\n",
            "Spatial High Utility Frequent Itemsets generated successfully using SHUFIM algorithm\n",
            "Spatial High Utility Frequent Itemsets generated successfully using SHUFIM algorithm\n",
            "High Utility Frequent patterns were generated successfully using SHUFIM algorithm\n",
            "  algorithm  minUtilCount  minSup  patterns    runtime     memory\n",
            "0    SHUFIM         30000    1000        53  17.687531  310185984\n",
            "1    SHUFIM         30000    2000        13  15.923772  310185984\n",
            "2    SHUFIM         30000    3000         9  14.281653  310185984\n",
            "3    SHUFIM         30000    4000         5  13.424353  310185984\n",
            "4    SHUFIM         30000    5000         5  13.093410  310185984\n"
          ]
        }
      ],
      "source": [
        "from PAMI.highUtilityGeoreferencedFrequentPattern.basic import SHUFIM as alg\n",
        "import pandas as pd\n",
        "\n",
        "#Set the input parameters\n",
        "url='https://u-aizu.ac.jp/~udayrage/datasets/utilityDatabases/Utility_retail.csv'\n",
        "separetor='\\t'\n",
        "minUtilCount = 30000\n",
        "minimumSupportCountList = [1000, 2000, 3000, 4000, 5000]\n",
        "neighbourFile = 'mxt.txt'\n",
        "# Initialize a data frame to store the results of SHUFIM\n",
        "result = pd.DataFrame(columns=['algorithm', 'minUtilCount', 'minSup', 'patterns', 'runtime', 'memory'])\n",
        "\n",
        "# Execute the algorithm at different minSup values\n",
        "\n",
        "for minSupCount in minimumSupportCountList:\n",
        "  obj = alg.SHUFIM(url, nFile=neighbourFile, minUtil=minUtilCount, minSup=minSupCount, sep=separetor)\n",
        "  obj.mine()\n",
        "  #Store the results in the data frame\n",
        "  result.loc[result.shape[0]] = ['SHUFIM', minUtilCount, minSupCount, len(obj.getPatterns()), obj.getRuntime(), obj.getMemoryRSS()]\n",
        "\n",
        "# Print the results\n",
        "print(f\"High Utility Frequent patterns were generated successfully using SHUFIM algorithm\")\n",
        "print(result)"
      ]
    },
    {
      "cell_type": "markdown",
      "metadata": {
        "id": "sBgF2j1pdYFs"
      },
      "source": [
        "##Test case 2 for Retail Dataset"
      ]
    },
    {
      "cell_type": "code",
      "execution_count": 16,
      "metadata": {
        "id": "b7DjVlh4auoH",
        "colab": {
          "base_uri": "https://localhost:8080/"
        },
        "outputId": "5c5bc988-7d94-4e51-abfb-6d4692a308cb"
      },
      "outputs": [
        {
          "output_type": "stream",
          "name": "stdout",
          "text": [
            "Spatial High Utility Frequent Itemsets generated successfully using SHUFIM algorithm\n",
            "Spatial High Utility Frequent Itemsets generated successfully using SHUFIM algorithm\n",
            "Spatial High Utility Frequent Itemsets generated successfully using SHUFIM algorithm\n",
            "Spatial High Utility Frequent Itemsets generated successfully using SHUFIM algorithm\n",
            "Spatial High Utility Frequent Itemsets generated successfully using SHUFIM algorithm\n",
            "High Utility Frequent patterns were generated successfully using SHUFIM algorithm\n",
            "  algorithm  minUtilCount  minSup  patterns    runtime     memory\n",
            "0    SHUFIM         30000    1000        50  13.276514  310185984\n",
            "1    SHUFIM         30000    2000        13  10.395320  310185984\n",
            "2    SHUFIM         30000    3000         9   9.666230  310185984\n",
            "3    SHUFIM         30000    4000         5   8.701966  310185984\n",
            "4    SHUFIM         30000    5000         5   8.458552  310185984\n"
          ]
        }
      ],
      "source": [
        "from PAMI.highUtilityGeoreferencedFrequentPattern.basic import SHUFIM as alg\n",
        "import pandas as pd\n",
        "\n",
        "#Set the input parameters\n",
        "inputFile='Utility_retail.csv'\n",
        "separetor='\\t'\n",
        "minUtilCount = 30000\n",
        "minimumSupportCountList = [1000, 2000, 3000, 4000, 5000]\n",
        "neighbourFile = 'mxt.txt'\n",
        "# Initialize a data frame to store the results of SHUFIM\n",
        "result = pd.DataFrame(columns=['algorithm', 'minUtilCount', 'minSup', 'patterns', 'runtime', 'memory'])\n",
        "\n",
        "# Execute the algorithm at different minSup values\n",
        "\n",
        "for minSupCount in minimumSupportCountList:\n",
        "  obj = alg.SHUFIM(inputFile, nFile=neighbourFile, minUtil=minUtilCount, minSup=minSupCount, sep=separetor)\n",
        "  obj.mine()\n",
        "  #Store the results in the data frame\n",
        "  result.loc[result.shape[0]] = ['SHUFIM', minUtilCount, minSupCount, len(obj.getPatterns()), obj.getRuntime(), obj.getMemoryRSS()]\n",
        "\n",
        "# Print the results\n",
        "print(f\"High Utility Frequent patterns were generated successfully using SHUFIM algorithm\")\n",
        "print(result)"
      ]
    },
    {
      "cell_type": "markdown",
      "source": [
        "#Test cases for Cases for T20I6D100K Dataset"
      ],
      "metadata": {
        "id": "MefY4fsiuVTY"
      }
    },
    {
      "cell_type": "code",
      "source": [
        "!wget https://u-aizu.ac.jp/~udayrage/datasets/utilityDatabases/Utility_T20I6D100K.csv"
      ],
      "metadata": {
        "colab": {
          "base_uri": "https://localhost:8080/"
        },
        "id": "ELCHwCGRvROt",
        "outputId": "3c4c5fd5-e36f-4b53-8b37-8a3660112288"
      },
      "execution_count": 11,
      "outputs": [
        {
          "output_type": "stream",
          "name": "stdout",
          "text": [
            "--2024-06-18 19:05:12--  https://u-aizu.ac.jp/~udayrage/datasets/utilityDatabases/Utility_T20I6D100K.csv\n",
            "Resolving u-aizu.ac.jp (u-aizu.ac.jp)... 150.31.244.160, 150.95.161.176\n",
            "Connecting to u-aizu.ac.jp (u-aizu.ac.jp)|150.31.244.160|:443... connected.\n",
            "HTTP request sent, awaiting response... 200 OK\n",
            "Length: 14063394 (13M) [text/csv]\n",
            "Saving to: ‘Utility_T20I6D100K.csv’\n",
            "\n",
            "Utility_T20I6D100K. 100%[===================>]  13.41M  2.30MB/s    in 8.8s    \n",
            "\n",
            "2024-06-18 19:05:22 (1.53 MB/s) - ‘Utility_T20I6D100K.csv’ saved [14063394/14063394]\n",
            "\n"
          ]
        }
      ]
    },
    {
      "cell_type": "markdown",
      "source": [
        "##Test case 1 for for T20I6D100K Dataset"
      ],
      "metadata": {
        "id": "9GsqO25NuWan"
      }
    },
    {
      "cell_type": "code",
      "source": [
        "from PAMI.highUtilityGeoreferencedFrequentPattern.basic import SHUFIM as alg\n",
        "import pandas as pd\n",
        "\n",
        "#Set the input parameters\n",
        "url='https://u-aizu.ac.jp/~udayrage/datasets/utilityDatabases/Utility_T20I6D100K.csv'\n",
        "separetor='\\t'\n",
        "minUtilCount = 30000\n",
        "minimumSupportCountList = [5000, 6000, 7000, 8000]\n",
        "neighbourFile = 'mxt.txt'\n",
        "# Initialize a data frame to store the results of SHUFIM\n",
        "result = pd.DataFrame(columns=['algorithm', 'minUtilCount', 'minSup', 'patterns', 'runtime', 'memory'])\n",
        "\n",
        "# Execute the algorithm at different minSup values\n",
        "\n",
        "for minSupCount in minimumSupportCountList:\n",
        "  obj = alg.SHUFIM(url, nFile=neighbourFile, minUtil=minUtilCount, minSup=minSupCount, sep=separetor)\n",
        "  obj.mine()\n",
        "  #Store the results in the data frame\n",
        "  result.loc[result.shape[0]] = ['SHUFIM', minUtilCount, minSupCount, len(obj.getPatterns()), obj.getRuntime(), obj.getMemoryRSS()]\n",
        "\n",
        "# Print the results\n",
        "print(f\"High Utility Frequent patterns were generated successfully using SHUFIM algorithm\")\n",
        "print(result)"
      ],
      "metadata": {
        "colab": {
          "base_uri": "https://localhost:8080/"
        },
        "id": "Fez2yKLQvT1b",
        "outputId": "b2533785-6146-4473-93d3-61bccbb266d7"
      },
      "execution_count": 12,
      "outputs": [
        {
          "output_type": "stream",
          "name": "stdout",
          "text": [
            "Spatial High Utility Frequent Itemsets generated successfully using SHUFIM algorithm\n",
            "Spatial High Utility Frequent Itemsets generated successfully using SHUFIM algorithm\n",
            "Spatial High Utility Frequent Itemsets generated successfully using SHUFIM algorithm\n",
            "Spatial High Utility Frequent Itemsets generated successfully using SHUFIM algorithm\n",
            "High Utility Frequent patterns were generated successfully using SHUFIM algorithm\n",
            "  algorithm  minUtilCount  minSup  patterns    runtime     memory\n",
            "0    SHUFIM         30000    5000        51  38.349189  315195392\n",
            "1    SHUFIM         30000    6000        39  34.964547  314257408\n",
            "2    SHUFIM         30000    7000        22  27.167310  314826752\n",
            "3    SHUFIM         30000    8000        15  24.192930  314802176\n"
          ]
        }
      ]
    },
    {
      "cell_type": "markdown",
      "source": [
        "##Test case 2 for for T20I6D100K Dataset"
      ],
      "metadata": {
        "id": "6yyBqtQZuaNb"
      }
    },
    {
      "cell_type": "code",
      "source": [
        "from PAMI.highUtilityGeoreferencedFrequentPattern.basic import SHUFIM as alg\n",
        "import pandas as pd\n",
        "\n",
        "#Set the input parameters\n",
        "inputFile='Utility_T20I6D100K.csv'\n",
        "separetor='\\t'\n",
        "minUtilCount = 30000\n",
        "minimumSupportCountList = [5000, 6000, 7000, 8000]\n",
        "neighbourFile = 'mxt.txt'\n",
        "# Initialize a data frame to store the results of SHUFIM\n",
        "result = pd.DataFrame(columns=['algorithm', 'minUtilCount', 'minSup', 'patterns', 'runtime', 'memory'])\n",
        "\n",
        "# Execute the algorithm at different minSup values\n",
        "\n",
        "for minSupCount in minimumSupportCountList:\n",
        "  obj = alg.SHUFIM(inputFile, nFile=neighbourFile, minUtil=minUtilCount, minSup=minSupCount, sep=separetor)\n",
        "  obj.mine()\n",
        "  #Store the results in the data frame\n",
        "  result.loc[result.shape[0]] = ['SHUFIM', minUtilCount, minSupCount, len(obj.getPatterns()), obj.getRuntime(), obj.getMemoryRSS()]\n",
        "\n",
        "# Print the results\n",
        "print(f\"High Utility Frequent patterns were generated successfully using SHUFIM algorithm\")\n",
        "print(result)"
      ],
      "metadata": {
        "id": "gWee4NS83SwJ",
        "colab": {
          "base_uri": "https://localhost:8080/"
        },
        "outputId": "bb0b4197-cd02-4524-92a0-3379ab544c9d"
      },
      "execution_count": 13,
      "outputs": [
        {
          "output_type": "stream",
          "name": "stdout",
          "text": [
            "Spatial High Utility Frequent Itemsets generated successfully using SHUFIM algorithm\n",
            "Spatial High Utility Frequent Itemsets generated successfully using SHUFIM algorithm\n",
            "Spatial High Utility Frequent Itemsets generated successfully using SHUFIM algorithm\n",
            "Spatial High Utility Frequent Itemsets generated successfully using SHUFIM algorithm\n",
            "High Utility Frequent patterns were generated successfully using SHUFIM algorithm\n",
            "  algorithm  minUtilCount  minSup  patterns    runtime     memory\n",
            "0    SHUFIM         30000    5000        59  34.660894  315342848\n",
            "1    SHUFIM         30000    6000        40  28.518160  315342848\n",
            "2    SHUFIM         30000    7000        22  24.214419  315342848\n",
            "3    SHUFIM         30000    8000        15  21.326458  315342848\n"
          ]
        }
      ]
    },
    {
      "cell_type": "code",
      "source": [],
      "metadata": {
        "id": "gQ1Ev431v4Yr"
      },
      "execution_count": null,
      "outputs": []
    }
  ],
  "metadata": {
    "colab": {
      "provenance": []
    },
    "kernelspec": {
      "display_name": "Python 3",
      "name": "python3"
    },
    "language_info": {
      "name": "python"
    }
  },
  "nbformat": 4,
  "nbformat_minor": 0
}