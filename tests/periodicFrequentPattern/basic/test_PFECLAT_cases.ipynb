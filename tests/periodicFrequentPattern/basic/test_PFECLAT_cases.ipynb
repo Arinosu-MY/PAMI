{
  "nbformat": 4,
  "nbformat_minor": 0,
  "metadata": {
    "colab": {
      "provenance": []
    },
    "kernelspec": {
      "name": "python3",
      "display_name": "Python 3"
    },
    "language_info": {
      "name": "python"
    }
  },
  "cells": [
    {
      "cell_type": "code",
      "source": [
        "!pip install -U pami"
      ],
      "metadata": {
        "colab": {
          "base_uri": "https://localhost:8080/"
        },
        "id": "JIpQR7kqWfJ8",
        "outputId": "77255ca1-960c-4b18-fdea-5d2768eed18c"
      },
      "execution_count": 1,
      "outputs": [
        {
          "output_type": "stream",
          "name": "stdout",
          "text": [
            "Collecting pami\n",
            "  Downloading pami-2024.6.18.1-py3-none-any.whl (1.0 MB)\n",
            "\u001b[2K     \u001b[90m━━━━━━━━━━━━━━━━━━━━━━━━━━━━━━━━━━━━━━━━\u001b[0m \u001b[32m1.0/1.0 MB\u001b[0m \u001b[31m7.9 MB/s\u001b[0m eta \u001b[36m0:00:00\u001b[0m\n",
            "\u001b[?25hRequirement already satisfied: psutil in /usr/local/lib/python3.10/dist-packages (from pami) (5.9.5)\n",
            "Requirement already satisfied: pandas in /usr/local/lib/python3.10/dist-packages (from pami) (2.0.3)\n",
            "Requirement already satisfied: plotly in /usr/local/lib/python3.10/dist-packages (from pami) (5.15.0)\n",
            "Requirement already satisfied: matplotlib in /usr/local/lib/python3.10/dist-packages (from pami) (3.7.1)\n",
            "Collecting resource (from pami)\n",
            "  Downloading Resource-0.2.1-py2.py3-none-any.whl (25 kB)\n",
            "Collecting validators (from pami)\n",
            "  Downloading validators-0.28.3-py3-none-any.whl (40 kB)\n",
            "\u001b[2K     \u001b[90m━━━━━━━━━━━━━━━━━━━━━━━━━━━━━━━━━━━━━━━━\u001b[0m \u001b[32m40.0/40.0 kB\u001b[0m \u001b[31m3.5 MB/s\u001b[0m eta \u001b[36m0:00:00\u001b[0m\n",
            "\u001b[?25hRequirement already satisfied: urllib3 in /usr/local/lib/python3.10/dist-packages (from pami) (2.0.7)\n",
            "Requirement already satisfied: Pillow in /usr/local/lib/python3.10/dist-packages (from pami) (9.4.0)\n",
            "Requirement already satisfied: numpy in /usr/local/lib/python3.10/dist-packages (from pami) (1.25.2)\n",
            "Requirement already satisfied: sphinx in /usr/local/lib/python3.10/dist-packages (from pami) (5.0.2)\n",
            "Collecting sphinx-rtd-theme (from pami)\n",
            "  Downloading sphinx_rtd_theme-2.0.0-py2.py3-none-any.whl (2.8 MB)\n",
            "\u001b[2K     \u001b[90m━━━━━━━━━━━━━━━━━━━━━━━━━━━━━━━━━━━━━━━━\u001b[0m \u001b[32m2.8/2.8 MB\u001b[0m \u001b[31m20.0 MB/s\u001b[0m eta \u001b[36m0:00:00\u001b[0m\n",
            "\u001b[?25hCollecting discord.py (from pami)\n",
            "  Downloading discord.py-2.3.2-py3-none-any.whl (1.1 MB)\n",
            "\u001b[2K     \u001b[90m━━━━━━━━━━━━━━━━━━━━━━━━━━━━━━━━━━━━━━━━\u001b[0m \u001b[32m1.1/1.1 MB\u001b[0m \u001b[31m21.3 MB/s\u001b[0m eta \u001b[36m0:00:00\u001b[0m\n",
            "\u001b[?25hRequirement already satisfied: networkx in /usr/local/lib/python3.10/dist-packages (from pami) (3.3)\n",
            "Collecting deprecated (from pami)\n",
            "  Downloading Deprecated-1.2.14-py2.py3-none-any.whl (9.6 kB)\n",
            "Requirement already satisfied: wrapt<2,>=1.10 in /usr/local/lib/python3.10/dist-packages (from deprecated->pami) (1.14.1)\n",
            "Requirement already satisfied: aiohttp<4,>=3.7.4 in /usr/local/lib/python3.10/dist-packages (from discord.py->pami) (3.9.5)\n",
            "Requirement already satisfied: contourpy>=1.0.1 in /usr/local/lib/python3.10/dist-packages (from matplotlib->pami) (1.2.1)\n",
            "Requirement already satisfied: cycler>=0.10 in /usr/local/lib/python3.10/dist-packages (from matplotlib->pami) (0.12.1)\n",
            "Requirement already satisfied: fonttools>=4.22.0 in /usr/local/lib/python3.10/dist-packages (from matplotlib->pami) (4.53.0)\n",
            "Requirement already satisfied: kiwisolver>=1.0.1 in /usr/local/lib/python3.10/dist-packages (from matplotlib->pami) (1.4.5)\n",
            "Requirement already satisfied: packaging>=20.0 in /usr/local/lib/python3.10/dist-packages (from matplotlib->pami) (24.1)\n",
            "Requirement already satisfied: pyparsing>=2.3.1 in /usr/local/lib/python3.10/dist-packages (from matplotlib->pami) (3.1.2)\n",
            "Requirement already satisfied: python-dateutil>=2.7 in /usr/local/lib/python3.10/dist-packages (from matplotlib->pami) (2.8.2)\n",
            "Requirement already satisfied: pytz>=2020.1 in /usr/local/lib/python3.10/dist-packages (from pandas->pami) (2023.4)\n",
            "Requirement already satisfied: tzdata>=2022.1 in /usr/local/lib/python3.10/dist-packages (from pandas->pami) (2024.1)\n",
            "Requirement already satisfied: tenacity>=6.2.0 in /usr/local/lib/python3.10/dist-packages (from plotly->pami) (8.3.0)\n",
            "Collecting JsonForm>=0.0.2 (from resource->pami)\n",
            "  Downloading JsonForm-0.0.2.tar.gz (2.4 kB)\n",
            "  Preparing metadata (setup.py) ... \u001b[?25l\u001b[?25hdone\n",
            "Collecting JsonSir>=0.0.2 (from resource->pami)\n",
            "  Downloading JsonSir-0.0.2.tar.gz (2.2 kB)\n",
            "  Preparing metadata (setup.py) ... \u001b[?25l\u001b[?25hdone\n",
            "Collecting python-easyconfig>=0.1.0 (from resource->pami)\n",
            "  Downloading Python_EasyConfig-0.1.7-py2.py3-none-any.whl (5.4 kB)\n",
            "Requirement already satisfied: sphinxcontrib-applehelp in /usr/local/lib/python3.10/dist-packages (from sphinx->pami) (1.0.8)\n",
            "Requirement already satisfied: sphinxcontrib-devhelp in /usr/local/lib/python3.10/dist-packages (from sphinx->pami) (1.0.6)\n",
            "Requirement already satisfied: sphinxcontrib-jsmath in /usr/local/lib/python3.10/dist-packages (from sphinx->pami) (1.0.1)\n",
            "Requirement already satisfied: sphinxcontrib-htmlhelp>=2.0.0 in /usr/local/lib/python3.10/dist-packages (from sphinx->pami) (2.0.5)\n",
            "Requirement already satisfied: sphinxcontrib-serializinghtml>=1.1.5 in /usr/local/lib/python3.10/dist-packages (from sphinx->pami) (1.1.10)\n",
            "Requirement already satisfied: sphinxcontrib-qthelp in /usr/local/lib/python3.10/dist-packages (from sphinx->pami) (1.0.7)\n",
            "Requirement already satisfied: Jinja2>=2.3 in /usr/local/lib/python3.10/dist-packages (from sphinx->pami) (3.1.4)\n",
            "Requirement already satisfied: Pygments>=2.0 in /usr/local/lib/python3.10/dist-packages (from sphinx->pami) (2.16.1)\n",
            "Requirement already satisfied: docutils<0.19,>=0.14 in /usr/local/lib/python3.10/dist-packages (from sphinx->pami) (0.18.1)\n",
            "Requirement already satisfied: snowballstemmer>=1.1 in /usr/local/lib/python3.10/dist-packages (from sphinx->pami) (2.2.0)\n",
            "Requirement already satisfied: babel>=1.3 in /usr/local/lib/python3.10/dist-packages (from sphinx->pami) (2.15.0)\n",
            "Requirement already satisfied: alabaster<0.8,>=0.7 in /usr/local/lib/python3.10/dist-packages (from sphinx->pami) (0.7.16)\n",
            "Requirement already satisfied: imagesize in /usr/local/lib/python3.10/dist-packages (from sphinx->pami) (1.4.1)\n",
            "Requirement already satisfied: requests>=2.5.0 in /usr/local/lib/python3.10/dist-packages (from sphinx->pami) (2.31.0)\n",
            "Collecting sphinxcontrib-jquery<5,>=4 (from sphinx-rtd-theme->pami)\n",
            "  Downloading sphinxcontrib_jquery-4.1-py2.py3-none-any.whl (121 kB)\n",
            "\u001b[2K     \u001b[90m━━━━━━━━━━━━━━━━━━━━━━━━━━━━━━━━━━━━━━━━\u001b[0m \u001b[32m121.1/121.1 kB\u001b[0m \u001b[31m11.5 MB/s\u001b[0m eta \u001b[36m0:00:00\u001b[0m\n",
            "\u001b[?25hRequirement already satisfied: aiosignal>=1.1.2 in /usr/local/lib/python3.10/dist-packages (from aiohttp<4,>=3.7.4->discord.py->pami) (1.3.1)\n",
            "Requirement already satisfied: attrs>=17.3.0 in /usr/local/lib/python3.10/dist-packages (from aiohttp<4,>=3.7.4->discord.py->pami) (23.2.0)\n",
            "Requirement already satisfied: frozenlist>=1.1.1 in /usr/local/lib/python3.10/dist-packages (from aiohttp<4,>=3.7.4->discord.py->pami) (1.4.1)\n",
            "Requirement already satisfied: multidict<7.0,>=4.5 in /usr/local/lib/python3.10/dist-packages (from aiohttp<4,>=3.7.4->discord.py->pami) (6.0.5)\n",
            "Requirement already satisfied: yarl<2.0,>=1.0 in /usr/local/lib/python3.10/dist-packages (from aiohttp<4,>=3.7.4->discord.py->pami) (1.9.4)\n",
            "Requirement already satisfied: async-timeout<5.0,>=4.0 in /usr/local/lib/python3.10/dist-packages (from aiohttp<4,>=3.7.4->discord.py->pami) (4.0.3)\n",
            "Requirement already satisfied: MarkupSafe>=2.0 in /usr/local/lib/python3.10/dist-packages (from Jinja2>=2.3->sphinx->pami) (2.1.5)\n",
            "Requirement already satisfied: jsonschema in /usr/local/lib/python3.10/dist-packages (from JsonForm>=0.0.2->resource->pami) (4.19.2)\n",
            "Requirement already satisfied: six>=1.5 in /usr/local/lib/python3.10/dist-packages (from python-dateutil>=2.7->matplotlib->pami) (1.16.0)\n",
            "Requirement already satisfied: PyYAML in /usr/local/lib/python3.10/dist-packages (from python-easyconfig>=0.1.0->resource->pami) (6.0.1)\n",
            "Requirement already satisfied: charset-normalizer<4,>=2 in /usr/local/lib/python3.10/dist-packages (from requests>=2.5.0->sphinx->pami) (3.3.2)\n",
            "Requirement already satisfied: idna<4,>=2.5 in /usr/local/lib/python3.10/dist-packages (from requests>=2.5.0->sphinx->pami) (3.7)\n",
            "Requirement already satisfied: certifi>=2017.4.17 in /usr/local/lib/python3.10/dist-packages (from requests>=2.5.0->sphinx->pami) (2024.6.2)\n",
            "Requirement already satisfied: jsonschema-specifications>=2023.03.6 in /usr/local/lib/python3.10/dist-packages (from jsonschema->JsonForm>=0.0.2->resource->pami) (2023.12.1)\n",
            "Requirement already satisfied: referencing>=0.28.4 in /usr/local/lib/python3.10/dist-packages (from jsonschema->JsonForm>=0.0.2->resource->pami) (0.35.1)\n",
            "Requirement already satisfied: rpds-py>=0.7.1 in /usr/local/lib/python3.10/dist-packages (from jsonschema->JsonForm>=0.0.2->resource->pami) (0.18.1)\n",
            "Building wheels for collected packages: JsonForm, JsonSir\n",
            "  Building wheel for JsonForm (setup.py) ... \u001b[?25l\u001b[?25hdone\n",
            "  Created wheel for JsonForm: filename=JsonForm-0.0.2-py3-none-any.whl size=3314 sha256=8d5eff871bca868e5ed13fff757f2f89120e74476108c9de20903107f5f18f5c\n",
            "  Stored in directory: /root/.cache/pip/wheels/b6/e5/87/11026246d3bd4ad67c0615682d2d6748bbd9a40ac0490882bd\n",
            "  Building wheel for JsonSir (setup.py) ... \u001b[?25l\u001b[?25hdone\n",
            "  Created wheel for JsonSir: filename=JsonSir-0.0.2-py3-none-any.whl size=4752 sha256=a0bada387a115849e60204e9fcf4f8f2d6692207346cc21bbdc7a2e7506171a9\n",
            "  Stored in directory: /root/.cache/pip/wheels/1d/4c/d3/4d9757425983b43eb709be1043d82cd03fb863ce5f56f117e6\n",
            "Successfully built JsonForm JsonSir\n",
            "Installing collected packages: JsonSir, validators, python-easyconfig, deprecated, sphinxcontrib-jquery, discord.py, sphinx-rtd-theme, JsonForm, resource, pami\n",
            "Successfully installed JsonForm-0.0.2 JsonSir-0.0.2 deprecated-1.2.14 discord.py-2.3.2 pami-2024.6.18.1 python-easyconfig-0.1.7 resource-0.2.1 sphinx-rtd-theme-2.0.0 sphinxcontrib-jquery-4.1 validators-0.28.3\n"
          ]
        }
      ]
    },
    {
      "cell_type": "markdown",
      "source": [
        "#Test Cases for T10I4D100K Dataset"
      ],
      "metadata": {
        "id": "cLfV1dPzWj18"
      }
    },
    {
      "cell_type": "markdown",
      "source": [
        "##Test case 1 for T10I4D100K Dataset"
      ],
      "metadata": {
        "id": "hLgApfC4W1Cn"
      }
    },
    {
      "cell_type": "code",
      "source": [
        "!wget https://u-aizu.ac.jp/~udayrage/datasets/temporalDatabases/Temporal_T10I4D100K.csv"
      ],
      "metadata": {
        "colab": {
          "base_uri": "https://localhost:8080/"
        },
        "id": "QKsa0UROpytB",
        "outputId": "793fb914-c46b-48a1-c171-5850bcb39a9f"
      },
      "execution_count": 2,
      "outputs": [
        {
          "output_type": "stream",
          "name": "stdout",
          "text": [
            "--2024-06-18 18:19:45--  https://u-aizu.ac.jp/~udayrage/datasets/temporalDatabases/Temporal_T10I4D100K.csv\n",
            "Resolving u-aizu.ac.jp (u-aizu.ac.jp)... 150.95.161.176, 150.31.244.160\n",
            "Connecting to u-aizu.ac.jp (u-aizu.ac.jp)|150.95.161.176|:443... connected.\n",
            "HTTP request sent, awaiting response... 200 OK\n",
            "Length: 4606762 (4.4M) [text/csv]\n",
            "Saving to: ‘Temporal_T10I4D100K.csv’\n",
            "\n",
            "Temporal_T10I4D100K 100%[===================>]   4.39M   662KB/s    in 8.2s    \n",
            "\n",
            "2024-06-18 18:19:54 (548 KB/s) - ‘Temporal_T10I4D100K.csv’ saved [4606762/4606762]\n",
            "\n"
          ]
        }
      ]
    },
    {
      "cell_type": "code",
      "source": [
        "from PAMI.periodicFrequentPattern.basic import PFECLAT  as alg\n",
        "import pandas as pd\n",
        "\n",
        "#Set the input parameters\n",
        "url='https://u-aizu.ac.jp/~udayrage/datasets/temporalDatabases/Temporal_T10I4D100K.csv'\n",
        "separetor='\\t'\n",
        "maximumPeriodCount = 5000\n",
        "MinimumSupportCountList=[100, 150, 200, 250, 300]\n",
        "\n",
        "# Initialize a data frame to store the results of PFECLAT\n",
        "result = pd.DataFrame(columns=['algorithm', 'minSup', 'maximumPeriodCount', 'patterns', 'runtime', 'memory'])\n",
        "\n",
        "# Execute the algorithm at different minSup values\n",
        "\n",
        "for minSupCount in MinimumSupportCountList:\n",
        "  obj = alg.PFECLAT(url, minSup=minSupCount, maxPer=maximumPeriodCount, sep=separetor)\n",
        "  obj.mine()\n",
        "  #Store the results in the data frame\n",
        "  result.loc[result.shape[0]] = ['PFECLAT', minSupCount, maximumPeriodCount, len(obj.getPatterns()), obj.getRuntime(), obj.getMemoryRSS()]\n",
        "\n",
        "# Print the results\n",
        "print(f\"Periodic Frequent patterns were generated successfully using PFECLAT algorithm\")\n",
        "print(result)"
      ],
      "metadata": {
        "colab": {
          "base_uri": "https://localhost:8080/"
        },
        "id": "tBX90tM9WgdJ",
        "outputId": "573375e0-df9d-46e7-c613-d9906e66d6f2"
      },
      "execution_count": 3,
      "outputs": [
        {
          "output_type": "stream",
          "name": "stdout",
          "text": [
            "Periodic-Frequent patterns were generated successfully using PFECLAT algorithm \n",
            "Periodic-Frequent patterns were generated successfully using PFECLAT algorithm \n",
            "Periodic-Frequent patterns were generated successfully using PFECLAT algorithm \n",
            "Periodic-Frequent patterns were generated successfully using PFECLAT algorithm \n",
            "Periodic-Frequent patterns were generated successfully using PFECLAT algorithm \n",
            "Periodic Frequent patterns were generated successfully using PFECLAT algorithm\n",
            "  algorithm  minSup  maximumPeriodCount  patterns    runtime     memory\n",
            "0   PFECLAT     100                5000     25454  35.579241  914210816\n",
            "1   PFECLAT     150                5000     18976  30.538928  909402112\n",
            "2   PFECLAT     200                5000     13231  27.782434  906158080\n",
            "3   PFECLAT     250                5000      7673  25.604197  902586368\n",
            "4   PFECLAT     300                5000      4529  24.041107  900198400\n"
          ]
        }
      ]
    },
    {
      "cell_type": "markdown",
      "source": [
        "##Test case 2 for T10I4D100K Dataset"
      ],
      "metadata": {
        "id": "iD56o75ZYM8g"
      }
    },
    {
      "cell_type": "code",
      "source": [
        "from PAMI.periodicFrequentPattern.basic import PFECLAT  as alg\n",
        "import pandas as pd\n",
        "\n",
        "# Set the input parameters\n",
        "inputFile = 'Temporal_T10I4D100K.csv'\n",
        "separator = '\\t'\n",
        "maximumPeriodCount = 5000\n",
        "MinimumSupportCountList = [100, 150, 200, 250, 300]\n",
        "\n",
        "# Initialize a data frame to store the results of PFECLAT\n",
        "result = pd.DataFrame(columns=['algorithm', 'minSup', 'maximumPeriodCount','patterns', 'runtime', 'memory'])\n",
        "\n",
        "# Execute the algorithm at different minSup values\n",
        "for minSupCount in MinimumSupportCountList:\n",
        "    obj = alg.PFECLAT(inputFile, minSup=minSupCount, maxPer=maximumPeriodCount, sep=separator)\n",
        "    obj.mine()\n",
        "    # Store the results in the data frame\n",
        "    result.loc[result.shape[0]] = ['PFECLAT', minSupCount, maximumPeriodCount, len(obj.getPatterns()), obj.getRuntime(), obj.getMemoryRSS()]\n",
        "\n",
        "# Print the results\n",
        "print(f\"Frequent patterns were generated successfully using PFECLAT algorithm\")\n",
        "print(result)"
      ],
      "metadata": {
        "colab": {
          "base_uri": "https://localhost:8080/"
        },
        "id": "vYp33_iJYtmQ",
        "outputId": "5dd0df69-5fa3-4f70-ecda-d74bd4d6ee1b"
      },
      "execution_count": 4,
      "outputs": [
        {
          "output_type": "stream",
          "name": "stdout",
          "text": [
            "Periodic-Frequent patterns were generated successfully using PFECLAT algorithm \n",
            "Periodic-Frequent patterns were generated successfully using PFECLAT algorithm \n",
            "Periodic-Frequent patterns were generated successfully using PFECLAT algorithm \n",
            "Periodic-Frequent patterns were generated successfully using PFECLAT algorithm \n",
            "Periodic-Frequent patterns were generated successfully using PFECLAT algorithm \n",
            "Frequent patterns were generated successfully using PFECLAT algorithm\n",
            "  algorithm  minSup  maximumPeriodCount  patterns    runtime     memory\n",
            "0   PFECLAT     100                5000     25454  31.690327  915718144\n",
            "1   PFECLAT     150                5000     18976  27.101280  908615680\n",
            "2   PFECLAT     200                5000     13231  24.522442  915865600\n",
            "3   PFECLAT     250                5000      7673  22.898355  927293440\n",
            "4   PFECLAT     300                5000      4529  25.732826  898228224\n"
          ]
        }
      ]
    },
    {
      "cell_type": "markdown",
      "source": [
        "# Test Cases Retail Dataset"
      ],
      "metadata": {
        "id": "a-MknH0yaQge"
      }
    },
    {
      "cell_type": "code",
      "source": [
        "!wget https://u-aizu.ac.jp/~udayrage/datasets/temporalDatabases/Temporal_retail.csv"
      ],
      "metadata": {
        "colab": {
          "base_uri": "https://localhost:8080/"
        },
        "id": "6WTLALbsk6tR",
        "outputId": "6aa23948-9e4b-43b3-c8f4-8be498b59173"
      },
      "execution_count": 5,
      "outputs": [
        {
          "output_type": "stream",
          "name": "stdout",
          "text": [
            "--2024-06-18 18:24:33--  https://u-aizu.ac.jp/~udayrage/datasets/temporalDatabases/Temporal_retail.csv\n",
            "Resolving u-aizu.ac.jp (u-aizu.ac.jp)... 150.95.161.176, 150.31.244.160\n",
            "Connecting to u-aizu.ac.jp (u-aizu.ac.jp)|150.95.161.176|:443... connected.\n",
            "HTTP request sent, awaiting response... 200 OK\n",
            "Length: 4677834 (4.5M) [text/csv]\n",
            "Saving to: ‘Temporal_retail.csv’\n",
            "\n",
            "Temporal_retail.csv 100%[===================>]   4.46M  1.43MB/s    in 3.1s    \n",
            "\n",
            "2024-06-18 18:24:37 (1.43 MB/s) - ‘Temporal_retail.csv’ saved [4677834/4677834]\n",
            "\n"
          ]
        }
      ]
    },
    {
      "cell_type": "markdown",
      "source": [
        "##Test case 1 for Retail Dataset"
      ],
      "metadata": {
        "id": "LHVv3kqHdOvB"
      }
    },
    {
      "cell_type": "code",
      "source": [
        "from PAMI.periodicFrequentPattern.basic import PFECLAT  as alg\n",
        "import pandas as pd\n",
        "# Set the input parameters\n",
        "URL = 'https://u-aizu.ac.jp/~udayrage/datasets/temporalDatabases/Temporal_retail.csv'\n",
        "separator = '\\t'\n",
        "maximumPeriodCount = 5000\n",
        "minimumSupportCountList = [100, 150, 200, 250, 300]\n",
        "\n",
        "# Initialize a data frame to store the results of PFECLAT\n",
        "result = pd.DataFrame(columns=['algorithm', 'minSup', 'maximumPeriodCount', 'patterns', 'runtime', 'memory'])\n",
        "\n",
        "# Execute the algorithm at different minSup values\n",
        "for minSupCount in minimumSupportCountList:\n",
        "    obj = alg.PFECLAT(URL, minSup=minSupCount, maxPer=maximumPeriodCount, sep=separator)\n",
        "    obj.mine()\n",
        "    # Store the results in the data frame\n",
        "    result.loc[result.shape[0]] = ['PFECLAT', minSupCount, maximumPeriodCount, len(obj.getPatterns()), obj.getRuntime(), obj.getMemoryRSS()]\n",
        "\n",
        "# Print the results\n",
        "print(f\"Frequent patterns were generated successfully using PFECLAT algorithm\")\n",
        "print(result)"
      ],
      "metadata": {
        "colab": {
          "base_uri": "https://localhost:8080/"
        },
        "id": "3y3Vyu5TaGyB",
        "outputId": "82c0bd86-8800-4c2c-ffa5-b09c90d9212c"
      },
      "execution_count": 6,
      "outputs": [
        {
          "output_type": "stream",
          "name": "stdout",
          "text": [
            "Periodic-Frequent patterns were generated successfully using PFECLAT algorithm \n",
            "Periodic-Frequent patterns were generated successfully using PFECLAT algorithm \n",
            "Periodic-Frequent patterns were generated successfully using PFECLAT algorithm \n",
            "Periodic-Frequent patterns were generated successfully using PFECLAT algorithm \n",
            "Periodic-Frequent patterns were generated successfully using PFECLAT algorithm \n",
            "Frequent patterns were generated successfully using PFECLAT algorithm\n",
            "  algorithm  minSup  maximumPeriodCount  patterns    runtime     memory\n",
            "0   PFECLAT     100                5000      3597  42.407274  892428288\n",
            "1   PFECLAT     150                5000      2311  23.830707  892272640\n",
            "2   PFECLAT     200                5000      1541  14.836197  892235776\n",
            "3   PFECLAT     250                5000      1126  10.774293  892358656\n",
            "4   PFECLAT     300                5000       837   8.973849  892157952\n"
          ]
        }
      ]
    },
    {
      "cell_type": "markdown",
      "source": [
        "##Test case 2 for Retail Dataset"
      ],
      "metadata": {
        "id": "sBgF2j1pdYFs"
      }
    },
    {
      "cell_type": "code",
      "source": [
        "from PAMI.periodicFrequentPattern.basic import PFECLAT  as alg\n",
        "import pandas as pd\n",
        "\n",
        "# Set the input parameters\n",
        "inputFile = 'Temporal_retail.csv'\n",
        "separator = '\\t'\n",
        "maximumPeriodCount = 5000\n",
        "minimumSupportCountList = [100, 150, 200, 250, 300]\n",
        "\n",
        "# Initialize a data frame to store the results of PFECLAT\n",
        "result = pd.DataFrame(columns=['algorithm', 'minSup', 'maximumPeriodCount', 'patterns', 'runtime', 'memory'])\n",
        "\n",
        "# Execute the algorithm at different minSup values\n",
        "for minSupCount in minimumSupportCountList:\n",
        "    obj = alg.PFECLAT(inputFile, minSup=minSupCount, maxPer=maximumPeriodCount, sep=separator)\n",
        "    obj.mine()\n",
        "    # Store the results in the data frame\n",
        "    result.loc[result.shape[0]] = ['PFECLAT', minSupCount, maximumPeriodCount, len(obj.getPatterns()), obj.getRuntime(), obj.getMemoryRSS()]\n",
        "\n",
        "# Print the results\n",
        "print(f\"Frequent patterns were generated successfully using PFECLAT algorithm\")\n",
        "print(result)"
      ],
      "metadata": {
        "colab": {
          "base_uri": "https://localhost:8080/"
        },
        "id": "b7DjVlh4auoH",
        "outputId": "a12e00e6-b73a-498c-8da4-44be20a200d2"
      },
      "execution_count": 7,
      "outputs": [
        {
          "output_type": "stream",
          "name": "stdout",
          "text": [
            "Periodic-Frequent patterns were generated successfully using PFECLAT algorithm \n",
            "Periodic-Frequent patterns were generated successfully using PFECLAT algorithm \n",
            "Periodic-Frequent patterns were generated successfully using PFECLAT algorithm \n",
            "Periodic-Frequent patterns were generated successfully using PFECLAT algorithm \n",
            "Periodic-Frequent patterns were generated successfully using PFECLAT algorithm \n",
            "Frequent patterns were generated successfully using PFECLAT algorithm\n",
            "  algorithm  minSup  maximumPeriodCount  patterns    runtime     memory\n",
            "0   PFECLAT     100                5000      3597  37.381163  904372224\n",
            "1   PFECLAT     150                5000      2311  20.406591  892452864\n",
            "2   PFECLAT     200                5000      1541  12.029163  923000832\n",
            "3   PFECLAT     250                5000      1126   7.283300  892674048\n",
            "4   PFECLAT     300                5000       837   6.152111  903487488\n"
          ]
        }
      ]
    },
    {
      "cell_type": "markdown",
      "source": [
        "# Test Cases for T20I6D100K Dataset"
      ],
      "metadata": {
        "id": "uBo5Y0evlCTr"
      }
    },
    {
      "cell_type": "code",
      "source": [
        "!wget https://u-aizu.ac.jp/~udayrage/datasets/temporalDatabases/Temporal_T20I6D100K.csv"
      ],
      "metadata": {
        "colab": {
          "base_uri": "https://localhost:8080/"
        },
        "id": "ppEn6OtUm9c7",
        "outputId": "82b4de02-73f3-4620-8c88-99201d7fc10f"
      },
      "execution_count": 16,
      "outputs": [
        {
          "output_type": "stream",
          "name": "stdout",
          "text": [
            "--2024-06-18 18:34:55--  https://u-aizu.ac.jp/~udayrage/datasets/temporalDatabases/Temporal_T20I6D100K.csv\n",
            "Resolving u-aizu.ac.jp (u-aizu.ac.jp)... 150.31.244.160, 150.95.161.176\n",
            "Connecting to u-aizu.ac.jp (u-aizu.ac.jp)|150.31.244.160|:443... connected.\n",
            "HTTP request sent, awaiting response... 200 OK\n",
            "Length: 8414399 (8.0M) [text/csv]\n",
            "Saving to: ‘Temporal_T20I6D100K.csv’\n",
            "\n",
            "Temporal_T20I6D100K 100%[===================>]   8.02M  1.96MB/s    in 5.2s    \n",
            "\n",
            "2024-06-18 18:35:01 (1.54 MB/s) - ‘Temporal_T20I6D100K.csv’ saved [8414399/8414399]\n",
            "\n"
          ]
        }
      ]
    },
    {
      "cell_type": "markdown",
      "source": [
        "## Test case 1 for T20I6D100K Dataset"
      ],
      "metadata": {
        "id": "1GF-XwVNm34p"
      }
    },
    {
      "cell_type": "code",
      "source": [
        "from PAMI.periodicFrequentPattern.basic import PFECLAT  as alg\n",
        "import pandas as pd\n",
        "# Set the input parameters\n",
        "URL = 'https://u-aizu.ac.jp/~udayrage/datasets/temporalDatabases/Temporal_T20I6D100K.csv'\n",
        "separator = '\\t'\n",
        "maximumPeriodCount = 5000\n",
        "minimumSupportCountList = [2000, 3000]\n",
        "\n",
        "# Initialize a data frame to store the results of PFECLAT\n",
        "result = pd.DataFrame(columns=['algorithm', 'minSup', 'maximumPeriodCount', 'patterns', 'runtime', 'memory'])\n",
        "\n",
        "# Execute the algorithm at different minSup values\n",
        "for minSupCount in minimumSupportCountList:\n",
        "    obj = alg.PFECLAT(URL, minSup=minSupCount, maxPer=maximumPeriodCount, sep=separator)\n",
        "    obj.mine()\n",
        "    # Store the results in the data frame\n",
        "    result.loc[result.shape[0]] = ['PFECLAT', minSupCount, maximumPeriodCount, len(obj.getPatterns()), obj.getRuntime(), obj.getMemoryRSS()]\n",
        "\n",
        "# Print the results\n",
        "print(f\"Frequent patterns were generated successfully using PFECLAT algorithm\")\n",
        "print(result)"
      ],
      "metadata": {
        "id": "1dMadMtRVvZY",
        "colab": {
          "base_uri": "https://localhost:8080/"
        },
        "outputId": "6c958fe2-3e29-4bb6-87aa-17fe2e9d4c2b"
      },
      "execution_count": 13,
      "outputs": [
        {
          "output_type": "stream",
          "name": "stdout",
          "text": [
            "Periodic-Frequent patterns were generated successfully using PFECLAT algorithm \n",
            "Periodic-Frequent patterns were generated successfully using PFECLAT algorithm \n",
            "Frequent patterns were generated successfully using PFECLAT algorithm\n",
            "  algorithm  minSup  maximumPeriodCount  patterns    runtime      memory\n",
            "0   PFECLAT    2000                5000       318  21.382076  1727868928\n",
            "1   PFECLAT    3000                5000       201  14.248124  1698983936\n"
          ]
        }
      ]
    },
    {
      "cell_type": "markdown",
      "source": [
        "## Test case 2 for T20I6D100K Dataset"
      ],
      "metadata": {
        "id": "mVP5u1CRnH9L"
      }
    },
    {
      "cell_type": "code",
      "source": [
        "from PAMI.periodicFrequentPattern.basic import PFECLAT  as alg\n",
        "import pandas as pd\n",
        "\n",
        "# Set the input parameters\n",
        "inputFile = 'Temporal_T20I6D100K.csv'\n",
        "separator = '\\t'\n",
        "maximumPeriodCount = 5000\n",
        "minimumSupportCountList = [2000, 3000]\n",
        "\n",
        "# Initialize a data frame to store the results of PFECLAT\n",
        "result = pd.DataFrame(columns=['algorithm', 'minSup', 'maximumPeriodCount', 'patterns', 'runtime', 'memory'])\n",
        "\n",
        "# Execute the algorithm at different minSup values\n",
        "for minSupCount in minimumSupportCountList:\n",
        "    obj = alg.PFECLAT(inputFile, minSup=minSupCount, maxPer=maximumPeriodCount, sep=separator)\n",
        "    obj.mine()\n",
        "    # Store the results in the data frame\n",
        "    result.loc[result.shape[0]] = ['PFECLAT', minSupCount, maximumPeriodCount, len(obj.getPatterns()), obj.getRuntime(), obj.getMemoryRSS()]\n",
        "\n",
        "# Print the results\n",
        "print(f\"Frequent patterns were generated successfully using PFECLAT algorithm\")\n",
        "print(result)"
      ],
      "metadata": {
        "colab": {
          "base_uri": "https://localhost:8080/"
        },
        "id": "MAkf0nJemy8x",
        "outputId": "9a2d5e37-2f34-4574-dbd9-1de834c9654e"
      },
      "execution_count": 18,
      "outputs": [
        {
          "output_type": "stream",
          "name": "stdout",
          "text": [
            "Periodic-Frequent patterns were generated successfully using PFECLAT algorithm \n",
            "Periodic-Frequent patterns were generated successfully using PFECLAT algorithm \n",
            "Frequent patterns were generated successfully using PFECLAT algorithm\n",
            "  algorithm  minSup  maximumPeriodCount  patterns    runtime      memory\n",
            "0   PFECLAT    2000                5000       318  15.503632  1597390848\n",
            "1   PFECLAT    3000                5000       201   9.156161  1597497344\n"
          ]
        }
      ]
    },
    {
      "cell_type": "code",
      "source": [],
      "metadata": {
        "id": "d1mPHYDcnC2g"
      },
      "execution_count": null,
      "outputs": []
    }
  ]
}