{
  "nbformat": 4,
  "nbformat_minor": 0,
  "metadata": {
    "colab": {
      "provenance": []
    },
    "kernelspec": {
      "name": "python3",
      "display_name": "Python 3"
    },
    "language_info": {
      "name": "python"
    }
  },
  "cells": [
    {
      "cell_type": "code",
      "source": [
        "!pip install -U pami"
      ],
      "metadata": {
        "colab": {
          "base_uri": "https://localhost:8080/"
        },
        "id": "JIpQR7kqWfJ8",
        "outputId": "c49703cd-45c8-46e1-a681-9077ca3924ae"
      },
      "execution_count": 1,
      "outputs": [
        {
          "output_type": "stream",
          "name": "stdout",
          "text": [
            "Collecting pami\n",
            "  Downloading pami-2024.6.18.1-py3-none-any.whl (1.0 MB)\n",
            "\u001b[2K     \u001b[90m━━━━━━━━━━━━━━━━━━━━━━━━━━━━━━━━━━━━━━━━\u001b[0m \u001b[32m1.0/1.0 MB\u001b[0m \u001b[31m9.3 MB/s\u001b[0m eta \u001b[36m0:00:00\u001b[0m\n",
            "\u001b[?25hRequirement already satisfied: psutil in /usr/local/lib/python3.10/dist-packages (from pami) (5.9.5)\n",
            "Requirement already satisfied: pandas in /usr/local/lib/python3.10/dist-packages (from pami) (2.0.3)\n",
            "Requirement already satisfied: plotly in /usr/local/lib/python3.10/dist-packages (from pami) (5.15.0)\n",
            "Requirement already satisfied: matplotlib in /usr/local/lib/python3.10/dist-packages (from pami) (3.7.1)\n",
            "Collecting resource (from pami)\n",
            "  Downloading Resource-0.2.1-py2.py3-none-any.whl (25 kB)\n",
            "Collecting validators (from pami)\n",
            "  Downloading validators-0.28.3-py3-none-any.whl (40 kB)\n",
            "\u001b[2K     \u001b[90m━━━━━━━━━━━━━━━━━━━━━━━━━━━━━━━━━━━━━━━━\u001b[0m \u001b[32m40.0/40.0 kB\u001b[0m \u001b[31m3.1 MB/s\u001b[0m eta \u001b[36m0:00:00\u001b[0m\n",
            "\u001b[?25hRequirement already satisfied: urllib3 in /usr/local/lib/python3.10/dist-packages (from pami) (2.0.7)\n",
            "Requirement already satisfied: Pillow in /usr/local/lib/python3.10/dist-packages (from pami) (9.4.0)\n",
            "Requirement already satisfied: numpy in /usr/local/lib/python3.10/dist-packages (from pami) (1.25.2)\n",
            "Requirement already satisfied: sphinx in /usr/local/lib/python3.10/dist-packages (from pami) (5.0.2)\n",
            "Collecting sphinx-rtd-theme (from pami)\n",
            "  Downloading sphinx_rtd_theme-2.0.0-py2.py3-none-any.whl (2.8 MB)\n",
            "\u001b[2K     \u001b[90m━━━━━━━━━━━━━━━━━━━━━━━━━━━━━━━━━━━━━━━━\u001b[0m \u001b[32m2.8/2.8 MB\u001b[0m \u001b[31m50.0 MB/s\u001b[0m eta \u001b[36m0:00:00\u001b[0m\n",
            "\u001b[?25hCollecting discord.py (from pami)\n",
            "  Downloading discord.py-2.3.2-py3-none-any.whl (1.1 MB)\n",
            "\u001b[2K     \u001b[90m━━━━━━━━━━━━━━━━━━━━━━━━━━━━━━━━━━━━━━━━\u001b[0m \u001b[32m1.1/1.1 MB\u001b[0m \u001b[31m22.6 MB/s\u001b[0m eta \u001b[36m0:00:00\u001b[0m\n",
            "\u001b[?25hRequirement already satisfied: networkx in /usr/local/lib/python3.10/dist-packages (from pami) (3.3)\n",
            "Collecting deprecated (from pami)\n",
            "  Downloading Deprecated-1.2.14-py2.py3-none-any.whl (9.6 kB)\n",
            "Requirement already satisfied: wrapt<2,>=1.10 in /usr/local/lib/python3.10/dist-packages (from deprecated->pami) (1.14.1)\n",
            "Requirement already satisfied: aiohttp<4,>=3.7.4 in /usr/local/lib/python3.10/dist-packages (from discord.py->pami) (3.9.5)\n",
            "Requirement already satisfied: contourpy>=1.0.1 in /usr/local/lib/python3.10/dist-packages (from matplotlib->pami) (1.2.1)\n",
            "Requirement already satisfied: cycler>=0.10 in /usr/local/lib/python3.10/dist-packages (from matplotlib->pami) (0.12.1)\n",
            "Requirement already satisfied: fonttools>=4.22.0 in /usr/local/lib/python3.10/dist-packages (from matplotlib->pami) (4.53.0)\n",
            "Requirement already satisfied: kiwisolver>=1.0.1 in /usr/local/lib/python3.10/dist-packages (from matplotlib->pami) (1.4.5)\n",
            "Requirement already satisfied: packaging>=20.0 in /usr/local/lib/python3.10/dist-packages (from matplotlib->pami) (24.1)\n",
            "Requirement already satisfied: pyparsing>=2.3.1 in /usr/local/lib/python3.10/dist-packages (from matplotlib->pami) (3.1.2)\n",
            "Requirement already satisfied: python-dateutil>=2.7 in /usr/local/lib/python3.10/dist-packages (from matplotlib->pami) (2.8.2)\n",
            "Requirement already satisfied: pytz>=2020.1 in /usr/local/lib/python3.10/dist-packages (from pandas->pami) (2023.4)\n",
            "Requirement already satisfied: tzdata>=2022.1 in /usr/local/lib/python3.10/dist-packages (from pandas->pami) (2024.1)\n",
            "Requirement already satisfied: tenacity>=6.2.0 in /usr/local/lib/python3.10/dist-packages (from plotly->pami) (8.3.0)\n",
            "Collecting JsonForm>=0.0.2 (from resource->pami)\n",
            "  Downloading JsonForm-0.0.2.tar.gz (2.4 kB)\n",
            "  Preparing metadata (setup.py) ... \u001b[?25l\u001b[?25hdone\n",
            "Collecting JsonSir>=0.0.2 (from resource->pami)\n",
            "  Downloading JsonSir-0.0.2.tar.gz (2.2 kB)\n",
            "  Preparing metadata (setup.py) ... \u001b[?25l\u001b[?25hdone\n",
            "Collecting python-easyconfig>=0.1.0 (from resource->pami)\n",
            "  Downloading Python_EasyConfig-0.1.7-py2.py3-none-any.whl (5.4 kB)\n",
            "Requirement already satisfied: sphinxcontrib-applehelp in /usr/local/lib/python3.10/dist-packages (from sphinx->pami) (1.0.8)\n",
            "Requirement already satisfied: sphinxcontrib-devhelp in /usr/local/lib/python3.10/dist-packages (from sphinx->pami) (1.0.6)\n",
            "Requirement already satisfied: sphinxcontrib-jsmath in /usr/local/lib/python3.10/dist-packages (from sphinx->pami) (1.0.1)\n",
            "Requirement already satisfied: sphinxcontrib-htmlhelp>=2.0.0 in /usr/local/lib/python3.10/dist-packages (from sphinx->pami) (2.0.5)\n",
            "Requirement already satisfied: sphinxcontrib-serializinghtml>=1.1.5 in /usr/local/lib/python3.10/dist-packages (from sphinx->pami) (1.1.10)\n",
            "Requirement already satisfied: sphinxcontrib-qthelp in /usr/local/lib/python3.10/dist-packages (from sphinx->pami) (1.0.7)\n",
            "Requirement already satisfied: Jinja2>=2.3 in /usr/local/lib/python3.10/dist-packages (from sphinx->pami) (3.1.4)\n",
            "Requirement already satisfied: Pygments>=2.0 in /usr/local/lib/python3.10/dist-packages (from sphinx->pami) (2.16.1)\n",
            "Requirement already satisfied: docutils<0.19,>=0.14 in /usr/local/lib/python3.10/dist-packages (from sphinx->pami) (0.18.1)\n",
            "Requirement already satisfied: snowballstemmer>=1.1 in /usr/local/lib/python3.10/dist-packages (from sphinx->pami) (2.2.0)\n",
            "Requirement already satisfied: babel>=1.3 in /usr/local/lib/python3.10/dist-packages (from sphinx->pami) (2.15.0)\n",
            "Requirement already satisfied: alabaster<0.8,>=0.7 in /usr/local/lib/python3.10/dist-packages (from sphinx->pami) (0.7.16)\n",
            "Requirement already satisfied: imagesize in /usr/local/lib/python3.10/dist-packages (from sphinx->pami) (1.4.1)\n",
            "Requirement already satisfied: requests>=2.5.0 in /usr/local/lib/python3.10/dist-packages (from sphinx->pami) (2.31.0)\n",
            "Collecting sphinxcontrib-jquery<5,>=4 (from sphinx-rtd-theme->pami)\n",
            "  Downloading sphinxcontrib_jquery-4.1-py2.py3-none-any.whl (121 kB)\n",
            "\u001b[2K     \u001b[90m━━━━━━━━━━━━━━━━━━━━━━━━━━━━━━━━━━━━━━━━\u001b[0m \u001b[32m121.1/121.1 kB\u001b[0m \u001b[31m10.9 MB/s\u001b[0m eta \u001b[36m0:00:00\u001b[0m\n",
            "\u001b[?25hRequirement already satisfied: aiosignal>=1.1.2 in /usr/local/lib/python3.10/dist-packages (from aiohttp<4,>=3.7.4->discord.py->pami) (1.3.1)\n",
            "Requirement already satisfied: attrs>=17.3.0 in /usr/local/lib/python3.10/dist-packages (from aiohttp<4,>=3.7.4->discord.py->pami) (23.2.0)\n",
            "Requirement already satisfied: frozenlist>=1.1.1 in /usr/local/lib/python3.10/dist-packages (from aiohttp<4,>=3.7.4->discord.py->pami) (1.4.1)\n",
            "Requirement already satisfied: multidict<7.0,>=4.5 in /usr/local/lib/python3.10/dist-packages (from aiohttp<4,>=3.7.4->discord.py->pami) (6.0.5)\n",
            "Requirement already satisfied: yarl<2.0,>=1.0 in /usr/local/lib/python3.10/dist-packages (from aiohttp<4,>=3.7.4->discord.py->pami) (1.9.4)\n",
            "Requirement already satisfied: async-timeout<5.0,>=4.0 in /usr/local/lib/python3.10/dist-packages (from aiohttp<4,>=3.7.4->discord.py->pami) (4.0.3)\n",
            "Requirement already satisfied: MarkupSafe>=2.0 in /usr/local/lib/python3.10/dist-packages (from Jinja2>=2.3->sphinx->pami) (2.1.5)\n",
            "Requirement already satisfied: jsonschema in /usr/local/lib/python3.10/dist-packages (from JsonForm>=0.0.2->resource->pami) (4.19.2)\n",
            "Requirement already satisfied: six>=1.5 in /usr/local/lib/python3.10/dist-packages (from python-dateutil>=2.7->matplotlib->pami) (1.16.0)\n",
            "Requirement already satisfied: PyYAML in /usr/local/lib/python3.10/dist-packages (from python-easyconfig>=0.1.0->resource->pami) (6.0.1)\n",
            "Requirement already satisfied: charset-normalizer<4,>=2 in /usr/local/lib/python3.10/dist-packages (from requests>=2.5.0->sphinx->pami) (3.3.2)\n",
            "Requirement already satisfied: idna<4,>=2.5 in /usr/local/lib/python3.10/dist-packages (from requests>=2.5.0->sphinx->pami) (3.7)\n",
            "Requirement already satisfied: certifi>=2017.4.17 in /usr/local/lib/python3.10/dist-packages (from requests>=2.5.0->sphinx->pami) (2024.6.2)\n",
            "Requirement already satisfied: jsonschema-specifications>=2023.03.6 in /usr/local/lib/python3.10/dist-packages (from jsonschema->JsonForm>=0.0.2->resource->pami) (2023.12.1)\n",
            "Requirement already satisfied: referencing>=0.28.4 in /usr/local/lib/python3.10/dist-packages (from jsonschema->JsonForm>=0.0.2->resource->pami) (0.35.1)\n",
            "Requirement already satisfied: rpds-py>=0.7.1 in /usr/local/lib/python3.10/dist-packages (from jsonschema->JsonForm>=0.0.2->resource->pami) (0.18.1)\n",
            "Building wheels for collected packages: JsonForm, JsonSir\n",
            "  Building wheel for JsonForm (setup.py) ... \u001b[?25l\u001b[?25hdone\n",
            "  Created wheel for JsonForm: filename=JsonForm-0.0.2-py3-none-any.whl size=3314 sha256=098a004719589cb3e2f70bbfa88203d037a7435c24177ae3ab2358dd8a2514d1\n",
            "  Stored in directory: /root/.cache/pip/wheels/b6/e5/87/11026246d3bd4ad67c0615682d2d6748bbd9a40ac0490882bd\n",
            "  Building wheel for JsonSir (setup.py) ... \u001b[?25l\u001b[?25hdone\n",
            "  Created wheel for JsonSir: filename=JsonSir-0.0.2-py3-none-any.whl size=4752 sha256=482eb6885e0cdc6e0d20be9fce5e8970398421a1bbfadb9808316c3117f9f007\n",
            "  Stored in directory: /root/.cache/pip/wheels/1d/4c/d3/4d9757425983b43eb709be1043d82cd03fb863ce5f56f117e6\n",
            "Successfully built JsonForm JsonSir\n",
            "Installing collected packages: JsonSir, validators, python-easyconfig, deprecated, sphinxcontrib-jquery, discord.py, sphinx-rtd-theme, JsonForm, resource, pami\n",
            "Successfully installed JsonForm-0.0.2 JsonSir-0.0.2 deprecated-1.2.14 discord.py-2.3.2 pami-2024.6.18.1 python-easyconfig-0.1.7 resource-0.2.1 sphinx-rtd-theme-2.0.0 sphinxcontrib-jquery-4.1 validators-0.28.3\n"
          ]
        }
      ]
    },
    {
      "cell_type": "markdown",
      "source": [
        "#Test Cases for T10I4D100K Dataset"
      ],
      "metadata": {
        "id": "cLfV1dPzWj18"
      }
    },
    {
      "cell_type": "code",
      "source": [
        "!wget https://u-aizu.ac.jp/~udayrage/datasets/temporalDatabases/Temporal_T10I4D100K.csv"
      ],
      "metadata": {
        "colab": {
          "base_uri": "https://localhost:8080/"
        },
        "id": "lQGOOYz8CvME",
        "outputId": "d0ce9cf5-7954-4907-e8d3-b9a293d44074"
      },
      "execution_count": 2,
      "outputs": [
        {
          "output_type": "stream",
          "name": "stdout",
          "text": [
            "--2024-06-18 18:23:58--  https://u-aizu.ac.jp/~udayrage/datasets/temporalDatabases/Temporal_T10I4D100K.csv\n",
            "Resolving u-aizu.ac.jp (u-aizu.ac.jp)... 150.31.244.160, 150.95.161.176\n",
            "Connecting to u-aizu.ac.jp (u-aizu.ac.jp)|150.31.244.160|:443... connected.\n",
            "HTTP request sent, awaiting response... 200 OK\n",
            "Length: 4606762 (4.4M) [text/csv]\n",
            "Saving to: ‘Temporal_T10I4D100K.csv’\n",
            "\n",
            "Temporal_T10I4D100K 100%[===================>]   4.39M  1.22MB/s    in 5.2s    \n",
            "\n",
            "2024-06-18 18:24:05 (872 KB/s) - ‘Temporal_T10I4D100K.csv’ saved [4606762/4606762]\n",
            "\n"
          ]
        }
      ]
    },
    {
      "cell_type": "markdown",
      "source": [
        "##Test case 1 for T10I4D100K Dataset"
      ],
      "metadata": {
        "id": "hLgApfC4W1Cn"
      }
    },
    {
      "cell_type": "code",
      "source": [
        "from PAMI.periodicFrequentPattern.basic import PFPGrowth  as alg\n",
        "import pandas as pd\n",
        "\n",
        "#Set the input parameters\n",
        "url='https://u-aizu.ac.jp/~udayrage/datasets/temporalDatabases/Temporal_T10I4D100K.csv'\n",
        "separetor='\\t'\n",
        "maximumPeriodCount = 5000\n",
        "MinimumSupportCountList=[100, 150, 200, 250, 300]\n",
        "\n",
        "# Initialize a data frame to store the results of PFPGrowth\n",
        "result = pd.DataFrame(columns=['algorithm', 'minSup', 'maximumPeriodCount', 'patterns', 'runtime', 'memory'])\n",
        "\n",
        "# Execute the algorithm at different minSup values\n",
        "\n",
        "for minSupCount in MinimumSupportCountList:\n",
        "  obj = alg.PFPGrowth(url, minSup=minSupCount, maxPer=maximumPeriodCount, sep=separetor)\n",
        "  obj.mine()\n",
        "  #Store the results in the data frame\n",
        "  result.loc[result.shape[0]] = ['PFPGrowth', minSupCount, maximumPeriodCount, len(obj.getPatterns()), obj.getRuntime(), obj.getMemoryRSS()]\n",
        "\n",
        "# Print the results\n",
        "print(f\"Periodic Frequent patterns were generated successfully using PFPGrowth algorithm\")\n",
        "print(result)"
      ],
      "metadata": {
        "colab": {
          "base_uri": "https://localhost:8080/"
        },
        "id": "tBX90tM9WgdJ",
        "outputId": "d283afdd-0c27-47ce-94ce-dc78b558cba2"
      },
      "execution_count": 3,
      "outputs": [
        {
          "output_type": "stream",
          "name": "stdout",
          "text": [
            "Periodic Frequent patterns were generated successfully using PFPGrowth algorithm \n",
            "Periodic Frequent patterns were generated successfully using PFPGrowth algorithm \n",
            "Periodic Frequent patterns were generated successfully using PFPGrowth algorithm \n",
            "Periodic Frequent patterns were generated successfully using PFPGrowth algorithm \n",
            "Periodic Frequent patterns were generated successfully using PFPGrowth algorithm \n",
            "Periodic Frequent patterns were generated successfully using PFPGrowth algorithm\n",
            "   algorithm  minSup  maximumPeriodCount  patterns    runtime     memory\n",
            "0  PFPGrowth     100                5000     25454  30.240376  663367680\n",
            "1  PFPGrowth     150                5000     18976  26.771610  653905920\n",
            "2  PFPGrowth     200                5000     13231  28.595833  650039296\n",
            "3  PFPGrowth     250                5000      7673  27.221683  658194432\n",
            "4  PFPGrowth     300                5000      4529  26.986599  676892672\n"
          ]
        }
      ]
    },
    {
      "cell_type": "markdown",
      "source": [
        "##Test case 2 for T10I4D100K Dataset"
      ],
      "metadata": {
        "id": "iD56o75ZYM8g"
      }
    },
    {
      "cell_type": "code",
      "source": [
        "from PAMI.periodicFrequentPattern.basic import PFPGrowth  as alg\n",
        "import pandas as pd\n",
        "\n",
        "# Set the input parameters\n",
        "inputFile = 'Temporal_T10I4D100K.csv'\n",
        "separator = '\\t'\n",
        "maximumPeriodCount = 5000\n",
        "MinimumSupportCountList = [100, 150, 200, 250, 300]\n",
        "\n",
        "# Initialize a data frame to store the results of PFPGrowth\n",
        "result = pd.DataFrame(columns=['algorithm', 'minSup', 'maximumPeriodCount','patterns', 'runtime', 'memory'])\n",
        "\n",
        "# Execute the algorithm at different minSup values\n",
        "for minSupCount in MinimumSupportCountList:\n",
        "    obj = alg.PFPGrowth(inputFile, minSup=minSupCount, maxPer=maximumPeriodCount, sep=separator)\n",
        "    obj.mine()\n",
        "    # Store the results in the data frame\n",
        "    result.loc[result.shape[0]] = ['PFPGrowth', minSupCount, maximumPeriodCount, len(obj.getPatterns()), obj.getRuntime(), obj.getMemoryRSS()]\n",
        "\n",
        "# Print the results\n",
        "print(f\"Frequent patterns were generated successfully using PFPGrowth algorithm\")\n",
        "print(result)"
      ],
      "metadata": {
        "colab": {
          "base_uri": "https://localhost:8080/"
        },
        "id": "vYp33_iJYtmQ",
        "outputId": "6c459960-c12d-4352-a27a-859d4b6c08a3"
      },
      "execution_count": 4,
      "outputs": [
        {
          "output_type": "stream",
          "name": "stdout",
          "text": [
            "Periodic Frequent patterns were generated successfully using PFPGrowth algorithm \n",
            "Periodic Frequent patterns were generated successfully using PFPGrowth algorithm \n",
            "Periodic Frequent patterns were generated successfully using PFPGrowth algorithm \n",
            "Periodic Frequent patterns were generated successfully using PFPGrowth algorithm \n",
            "Periodic Frequent patterns were generated successfully using PFPGrowth algorithm \n",
            "Frequent patterns were generated successfully using PFPGrowth algorithm\n",
            "   algorithm  minSup  maximumPeriodCount  patterns    runtime     memory\n",
            "0  PFPGrowth     100                5000     25454  22.327377  714866688\n",
            "1  PFPGrowth     150                5000     18976  22.572979  670228480\n",
            "2  PFPGrowth     200                5000     13231  22.457379  696451072\n",
            "3  PFPGrowth     250                5000      7673  20.067373  707981312\n",
            "4  PFPGrowth     300                5000      4529  21.654249  687284224\n"
          ]
        }
      ]
    },
    {
      "cell_type": "markdown",
      "source": [
        "# Test Cases Retail Dataset"
      ],
      "metadata": {
        "id": "a-MknH0yaQge"
      }
    },
    {
      "cell_type": "code",
      "source": [
        "!wget https://u-aizu.ac.jp/~udayrage/datasets/temporalDatabases/Temporal_retail.csv"
      ],
      "metadata": {
        "colab": {
          "base_uri": "https://localhost:8080/"
        },
        "id": "tCBeWHhTl5rL",
        "outputId": "dc1bb9f9-34ec-4691-81d7-0b82b1ccea42"
      },
      "execution_count": 5,
      "outputs": [
        {
          "output_type": "stream",
          "name": "stdout",
          "text": [
            "--2024-06-18 18:28:17--  https://u-aizu.ac.jp/~udayrage/datasets/temporalDatabases/Temporal_retail.csv\n",
            "Resolving u-aizu.ac.jp (u-aizu.ac.jp)... 150.95.161.176, 150.31.244.160\n",
            "Connecting to u-aizu.ac.jp (u-aizu.ac.jp)|150.95.161.176|:443... connected.\n",
            "HTTP request sent, awaiting response... 200 OK\n",
            "Length: 4677834 (4.5M) [text/csv]\n",
            "Saving to: ‘Temporal_retail.csv’\n",
            "\n",
            "Temporal_retail.csv 100%[===================>]   4.46M   852KB/s    in 5.4s    \n",
            "\n",
            "2024-06-18 18:28:24 (852 KB/s) - ‘Temporal_retail.csv’ saved [4677834/4677834]\n",
            "\n"
          ]
        }
      ]
    },
    {
      "cell_type": "markdown",
      "source": [
        "##Test case 1 for Retail Dataset"
      ],
      "metadata": {
        "id": "LHVv3kqHdOvB"
      }
    },
    {
      "cell_type": "code",
      "source": [
        "from PAMI.periodicFrequentPattern.basic import PFPGrowth  as alg\n",
        "import pandas as pd\n",
        "# Set the input parameters\n",
        "URL = 'https://u-aizu.ac.jp/~udayrage/datasets/temporalDatabases/Temporal_retail.csv'\n",
        "separator = '\\t'\n",
        "maximumPeriodCount = 5000\n",
        "minimumSupportCountList = [100, 150, 200, 250, 300]\n",
        "\n",
        "# Initialize a data frame to store the results of PFPGrowth\n",
        "result = pd.DataFrame(columns=['algorithm', 'minSup', 'maximumPeriodCount', 'patterns', 'runtime', 'memory'])\n",
        "\n",
        "# Execute the algorithm at different minSup values\n",
        "for minSupCount in minimumSupportCountList:\n",
        "    obj = alg.PFPGrowth(URL, minSup=minSupCount, maxPer=maximumPeriodCount, sep=separator)\n",
        "    obj.mine()\n",
        "    # Store the results in the data frame\n",
        "    result.loc[result.shape[0]] = ['PFPGrowth', minSupCount, maximumPeriodCount, len(obj.getPatterns()), obj.getRuntime(), obj.getMemoryRSS()]\n",
        "\n",
        "# Print the results\n",
        "print(f\"Frequent patterns were generated successfully using PFPGrowth algorithm\")\n",
        "print(result)"
      ],
      "metadata": {
        "id": "3y3Vyu5TaGyB",
        "colab": {
          "base_uri": "https://localhost:8080/"
        },
        "outputId": "d206b220-1b71-4c48-f60a-1c15d50267b9"
      },
      "execution_count": 6,
      "outputs": [
        {
          "output_type": "stream",
          "name": "stdout",
          "text": [
            "Periodic Frequent patterns were generated successfully using PFPGrowth algorithm \n",
            "Periodic Frequent patterns were generated successfully using PFPGrowth algorithm \n",
            "Periodic Frequent patterns were generated successfully using PFPGrowth algorithm \n",
            "Periodic Frequent patterns were generated successfully using PFPGrowth algorithm \n",
            "Periodic Frequent patterns were generated successfully using PFPGrowth algorithm \n",
            "Frequent patterns were generated successfully using PFPGrowth algorithm\n",
            "   algorithm  minSup  maximumPeriodCount  patterns    runtime     memory\n",
            "0  PFPGrowth     100                5000      3597  26.164269  715689984\n",
            "1  PFPGrowth     150                5000      2311  23.651228  641257472\n",
            "2  PFPGrowth     200                5000      1541  23.727966  639160320\n",
            "3  PFPGrowth     250                5000      1126  23.677764  639160320\n",
            "4  PFPGrowth     300                5000       837  21.634776  639160320\n"
          ]
        }
      ]
    },
    {
      "cell_type": "markdown",
      "source": [
        "##Test case 2 for Retail Dataset"
      ],
      "metadata": {
        "id": "sBgF2j1pdYFs"
      }
    },
    {
      "cell_type": "code",
      "source": [
        "from PAMI.periodicFrequentPattern.basic import PFPGrowth  as alg\n",
        "import pandas as pd\n",
        "\n",
        "# Set the input parameters\n",
        "inputFile = 'Temporal_retail.csv'\n",
        "separator = '\\t'\n",
        "maximumPeriodCount = 5000\n",
        "minimumSupportCountList = [100, 150, 200, 250, 300]\n",
        "\n",
        "# Initialize a data frame to store the results of PFPGrowth\n",
        "result = pd.DataFrame(columns=['algorithm', 'minSup', 'maximumPeriodCount', 'patterns', 'runtime', 'memory'])\n",
        "\n",
        "# Execute the algorithm at different minSup values\n",
        "for minSupCount in minimumSupportCountList:\n",
        "    obj = alg.PFPGrowth(inputFile, minSup=minSupCount, maxPer=maximumPeriodCount, sep=separator)\n",
        "    obj.mine()\n",
        "    # Store the results in the data frame\n",
        "    result.loc[result.shape[0]] = ['PFPGrowth', minSupCount, maximumPeriodCount, len(obj.getPatterns()), obj.getRuntime(), obj.getMemoryRSS()]\n",
        "\n",
        "# Print the results\n",
        "print(f\"Frequent patterns were generated successfully using PFPGrowth algorithm\")\n",
        "print(result)"
      ],
      "metadata": {
        "id": "b7DjVlh4auoH",
        "colab": {
          "base_uri": "https://localhost:8080/"
        },
        "outputId": "714396b4-a845-477e-ce94-6959af763826"
      },
      "execution_count": 7,
      "outputs": [
        {
          "output_type": "stream",
          "name": "stdout",
          "text": [
            "Periodic Frequent patterns were generated successfully using PFPGrowth algorithm \n",
            "Periodic Frequent patterns were generated successfully using PFPGrowth algorithm \n",
            "Periodic Frequent patterns were generated successfully using PFPGrowth algorithm \n",
            "Periodic Frequent patterns were generated successfully using PFPGrowth algorithm \n",
            "Periodic Frequent patterns were generated successfully using PFPGrowth algorithm \n",
            "Frequent patterns were generated successfully using PFPGrowth algorithm\n",
            "   algorithm  minSup  maximumPeriodCount  patterns    runtime     memory\n",
            "0  PFPGrowth     100                5000      3597  18.061804  631820288\n",
            "1  PFPGrowth     150                5000      2311  16.966300  630771712\n",
            "2  PFPGrowth     200                5000      1541  16.693752  486105088\n",
            "3  PFPGrowth     250                5000      1126  14.513369  485056512\n",
            "4  PFPGrowth     300                5000       837  13.729457  482959360\n"
          ]
        }
      ]
    },
    {
      "cell_type": "markdown",
      "source": [
        "# Test cases for T20I6D100K Dataset"
      ],
      "metadata": {
        "id": "2Gn2fXkVmAMT"
      }
    },
    {
      "cell_type": "code",
      "source": [
        "!wget https://u-aizu.ac.jp/~udayrage/datasets/temporalDatabases/Temporal_T20I6D100K.csv"
      ],
      "metadata": {
        "colab": {
          "base_uri": "https://localhost:8080/"
        },
        "id": "cW4Pwpl1o7ZS",
        "outputId": "7476a6d4-e57f-4935-927f-c384935b35f8"
      },
      "execution_count": 15,
      "outputs": [
        {
          "output_type": "stream",
          "name": "stdout",
          "text": [
            "--2024-06-18 18:44:06--  https://u-aizu.ac.jp/~udayrage/datasets/temporalDatabases/Temporal_T20I6D100K.csv\n",
            "Resolving u-aizu.ac.jp (u-aizu.ac.jp)... 150.95.161.176, 150.31.244.160\n",
            "Connecting to u-aizu.ac.jp (u-aizu.ac.jp)|150.95.161.176|:443... connected.\n",
            "HTTP request sent, awaiting response... 200 OK\n",
            "Length: 8414399 (8.0M) [text/csv]\n",
            "Saving to: ‘Temporal_T20I6D100K.csv’\n",
            "\n",
            "Temporal_T20I6D100K 100%[===================>]   8.02M  1.34MB/s    in 7.2s    \n",
            "\n",
            "2024-06-18 18:44:15 (1.11 MB/s) - ‘Temporal_T20I6D100K.csv’ saved [8414399/8414399]\n",
            "\n"
          ]
        }
      ]
    },
    {
      "cell_type": "markdown",
      "source": [
        "##Test case 1 for T20I6D100K Dataset"
      ],
      "metadata": {
        "id": "0kM0dlV4mJ-T"
      }
    },
    {
      "cell_type": "code",
      "source": [
        "from PAMI.periodicFrequentPattern.basic import PFPGrowth  as alg\n",
        "import pandas as pd\n",
        "# Set the input parameters\n",
        "URL = 'https://u-aizu.ac.jp/~udayrage/datasets/temporalDatabases/Temporal_T20I6D100K.csv'\n",
        "separator = '\\t'\n",
        "maximumPeriodCount = 5000\n",
        "minimumSupportCountList = [2000, 3000]\n",
        "\n",
        "# Initialize a data frame to store the results of PFPGrowth\n",
        "result = pd.DataFrame(columns=['algorithm', 'minSup', 'maximumPeriodCount', 'patterns', 'runtime', 'memory'])\n",
        "\n",
        "# Execute the algorithm at different minSup values\n",
        "for minSupCount in minimumSupportCountList:\n",
        "    obj = alg.PFPGrowth(URL, minSup=minSupCount, maxPer=maximumPeriodCount, sep=separator)\n",
        "    obj.mine()\n",
        "    # Store the results in the data frame\n",
        "    result.loc[result.shape[0]] = ['PFPGrowth', minSupCount, maximumPeriodCount, len(obj.getPatterns()), obj.getRuntime(), obj.getMemoryRSS()]\n",
        "\n",
        "# Print the results\n",
        "print(f\"Frequent patterns were generated successfully using PFPGrowth algorithm\")\n",
        "print(result)"
      ],
      "metadata": {
        "colab": {
          "base_uri": "https://localhost:8080/"
        },
        "id": "F0L_Y_T9mEDH",
        "outputId": "f851e558-2ac3-4173-e2c3-939cf97b9c32"
      },
      "execution_count": 10,
      "outputs": [
        {
          "output_type": "stream",
          "name": "stdout",
          "text": [
            "Periodic Frequent patterns were generated successfully using PFPGrowth algorithm \n",
            "Periodic Frequent patterns were generated successfully using PFPGrowth algorithm \n",
            "Frequent patterns were generated successfully using PFPGrowth algorithm\n",
            "   algorithm  minSup  maximumPeriodCount  patterns    runtime      memory\n",
            "0  PFPGrowth    2000                5000       318  35.571121  1744818176\n",
            "1  PFPGrowth    3000                5000       201  34.101220  1601810432\n"
          ]
        }
      ]
    },
    {
      "cell_type": "markdown",
      "source": [
        "##Test case 2 for T20I6D100K Dataset"
      ],
      "metadata": {
        "id": "jDhjeyWspSDk"
      }
    },
    {
      "cell_type": "code",
      "source": [
        "from PAMI.periodicFrequentPattern.basic import PFPGrowth  as alg\n",
        "import pandas as pd\n",
        "# Set the input parameters\n",
        "inputFile = 'Temporal_T20I6D100K.csv'\n",
        "separator = '\\t'\n",
        "maximumPeriodCount = 5000\n",
        "minimumSupportCountList = [2000, 3000]\n",
        "\n",
        "# Initialize a data frame to store the results of PFPGrowth\n",
        "result = pd.DataFrame(columns=['algorithm', 'minSup', 'maximumPeriodCount', 'patterns', 'runtime', 'memory'])\n",
        "\n",
        "# Execute the algorithm at different minSup values\n",
        "for minSupCount in minimumSupportCountList:\n",
        "    obj = alg.PFPGrowth(inputFile, minSup=minSupCount, maxPer=maximumPeriodCount, sep=separator)\n",
        "    obj.mine()\n",
        "    # Store the results in the data frame\n",
        "    result.loc[result.shape[0]] = ['PFPGrowth', minSupCount, maximumPeriodCount, len(obj.getPatterns()), obj.getRuntime(), obj.getMemoryRSS()]\n",
        "\n",
        "# Print the results\n",
        "print(f\"Frequent patterns were generated successfully using PFPGrowth algorithm\")\n",
        "print(result)"
      ],
      "metadata": {
        "colab": {
          "base_uri": "https://localhost:8080/"
        },
        "id": "vvML5rchmSX3",
        "outputId": "3eeef50f-5f25-49aa-b195-5e07adbd2d62"
      },
      "execution_count": 16,
      "outputs": [
        {
          "output_type": "stream",
          "name": "stdout",
          "text": [
            "Periodic Frequent patterns were generated successfully using PFPGrowth algorithm \n",
            "Periodic Frequent patterns were generated successfully using PFPGrowth algorithm \n",
            "Frequent patterns were generated successfully using PFPGrowth algorithm\n",
            "   algorithm  minSup  maximumPeriodCount  patterns    runtime     memory\n",
            "0  PFPGrowth    2000                5000       318  35.097661  954744832\n",
            "1  PFPGrowth    3000                5000       201  19.102472  983314432\n"
          ]
        }
      ]
    },
    {
      "cell_type": "code",
      "source": [],
      "metadata": {
        "id": "95J8TgfUpM32"
      },
      "execution_count": null,
      "outputs": []
    }
  ]
}