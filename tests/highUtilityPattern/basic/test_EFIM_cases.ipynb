{
  "cells": [
    {
      "cell_type": "code",
      "execution_count": 2,
      "metadata": {
        "colab": {
          "base_uri": "https://localhost:8080/"
        },
        "id": "JIpQR7kqWfJ8",
        "outputId": "df212573-0c76-449a-8d9e-cf91a50961e6"
      },
      "outputs": [
        {
          "output_type": "stream",
          "name": "stdout",
          "text": [
            "Requirement already satisfied: pami in /usr/local/lib/python3.10/dist-packages (2024.6.19.2)\n",
            "Requirement already satisfied: psutil in /usr/local/lib/python3.10/dist-packages (from pami) (5.9.5)\n",
            "Requirement already satisfied: pandas in /usr/local/lib/python3.10/dist-packages (from pami) (2.0.3)\n",
            "Requirement already satisfied: plotly in /usr/local/lib/python3.10/dist-packages (from pami) (5.15.0)\n",
            "Requirement already satisfied: matplotlib in /usr/local/lib/python3.10/dist-packages (from pami) (3.7.1)\n",
            "Requirement already satisfied: resource in /usr/local/lib/python3.10/dist-packages (from pami) (0.2.1)\n",
            "Requirement already satisfied: validators in /usr/local/lib/python3.10/dist-packages (from pami) (0.28.3)\n",
            "Requirement already satisfied: urllib3 in /usr/local/lib/python3.10/dist-packages (from pami) (2.0.7)\n",
            "Requirement already satisfied: Pillow in /usr/local/lib/python3.10/dist-packages (from pami) (9.4.0)\n",
            "Requirement already satisfied: numpy in /usr/local/lib/python3.10/dist-packages (from pami) (1.25.2)\n",
            "Requirement already satisfied: sphinx in /usr/local/lib/python3.10/dist-packages (from pami) (5.0.2)\n",
            "Requirement already satisfied: sphinx-rtd-theme in /usr/local/lib/python3.10/dist-packages (from pami) (2.0.0)\n",
            "Requirement already satisfied: discord.py in /usr/local/lib/python3.10/dist-packages (from pami) (2.3.2)\n",
            "Requirement already satisfied: networkx in /usr/local/lib/python3.10/dist-packages (from pami) (3.3)\n",
            "Requirement already satisfied: deprecated in /usr/local/lib/python3.10/dist-packages (from pami) (1.2.14)\n",
            "Requirement already satisfied: wrapt<2,>=1.10 in /usr/local/lib/python3.10/dist-packages (from deprecated->pami) (1.14.1)\n",
            "Requirement already satisfied: aiohttp<4,>=3.7.4 in /usr/local/lib/python3.10/dist-packages (from discord.py->pami) (3.9.5)\n",
            "Requirement already satisfied: contourpy>=1.0.1 in /usr/local/lib/python3.10/dist-packages (from matplotlib->pami) (1.2.1)\n",
            "Requirement already satisfied: cycler>=0.10 in /usr/local/lib/python3.10/dist-packages (from matplotlib->pami) (0.12.1)\n",
            "Requirement already satisfied: fonttools>=4.22.0 in /usr/local/lib/python3.10/dist-packages (from matplotlib->pami) (4.53.0)\n",
            "Requirement already satisfied: kiwisolver>=1.0.1 in /usr/local/lib/python3.10/dist-packages (from matplotlib->pami) (1.4.5)\n",
            "Requirement already satisfied: packaging>=20.0 in /usr/local/lib/python3.10/dist-packages (from matplotlib->pami) (24.1)\n",
            "Requirement already satisfied: pyparsing>=2.3.1 in /usr/local/lib/python3.10/dist-packages (from matplotlib->pami) (3.1.2)\n",
            "Requirement already satisfied: python-dateutil>=2.7 in /usr/local/lib/python3.10/dist-packages (from matplotlib->pami) (2.8.2)\n",
            "Requirement already satisfied: pytz>=2020.1 in /usr/local/lib/python3.10/dist-packages (from pandas->pami) (2023.4)\n",
            "Requirement already satisfied: tzdata>=2022.1 in /usr/local/lib/python3.10/dist-packages (from pandas->pami) (2024.1)\n",
            "Requirement already satisfied: tenacity>=6.2.0 in /usr/local/lib/python3.10/dist-packages (from plotly->pami) (8.3.0)\n",
            "Requirement already satisfied: JsonForm>=0.0.2 in /usr/local/lib/python3.10/dist-packages (from resource->pami) (0.0.2)\n",
            "Requirement already satisfied: JsonSir>=0.0.2 in /usr/local/lib/python3.10/dist-packages (from resource->pami) (0.0.2)\n",
            "Requirement already satisfied: python-easyconfig>=0.1.0 in /usr/local/lib/python3.10/dist-packages (from resource->pami) (0.1.7)\n",
            "Requirement already satisfied: sphinxcontrib-applehelp in /usr/local/lib/python3.10/dist-packages (from sphinx->pami) (1.0.8)\n",
            "Requirement already satisfied: sphinxcontrib-devhelp in /usr/local/lib/python3.10/dist-packages (from sphinx->pami) (1.0.6)\n",
            "Requirement already satisfied: sphinxcontrib-jsmath in /usr/local/lib/python3.10/dist-packages (from sphinx->pami) (1.0.1)\n",
            "Requirement already satisfied: sphinxcontrib-htmlhelp>=2.0.0 in /usr/local/lib/python3.10/dist-packages (from sphinx->pami) (2.0.5)\n",
            "Requirement already satisfied: sphinxcontrib-serializinghtml>=1.1.5 in /usr/local/lib/python3.10/dist-packages (from sphinx->pami) (1.1.10)\n",
            "Requirement already satisfied: sphinxcontrib-qthelp in /usr/local/lib/python3.10/dist-packages (from sphinx->pami) (1.0.7)\n",
            "Requirement already satisfied: Jinja2>=2.3 in /usr/local/lib/python3.10/dist-packages (from sphinx->pami) (3.1.4)\n",
            "Requirement already satisfied: Pygments>=2.0 in /usr/local/lib/python3.10/dist-packages (from sphinx->pami) (2.16.1)\n",
            "Requirement already satisfied: docutils<0.19,>=0.14 in /usr/local/lib/python3.10/dist-packages (from sphinx->pami) (0.18.1)\n",
            "Requirement already satisfied: snowballstemmer>=1.1 in /usr/local/lib/python3.10/dist-packages (from sphinx->pami) (2.2.0)\n",
            "Requirement already satisfied: babel>=1.3 in /usr/local/lib/python3.10/dist-packages (from sphinx->pami) (2.15.0)\n",
            "Requirement already satisfied: alabaster<0.8,>=0.7 in /usr/local/lib/python3.10/dist-packages (from sphinx->pami) (0.7.16)\n",
            "Requirement already satisfied: imagesize in /usr/local/lib/python3.10/dist-packages (from sphinx->pami) (1.4.1)\n",
            "Requirement already satisfied: requests>=2.5.0 in /usr/local/lib/python3.10/dist-packages (from sphinx->pami) (2.31.0)\n",
            "Requirement already satisfied: sphinxcontrib-jquery<5,>=4 in /usr/local/lib/python3.10/dist-packages (from sphinx-rtd-theme->pami) (4.1)\n",
            "Requirement already satisfied: aiosignal>=1.1.2 in /usr/local/lib/python3.10/dist-packages (from aiohttp<4,>=3.7.4->discord.py->pami) (1.3.1)\n",
            "Requirement already satisfied: attrs>=17.3.0 in /usr/local/lib/python3.10/dist-packages (from aiohttp<4,>=3.7.4->discord.py->pami) (23.2.0)\n",
            "Requirement already satisfied: frozenlist>=1.1.1 in /usr/local/lib/python3.10/dist-packages (from aiohttp<4,>=3.7.4->discord.py->pami) (1.4.1)\n",
            "Requirement already satisfied: multidict<7.0,>=4.5 in /usr/local/lib/python3.10/dist-packages (from aiohttp<4,>=3.7.4->discord.py->pami) (6.0.5)\n",
            "Requirement already satisfied: yarl<2.0,>=1.0 in /usr/local/lib/python3.10/dist-packages (from aiohttp<4,>=3.7.4->discord.py->pami) (1.9.4)\n",
            "Requirement already satisfied: async-timeout<5.0,>=4.0 in /usr/local/lib/python3.10/dist-packages (from aiohttp<4,>=3.7.4->discord.py->pami) (4.0.3)\n",
            "Requirement already satisfied: MarkupSafe>=2.0 in /usr/local/lib/python3.10/dist-packages (from Jinja2>=2.3->sphinx->pami) (2.1.5)\n",
            "Requirement already satisfied: jsonschema in /usr/local/lib/python3.10/dist-packages (from JsonForm>=0.0.2->resource->pami) (4.19.2)\n",
            "Requirement already satisfied: six>=1.5 in /usr/local/lib/python3.10/dist-packages (from python-dateutil>=2.7->matplotlib->pami) (1.16.0)\n",
            "Requirement already satisfied: PyYAML in /usr/local/lib/python3.10/dist-packages (from python-easyconfig>=0.1.0->resource->pami) (6.0.1)\n",
            "Requirement already satisfied: charset-normalizer<4,>=2 in /usr/local/lib/python3.10/dist-packages (from requests>=2.5.0->sphinx->pami) (3.3.2)\n",
            "Requirement already satisfied: idna<4,>=2.5 in /usr/local/lib/python3.10/dist-packages (from requests>=2.5.0->sphinx->pami) (3.7)\n",
            "Requirement already satisfied: certifi>=2017.4.17 in /usr/local/lib/python3.10/dist-packages (from requests>=2.5.0->sphinx->pami) (2024.6.2)\n",
            "Requirement already satisfied: jsonschema-specifications>=2023.03.6 in /usr/local/lib/python3.10/dist-packages (from jsonschema->JsonForm>=0.0.2->resource->pami) (2023.12.1)\n",
            "Requirement already satisfied: referencing>=0.28.4 in /usr/local/lib/python3.10/dist-packages (from jsonschema->JsonForm>=0.0.2->resource->pami) (0.35.1)\n",
            "Requirement already satisfied: rpds-py>=0.7.1 in /usr/local/lib/python3.10/dist-packages (from jsonschema->JsonForm>=0.0.2->resource->pami) (0.18.1)\n"
          ]
        }
      ],
      "source": [
        "!pip install -U pami"
      ]
    },
    {
      "cell_type": "markdown",
      "metadata": {
        "id": "cLfV1dPzWj18"
      },
      "source": [
        "#Test Cases for T10I4D100K Dataset"
      ]
    },
    {
      "cell_type": "markdown",
      "metadata": {
        "id": "hLgApfC4W1Cn"
      },
      "source": [
        "##Test case 1 for T10I4D100K Dataset"
      ]
    },
    {
      "cell_type": "code",
      "execution_count": null,
      "metadata": {
        "colab": {
          "base_uri": "https://localhost:8080/"
        },
        "id": "MD154VZc0RWb",
        "outputId": "ebb65820-1e1a-4971-f00e-80e2198635d5"
      },
      "outputs": [
        {
          "name": "stdout",
          "output_type": "stream",
          "text": [
            "--2024-06-14 18:19:19--  https://u-aizu.ac.jp/~udayrage/datasets/utilityDatabases/Utility_T10I4D100K.csv\n",
            "Resolving u-aizu.ac.jp (u-aizu.ac.jp)... 150.31.244.160, 150.95.161.176\n",
            "Connecting to u-aizu.ac.jp (u-aizu.ac.jp)|150.31.244.160|:443... connected.\n",
            "HTTP request sent, awaiting response... 200 OK\n",
            "Length: 7356594 (7.0M) [text/csv]\n",
            "Saving to: ‘Utility_T10I4D100K.csv.2’\n",
            "\n",
            "Utility_T10I4D100K. 100%[===================>]   7.02M  1.35MB/s    in 6.3s    \n",
            "\n",
            "2024-06-14 18:19:27 (1.12 MB/s) - ‘Utility_T10I4D100K.csv.2’ saved [7356594/7356594]\n",
            "\n"
          ]
        }
      ],
      "source": [
        "!wget https://u-aizu.ac.jp/~udayrage/datasets/utilityDatabases/Utility_T10I4D100K.csv"
      ]
    },
    {
      "cell_type": "code",
      "execution_count": null,
      "metadata": {
        "colab": {
          "base_uri": "https://localhost:8080/"
        },
        "id": "tBX90tM9WgdJ",
        "outputId": "5c3b1c0e-9688-4a7e-c83a-cdd49505c75e"
      },
      "outputs": [
        {
          "name": "stdout",
          "output_type": "stream",
          "text": [
            "High Utility patterns were generated successfully using EFIM algorithm\n",
            "High Utility patterns were generated successfully using EFIM algorithm\n",
            "High Utility patterns were generated successfully using EFIM algorithm\n",
            "High Utility patterns were generated successfully using EFIM algorithm\n",
            "High Utility patterns were generated successfully using EFIM algorithm\n",
            "High Utility Frequent patterns were generated successfully using EFIM algorithm\n",
            "  algorithm  minUtilCount  minSup  patterns     runtime     memory\n",
            "0      EFIM         10000   10000     42179  212.987131  249479168\n",
            "1      EFIM         10000   20000     23299  190.507625  241332224\n",
            "2      EFIM         10000   30000     14468  194.502517  229978112\n",
            "3      EFIM         10000   40000      9408  172.784764  231530496\n",
            "4      EFIM         10000   50000      5968  170.145988  231505920\n"
          ]
        }
      ],
      "source": [
        "from PAMI.highUtilityPattern.basic import EFIM  as alg\n",
        "import pandas as pd\n",
        "\n",
        "#Set the input parameters\n",
        "url='https://u-aizu.ac.jp/~udayrage/datasets/utilityDatabases/Utility_T10I4D100K.csv'\n",
        "separetor='\\t'\n",
        "minUtilCount = 10000\n",
        "minimumSupportCountList = [10000, 20000, 30000, 40000, 50000]\n",
        "\n",
        "# Initialize a data frame to store the results of EFIM\n",
        "result = pd.DataFrame(columns=['algorithm', 'minUtilCount', 'minSup', 'patterns', 'runtime', 'memory'])\n",
        "\n",
        "# Execute the algorithm at different minSup values\n",
        "\n",
        "for minSupCount in minimumSupportCountList:\n",
        "  obj = alg.EFIM(url, minUtil=minSupCount, sep=separetor)\n",
        "  obj.mine()\n",
        "  #Store the results in the data frame\n",
        "  result.loc[result.shape[0]] = ['EFIM', minUtilCount, minSupCount, len(obj.getPatterns()), obj.getRuntime(), obj.getMemoryRSS()]\n",
        "\n",
        "# Print the results\n",
        "print(f\"High Utility Frequent patterns were generated successfully using EFIM algorithm\")\n",
        "print(result)"
      ]
    },
    {
      "cell_type": "markdown",
      "metadata": {
        "id": "iD56o75ZYM8g"
      },
      "source": [
        "##Test case 2 for T10I4D100K Dataset"
      ]
    },
    {
      "cell_type": "code",
      "execution_count": null,
      "metadata": {
        "colab": {
          "base_uri": "https://localhost:8080/"
        },
        "id": "vYp33_iJYtmQ",
        "outputId": "5f3da30f-c4ea-4763-8150-d746b703c6e7"
      },
      "outputs": [
        {
          "name": "stdout",
          "output_type": "stream",
          "text": [
            "High Utility patterns were generated successfully using EFIM algorithm\n",
            "High Utility patterns were generated successfully using EFIM algorithm\n",
            "High Utility patterns were generated successfully using EFIM algorithm\n",
            "High Utility patterns were generated successfully using EFIM algorithm\n",
            "High Utility patterns were generated successfully using EFIM algorithm\n",
            "High Utility Frequent patterns were generated successfully using EFIM algorithm\n",
            "  algorithm  minUtilCount  minSup  patterns     runtime     memory\n",
            "0      EFIM         10000   10000     42179  217.226270  240140288\n",
            "1      EFIM         10000   20000     23299  189.785470  244269056\n",
            "2      EFIM         10000   30000     14468  180.725578  240828416\n",
            "3      EFIM         10000   40000      9408  171.745320  247316480\n",
            "4      EFIM         10000   50000      5968  164.328499  245252096\n"
          ]
        }
      ],
      "source": [
        "from PAMI.highUtilityPattern.basic import EFIM  as alg\n",
        "import pandas as pd\n",
        "\n",
        "# Set the input parameters\n",
        "inputFile = 'Utility_T10I4D100K.csv'\n",
        "separator = '\\t'\n",
        "minUtilCount = 10000\n",
        "minimumSupportCountList = [10000, 20000, 30000, 40000, 50000]\n",
        "\n",
        "# Initialize a data frame to store the results of EFIM\n",
        "result = pd.DataFrame(columns=['algorithm', 'minUtilCount', 'minSup', 'patterns', 'runtime', 'memory'])\n",
        "\n",
        "# Execute the algorithm at different minSup values\n",
        "for minSupCount in minimumSupportCountList:\n",
        "    obj = alg.EFIM(inputFile, minUtil=minSupCount, sep=separator)\n",
        "    obj.mine()\n",
        "    # Store the results in the data frame\n",
        "    result.loc[result.shape[0]] = ['EFIM', minUtilCount, minSupCount, len(obj.getPatterns()), obj.getRuntime(), obj.getMemoryRSS()]\n",
        "\n",
        "# Print the results\n",
        "print(f\"High Utility Frequent patterns were generated successfully using EFIM algorithm\")\n",
        "print(result)"
      ]
    },
    {
      "cell_type": "markdown",
      "metadata": {
        "id": "a-MknH0yaQge"
      },
      "source": [
        "# Test Cases Retail Dataset"
      ]
    },
    {
      "cell_type": "markdown",
      "metadata": {
        "id": "LHVv3kqHdOvB"
      },
      "source": [
        "##Test case 1 for Retail Dataset"
      ]
    },
    {
      "cell_type": "code",
      "execution_count": null,
      "metadata": {
        "colab": {
          "base_uri": "https://localhost:8080/"
        },
        "id": "ZInnRG7IUBhm",
        "outputId": "62ceb61e-eb58-4ed8-c3a6-ce20aa2f8e14"
      },
      "outputs": [
        {
          "name": "stdout",
          "output_type": "stream",
          "text": [
            "--2024-06-14 18:51:10--  https://u-aizu.ac.jp/~udayrage/datasets/utilityDatabases/Utility_retail.csv\n",
            "Resolving u-aizu.ac.jp (u-aizu.ac.jp)... 150.31.244.160, 150.95.161.176\n",
            "Connecting to u-aizu.ac.jp (u-aizu.ac.jp)|150.31.244.160|:443... connected.\n",
            "HTTP request sent, awaiting response... 200 OK\n",
            "Length: 7163550 (6.8M) [text/csv]\n",
            "Saving to: ‘Utility_retail.csv’\n",
            "\n",
            "Utility_retail.csv  100%[===================>]   6.83M  1.33MB/s    in 6.0s    \n",
            "\n",
            "2024-06-14 18:51:17 (1.14 MB/s) - ‘Utility_retail.csv’ saved [7163550/7163550]\n",
            "\n"
          ]
        }
      ],
      "source": [
        "!wget https://u-aizu.ac.jp/~udayrage/datasets/utilityDatabases/Utility_retail.csv"
      ]
    },
    {
      "cell_type": "code",
      "execution_count": null,
      "metadata": {
        "colab": {
          "base_uri": "https://localhost:8080/"
        },
        "id": "3y3Vyu5TaGyB",
        "outputId": "0bd18a52-f578-4256-db74-5d8ce665137a"
      },
      "outputs": [
        {
          "name": "stdout",
          "output_type": "stream",
          "text": [
            "High Utility patterns were generated successfully using EFIM algorithm\n",
            "High Utility patterns were generated successfully using EFIM algorithm\n",
            "High Utility patterns were generated successfully using EFIM algorithm\n",
            "High Utility patterns were generated successfully using EFIM algorithm\n",
            "High Utility patterns were generated successfully using EFIM algorithm\n",
            "High Utility Frequent patterns were generated successfully using EFIM algorithm\n",
            "  algorithm  minUtilCount  minSup  patterns      runtime     memory\n",
            "0      EFIM         10000   10000      7986  1360.999334  390516736\n",
            "1      EFIM         10000   20000      2368   949.740943  390516736\n",
            "2      EFIM         10000   30000      1156   705.922603  390516736\n",
            "3      EFIM         10000   40000       700   543.778654  390516736\n",
            "4      EFIM         10000   50000       473   419.118613  390787072\n"
          ]
        }
      ],
      "source": [
        "from PAMI.highUtilityPattern.basic import EFIM  as alg\n",
        "import pandas as pd\n",
        "# Set the input parameters\n",
        "URL = 'https://u-aizu.ac.jp/~udayrage/datasets/utilityDatabases/Utility_retail.csv'\n",
        "separator = '\\t'\n",
        "minUtilCount = 10000\n",
        "minimumSupportCountList = [10000, 20000, 30000, 40000, 50000]\n",
        "\n",
        "# Initialize a data frame to store the results of EFIM\n",
        "result = pd.DataFrame(columns=['algorithm', 'minUtilCount', 'minSup', 'patterns', 'runtime', 'memory'])\n",
        "\n",
        "# Execute the algorithm at different minSup values\n",
        "for minSupCount in minimumSupportCountList:\n",
        "    obj = alg.EFIM(URL, minUtil=minSupCount, sep=separator)\n",
        "    obj.mine()\n",
        "    # Store the results in the data frame\n",
        "    result.loc[result.shape[0]] = ['EFIM', minUtilCount, minSupCount, len(obj.getPatterns()), obj.getRuntime(), obj.getMemoryRSS()]\n",
        "\n",
        "# Print the results\n",
        "print(f\"High Utility Frequent patterns were generated successfully using EFIM algorithm\")\n",
        "print(result)"
      ]
    },
    {
      "cell_type": "markdown",
      "metadata": {
        "id": "sBgF2j1pdYFs"
      },
      "source": [
        "##Test case 2 for Retail Dataset"
      ]
    },
    {
      "cell_type": "code",
      "execution_count": null,
      "metadata": {
        "colab": {
          "base_uri": "https://localhost:8080/"
        },
        "id": "b7DjVlh4auoH",
        "outputId": "b458d40d-b8d3-4e05-8900-61e6ab140088"
      },
      "outputs": [
        {
          "name": "stdout",
          "output_type": "stream",
          "text": [
            "High Utility patterns were generated successfully using EFIM algorithm\n",
            "High Utility patterns were generated successfully using EFIM algorithm\n",
            "High Utility patterns were generated successfully using EFIM algorithm\n",
            "High Utility patterns were generated successfully using EFIM algorithm\n",
            "High Utility patterns were generated successfully using EFIM algorithm\n",
            "High Utility Frequent patterns were generated successfully using EFIM algorithm\n",
            "  algorithm  minUtilCount  minSup  patterns      runtime     memory\n",
            "0      EFIM         10000   10000      7986  1391.944150  391327744\n",
            "1      EFIM         10000   20000      2368   952.901476  392138752\n",
            "2      EFIM         10000   30000      1156   705.328643  392138752\n",
            "3      EFIM         10000   40000       700   546.528926  392138752\n",
            "4      EFIM         10000   50000       473   411.907876  392138752\n"
          ]
        }
      ],
      "source": [
        "from PAMI.highUtilityPattern.basic import EFIM  as alg\n",
        "import pandas as pd\n",
        "\n",
        "# Set the input parameters\n",
        "inputFile = 'Utility_retail.csv'\n",
        "separator = '\\t'\n",
        "minUtilCount = 10000\n",
        "minimumSupportCountList = [10000, 20000, 30000, 40000, 50000]\n",
        "\n",
        "# Initialize a data frame to store the results of EFIM\n",
        "result = pd.DataFrame(columns=['algorithm', 'minUtilCount', 'minSup', 'patterns', 'runtime', 'memory'])\n",
        "\n",
        "# Execute the algorithm at different k values\n",
        "for minSupCount in minimumSupportCountList:\n",
        "    obj = alg.EFIM(inputFile, minUtil=minSupCount, sep=separator)\n",
        "    obj.mine()\n",
        "    # Store the results in the data frame\n",
        "    result.loc[result.shape[0]] = ['EFIM', minUtilCount, minSupCount, len(obj.getPatterns()), obj.getRuntime(), obj.getMemoryRSS()]\n",
        "\n",
        "# Print the results\n",
        "print(f\"High Utility Frequent patterns were generated successfully using EFIM algorithm\")\n",
        "print(result)"
      ]
    },
    {
      "cell_type": "markdown",
      "metadata": {
        "id": "PHZbTes-zSZW"
      },
      "source": [
        "#Test Cases for T20I6D100K Dataset"
      ]
    },
    {
      "cell_type": "code",
      "execution_count": 3,
      "metadata": {
        "colab": {
          "base_uri": "https://localhost:8080/"
        },
        "id": "ifAJ4jrskp5S",
        "outputId": "7fec1a09-bb41-4359-ceed-9b253e74a1bd"
      },
      "outputs": [
        {
          "output_type": "stream",
          "name": "stdout",
          "text": [
            "--2024-06-19 14:37:50--  https://u-aizu.ac.jp/~udayrage/datasets/utilityDatabases/Utility_T20I6D100K.csv\n",
            "Resolving u-aizu.ac.jp (u-aizu.ac.jp)... 150.31.244.160, 150.95.161.176\n",
            "Connecting to u-aizu.ac.jp (u-aizu.ac.jp)|150.31.244.160|:443... connected.\n",
            "HTTP request sent, awaiting response... 200 OK\n",
            "Length: 14063394 (13M) [text/csv]\n",
            "Saving to: ‘Utility_T20I6D100K.csv’\n",
            "\n",
            "Utility_T20I6D100K. 100%[===================>]  13.41M  2.37MB/s    in 8.4s    \n",
            "\n",
            "2024-06-19 14:38:00 (1.59 MB/s) - ‘Utility_T20I6D100K.csv’ saved [14063394/14063394]\n",
            "\n"
          ]
        }
      ],
      "source": [
        "!wget https://u-aizu.ac.jp/~udayrage/datasets/utilityDatabases/Utility_T20I6D100K.csv"
      ]
    },
    {
      "cell_type": "markdown",
      "metadata": {
        "id": "0gwNmLLwzeLj"
      },
      "source": [
        "##Test case 1 for T20I6D100K Dataset\n"
      ]
    },
    {
      "cell_type": "code",
      "execution_count": null,
      "metadata": {
        "colab": {
          "background_save": true
        },
        "id": "Y7cT9YxfyiKt",
        "outputId": "82e918c0-3ba2-4581-89a8-adf3f5a15ea5"
      },
      "outputs": [
        {
          "name": "stdout",
          "output_type": "stream",
          "text": [
            "High Utility patterns were generated successfully using EFIM algorithm\n",
            "High Utility patterns were generated successfully using EFIM algorithm\n",
            "High Utility patterns were generated successfully using EFIM algorithm\n",
            "High Utility patterns were generated successfully using EFIM algorithm\n",
            "High Utility Frequent patterns were generated successfully using EFIM algorithm\n",
            "  algorithm  minUtilCount  minSup  patterns      runtime     memory\n",
            "0      EFIM         10000   40000    265177  1080.935713  323813376\n",
            "1      EFIM         10000   50000    196826   932.488654  304766976\n",
            "2      EFIM         10000   60000    157211   811.052733  301371392\n",
            "3      EFIM         10000   70000    131834   757.246752  298926080\n"
          ]
        }
      ],
      "source": [
        "from PAMI.highUtilityPattern.basic import EFIM  as alg\n",
        "import pandas as pd\n",
        "# Set the input parameters\n",
        "URL = 'https://u-aizu.ac.jp/~udayrage/datasets/utilityDatabases/Utility_T20I6D100K.csv'\n",
        "separator = '\\t'\n",
        "minUtilCount = 10000\n",
        "minimumSupportCountList = [40000, 50000, 60000, 70000]\n",
        "\n",
        "# Initialize a data frame to store the results of EFIM\n",
        "result = pd.DataFrame(columns=['algorithm', 'minUtilCount', 'minSup', 'patterns', 'runtime', 'memory'])\n",
        "\n",
        "# Execute the algorithm at different minSup values\n",
        "for minSupCount in minimumSupportCountList:\n",
        "    obj = alg.EFIM(URL, minUtil=minSupCount, sep=separator)\n",
        "    obj.mine()\n",
        "    # Store the results in the data frame\n",
        "    result.loc[result.shape[0]] = ['EFIM', minUtilCount, minSupCount, len(obj.getPatterns()), obj.getRuntime(), obj.getMemoryRSS()]\n",
        "\n",
        "# Print the results\n",
        "print(f\"High Utility Frequent patterns were generated successfully using EFIM algorithm\")\n",
        "print(result)"
      ]
    },
    {
      "cell_type": "markdown",
      "metadata": {
        "id": "f_ax1Ij1zlFx"
      },
      "source": [
        "##Test case 2 for T20I6D100K Dataset\n"
      ]
    },
    {
      "cell_type": "code",
      "execution_count": 4,
      "metadata": {
        "id": "Z34XoTr2ywkR",
        "colab": {
          "base_uri": "https://localhost:8080/"
        },
        "outputId": "68fc7600-111b-4e13-f58d-4796d60150a5"
      },
      "outputs": [
        {
          "output_type": "stream",
          "name": "stdout",
          "text": [
            "High Utility patterns were generated successfully using EFIM algorithm\n",
            "High Utility patterns were generated successfully using EFIM algorithm\n",
            "High Utility patterns were generated successfully using EFIM algorithm\n",
            "High Utility patterns were generated successfully using EFIM algorithm\n",
            "High Utility Frequent patterns were generated successfully using EFIM algorithm\n",
            "  algorithm  minUtilCount  minSup  patterns      runtime     memory\n",
            "0      EFIM         10000   40000    265177  1156.912820  309436416\n",
            "1      EFIM         10000   50000    196826   979.558908  294756352\n",
            "2      EFIM         10000   60000    157211   869.793478  280375296\n",
            "3      EFIM         10000   70000    131834   773.957745  279343104\n"
          ]
        }
      ],
      "source": [
        "from PAMI.highUtilityPattern.basic import EFIM  as alg\n",
        "import pandas as pd\n",
        "# Set the input parameters\n",
        "inputFile = 'Utility_T20I6D100K.csv'\n",
        "separator = '\\t'\n",
        "minUtilCount = 10000\n",
        "minimumSupportCountList = [40000, 50000, 60000, 70000]\n",
        "\n",
        "# Initialize a data frame to store the results of EFIM\n",
        "result = pd.DataFrame(columns=['algorithm', 'minUtilCount', 'minSup', 'patterns', 'runtime', 'memory'])\n",
        "\n",
        "# Execute the algorithm at different minSup values\n",
        "for minSupCount in minimumSupportCountList:\n",
        "    obj = alg.EFIM(inputFile, minUtil=minSupCount, sep=separator)\n",
        "    obj.mine()\n",
        "    # Store the results in the data frame\n",
        "    result.loc[result.shape[0]] = ['EFIM', minUtilCount, minSupCount, len(obj.getPatterns()), obj.getRuntime(), obj.getMemoryRSS()]\n",
        "\n",
        "# Print the results\n",
        "print(f\"High Utility Frequent patterns were generated successfully using EFIM algorithm\")\n",
        "print(result)"
      ]
    },
    {
      "cell_type": "code",
      "source": [],
      "metadata": {
        "id": "B6Ss8XdULZKs"
      },
      "execution_count": null,
      "outputs": []
    }
  ],
  "metadata": {
    "colab": {
      "provenance": []
    },
    "kernelspec": {
      "display_name": "Python 3",
      "name": "python3"
    },
    "language_info": {
      "name": "python"
    }
  },
  "nbformat": 4,
  "nbformat_minor": 0
}