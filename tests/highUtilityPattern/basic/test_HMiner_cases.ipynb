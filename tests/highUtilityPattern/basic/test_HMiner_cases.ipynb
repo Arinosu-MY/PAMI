{
  "cells": [
    {
      "cell_type": "code",
      "execution_count": 1,
      "metadata": {
        "colab": {
          "base_uri": "https://localhost:8080/"
        },
        "id": "JIpQR7kqWfJ8",
        "outputId": "180819b5-6ab7-4790-ae05-f5a9148a6cc7"
      },
      "outputs": [
        {
          "output_type": "stream",
          "name": "stdout",
          "text": [
            "Collecting pami\n",
            "  Downloading pami-2024.6.19.2-py3-none-any.whl (1.1 MB)\n",
            "\u001b[2K     \u001b[90m━━━━━━━━━━━━━━━━━━━━━━━━━━━━━━━━━━━━━━━━\u001b[0m \u001b[32m1.1/1.1 MB\u001b[0m \u001b[31m8.7 MB/s\u001b[0m eta \u001b[36m0:00:00\u001b[0m\n",
            "\u001b[?25hRequirement already satisfied: psutil in /usr/local/lib/python3.10/dist-packages (from pami) (5.9.5)\n",
            "Requirement already satisfied: pandas in /usr/local/lib/python3.10/dist-packages (from pami) (2.0.3)\n",
            "Requirement already satisfied: plotly in /usr/local/lib/python3.10/dist-packages (from pami) (5.15.0)\n",
            "Requirement already satisfied: matplotlib in /usr/local/lib/python3.10/dist-packages (from pami) (3.7.1)\n",
            "Collecting resource (from pami)\n",
            "  Downloading Resource-0.2.1-py2.py3-none-any.whl (25 kB)\n",
            "Collecting validators (from pami)\n",
            "  Downloading validators-0.28.3-py3-none-any.whl (40 kB)\n",
            "\u001b[2K     \u001b[90m━━━━━━━━━━━━━━━━━━━━━━━━━━━━━━━━━━━━━━━━\u001b[0m \u001b[32m40.0/40.0 kB\u001b[0m \u001b[31m2.5 MB/s\u001b[0m eta \u001b[36m0:00:00\u001b[0m\n",
            "\u001b[?25hRequirement already satisfied: urllib3 in /usr/local/lib/python3.10/dist-packages (from pami) (2.0.7)\n",
            "Requirement already satisfied: Pillow in /usr/local/lib/python3.10/dist-packages (from pami) (9.4.0)\n",
            "Requirement already satisfied: numpy in /usr/local/lib/python3.10/dist-packages (from pami) (1.25.2)\n",
            "Requirement already satisfied: sphinx in /usr/local/lib/python3.10/dist-packages (from pami) (5.0.2)\n",
            "Collecting sphinx-rtd-theme (from pami)\n",
            "  Downloading sphinx_rtd_theme-2.0.0-py2.py3-none-any.whl (2.8 MB)\n",
            "\u001b[2K     \u001b[90m━━━━━━━━━━━━━━━━━━━━━━━━━━━━━━━━━━━━━━━━\u001b[0m \u001b[32m2.8/2.8 MB\u001b[0m \u001b[31m40.6 MB/s\u001b[0m eta \u001b[36m0:00:00\u001b[0m\n",
            "\u001b[?25hCollecting discord.py (from pami)\n",
            "  Downloading discord.py-2.3.2-py3-none-any.whl (1.1 MB)\n",
            "\u001b[2K     \u001b[90m━━━━━━━━━━━━━━━━━━━━━━━━━━━━━━━━━━━━━━━━\u001b[0m \u001b[32m1.1/1.1 MB\u001b[0m \u001b[31m37.9 MB/s\u001b[0m eta \u001b[36m0:00:00\u001b[0m\n",
            "\u001b[?25hRequirement already satisfied: networkx in /usr/local/lib/python3.10/dist-packages (from pami) (3.3)\n",
            "Collecting deprecated (from pami)\n",
            "  Downloading Deprecated-1.2.14-py2.py3-none-any.whl (9.6 kB)\n",
            "Requirement already satisfied: wrapt<2,>=1.10 in /usr/local/lib/python3.10/dist-packages (from deprecated->pami) (1.14.1)\n",
            "Requirement already satisfied: aiohttp<4,>=3.7.4 in /usr/local/lib/python3.10/dist-packages (from discord.py->pami) (3.9.5)\n",
            "Requirement already satisfied: contourpy>=1.0.1 in /usr/local/lib/python3.10/dist-packages (from matplotlib->pami) (1.2.1)\n",
            "Requirement already satisfied: cycler>=0.10 in /usr/local/lib/python3.10/dist-packages (from matplotlib->pami) (0.12.1)\n",
            "Requirement already satisfied: fonttools>=4.22.0 in /usr/local/lib/python3.10/dist-packages (from matplotlib->pami) (4.53.0)\n",
            "Requirement already satisfied: kiwisolver>=1.0.1 in /usr/local/lib/python3.10/dist-packages (from matplotlib->pami) (1.4.5)\n",
            "Requirement already satisfied: packaging>=20.0 in /usr/local/lib/python3.10/dist-packages (from matplotlib->pami) (24.1)\n",
            "Requirement already satisfied: pyparsing>=2.3.1 in /usr/local/lib/python3.10/dist-packages (from matplotlib->pami) (3.1.2)\n",
            "Requirement already satisfied: python-dateutil>=2.7 in /usr/local/lib/python3.10/dist-packages (from matplotlib->pami) (2.8.2)\n",
            "Requirement already satisfied: pytz>=2020.1 in /usr/local/lib/python3.10/dist-packages (from pandas->pami) (2023.4)\n",
            "Requirement already satisfied: tzdata>=2022.1 in /usr/local/lib/python3.10/dist-packages (from pandas->pami) (2024.1)\n",
            "Requirement already satisfied: tenacity>=6.2.0 in /usr/local/lib/python3.10/dist-packages (from plotly->pami) (8.3.0)\n",
            "Collecting JsonForm>=0.0.2 (from resource->pami)\n",
            "  Downloading JsonForm-0.0.2.tar.gz (2.4 kB)\n",
            "  Preparing metadata (setup.py) ... \u001b[?25l\u001b[?25hdone\n",
            "Collecting JsonSir>=0.0.2 (from resource->pami)\n",
            "  Downloading JsonSir-0.0.2.tar.gz (2.2 kB)\n",
            "  Preparing metadata (setup.py) ... \u001b[?25l\u001b[?25hdone\n",
            "Collecting python-easyconfig>=0.1.0 (from resource->pami)\n",
            "  Downloading Python_EasyConfig-0.1.7-py2.py3-none-any.whl (5.4 kB)\n",
            "Requirement already satisfied: sphinxcontrib-applehelp in /usr/local/lib/python3.10/dist-packages (from sphinx->pami) (1.0.8)\n",
            "Requirement already satisfied: sphinxcontrib-devhelp in /usr/local/lib/python3.10/dist-packages (from sphinx->pami) (1.0.6)\n",
            "Requirement already satisfied: sphinxcontrib-jsmath in /usr/local/lib/python3.10/dist-packages (from sphinx->pami) (1.0.1)\n",
            "Requirement already satisfied: sphinxcontrib-htmlhelp>=2.0.0 in /usr/local/lib/python3.10/dist-packages (from sphinx->pami) (2.0.5)\n",
            "Requirement already satisfied: sphinxcontrib-serializinghtml>=1.1.5 in /usr/local/lib/python3.10/dist-packages (from sphinx->pami) (1.1.10)\n",
            "Requirement already satisfied: sphinxcontrib-qthelp in /usr/local/lib/python3.10/dist-packages (from sphinx->pami) (1.0.7)\n",
            "Requirement already satisfied: Jinja2>=2.3 in /usr/local/lib/python3.10/dist-packages (from sphinx->pami) (3.1.4)\n",
            "Requirement already satisfied: Pygments>=2.0 in /usr/local/lib/python3.10/dist-packages (from sphinx->pami) (2.16.1)\n",
            "Requirement already satisfied: docutils<0.19,>=0.14 in /usr/local/lib/python3.10/dist-packages (from sphinx->pami) (0.18.1)\n",
            "Requirement already satisfied: snowballstemmer>=1.1 in /usr/local/lib/python3.10/dist-packages (from sphinx->pami) (2.2.0)\n",
            "Requirement already satisfied: babel>=1.3 in /usr/local/lib/python3.10/dist-packages (from sphinx->pami) (2.15.0)\n",
            "Requirement already satisfied: alabaster<0.8,>=0.7 in /usr/local/lib/python3.10/dist-packages (from sphinx->pami) (0.7.16)\n",
            "Requirement already satisfied: imagesize in /usr/local/lib/python3.10/dist-packages (from sphinx->pami) (1.4.1)\n",
            "Requirement already satisfied: requests>=2.5.0 in /usr/local/lib/python3.10/dist-packages (from sphinx->pami) (2.31.0)\n",
            "Collecting sphinxcontrib-jquery<5,>=4 (from sphinx-rtd-theme->pami)\n",
            "  Downloading sphinxcontrib_jquery-4.1-py2.py3-none-any.whl (121 kB)\n",
            "\u001b[2K     \u001b[90m━━━━━━━━━━━━━━━━━━━━━━━━━━━━━━━━━━━━━━━━\u001b[0m \u001b[32m121.1/121.1 kB\u001b[0m \u001b[31m10.4 MB/s\u001b[0m eta \u001b[36m0:00:00\u001b[0m\n",
            "\u001b[?25hRequirement already satisfied: aiosignal>=1.1.2 in /usr/local/lib/python3.10/dist-packages (from aiohttp<4,>=3.7.4->discord.py->pami) (1.3.1)\n",
            "Requirement already satisfied: attrs>=17.3.0 in /usr/local/lib/python3.10/dist-packages (from aiohttp<4,>=3.7.4->discord.py->pami) (23.2.0)\n",
            "Requirement already satisfied: frozenlist>=1.1.1 in /usr/local/lib/python3.10/dist-packages (from aiohttp<4,>=3.7.4->discord.py->pami) (1.4.1)\n",
            "Requirement already satisfied: multidict<7.0,>=4.5 in /usr/local/lib/python3.10/dist-packages (from aiohttp<4,>=3.7.4->discord.py->pami) (6.0.5)\n",
            "Requirement already satisfied: yarl<2.0,>=1.0 in /usr/local/lib/python3.10/dist-packages (from aiohttp<4,>=3.7.4->discord.py->pami) (1.9.4)\n",
            "Requirement already satisfied: async-timeout<5.0,>=4.0 in /usr/local/lib/python3.10/dist-packages (from aiohttp<4,>=3.7.4->discord.py->pami) (4.0.3)\n",
            "Requirement already satisfied: MarkupSafe>=2.0 in /usr/local/lib/python3.10/dist-packages (from Jinja2>=2.3->sphinx->pami) (2.1.5)\n",
            "Requirement already satisfied: jsonschema in /usr/local/lib/python3.10/dist-packages (from JsonForm>=0.0.2->resource->pami) (4.19.2)\n",
            "Requirement already satisfied: six>=1.5 in /usr/local/lib/python3.10/dist-packages (from python-dateutil>=2.7->matplotlib->pami) (1.16.0)\n",
            "Requirement already satisfied: PyYAML in /usr/local/lib/python3.10/dist-packages (from python-easyconfig>=0.1.0->resource->pami) (6.0.1)\n",
            "Requirement already satisfied: charset-normalizer<4,>=2 in /usr/local/lib/python3.10/dist-packages (from requests>=2.5.0->sphinx->pami) (3.3.2)\n",
            "Requirement already satisfied: idna<4,>=2.5 in /usr/local/lib/python3.10/dist-packages (from requests>=2.5.0->sphinx->pami) (3.7)\n",
            "Requirement already satisfied: certifi>=2017.4.17 in /usr/local/lib/python3.10/dist-packages (from requests>=2.5.0->sphinx->pami) (2024.6.2)\n",
            "Requirement already satisfied: jsonschema-specifications>=2023.03.6 in /usr/local/lib/python3.10/dist-packages (from jsonschema->JsonForm>=0.0.2->resource->pami) (2023.12.1)\n",
            "Requirement already satisfied: referencing>=0.28.4 in /usr/local/lib/python3.10/dist-packages (from jsonschema->JsonForm>=0.0.2->resource->pami) (0.35.1)\n",
            "Requirement already satisfied: rpds-py>=0.7.1 in /usr/local/lib/python3.10/dist-packages (from jsonschema->JsonForm>=0.0.2->resource->pami) (0.18.1)\n",
            "Building wheels for collected packages: JsonForm, JsonSir\n",
            "  Building wheel for JsonForm (setup.py) ... \u001b[?25l\u001b[?25hdone\n",
            "  Created wheel for JsonForm: filename=JsonForm-0.0.2-py3-none-any.whl size=3314 sha256=d7cededb80c600ba5cce1c478d82a9491e7654c741bb4c99fb883092591234f9\n",
            "  Stored in directory: /root/.cache/pip/wheels/b6/e5/87/11026246d3bd4ad67c0615682d2d6748bbd9a40ac0490882bd\n",
            "  Building wheel for JsonSir (setup.py) ... \u001b[?25l\u001b[?25hdone\n",
            "  Created wheel for JsonSir: filename=JsonSir-0.0.2-py3-none-any.whl size=4752 sha256=a50161af390591a47ec6fa9bcce00296295dd16501042506f2c7d9d630b760fe\n",
            "  Stored in directory: /root/.cache/pip/wheels/1d/4c/d3/4d9757425983b43eb709be1043d82cd03fb863ce5f56f117e6\n",
            "Successfully built JsonForm JsonSir\n",
            "Installing collected packages: JsonSir, validators, python-easyconfig, deprecated, sphinxcontrib-jquery, discord.py, sphinx-rtd-theme, JsonForm, resource, pami\n",
            "Successfully installed JsonForm-0.0.2 JsonSir-0.0.2 deprecated-1.2.14 discord.py-2.3.2 pami-2024.6.19.2 python-easyconfig-0.1.7 resource-0.2.1 sphinx-rtd-theme-2.0.0 sphinxcontrib-jquery-4.1 validators-0.28.3\n"
          ]
        }
      ],
      "source": [
        "!pip install -U pami"
      ]
    },
    {
      "cell_type": "markdown",
      "metadata": {
        "id": "cLfV1dPzWj18"
      },
      "source": [
        "#Test Cases for T10I4D100K Dataset"
      ]
    },
    {
      "cell_type": "markdown",
      "metadata": {
        "id": "hLgApfC4W1Cn"
      },
      "source": [
        "##Test case 1 for T10I4D100K Dataset"
      ]
    },
    {
      "cell_type": "code",
      "execution_count": null,
      "metadata": {
        "colab": {
          "base_uri": "https://localhost:8080/"
        },
        "id": "MD154VZc0RWb",
        "outputId": "056914b6-4b6e-4647-fff6-2762c61333d1"
      },
      "outputs": [
        {
          "name": "stdout",
          "output_type": "stream",
          "text": [
            "--2024-06-14 18:20:41--  https://u-aizu.ac.jp/~udayrage/datasets/utilityDatabases/Utility_T10I4D100K.csv\n",
            "Resolving u-aizu.ac.jp (u-aizu.ac.jp)... 150.95.161.176, 150.31.244.160\n",
            "Connecting to u-aizu.ac.jp (u-aizu.ac.jp)|150.95.161.176|:443... connected.\n",
            "HTTP request sent, awaiting response... 200 OK\n",
            "Length: 7356594 (7.0M) [text/csv]\n",
            "Saving to: ‘Utility_T10I4D100K.csv.1’\n",
            "\n",
            "Utility_T10I4D100K. 100%[===================>]   7.02M  1.79MB/s    in 6.7s    \n",
            "\n",
            "2024-06-14 18:20:49 (1.05 MB/s) - ‘Utility_T10I4D100K.csv.1’ saved [7356594/7356594]\n",
            "\n"
          ]
        }
      ],
      "source": [
        "!wget https://u-aizu.ac.jp/~udayrage/datasets/utilityDatabases/Utility_T10I4D100K.csv"
      ]
    },
    {
      "cell_type": "code",
      "execution_count": null,
      "metadata": {
        "colab": {
          "base_uri": "https://localhost:8080/"
        },
        "id": "tBX90tM9WgdJ",
        "outputId": "77459db3-e484-45b8-9ac6-cd088823f6b2"
      },
      "outputs": [
        {
          "name": "stdout",
          "output_type": "stream",
          "text": [
            "High Utility patterns were generated successfully using HMiner algorithm\n",
            "High Utility patterns were generated successfully using HMiner algorithm\n",
            "High Utility patterns were generated successfully using HMiner algorithm\n",
            "High Utility patterns were generated successfully using HMiner algorithm\n",
            "High Utility patterns were generated successfully using HMiner algorithm\n",
            "High Utility Frequent patterns were generated successfully using HMiner algorithm\n",
            "  algorithm  minUtilCount  minSup  patterns     runtime     memory\n",
            "0    HMiner         10000   10000     42179  461.323707  570933248\n",
            "1    HMiner         10000   20000     23299  259.221495  569700352\n",
            "2    HMiner         10000   30000     14468  191.013176  568614912\n",
            "3    HMiner         10000   40000      9408  161.389131  566796288\n",
            "4    HMiner         10000   50000      5968  139.612526  565547008\n"
          ]
        }
      ],
      "source": [
        "from PAMI.highUtilityPattern.basic import HMiner as alg\n",
        "import pandas as pd\n",
        "\n",
        "#Set the input parameters\n",
        "url='https://u-aizu.ac.jp/~udayrage/datasets/utilityDatabases/Utility_T10I4D100K.csv'\n",
        "separetor='\\t'\n",
        "minUtilCount = 10000\n",
        "minimumSupportCountList = [10000, 20000, 30000, 40000, 50000]\n",
        "\n",
        "# Initialize a data frame to store the results of HMiner\n",
        "result = pd.DataFrame(columns=['algorithm', 'minUtilCount', 'minSup', 'patterns', 'runtime', 'memory'])\n",
        "\n",
        "# Execute the algorithm at different minSup values\n",
        "\n",
        "for minSupCount in minimumSupportCountList:\n",
        "  obj = alg.HMiner(url, minUtil=minSupCount, sep=separetor)\n",
        "  obj.mine()\n",
        "  #Store the results in the data frame\n",
        "  result.loc[result.shape[0]] = ['HMiner', minUtilCount, minSupCount, len(obj.getPatterns()), obj.getRuntime(), obj.getMemoryRSS()]\n",
        "\n",
        "# Print the results\n",
        "print(f\"High Utility Frequent patterns were generated successfully using HMiner algorithm\")\n",
        "print(result)"
      ]
    },
    {
      "cell_type": "markdown",
      "metadata": {
        "id": "iD56o75ZYM8g"
      },
      "source": [
        "##Test case 2 for T10I4D100K Dataset"
      ]
    },
    {
      "cell_type": "code",
      "execution_count": null,
      "metadata": {
        "colab": {
          "base_uri": "https://localhost:8080/"
        },
        "id": "vYp33_iJYtmQ",
        "outputId": "edf1f16f-a915-4aa9-bb20-356c59374f76"
      },
      "outputs": [
        {
          "name": "stdout",
          "output_type": "stream",
          "text": [
            "High Utility patterns were generated successfully using HMiner algorithm\n",
            "High Utility patterns were generated successfully using HMiner algorithm\n",
            "High Utility patterns were generated successfully using HMiner algorithm\n",
            "High Utility patterns were generated successfully using HMiner algorithm\n",
            "High Utility patterns were generated successfully using HMiner algorithm\n",
            "High Utility Frequent patterns were generated successfully using HMiner algorithm\n",
            "  algorithm  minUtilCount  minSup  patterns     runtime     memory\n",
            "0    HMiner         10000   10000     42179  457.672356  573939712\n",
            "1    HMiner         10000   20000     23299  253.616663  572694528\n",
            "2    HMiner         10000   30000     14468  183.562584  571854848\n",
            "3    HMiner         10000   40000      9408  151.038422  570347520\n",
            "4    HMiner         10000   50000      5968  129.431236  565731328\n"
          ]
        }
      ],
      "source": [
        "from PAMI.highUtilityPattern.basic import HMiner as alg\n",
        "import pandas as pd\n",
        "\n",
        "# Set the input parameters\n",
        "inputFile = 'Utility_T10I4D100K.csv'\n",
        "separator = '\\t'\n",
        "minUtilCount = 10000\n",
        "minimumSupportCountList = [10000, 20000, 30000, 40000, 50000]\n",
        "\n",
        "# Initialize a data frame to store the results of HMiner\n",
        "result = pd.DataFrame(columns=['algorithm', 'minUtilCount', 'minSup', 'patterns', 'runtime', 'memory'])\n",
        "\n",
        "# Execute the algorithm at different minSup values\n",
        "for minSupCount in minimumSupportCountList:\n",
        "    obj = alg.HMiner(inputFile, minUtil=minSupCount, sep=separator)\n",
        "    obj.mine()\n",
        "    # Store the results in the data frame\n",
        "    result.loc[result.shape[0]] = ['HMiner', minUtilCount, minSupCount, len(obj.getPatterns()), obj.getRuntime(), obj.getMemoryRSS()]\n",
        "\n",
        "# Print the results\n",
        "print(f\"High Utility Frequent patterns were generated successfully using HMiner algorithm\")\n",
        "print(result)"
      ]
    },
    {
      "cell_type": "markdown",
      "metadata": {
        "id": "a-MknH0yaQge"
      },
      "source": [
        "# Test Cases Retail Dataset"
      ]
    },
    {
      "cell_type": "markdown",
      "metadata": {
        "id": "LHVv3kqHdOvB"
      },
      "source": [
        "##Test case 1 for Retail Dataset"
      ]
    },
    {
      "cell_type": "code",
      "execution_count": null,
      "metadata": {
        "colab": {
          "base_uri": "https://localhost:8080/"
        },
        "id": "ZInnRG7IUBhm",
        "outputId": "46bbbcb3-01cf-42a3-9e74-d3af542d3d02"
      },
      "outputs": [
        {
          "name": "stdout",
          "output_type": "stream",
          "text": [
            "--2024-06-15 06:06:01--  https://u-aizu.ac.jp/~udayrage/datasets/utilityDatabases/Utility_retail.csv\n",
            "Resolving u-aizu.ac.jp (u-aizu.ac.jp)... 150.95.161.176, 150.31.244.160\n",
            "Connecting to u-aizu.ac.jp (u-aizu.ac.jp)|150.95.161.176|:443... connected.\n",
            "HTTP request sent, awaiting response... 200 OK\n",
            "Length: 7163550 (6.8M) [text/csv]\n",
            "Saving to: ‘Utility_retail.csv’\n",
            "\n",
            "Utility_retail.csv  100%[===================>]   6.83M  1.52MB/s    in 6.8s    \n",
            "\n",
            "2024-06-15 06:06:10 (1.01 MB/s) - ‘Utility_retail.csv’ saved [7163550/7163550]\n",
            "\n"
          ]
        }
      ],
      "source": [
        "!wget https://u-aizu.ac.jp/~udayrage/datasets/utilityDatabases/Utility_retail.csv"
      ]
    },
    {
      "cell_type": "code",
      "execution_count": null,
      "metadata": {
        "colab": {
          "base_uri": "https://localhost:8080/"
        },
        "id": "3y3Vyu5TaGyB",
        "outputId": "9f9605d6-4e5b-4687-abf6-824ec57256d3"
      },
      "outputs": [
        {
          "name": "stdout",
          "output_type": "stream",
          "text": [
            "High Utility patterns were generated successfully using HMiner algorithm\n",
            "High Utility patterns were generated successfully using HMiner algorithm\n",
            "High Utility patterns were generated successfully using HMiner algorithm\n",
            "High Utility patterns were generated successfully using HMiner algorithm\n",
            "High Utility patterns were generated successfully using HMiner algorithm\n",
            "High Utility Frequent patterns were generated successfully using HMiner algorithm\n",
            "  algorithm  minUtilCount  minSup  patterns      runtime     memory\n",
            "0    HMiner         10000   10000      7986  3552.627476  811896832\n",
            "1    HMiner         10000   20000      2368  1920.140117  801677312\n",
            "2    HMiner         10000   30000      1156  1143.289484  794558464\n",
            "3    HMiner         10000   40000       700   685.872469  783147008\n",
            "4    HMiner         10000   50000       473   419.025759  774496256\n"
          ]
        }
      ],
      "source": [
        "from PAMI.highUtilityPattern.basic import HMiner as alg\n",
        "import pandas as pd\n",
        "# Set the input parameters\n",
        "URL = 'https://u-aizu.ac.jp/~udayrage/datasets/utilityDatabases/Utility_retail.csv'\n",
        "separator = '\\t'\n",
        "minUtilCount = 10000\n",
        "minimumSupportCountList = [10000, 20000, 30000, 40000, 50000]\n",
        "\n",
        "# Initialize a data frame to store the results of HMiner\n",
        "result = pd.DataFrame(columns=['algorithm', 'minUtilCount', 'minSup', 'patterns', 'runtime', 'memory'])\n",
        "\n",
        "# Execute the algorithm at different minSup values\n",
        "for minSupCount in minimumSupportCountList:\n",
        "    obj = alg.HMiner(URL, minUtil=minSupCount, sep=separator)\n",
        "    obj.mine()\n",
        "    # Store the results in the data frame\n",
        "    result.loc[result.shape[0]] = ['HMiner', minUtilCount, minSupCount, len(obj.getPatterns()), obj.getRuntime(), obj.getMemoryRSS()]\n",
        "\n",
        "# Print the results\n",
        "print(f\"High Utility Frequent patterns were generated successfully using HMiner algorithm\")\n",
        "print(result)"
      ]
    },
    {
      "cell_type": "markdown",
      "metadata": {
        "id": "sBgF2j1pdYFs"
      },
      "source": [
        "##Test case 2 for Retail Dataset"
      ]
    },
    {
      "cell_type": "code",
      "execution_count": null,
      "metadata": {
        "colab": {
          "base_uri": "https://localhost:8080/"
        },
        "id": "b7DjVlh4auoH",
        "outputId": "70da1ebd-bcb9-4aa8-90b4-742e493facff"
      },
      "outputs": [
        {
          "name": "stdout",
          "output_type": "stream",
          "text": [
            "High Utility patterns were generated successfully using HMiner algorithm\n",
            "High Utility patterns were generated successfully using HMiner algorithm\n",
            "High Utility patterns were generated successfully using HMiner algorithm\n",
            "High Utility patterns were generated successfully using HMiner algorithm\n",
            "High Utility patterns were generated successfully using HMiner algorithm\n",
            "High Utility Frequent patterns were generated successfully using HMiner algorithm\n",
            "  algorithm  minUtilCount  minSup  patterns      runtime     memory\n",
            "0    HMiner         10000   10000      7986  3545.045385  647905280\n",
            "1    HMiner         10000   20000      2368  1912.650934  635371520\n",
            "2    HMiner         10000   30000      1156  1180.166165  626106368\n",
            "3    HMiner         10000   40000       700   651.496484  617713664\n",
            "4    HMiner         10000   50000       473   421.951713  608788480\n"
          ]
        }
      ],
      "source": [
        "from PAMI.highUtilityPattern.basic import HMiner as alg\n",
        "import pandas as pd\n",
        "\n",
        "# Set the input parameters\n",
        "inputFile = 'Utility_retail.csv'\n",
        "separator = '\\t'\n",
        "minUtilCount = 10000\n",
        "minimumSupportCountList = [10000, 20000, 30000, 40000, 50000]\n",
        "\n",
        "# Initialize a data frame to store the results of HMiner\n",
        "result = pd.DataFrame(columns=['algorithm', 'minUtilCount', 'minSup', 'patterns', 'runtime', 'memory'])\n",
        "\n",
        "# Execute the algorithm at different k values\n",
        "for minSupCount in minimumSupportCountList:\n",
        "    obj = alg.HMiner(inputFile, minUtil=minSupCount, sep=separator)\n",
        "    obj.mine()\n",
        "    # Store the results in the data frame\n",
        "    result.loc[result.shape[0]] = ['HMiner', minUtilCount, minSupCount, len(obj.getPatterns()), obj.getRuntime(), obj.getMemoryRSS()]\n",
        "\n",
        "# Print the results\n",
        "print(f\"High Utility Frequent patterns were generated successfully using HMiner algorithm\")\n",
        "print(result)"
      ]
    },
    {
      "cell_type": "markdown",
      "metadata": {
        "id": "412KbvdA0tnx"
      },
      "source": [
        "#Test Cases for T20I6D100K Dataset"
      ]
    },
    {
      "cell_type": "code",
      "execution_count": 3,
      "metadata": {
        "colab": {
          "base_uri": "https://localhost:8080/"
        },
        "id": "ZUc8QjUw9sN6",
        "outputId": "3ccb15c3-290f-4409-c36d-0490e68b0154"
      },
      "outputs": [
        {
          "output_type": "stream",
          "name": "stdout",
          "text": [
            "--2024-06-19 15:51:08--  https://u-aizu.ac.jp/~udayrage/datasets/utilityDatabases/Utility_T20I6D100K.csv\n",
            "Resolving u-aizu.ac.jp (u-aizu.ac.jp)... 150.95.161.176, 150.31.244.160\n",
            "Connecting to u-aizu.ac.jp (u-aizu.ac.jp)|150.95.161.176|:443... connected.\n",
            "HTTP request sent, awaiting response... 200 OK\n",
            "Length: 14063394 (13M) [text/csv]\n",
            "Saving to: ‘Utility_T20I6D100K.csv’\n",
            "\n",
            "Utility_T20I6D100K. 100%[===================>]  13.41M  3.09MB/s    in 8.9s    \n",
            "\n",
            "2024-06-19 15:51:18 (1.50 MB/s) - ‘Utility_T20I6D100K.csv’ saved [14063394/14063394]\n",
            "\n"
          ]
        }
      ],
      "source": [
        "!wget https://u-aizu.ac.jp/~udayrage/datasets/utilityDatabases/Utility_T20I6D100K.csv"
      ]
    },
    {
      "cell_type": "markdown",
      "metadata": {
        "id": "AKEQheSd0yoN"
      },
      "source": [
        "##Test case 1 for T20I6D100K Dataset"
      ]
    },
    {
      "cell_type": "code",
      "execution_count": 2,
      "metadata": {
        "colab": {
          "base_uri": "https://localhost:8080/"
        },
        "id": "mYaGFwnw0Qnf",
        "outputId": "81867743-bf1a-4c1c-83ca-f6d0a08e6ea1"
      },
      "outputs": [
        {
          "output_type": "stream",
          "name": "stdout",
          "text": [
            "High Utility patterns were generated successfully using HMiner algorithm\n",
            "High Utility patterns were generated successfully using HMiner algorithm\n",
            "High Utility patterns were generated successfully using HMiner algorithm\n",
            "High Utility patterns were generated successfully using HMiner algorithm\n",
            "High Utility Frequent patterns were generated successfully using HMiner algorithm\n",
            "  algorithm  minUtilCount  minSup  patterns      runtime     memory\n",
            "0    HMiner         10000   60000    157211  1481.489350  996368384\n",
            "1    HMiner         10000   70000    131834  1183.948779  993452032\n",
            "2    HMiner         10000   80000    110198  1028.698665  990818304\n",
            "3    HMiner         10000   90000     92413   859.829363  987582464\n"
          ]
        }
      ],
      "source": [
        "from PAMI.highUtilityPattern.basic import HMiner as alg\n",
        "import pandas as pd\n",
        "# Set the input parameters\n",
        "URL = 'https://u-aizu.ac.jp/~udayrage/datasets/utilityDatabases/Utility_T20I6D100K.csv'\n",
        "separator = '\\t'\n",
        "minUtilCount = 10000\n",
        "minimumSupportCountList = [60000, 70000, 80000, 90000]\n",
        "\n",
        "# Initialize a data frame to store the results of HMiner\n",
        "result = pd.DataFrame(columns=['algorithm', 'minUtilCount', 'minSup', 'patterns', 'runtime', 'memory'])\n",
        "\n",
        "# Execute the algorithm at different minSup values\n",
        "for minSupCount in minimumSupportCountList:\n",
        "    obj = alg.HMiner(URL, minUtil=minSupCount, sep=separator)\n",
        "    obj.mine()\n",
        "    # Store the results in the data frame\n",
        "    result.loc[result.shape[0]] = ['HMiner', minUtilCount, minSupCount, len(obj.getPatterns()), obj.getRuntime(), obj.getMemoryRSS()]\n",
        "\n",
        "# Print the results\n",
        "print(f\"High Utility Frequent patterns were generated successfully using HMiner algorithm\")\n",
        "print(result)"
      ]
    },
    {
      "cell_type": "markdown",
      "metadata": {
        "id": "hB_CZ17k00PC"
      },
      "source": [
        "##Test case 2 for T20I6D100K Dataset\n"
      ]
    },
    {
      "cell_type": "code",
      "execution_count": 4,
      "metadata": {
        "id": "aE_019j30etH",
        "colab": {
          "base_uri": "https://localhost:8080/"
        },
        "outputId": "f11c9aa5-4f12-4e0b-e927-b64099a3a59d"
      },
      "outputs": [
        {
          "output_type": "stream",
          "name": "stdout",
          "text": [
            "High Utility patterns were generated successfully using HMiner algorithm\n",
            "High Utility patterns were generated successfully using HMiner algorithm\n",
            "High Utility patterns were generated successfully using HMiner algorithm\n",
            "High Utility patterns were generated successfully using HMiner algorithm\n",
            "High Utility Frequent patterns were generated successfully using HMiner algorithm\n",
            "  algorithm  minUtilCount  minSup  patterns      runtime     memory\n",
            "0    HMiner         10000   60000    157211  1405.506996  998948864\n",
            "1    HMiner         10000   70000    131834  1348.322995  995115008\n",
            "2    HMiner         10000   80000    110198  1142.955294  991838208\n",
            "3    HMiner         10000   90000     92413   992.485725  988581888\n"
          ]
        }
      ],
      "source": [
        "from PAMI.highUtilityPattern.basic import HMiner as alg\n",
        "import pandas as pd\n",
        "# Set the input parameters\n",
        "inputFile = 'Utility_T20I6D100K.csv'\n",
        "separator = '\\t'\n",
        "minUtilCount = 10000\n",
        "minimumSupportCountList = [60000, 70000, 80000, 90000]\n",
        "\n",
        "# Initialize a data frame to store the results of HMiner\n",
        "result = pd.DataFrame(columns=['algorithm', 'minUtilCount', 'minSup', 'patterns', 'runtime', 'memory'])\n",
        "\n",
        "# Execute the algorithm at different minSup values\n",
        "for minSupCount in minimumSupportCountList:\n",
        "    obj = alg.HMiner(inputFile, minUtil=minSupCount, sep=separator)\n",
        "    obj.mine()\n",
        "    # Store the results in the data frame\n",
        "    result.loc[result.shape[0]] = ['HMiner', minUtilCount, minSupCount, len(obj.getPatterns()), obj.getRuntime(), obj.getMemoryRSS()]\n",
        "\n",
        "# Print the results\n",
        "print(f\"High Utility Frequent patterns were generated successfully using HMiner algorithm\")\n",
        "print(result)"
      ]
    },
    {
      "cell_type": "code",
      "source": [],
      "metadata": {
        "id": "Yq9jzUpwfVcO"
      },
      "execution_count": null,
      "outputs": []
    }
  ],
  "metadata": {
    "colab": {
      "provenance": []
    },
    "kernelspec": {
      "display_name": "Python 3",
      "name": "python3"
    },
    "language_info": {
      "name": "python"
    }
  },
  "nbformat": 4,
  "nbformat_minor": 0
}