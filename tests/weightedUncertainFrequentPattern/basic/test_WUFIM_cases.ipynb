{
  "nbformat": 4,
  "nbformat_minor": 0,
  "metadata": {
    "colab": {
      "provenance": []
    },
    "kernelspec": {
      "name": "python3",
      "display_name": "Python 3"
    },
    "language_info": {
      "name": "python"
    }
  },
  "cells": [
    {
      "cell_type": "code",
      "source": [
        "!pip install -U pami"
      ],
      "metadata": {
        "colab": {
          "base_uri": "https://localhost:8080/"
        },
        "id": "JIpQR7kqWfJ8",
        "outputId": "f69a4481-d31e-407b-e156-f00ed8e49137"
      },
      "execution_count": 1,
      "outputs": [
        {
          "output_type": "stream",
          "name": "stdout",
          "text": [
            "Collecting pami\n",
            "  Downloading pami-2024.6.18.1-py3-none-any.whl (1.0 MB)\n",
            "\u001b[2K     \u001b[90m━━━━━━━━━━━━━━━━━━━━━━━━━━━━━━━━━━━━━━━━\u001b[0m \u001b[32m1.0/1.0 MB\u001b[0m \u001b[31m4.4 MB/s\u001b[0m eta \u001b[36m0:00:00\u001b[0m\n",
            "\u001b[?25hRequirement already satisfied: psutil in /usr/local/lib/python3.10/dist-packages (from pami) (5.9.5)\n",
            "Requirement already satisfied: pandas in /usr/local/lib/python3.10/dist-packages (from pami) (2.0.3)\n",
            "Requirement already satisfied: plotly in /usr/local/lib/python3.10/dist-packages (from pami) (5.15.0)\n",
            "Requirement already satisfied: matplotlib in /usr/local/lib/python3.10/dist-packages (from pami) (3.7.1)\n",
            "Collecting resource (from pami)\n",
            "  Downloading Resource-0.2.1-py2.py3-none-any.whl (25 kB)\n",
            "Collecting validators (from pami)\n",
            "  Downloading validators-0.28.3-py3-none-any.whl (40 kB)\n",
            "\u001b[2K     \u001b[90m━━━━━━━━━━━━━━━━━━━━━━━━━━━━━━━━━━━━━━━━\u001b[0m \u001b[32m40.0/40.0 kB\u001b[0m \u001b[31m3.5 MB/s\u001b[0m eta \u001b[36m0:00:00\u001b[0m\n",
            "\u001b[?25hRequirement already satisfied: urllib3 in /usr/local/lib/python3.10/dist-packages (from pami) (2.0.7)\n",
            "Requirement already satisfied: Pillow in /usr/local/lib/python3.10/dist-packages (from pami) (9.4.0)\n",
            "Requirement already satisfied: numpy in /usr/local/lib/python3.10/dist-packages (from pami) (1.25.2)\n",
            "Requirement already satisfied: sphinx in /usr/local/lib/python3.10/dist-packages (from pami) (5.0.2)\n",
            "Collecting sphinx-rtd-theme (from pami)\n",
            "  Downloading sphinx_rtd_theme-2.0.0-py2.py3-none-any.whl (2.8 MB)\n",
            "\u001b[2K     \u001b[90m━━━━━━━━━━━━━━━━━━━━━━━━━━━━━━━━━━━━━━━━\u001b[0m \u001b[32m2.8/2.8 MB\u001b[0m \u001b[31m31.3 MB/s\u001b[0m eta \u001b[36m0:00:00\u001b[0m\n",
            "\u001b[?25hCollecting discord.py (from pami)\n",
            "  Downloading discord.py-2.3.2-py3-none-any.whl (1.1 MB)\n",
            "\u001b[2K     \u001b[90m━━━━━━━━━━━━━━━━━━━━━━━━━━━━━━━━━━━━━━━━\u001b[0m \u001b[32m1.1/1.1 MB\u001b[0m \u001b[31m38.7 MB/s\u001b[0m eta \u001b[36m0:00:00\u001b[0m\n",
            "\u001b[?25hRequirement already satisfied: networkx in /usr/local/lib/python3.10/dist-packages (from pami) (3.3)\n",
            "Collecting deprecated (from pami)\n",
            "  Downloading Deprecated-1.2.14-py2.py3-none-any.whl (9.6 kB)\n",
            "Requirement already satisfied: wrapt<2,>=1.10 in /usr/local/lib/python3.10/dist-packages (from deprecated->pami) (1.14.1)\n",
            "Requirement already satisfied: aiohttp<4,>=3.7.4 in /usr/local/lib/python3.10/dist-packages (from discord.py->pami) (3.9.5)\n",
            "Requirement already satisfied: contourpy>=1.0.1 in /usr/local/lib/python3.10/dist-packages (from matplotlib->pami) (1.2.1)\n",
            "Requirement already satisfied: cycler>=0.10 in /usr/local/lib/python3.10/dist-packages (from matplotlib->pami) (0.12.1)\n",
            "Requirement already satisfied: fonttools>=4.22.0 in /usr/local/lib/python3.10/dist-packages (from matplotlib->pami) (4.53.0)\n",
            "Requirement already satisfied: kiwisolver>=1.0.1 in /usr/local/lib/python3.10/dist-packages (from matplotlib->pami) (1.4.5)\n",
            "Requirement already satisfied: packaging>=20.0 in /usr/local/lib/python3.10/dist-packages (from matplotlib->pami) (24.1)\n",
            "Requirement already satisfied: pyparsing>=2.3.1 in /usr/local/lib/python3.10/dist-packages (from matplotlib->pami) (3.1.2)\n",
            "Requirement already satisfied: python-dateutil>=2.7 in /usr/local/lib/python3.10/dist-packages (from matplotlib->pami) (2.8.2)\n",
            "Requirement already satisfied: pytz>=2020.1 in /usr/local/lib/python3.10/dist-packages (from pandas->pami) (2023.4)\n",
            "Requirement already satisfied: tzdata>=2022.1 in /usr/local/lib/python3.10/dist-packages (from pandas->pami) (2024.1)\n",
            "Requirement already satisfied: tenacity>=6.2.0 in /usr/local/lib/python3.10/dist-packages (from plotly->pami) (8.3.0)\n",
            "Collecting JsonForm>=0.0.2 (from resource->pami)\n",
            "  Downloading JsonForm-0.0.2.tar.gz (2.4 kB)\n",
            "  Preparing metadata (setup.py) ... \u001b[?25l\u001b[?25hdone\n",
            "Collecting JsonSir>=0.0.2 (from resource->pami)\n",
            "  Downloading JsonSir-0.0.2.tar.gz (2.2 kB)\n",
            "  Preparing metadata (setup.py) ... \u001b[?25l\u001b[?25hdone\n",
            "Collecting python-easyconfig>=0.1.0 (from resource->pami)\n",
            "  Downloading Python_EasyConfig-0.1.7-py2.py3-none-any.whl (5.4 kB)\n",
            "Requirement already satisfied: sphinxcontrib-applehelp in /usr/local/lib/python3.10/dist-packages (from sphinx->pami) (1.0.8)\n",
            "Requirement already satisfied: sphinxcontrib-devhelp in /usr/local/lib/python3.10/dist-packages (from sphinx->pami) (1.0.6)\n",
            "Requirement already satisfied: sphinxcontrib-jsmath in /usr/local/lib/python3.10/dist-packages (from sphinx->pami) (1.0.1)\n",
            "Requirement already satisfied: sphinxcontrib-htmlhelp>=2.0.0 in /usr/local/lib/python3.10/dist-packages (from sphinx->pami) (2.0.5)\n",
            "Requirement already satisfied: sphinxcontrib-serializinghtml>=1.1.5 in /usr/local/lib/python3.10/dist-packages (from sphinx->pami) (1.1.10)\n",
            "Requirement already satisfied: sphinxcontrib-qthelp in /usr/local/lib/python3.10/dist-packages (from sphinx->pami) (1.0.7)\n",
            "Requirement already satisfied: Jinja2>=2.3 in /usr/local/lib/python3.10/dist-packages (from sphinx->pami) (3.1.4)\n",
            "Requirement already satisfied: Pygments>=2.0 in /usr/local/lib/python3.10/dist-packages (from sphinx->pami) (2.16.1)\n",
            "Requirement already satisfied: docutils<0.19,>=0.14 in /usr/local/lib/python3.10/dist-packages (from sphinx->pami) (0.18.1)\n",
            "Requirement already satisfied: snowballstemmer>=1.1 in /usr/local/lib/python3.10/dist-packages (from sphinx->pami) (2.2.0)\n",
            "Requirement already satisfied: babel>=1.3 in /usr/local/lib/python3.10/dist-packages (from sphinx->pami) (2.15.0)\n",
            "Requirement already satisfied: alabaster<0.8,>=0.7 in /usr/local/lib/python3.10/dist-packages (from sphinx->pami) (0.7.16)\n",
            "Requirement already satisfied: imagesize in /usr/local/lib/python3.10/dist-packages (from sphinx->pami) (1.4.1)\n",
            "Requirement already satisfied: requests>=2.5.0 in /usr/local/lib/python3.10/dist-packages (from sphinx->pami) (2.31.0)\n",
            "Collecting sphinxcontrib-jquery<5,>=4 (from sphinx-rtd-theme->pami)\n",
            "  Downloading sphinxcontrib_jquery-4.1-py2.py3-none-any.whl (121 kB)\n",
            "\u001b[2K     \u001b[90m━━━━━━━━━━━━━━━━━━━━━━━━━━━━━━━━━━━━━━━━\u001b[0m \u001b[32m121.1/121.1 kB\u001b[0m \u001b[31m8.5 MB/s\u001b[0m eta \u001b[36m0:00:00\u001b[0m\n",
            "\u001b[?25hRequirement already satisfied: aiosignal>=1.1.2 in /usr/local/lib/python3.10/dist-packages (from aiohttp<4,>=3.7.4->discord.py->pami) (1.3.1)\n",
            "Requirement already satisfied: attrs>=17.3.0 in /usr/local/lib/python3.10/dist-packages (from aiohttp<4,>=3.7.4->discord.py->pami) (23.2.0)\n",
            "Requirement already satisfied: frozenlist>=1.1.1 in /usr/local/lib/python3.10/dist-packages (from aiohttp<4,>=3.7.4->discord.py->pami) (1.4.1)\n",
            "Requirement already satisfied: multidict<7.0,>=4.5 in /usr/local/lib/python3.10/dist-packages (from aiohttp<4,>=3.7.4->discord.py->pami) (6.0.5)\n",
            "Requirement already satisfied: yarl<2.0,>=1.0 in /usr/local/lib/python3.10/dist-packages (from aiohttp<4,>=3.7.4->discord.py->pami) (1.9.4)\n",
            "Requirement already satisfied: async-timeout<5.0,>=4.0 in /usr/local/lib/python3.10/dist-packages (from aiohttp<4,>=3.7.4->discord.py->pami) (4.0.3)\n",
            "Requirement already satisfied: MarkupSafe>=2.0 in /usr/local/lib/python3.10/dist-packages (from Jinja2>=2.3->sphinx->pami) (2.1.5)\n",
            "Requirement already satisfied: jsonschema in /usr/local/lib/python3.10/dist-packages (from JsonForm>=0.0.2->resource->pami) (4.19.2)\n",
            "Requirement already satisfied: six>=1.5 in /usr/local/lib/python3.10/dist-packages (from python-dateutil>=2.7->matplotlib->pami) (1.16.0)\n",
            "Requirement already satisfied: PyYAML in /usr/local/lib/python3.10/dist-packages (from python-easyconfig>=0.1.0->resource->pami) (6.0.1)\n",
            "Requirement already satisfied: charset-normalizer<4,>=2 in /usr/local/lib/python3.10/dist-packages (from requests>=2.5.0->sphinx->pami) (3.3.2)\n",
            "Requirement already satisfied: idna<4,>=2.5 in /usr/local/lib/python3.10/dist-packages (from requests>=2.5.0->sphinx->pami) (3.7)\n",
            "Requirement already satisfied: certifi>=2017.4.17 in /usr/local/lib/python3.10/dist-packages (from requests>=2.5.0->sphinx->pami) (2024.6.2)\n",
            "Requirement already satisfied: jsonschema-specifications>=2023.03.6 in /usr/local/lib/python3.10/dist-packages (from jsonschema->JsonForm>=0.0.2->resource->pami) (2023.12.1)\n",
            "Requirement already satisfied: referencing>=0.28.4 in /usr/local/lib/python3.10/dist-packages (from jsonschema->JsonForm>=0.0.2->resource->pami) (0.35.1)\n",
            "Requirement already satisfied: rpds-py>=0.7.1 in /usr/local/lib/python3.10/dist-packages (from jsonschema->JsonForm>=0.0.2->resource->pami) (0.18.1)\n",
            "Building wheels for collected packages: JsonForm, JsonSir\n",
            "  Building wheel for JsonForm (setup.py) ... \u001b[?25l\u001b[?25hdone\n",
            "  Created wheel for JsonForm: filename=JsonForm-0.0.2-py3-none-any.whl size=3314 sha256=e4ce8135cbe00b4741de679a450cbe4f7a0bafec419f0347d17928fc533c1871\n",
            "  Stored in directory: /root/.cache/pip/wheels/b6/e5/87/11026246d3bd4ad67c0615682d2d6748bbd9a40ac0490882bd\n",
            "  Building wheel for JsonSir (setup.py) ... \u001b[?25l\u001b[?25hdone\n",
            "  Created wheel for JsonSir: filename=JsonSir-0.0.2-py3-none-any.whl size=4752 sha256=4434405c1b3fea6c5651518bdef61cc0c29654dcf8f99f5169a2010e5a088199\n",
            "  Stored in directory: /root/.cache/pip/wheels/1d/4c/d3/4d9757425983b43eb709be1043d82cd03fb863ce5f56f117e6\n",
            "Successfully built JsonForm JsonSir\n",
            "Installing collected packages: JsonSir, validators, python-easyconfig, deprecated, sphinxcontrib-jquery, discord.py, sphinx-rtd-theme, JsonForm, resource, pami\n",
            "Successfully installed JsonForm-0.0.2 JsonSir-0.0.2 deprecated-1.2.14 discord.py-2.3.2 pami-2024.6.18.1 python-easyconfig-0.1.7 resource-0.2.1 sphinx-rtd-theme-2.0.0 sphinxcontrib-jquery-4.1 validators-0.28.3\n"
          ]
        }
      ]
    },
    {
      "cell_type": "code",
      "source": [
        "!wget -nc https://u-aizu.ac.jp/~udayrage/datasets/uncertainDatabases/uncertainTransaction_T10I4D100K.csv"
      ],
      "metadata": {
        "colab": {
          "base_uri": "https://localhost:8080/"
        },
        "id": "Wc4QUoJMeNDC",
        "outputId": "67934a99-34d9-4f26-f02c-c6d695b7e449"
      },
      "execution_count": 2,
      "outputs": [
        {
          "output_type": "stream",
          "name": "stdout",
          "text": [
            "--2024-06-18 16:49:51--  https://u-aizu.ac.jp/~udayrage/datasets/uncertainDatabases/uncertainTransaction_T10I4D100K.csv\n",
            "Resolving u-aizu.ac.jp (u-aizu.ac.jp)... 150.95.161.176, 150.31.244.160\n",
            "Connecting to u-aizu.ac.jp (u-aizu.ac.jp)|150.95.161.176|:443... connected.\n",
            "HTTP request sent, awaiting response... 200 OK\n",
            "Length: 9972382 (9.5M) [text/csv]\n",
            "Saving to: ‘uncertainTransaction_T10I4D100K.csv’\n",
            "\n",
            "uncertainTransactio 100%[===================>]   9.51M  1.83MB/s    in 6.0s    \n",
            "\n",
            "2024-06-18 16:49:59 (1.58 MB/s) - ‘uncertainTransaction_T10I4D100K.csv’ saved [9972382/9972382]\n",
            "\n"
          ]
        }
      ]
    },
    {
      "cell_type": "markdown",
      "source": [
        "#Test Cases for T10I4D100K Dataset"
      ],
      "metadata": {
        "id": "cLfV1dPzWj18"
      }
    },
    {
      "cell_type": "markdown",
      "source": [
        "##Test case 1 for T10I4D100K Dataset"
      ],
      "metadata": {
        "id": "hLgApfC4W1Cn"
      }
    },
    {
      "cell_type": "code",
      "source": [
        "from PAMI.weightedUncertainFrequentPattern.basic import WUFIM as alg\n",
        "import pandas as pd\n",
        "\n",
        "#Set the input parameters\n",
        "url='https://u-aizu.ac.jp/~udayrage/datasets/uncertainDatabases/uncertainTransaction_T10I4D100K.csv'\n",
        "weightFile='mxt.txt'\n",
        "seperator='\\t'\n",
        "expWSup = 700\n",
        "minimumSupportCountList = [500, 1000, 1500, 2000, 2500]\n",
        "\n",
        "# Initialize a data frame to store the results of WUFIM\n",
        "result = pd.DataFrame(columns=['algorithm', 'minSup', 'patterns', 'runtime', 'memory'])\n",
        "\n",
        "# Execute the algorithm at different minSup values\n",
        "\n",
        "for expSupCount in minimumSupportCountList:\n",
        "  obj = alg.WUFIM(url, wFile=weightFile, expSup=expSupCount, expWSup = expWSup, sep=seperator)\n",
        "  obj.mine()\n",
        "  #store the results in the data frame\n",
        "  result.loc[result.shape[0]] = ['WUFIM', expSupCount, len(obj.getPatterns()), obj.getRuntime(), obj.getMemoryRSS()]\n",
        "\n",
        "# Print the results\n",
        "print(f\"Weighted Frequent patterns were generated successfully using WUFIM algorithm\")\n",
        "print(result)"
      ],
      "metadata": {
        "id": "tBX90tM9WgdJ",
        "colab": {
          "base_uri": "https://localhost:8080/"
        },
        "outputId": "1cef290c-fbd1-4821-e127-6eed205450df"
      },
      "execution_count": 3,
      "outputs": [
        {
          "output_type": "stream",
          "name": "stdout",
          "text": [
            "Weighted Frequent patterns were generated  successfully using basic algorithm\n",
            "Weighted Frequent patterns were generated  successfully using basic algorithm\n",
            "Weighted Frequent patterns were generated  successfully using basic algorithm\n",
            "Weighted Frequent patterns were generated  successfully using basic algorithm\n",
            "Weighted Frequent patterns were generated  successfully using basic algorithm\n",
            "Weighted Frequent patterns were generated successfully using WUFIM algorithm\n",
            "  algorithm  minSup  patterns    runtime     memory\n",
            "0     WUFIM     500       378  28.374884  678531072\n",
            "1     WUFIM    1000       378  24.140824  551772160\n",
            "2     WUFIM    1500       378  19.303397  478724096\n",
            "3     WUFIM    2000       378  16.333158  460746752\n",
            "4     WUFIM    2500       378  15.997715  456065024\n"
          ]
        }
      ]
    },
    {
      "cell_type": "markdown",
      "source": [
        "##Test case 2 for T10I4D100K Dataset"
      ],
      "metadata": {
        "id": "iD56o75ZYM8g"
      }
    },
    {
      "cell_type": "code",
      "source": [
        "from PAMI.weightedUncertainFrequentPattern.basic import WUFIM as alg\n",
        "import pandas as pd\n",
        "\n",
        "#Set the input parameters\n",
        "inputFile='uncertainTransaction_T10I4D100K.csv'\n",
        "weightFile='mxt.txt'\n",
        "seperator='\\t'\n",
        "expWSup = 700\n",
        "minimumSupportCountList = [500, 1000, 1500, 2000, 2500]\n",
        "\n",
        "# Initialize a data frame to store the results of WUFIM\n",
        "result = pd.DataFrame(columns=['algorithm', 'minSup', 'patterns', 'runtime', 'memory'])\n",
        "\n",
        "# Execute the algorithm at different minSup values\n",
        "\n",
        "for expSupCount in minimumSupportCountList:\n",
        "  obj = alg.WUFIM(inputFile, wFile=weightFile, expSup=expSupCount, expWSup = expWSup, sep=seperator)\n",
        "  obj.mine()\n",
        "  #store the results in the data frame\n",
        "  result.loc[result.shape[0]] = ['WUFIM', expSupCount, len(obj.getPatterns()), obj.getRuntime(), obj.getMemoryRSS()]\n",
        "\n",
        "# Print the results\n",
        "print(f\"Weighted Frequent patterns were generated successfully using WUFIM algorithm\")\n",
        "print(result)"
      ],
      "metadata": {
        "colab": {
          "base_uri": "https://localhost:8080/"
        },
        "id": "vYp33_iJYtmQ",
        "outputId": "4c3a6a4e-16dc-4405-d6bb-dad875b46e46"
      },
      "execution_count": 5,
      "outputs": [
        {
          "output_type": "stream",
          "name": "stdout",
          "text": [
            "Weighted Frequent patterns were generated  successfully using basic algorithm\n",
            "Weighted Frequent patterns were generated  successfully using basic algorithm\n",
            "Weighted Frequent patterns were generated  successfully using basic algorithm\n",
            "Weighted Frequent patterns were generated  successfully using basic algorithm\n",
            "Weighted Frequent patterns were generated  successfully using basic algorithm\n",
            "Weighted Frequent patterns were generated successfully using WUFIM algorithm\n",
            "  algorithm  minSup  patterns    runtime     memory\n",
            "0     WUFIM     500       378  19.549896  680079360\n",
            "1     WUFIM    1000       378  13.819354  553283584\n",
            "2     WUFIM    1500       378  11.772715  479309824\n",
            "3     WUFIM    2000       378   9.754948  461262848\n",
            "4     WUFIM    2500       378   9.916170  456785920\n"
          ]
        }
      ]
    },
    {
      "cell_type": "code",
      "source": [
        "!wget https://u-aizu.ac.jp/~udayrage/datasets/uncertainDatabases/uncertainTransaction_Retail.csv"
      ],
      "metadata": {
        "colab": {
          "base_uri": "https://localhost:8080/"
        },
        "id": "MUv5M5SAl93T",
        "outputId": "d3ed6a3c-8760-470c-c0d4-6a1066cb2e45"
      },
      "execution_count": 10,
      "outputs": [
        {
          "output_type": "stream",
          "name": "stdout",
          "text": [
            "--2024-06-18 17:02:15--  https://u-aizu.ac.jp/~udayrage/datasets/uncertainDatabases/uncertainTransaction_Retail.csv\n",
            "Resolving u-aizu.ac.jp (u-aizu.ac.jp)... 150.95.161.176, 150.31.244.160\n",
            "Connecting to u-aizu.ac.jp (u-aizu.ac.jp)|150.95.161.176|:443... connected.\n",
            "HTTP request sent, awaiting response... 200 OK\n",
            "Length: 8618079 (8.2M) [text/csv]\n",
            "Saving to: ‘uncertainTransaction_Retail.csv’\n",
            "\n",
            "uncertainTransactio 100%[===================>]   8.22M  1.54MB/s    in 6.2s    \n",
            "\n",
            "2024-06-18 17:02:23 (1.34 MB/s) - ‘uncertainTransaction_Retail.csv’ saved [8618079/8618079]\n",
            "\n"
          ]
        }
      ]
    },
    {
      "cell_type": "markdown",
      "source": [
        "# Test Cases Retail Dataset"
      ],
      "metadata": {
        "id": "a-MknH0yaQge"
      }
    },
    {
      "cell_type": "markdown",
      "source": [
        "##Test case 1 for Retail Dataset"
      ],
      "metadata": {
        "id": "LHVv3kqHdOvB"
      }
    },
    {
      "cell_type": "code",
      "source": [
        "from PAMI.weightedUncertainFrequentPattern.basic import WUFIM as alg\n",
        "import pandas as pd\n",
        "\n",
        "#Set the input parameters\n",
        "url='https://u-aizu.ac.jp/~udayrage/datasets/uncertainDatabases/uncertainTransaction_Retail.csv'\n",
        "weightFile='mxt.txt'\n",
        "seperator='\\t'\n",
        "expWSup = 700\n",
        "minimumSupportCountList = [500, 1000, 1500, 2000, 2500]\n",
        "\n",
        "# Initialize a data frame to store the results of WUFIM\n",
        "result = pd.DataFrame(columns=['algorithm', 'minSup', 'patterns', 'runtime', 'memory'])\n",
        "\n",
        "# Execute the algorithm at different minSup values\n",
        "\n",
        "for expSupCount in minimumSupportCountList:\n",
        "  obj = alg.WUFIM(url, wFile=weightFile, expSup=expSupCount, expWSup = expWSup, sep=seperator)\n",
        "  obj.mine()\n",
        "  #store the results in the data frame\n",
        "  result.loc[result.shape[0]] = ['WUFIM', expSupCount, len(obj.getPatterns()), obj.getRuntime(), obj.getMemoryRSS()]\n",
        "\n",
        "# Print the results\n",
        "print(f\"Weighted Frequent patterns were generated successfully using WUFIM algorithm\")\n",
        "print(result)"
      ],
      "metadata": {
        "colab": {
          "base_uri": "https://localhost:8080/"
        },
        "id": "3y3Vyu5TaGyB",
        "outputId": "f845f8ea-3e7d-4773-d778-84ab44651828"
      },
      "execution_count": 11,
      "outputs": [
        {
          "output_type": "stream",
          "name": "stdout",
          "text": [
            "Weighted Frequent patterns were generated  successfully using basic algorithm\n",
            "Weighted Frequent patterns were generated  successfully using basic algorithm\n",
            "Weighted Frequent patterns were generated  successfully using basic algorithm\n",
            "Weighted Frequent patterns were generated  successfully using basic algorithm\n",
            "Weighted Frequent patterns were generated  successfully using basic algorithm\n",
            "Weighted Frequent patterns were generated successfully using WUFIM algorithm\n",
            "  algorithm  minSup  patterns    runtime     memory\n",
            "0     WUFIM     500       445  21.879718  603496448\n",
            "1     WUFIM    1000       445  22.779677  599834624\n",
            "2     WUFIM    1500       445  21.849629  599117824\n",
            "3     WUFIM    2000       445  20.997739  598917120\n",
            "4     WUFIM    2500       445  22.146834  598773760\n"
          ]
        }
      ]
    },
    {
      "cell_type": "markdown",
      "source": [
        "##Test case 2 for Retail Dataset"
      ],
      "metadata": {
        "id": "sBgF2j1pdYFs"
      }
    },
    {
      "cell_type": "code",
      "source": [
        "from PAMI.weightedUncertainFrequentPattern.basic import WUFIM as alg\n",
        "import pandas as pd\n",
        "\n",
        "#Set the input parameters\n",
        "inputFile='uncertainTransaction_Retail.csv'\n",
        "weightFile='mxt.txt'\n",
        "seperator='\\t'\n",
        "expWSup = 700\n",
        "minimumSupportCountList = [500, 1000, 1500, 2000, 2500]\n",
        "\n",
        "# Initialize a data frame to store the results of WUFIM\n",
        "result = pd.DataFrame(columns=['algorithm', 'minSup', 'patterns', 'runtime', 'memory'])\n",
        "\n",
        "# Execute the algorithm at different minSup values\n",
        "\n",
        "for expSupCount in minimumSupportCountList:\n",
        "  obj = alg.WUFIM(inputFile, wFile=weightFile, expSup=expSupCount, expWSup = expWSup, sep=seperator)\n",
        "  obj.mine()\n",
        "  #store the results in the data frame\n",
        "  result.loc[result.shape[0]] = ['WUFIM', expSupCount, len(obj.getPatterns()), obj.getRuntime(), obj.getMemoryRSS()]\n",
        "\n",
        "# Print the results\n",
        "print(f\"Weighted Frequent patterns were generated successfully using WUFIM algorithm\")\n",
        "print(result)"
      ],
      "metadata": {
        "colab": {
          "base_uri": "https://localhost:8080/"
        },
        "id": "b7DjVlh4auoH",
        "outputId": "ba31660d-a933-48e9-d908-2d13c881e048"
      },
      "execution_count": 12,
      "outputs": [
        {
          "output_type": "stream",
          "name": "stdout",
          "text": [
            "Weighted Frequent patterns were generated  successfully using basic algorithm\n",
            "Weighted Frequent patterns were generated  successfully using basic algorithm\n",
            "Weighted Frequent patterns were generated  successfully using basic algorithm\n",
            "Weighted Frequent patterns were generated  successfully using basic algorithm\n",
            "Weighted Frequent patterns were generated  successfully using basic algorithm\n",
            "Weighted Frequent patterns were generated successfully using WUFIM algorithm\n",
            "  algorithm  minSup  patterns    runtime     memory\n",
            "0     WUFIM     500       445  15.992089  603484160\n",
            "1     WUFIM    1000       445  15.512777  599953408\n",
            "2     WUFIM    1500       445  16.432553  599293952\n",
            "3     WUFIM    2000       445  16.033257  598982656\n",
            "4     WUFIM    2500       445  15.479410  599080960\n"
          ]
        }
      ]
    },
    {
      "cell_type": "code",
      "source": [],
      "metadata": {
        "id": "SZJyHXyKVw6w"
      },
      "execution_count": null,
      "outputs": []
    }
  ]
}