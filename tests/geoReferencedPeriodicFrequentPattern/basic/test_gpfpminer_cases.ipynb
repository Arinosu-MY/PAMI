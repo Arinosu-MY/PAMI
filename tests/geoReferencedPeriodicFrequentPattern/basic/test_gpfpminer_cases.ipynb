{
 "cells": [
  {
   "cell_type": "code",
   "execution_count": 3,
   "metadata": {},
   "outputs": [
    {
     "name": "stdout",
     "output_type": "stream",
     "text": [
      "Requirement already satisfied: pami in c:\\python310\\lib\\site-packages (2024.6.10)\n",
      "Requirement already satisfied: psutil in c:\\users\\aechx\\appdata\\roaming\\python\\python310\\site-packages (from pami) (5.9.8)\n",
      "Requirement already satisfied: pandas in c:\\python310\\lib\\site-packages (from pami) (2.2.1)\n",
      "Requirement already satisfied: plotly in c:\\python310\\lib\\site-packages (from pami) (5.18.0)\n",
      "Requirement already satisfied: matplotlib in c:\\users\\aechx\\appdata\\roaming\\python\\python310\\site-packages (from pami) (3.9.0)\n",
      "Requirement already satisfied: resource in c:\\users\\aechx\\appdata\\roaming\\python\\python310\\site-packages (from pami) (0.2.1)\n",
      "Requirement already satisfied: validators in c:\\python310\\lib\\site-packages (from pami) (0.28.3)\n",
      "Requirement already satisfied: urllib3 in c:\\python310\\lib\\site-packages (from pami) (2.2.1)\n",
      "Requirement already satisfied: Pillow in c:\\python310\\lib\\site-packages (from pami) (10.3.0)\n",
      "Requirement already satisfied: numpy in c:\\python310\\lib\\site-packages (from pami) (1.26.4)\n",
      "Requirement already satisfied: sphinx in c:\\users\\aechx\\appdata\\roaming\\python\\python310\\site-packages (from pami) (7.3.7)\n",
      "Requirement already satisfied: sphinx-rtd-theme in c:\\users\\aechx\\appdata\\roaming\\python\\python310\\site-packages (from pami) (2.0.0)\n",
      "Requirement already satisfied: discord.py in c:\\users\\aechx\\appdata\\roaming\\python\\python310\\site-packages (from pami) (2.3.2)\n",
      "Requirement already satisfied: networkx in c:\\python310\\lib\\site-packages (from pami) (3.3)\n",
      "Requirement already satisfied: deprecated in c:\\users\\aechx\\appdata\\roaming\\python\\python310\\site-packages (from pami) (1.2.14)\n",
      "Requirement already satisfied: wrapt<2,>=1.10 in c:\\python310\\lib\\site-packages (from deprecated->pami) (1.16.0)\n",
      "Requirement already satisfied: aiohttp<4,>=3.7.4 in c:\\users\\aechx\\appdata\\roaming\\python\\python310\\site-packages (from discord.py->pami) (3.9.5)\n",
      "Requirement already satisfied: contourpy>=1.0.1 in c:\\users\\aechx\\appdata\\roaming\\python\\python310\\site-packages (from matplotlib->pami) (1.2.1)\n",
      "Requirement already satisfied: cycler>=0.10 in c:\\users\\aechx\\appdata\\roaming\\python\\python310\\site-packages (from matplotlib->pami) (0.12.1)\n",
      "Requirement already satisfied: fonttools>=4.22.0 in c:\\python310\\lib\\site-packages (from matplotlib->pami) (4.52.4)\n",
      "Requirement already satisfied: kiwisolver>=1.3.1 in c:\\python310\\lib\\site-packages (from matplotlib->pami) (1.4.5)\n",
      "Requirement already satisfied: packaging>=20.0 in c:\\users\\aechx\\appdata\\roaming\\python\\python310\\site-packages (from matplotlib->pami) (24.0)\n",
      "Requirement already satisfied: pyparsing>=2.3.1 in c:\\python310\\lib\\site-packages (from matplotlib->pami) (3.1.2)\n",
      "Requirement already satisfied: python-dateutil>=2.7 in c:\\python310\\lib\\site-packages (from matplotlib->pami) (2.8.2)\n",
      "Requirement already satisfied: pytz>=2020.1 in c:\\python310\\lib\\site-packages (from pandas->pami) (2023.3.post1)\n",
      "Requirement already satisfied: tzdata>=2022.7 in c:\\python310\\lib\\site-packages (from pandas->pami) (2023.4)\n",
      "Requirement already satisfied: tenacity>=6.2.0 in c:\\python310\\lib\\site-packages (from plotly->pami) (8.2.3)\n",
      "Requirement already satisfied: JsonForm>=0.0.2 in c:\\users\\aechx\\appdata\\roaming\\python\\python310\\site-packages (from resource->pami) (0.0.2)\n",
      "Requirement already satisfied: JsonSir>=0.0.2 in c:\\python310\\lib\\site-packages (from resource->pami) (0.0.2)\n",
      "Requirement already satisfied: python-easyconfig>=0.1.0 in c:\\python310\\lib\\site-packages (from resource->pami) (0.1.7)\n",
      "Requirement already satisfied: sphinxcontrib-applehelp in c:\\python310\\lib\\site-packages (from sphinx->pami) (1.0.8)\n",
      "Requirement already satisfied: sphinxcontrib-devhelp in c:\\python310\\lib\\site-packages (from sphinx->pami) (1.0.6)\n",
      "Requirement already satisfied: sphinxcontrib-jsmath in c:\\python310\\lib\\site-packages (from sphinx->pami) (1.0.1)\n",
      "Requirement already satisfied: sphinxcontrib-htmlhelp>=2.0.0 in c:\\python310\\lib\\site-packages (from sphinx->pami) (2.0.5)\n",
      "Requirement already satisfied: sphinxcontrib-serializinghtml>=1.1.9 in c:\\python310\\lib\\site-packages (from sphinx->pami) (1.1.10)\n",
      "Requirement already satisfied: sphinxcontrib-qthelp in c:\\python310\\lib\\site-packages (from sphinx->pami) (1.0.7)\n",
      "Requirement already satisfied: Jinja2>=3.0 in c:\\python310\\lib\\site-packages (from sphinx->pami) (3.1.2)\n",
      "Requirement already satisfied: Pygments>=2.14 in c:\\users\\aechx\\appdata\\roaming\\python\\python310\\site-packages (from sphinx->pami) (2.18.0)\n",
      "Requirement already satisfied: docutils<0.22,>=0.18.1 in c:\\python310\\lib\\site-packages (from sphinx->pami) (0.20.1)\n",
      "Requirement already satisfied: snowballstemmer>=2.0 in c:\\python310\\lib\\site-packages (from sphinx->pami) (2.2.0)\n",
      "Requirement already satisfied: babel>=2.9 in c:\\users\\aechx\\appdata\\roaming\\python\\python310\\site-packages (from sphinx->pami) (2.15.0)\n",
      "Requirement already satisfied: alabaster~=0.7.14 in c:\\users\\aechx\\appdata\\roaming\\python\\python310\\site-packages (from sphinx->pami) (0.7.16)\n",
      "Requirement already satisfied: imagesize>=1.3 in c:\\python310\\lib\\site-packages (from sphinx->pami) (1.4.1)\n",
      "Requirement already satisfied: requests>=2.25.0 in c:\\users\\aechx\\appdata\\roaming\\python\\python310\\site-packages (from sphinx->pami) (2.32.2)\n",
      "Requirement already satisfied: tomli>=2 in c:\\python310\\lib\\site-packages (from sphinx->pami) (2.0.1)\n",
      "Requirement already satisfied: colorama>=0.4.5 in c:\\python310\\lib\\site-packages (from sphinx->pami) (0.4.6)\n",
      "Requirement already satisfied: sphinxcontrib-jquery<5,>=4 in c:\\users\\aechx\\appdata\\roaming\\python\\python310\\site-packages (from sphinx-rtd-theme->pami) (4.1)\n",
      "Requirement already satisfied: aiosignal>=1.1.2 in c:\\users\\aechx\\appdata\\roaming\\python\\python310\\site-packages (from aiohttp<4,>=3.7.4->discord.py->pami) (1.3.1)\n",
      "Requirement already satisfied: attrs>=17.3.0 in c:\\users\\aechx\\appdata\\roaming\\python\\python310\\site-packages (from aiohttp<4,>=3.7.4->discord.py->pami) (23.2.0)\n",
      "Requirement already satisfied: frozenlist>=1.1.1 in c:\\python310\\lib\\site-packages (from aiohttp<4,>=3.7.4->discord.py->pami) (1.4.1)\n",
      "Requirement already satisfied: multidict<7.0,>=4.5 in c:\\python310\\lib\\site-packages (from aiohttp<4,>=3.7.4->discord.py->pami) (6.0.5)\n",
      "Requirement already satisfied: yarl<2.0,>=1.0 in c:\\python310\\lib\\site-packages (from aiohttp<4,>=3.7.4->discord.py->pami) (1.9.4)\n",
      "Requirement already satisfied: async-timeout<5.0,>=4.0 in c:\\users\\aechx\\appdata\\roaming\\python\\python310\\site-packages (from aiohttp<4,>=3.7.4->discord.py->pami) (4.0.3)\n",
      "Requirement already satisfied: MarkupSafe>=2.0 in c:\\python310\\lib\\site-packages (from Jinja2>=3.0->sphinx->pami) (2.1.1)\n",
      "Requirement already satisfied: jsonschema in c:\\users\\aechx\\appdata\\roaming\\python\\python310\\site-packages (from JsonForm>=0.0.2->resource->pami) (4.22.0)\n",
      "Requirement already satisfied: six>=1.5 in c:\\users\\aechx\\appdata\\roaming\\python\\python310\\site-packages (from python-dateutil>=2.7->matplotlib->pami) (1.16.0)\n",
      "Requirement already satisfied: PyYAML in c:\\python310\\lib\\site-packages (from python-easyconfig>=0.1.0->resource->pami) (6.0)\n",
      "Requirement already satisfied: charset-normalizer<4,>=2 in c:\\python310\\lib\\site-packages (from requests>=2.25.0->sphinx->pami) (3.0.1)\n",
      "Requirement already satisfied: idna<4,>=2.5 in c:\\python310\\lib\\site-packages (from requests>=2.25.0->sphinx->pami) (3.7)\n",
      "Requirement already satisfied: certifi>=2017.4.17 in c:\\users\\aechx\\appdata\\roaming\\python\\python310\\site-packages (from requests>=2.25.0->sphinx->pami) (2024.2.2)\n",
      "Requirement already satisfied: jsonschema-specifications>=2023.03.6 in c:\\users\\aechx\\appdata\\roaming\\python\\python310\\site-packages (from jsonschema->JsonForm>=0.0.2->resource->pami) (2023.12.1)\n",
      "Requirement already satisfied: referencing>=0.28.4 in c:\\users\\aechx\\appdata\\roaming\\python\\python310\\site-packages (from jsonschema->JsonForm>=0.0.2->resource->pami) (0.35.1)\n",
      "Requirement already satisfied: rpds-py>=0.7.1 in c:\\python310\\lib\\site-packages (from jsonschema->JsonForm>=0.0.2->resource->pami) (0.18.1)\n"
     ]
    },
    {
     "name": "stderr",
     "output_type": "stream",
     "text": [
      "WARNING: Ignoring invalid distribution - (c:\\python310\\lib\\site-packages)\n",
      "WARNING: Ignoring invalid distribution -ip (c:\\python310\\lib\\site-packages)\n",
      "WARNING: Ignoring invalid distribution -p (c:\\python310\\lib\\site-packages)\n",
      "WARNING: Ignoring invalid distribution - (c:\\python310\\lib\\site-packages)\n",
      "WARNING: Ignoring invalid distribution -ip (c:\\python310\\lib\\site-packages)\n",
      "WARNING: Ignoring invalid distribution -p (c:\\python310\\lib\\site-packages)\n"
     ]
    }
   ],
   "source": [
    "!pip install -U pami"
   ]
  },
  {
   "cell_type": "markdown",
   "metadata": {},
   "source": [
    "# Test cases for T10I4D100K Datasets"
   ]
  },
  {
   "cell_type": "markdown",
   "metadata": {},
   "source": [
    "## Test case 1 for T10I4D100K Dataset"
   ]
  },
  {
   "cell_type": "code",
   "execution_count": 4,
   "metadata": {},
   "outputs": [
    {
     "name": "stdout",
     "output_type": "stream",
     "text": [
      "Spatial Periodic Frequent patterns were generated successfully using SpatialEclat algorithm\n",
      "Spatial Periodic Frequent patterns were generated successfully using SpatialEclat algorithm\n",
      "Spatial Periodic Frequent patterns were generated successfully using SpatialEclat algorithm\n",
      "Spatial Periodic Frequent patterns were generated successfully using SpatialEclat algorithm\n",
      "Spatial Periodic Frequent patterns were generated successfully using SpatialEclat algorithm\n",
      "Frequent patterns were generated successfully using GPFPMiner algorithm\n",
      "   algorithm  minSup  patterns    runtime     memory\n",
      "0  GPFPMiner     100       797  22.501642  356716544\n",
      "1  GPFPMiner     200       741  11.601232  357044224\n",
      "2  GPFPMiner     300       692  12.050582  357044224\n",
      "3  GPFPMiner     400       630  25.330625  357322752\n",
      "4  GPFPMiner     500       569  13.404575  356962304\n"
     ]
    }
   ],
   "source": [
    "import PAMI.geoReferencedPeriodicFrequentPattern.basic.GPFPMiner as alg\n",
    "import pandas as pd\n",
    "# Set the input parameters\n",
    "URL = 'https://u-aizu.ac.jp/~udayrage/datasets/temporalDatabases/Temporal_T10I4D100K.csv'\n",
    "separator = '\\t'\n",
    "minimumSupportCountList = [100, 200, 300 ,400, 500]\n",
    "maxPeriodicity = 0.5\n",
    "neighbourFile='t10_neighbours.txt'\n",
    "# Initialize a data frame to store the results of GPFPMiner\n",
    "result = pd.DataFrame(columns=['algorithm', 'minSup', 'patterns', 'runtime', 'memory'])\n",
    "# Execute the algorithm at different minSup values\n",
    "for minSupCount in minimumSupportCountList:\n",
    "    obj = alg.GPFPMiner(URL, minSup=minSupCount, maxPer=maxPeriodicity, nFile=neighbourFile, sep=separator)\n",
    "    obj.mine()\n",
    "    # Store the results in the data frame\n",
    "    result.loc[result.shape[0]] = ['GPFPMiner', minSupCount, len(obj.getPatterns()), obj.getRuntime(), obj.getMemoryRSS(),]\n",
    "# Print the results\n",
    "print(f\"Frequent patterns were generated successfully using GPFPMiner algorithm\")\n",
    "print(result)"
   ]
  },
  {
   "cell_type": "markdown",
   "metadata": {},
   "source": [
    "## Test case 2 for T10I4D100K Dataset"
   ]
  },
  {
   "cell_type": "code",
   "execution_count": 5,
   "metadata": {},
   "outputs": [
    {
     "name": "stdout",
     "output_type": "stream",
     "text": [
      "Spatial Periodic Frequent patterns were generated successfully using SpatialEclat algorithm\n",
      "Spatial Periodic Frequent patterns were generated successfully using SpatialEclat algorithm\n",
      "Spatial Periodic Frequent patterns were generated successfully using SpatialEclat algorithm\n",
      "Spatial Periodic Frequent patterns were generated successfully using SpatialEclat algorithm\n",
      "Spatial Periodic Frequent patterns were generated successfully using SpatialEclat algorithm\n",
      "Frequent patterns were generated successfully using GPFPMiner algorithm\n",
      "   algorithm  minSup  patterns   runtime     memory\n",
      "0  GPFPMiner     100       797  2.008497  356687872\n",
      "1  GPFPMiner     200       741  2.251240  357089280\n",
      "2  GPFPMiner     300       692  2.312359  357117952\n",
      "3  GPFPMiner     400       630  2.079620  357068800\n",
      "4  GPFPMiner     500       569  1.981234  356917248\n"
     ]
    }
   ],
   "source": [
    "import PAMI.geoReferencedPeriodicFrequentPattern.basic.GPFPMiner as alg\n",
    "import pandas as pd\n",
    "# Set the input parameters\n",
    "inputFile = 'Temporal_T10I4D100K.csv'\n",
    "separator = '\\t'\n",
    "minimumSupportCountList = [100, 200, 300 ,400, 500]\n",
    "maxPeriodicity=0.5\n",
    "neighbourFile='t10_neighbours.txt'\n",
    "# Initialize a data frame to store the results of GPFPMiner\n",
    "result = pd.DataFrame(columns=['algorithm', 'minSup', 'patterns', 'runtime', 'memory'])\n",
    "# Execute the algorithm at different minSup values\n",
    "for minSupCount in minimumSupportCountList:\n",
    "    obj = alg.GPFPMiner(inputFile, minSup=minSupCount, maxPer=maxPeriodicity, nFile=neighbourFile, sep=separator)\n",
    "    obj.mine()\n",
    "    # Store the results in the data frame\n",
    "    result.loc[result.shape[0]] = ['GPFPMiner', minSupCount, len(obj.getPatterns()), obj.getRuntime(), obj.getMemoryRSS(),]\n",
    "# Print the results\n",
    "print(f\"Frequent patterns were generated successfully using GPFPMiner algorithm\")\n",
    "print(result)"
   ]
  },
  {
   "cell_type": "markdown",
   "metadata": {},
   "source": [
    "# Test cases for retail Datasets"
   ]
  },
  {
   "cell_type": "markdown",
   "metadata": {},
   "source": [
    "## Test case 1 for retail Dataset"
   ]
  },
  {
   "cell_type": "code",
   "execution_count": 12,
   "metadata": {},
   "outputs": [
    {
     "name": "stdout",
     "output_type": "stream",
     "text": [
      "Spatial Periodic Frequent patterns were generated successfully using SpatialEclat algorithm\n",
      "Spatial Periodic Frequent patterns were generated successfully using SpatialEclat algorithm\n",
      "Spatial Periodic Frequent patterns were generated successfully using SpatialEclat algorithm\n",
      "Spatial Periodic Frequent patterns were generated successfully using SpatialEclat algorithm\n",
      "Spatial Periodic Frequent patterns were generated successfully using SpatialEclat algorithm\n",
      "Frequent patterns were generated successfully using GPFPMiner algorithm\n",
      "   algorithm  minSup  patterns    runtime     memory\n",
      "0  GPFPMiner     100      1792  34.904096  350691328\n",
      "1  GPFPMiner     200       775  15.401740  350826496\n",
      "2  GPFPMiner     300       397  27.324760  350498816\n",
      "3  GPFPMiner     400       261   7.229990  351059968\n",
      "4  GPFPMiner     500       177   7.791189  350437376\n"
     ]
    }
   ],
   "source": [
    "import PAMI.geoReferencedPeriodicFrequentPattern.basic.GPFPMiner as alg\n",
    "import pandas as pd\n",
    "# Set the input parameters\n",
    "URL = 'https://u-aizu.ac.jp/~udayrage/datasets/temporalDatabases/Temporal_retail.csv'\n",
    "separator = '\\t'\n",
    "minimumSupportCountList = [100, 200, 300 ,400, 500]\n",
    "maxPeriodicity = 0.5\n",
    "neighbourFile='t10_neighbours.txt'\n",
    "# Initialize a data frame to store the results of GPFPMiner\n",
    "result = pd.DataFrame(columns=['algorithm', 'minSup', 'patterns', 'runtime', 'memory'])\n",
    "# Execute the algorithm at different minSup values\n",
    "for minSupCount in minimumSupportCountList:\n",
    "    obj = alg.GPFPMiner(URL, minSup=minSupCount, sep=separator, maxPer=maxPeriodicity, nFile=neighbourFile)\n",
    "    obj.mine()\n",
    "    # Store the results in the data frame\n",
    "    result.loc[result.shape[0]] = ['GPFPMiner', minSupCount, len(obj.getPatterns()), obj.getRuntime(), obj.getMemoryRSS(),]\n",
    "# Print the results\n",
    "print(f\"Frequent patterns were generated successfully using GPFPMiner algorithm\")\n",
    "print(result)"
   ]
  },
  {
   "cell_type": "markdown",
   "metadata": {},
   "source": [
    "## Test case 2 for retail Dataset"
   ]
  },
  {
   "cell_type": "code",
   "execution_count": 11,
   "metadata": {},
   "outputs": [
    {
     "name": "stdout",
     "output_type": "stream",
     "text": [
      "Spatial Periodic Frequent patterns were generated successfully using SpatialEclat algorithm\n",
      "Spatial Periodic Frequent patterns were generated successfully using SpatialEclat algorithm\n",
      "Spatial Periodic Frequent patterns were generated successfully using SpatialEclat algorithm\n",
      "Spatial Periodic Frequent patterns were generated successfully using SpatialEclat algorithm\n",
      "Spatial Periodic Frequent patterns were generated successfully using SpatialEclat algorithm\n",
      "Frequent patterns were generated successfully using GPFPMiner algorithm\n",
      "   algorithm  minSup  patterns   runtime     memory\n",
      "0  GPFPMiner     100      1792  1.566273  350527488\n",
      "1  GPFPMiner     200       775  1.479014  350318592\n",
      "2  GPFPMiner     300       397  1.635024  350363648\n",
      "3  GPFPMiner     400       261  1.430807  350642176\n",
      "4  GPFPMiner     500       177  1.415813  350273536\n"
     ]
    }
   ],
   "source": [
    "import PAMI.geoReferencedPeriodicFrequentPattern.basic.GPFPMiner as alg\n",
    "import pandas as pd\n",
    "# Set the input parameters\n",
    "inputFile = 'Temporal_retail.csv'\n",
    "separator = '\\t'\n",
    "minimumSupportCountList = [100, 200, 300 ,400, 500]\n",
    "maxPeriodicity=0.5\n",
    "neighbourFile='t10_neighbours.txt'\n",
    "# Initialize a data frame to store the results of GPFPMiner\n",
    "result = pd.DataFrame(columns=['algorithm', 'minSup', 'patterns', 'runtime', 'memory'])\n",
    "# Execute the algorithm at different minSup values\n",
    "for minSupCount in minimumSupportCountList:\n",
    "    obj = alg.GPFPMiner(inputFile, minSup=minSupCount, maxPer=maxPeriodicity, nFile=neighbourFile, sep=separator)\n",
    "    obj.mine()\n",
    "    # Store the results in the data frame\n",
    "    result.loc[result.shape[0]] = ['GPFPMiner', minSupCount, len(obj.getPatterns()), obj.getRuntime(), obj.getMemoryRSS(),]\n",
    "# Print the results\n",
    "print(f\"Frequent patterns were generated successfully using GPFPMiner algorithm\")\n",
    "print(result)"
   ]
  },
  {
   "cell_type": "markdown",
   "metadata": {},
   "source": [
    "# Test cases for T20I6D100K Datasets"
   ]
  },
  {
   "cell_type": "markdown",
   "metadata": {},
   "source": [
    "## Test case 1 for T20I6D100K Dataset"
   ]
  },
  {
   "cell_type": "code",
   "execution_count": 8,
   "metadata": {},
   "outputs": [
    {
     "name": "stdout",
     "output_type": "stream",
     "text": [
      "Spatial Periodic Frequent patterns were generated successfully using SpatialEclat algorithm\n",
      "Spatial Periodic Frequent patterns were generated successfully using SpatialEclat algorithm\n",
      "Spatial Periodic Frequent patterns were generated successfully using SpatialEclat algorithm\n",
      "Spatial Periodic Frequent patterns were generated successfully using SpatialEclat algorithm\n",
      "Spatial Periodic Frequent patterns were generated successfully using SpatialEclat algorithm\n",
      "Frequent patterns were generated successfully using GPFPMiner algorithm\n",
      "   algorithm  minSup  patterns    runtime     memory\n",
      "0  GPFPMiner     100       829  16.140785  437878784\n",
      "1  GPFPMiner     200       789  35.269498  438136832\n",
      "2  GPFPMiner     300       755  27.079985  437624832\n",
      "3  GPFPMiner     400       733  30.694827  438091776\n",
      "4  GPFPMiner     500       692  14.397707  437891072\n"
     ]
    }
   ],
   "source": [
    "import PAMI.geoReferencedPeriodicFrequentPattern.basic.GPFPMiner as alg\n",
    "import pandas as pd\n",
    "# Set the input parameters\n",
    "URL = 'https://u-aizu.ac.jp/~udayrage/datasets/temporalDatabases/Temporal_T20I6D100K.csv'\n",
    "separator = '\\t'\n",
    "minimumSupportCountList = [100, 200, 300 ,400, 500]\n",
    "maxPeriodicity = 0.5\n",
    "neighbourFile='t10_neighbours.txt'\n",
    "# Initialize a data frame to store the results of GPFPMiner\n",
    "result = pd.DataFrame(columns=['algorithm', 'minSup', 'patterns', 'runtime', 'memory'])\n",
    "# Execute the algorithm at different minSup values\n",
    "for minSupCount in minimumSupportCountList:\n",
    "    obj = alg.GPFPMiner(URL, minSup=minSupCount, sep=separator, maxPer=maxPeriodicity, nFile=neighbourFile)\n",
    "    obj.mine()\n",
    "    # Store the results in the data frame\n",
    "    result.loc[result.shape[0]] = ['GPFPMiner', minSupCount, len(obj.getPatterns()), obj.getRuntime(), obj.getMemoryRSS(),]\n",
    "# Print the results\n",
    "print(f\"Frequent patterns were generated successfully using GPFPMiner algorithm\")\n",
    "print(result)"
   ]
  },
  {
   "cell_type": "markdown",
   "metadata": {},
   "source": [
    "## Test case 2 for T20I6D100K Dataset"
   ]
  },
  {
   "cell_type": "code",
   "execution_count": 9,
   "metadata": {},
   "outputs": [
    {
     "name": "stdout",
     "output_type": "stream",
     "text": [
      "Spatial Periodic Frequent patterns were generated successfully using SpatialEclat algorithm\n",
      "Spatial Periodic Frequent patterns were generated successfully using SpatialEclat algorithm\n",
      "Spatial Periodic Frequent patterns were generated successfully using SpatialEclat algorithm\n",
      "Spatial Periodic Frequent patterns were generated successfully using SpatialEclat algorithm\n",
      "Spatial Periodic Frequent patterns were generated successfully using SpatialEclat algorithm\n",
      "Frequent patterns were generated successfully using GPFPMiner algorithm\n",
      "   algorithm  minSup  patterns   runtime     memory\n",
      "0  GPFPMiner     100       829  3.052883  438218752\n",
      "1  GPFPMiner     200       789  3.345678  437977088\n",
      "2  GPFPMiner     300       755  3.135720  437760000\n",
      "3  GPFPMiner     400       733  3.536056  437817344\n",
      "4  GPFPMiner     500       692  3.755662  437645312\n"
     ]
    }
   ],
   "source": [
    "import PAMI.geoReferencedPeriodicFrequentPattern.basic.GPFPMiner as alg\n",
    "import pandas as pd\n",
    "# Set the input parameters\n",
    "inputFile = 'Temporal_T20I6D100K.csv'\n",
    "separator = '\\t'\n",
    "minimumSupportCountList = [100, 200, 300 ,400, 500]\n",
    "maxPeriodicity=0.5\n",
    "neighbourFile='t10_neighbours.txt'\n",
    "# Initialize a data frame to store the results of GPFPMiner\n",
    "result = pd.DataFrame(columns=['algorithm', 'minSup', 'patterns', 'runtime', 'memory'])\n",
    "# Execute the algorithm at different minSup values\n",
    "for minSupCount in minimumSupportCountList:\n",
    "    obj = alg.GPFPMiner(inputFile, minSup=minSupCount, maxPer=maxPeriodicity, nFile=neighbourFile, sep=separator)\n",
    "    obj.mine()\n",
    "    # Store the results in the data frame\n",
    "    result.loc[result.shape[0]] = ['GPFPMiner', minSupCount, len(obj.getPatterns()), obj.getRuntime(), obj.getMemoryRSS(),]\n",
    "# Print the results\n",
    "print(f\"Frequent patterns were generated successfully using GPFPMiner algorithm\")\n",
    "print(result)"
   ]
  }
 ],
 "metadata": {
  "kernelspec": {
   "display_name": "Python 3",
   "language": "python",
   "name": "python3"
  },
  "language_info": {
   "codemirror_mode": {
    "name": "ipython",
    "version": 3
   },
   "file_extension": ".py",
   "mimetype": "text/x-python",
   "name": "python",
   "nbconvert_exporter": "python",
   "pygments_lexer": "ipython3",
   "version": "3.10.5"
  }
 },
 "nbformat": 4,
 "nbformat_minor": 2
}
