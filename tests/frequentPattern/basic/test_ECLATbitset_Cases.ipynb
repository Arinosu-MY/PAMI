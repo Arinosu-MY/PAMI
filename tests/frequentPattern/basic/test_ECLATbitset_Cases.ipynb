{
  "nbformat": 4,
  "nbformat_minor": 0,
  "metadata": {
    "colab": {
      "provenance": []
    },
    "kernelspec": {
      "name": "python3",
      "display_name": "Python 3"
    },
    "language_info": {
      "name": "python"
    }
  },
  "cells": [
    {
      "cell_type": "code",
      "source": [
        "!pip install -U pami"
      ],
      "metadata": {
        "colab": {
          "base_uri": "https://localhost:8080/"
        },
        "id": "JIpQR7kqWfJ8",
        "outputId": "c52eff21-3068-48e8-859d-cec2e6a70b3f"
      },
      "execution_count": null,
      "outputs": [
        {
          "output_type": "stream",
          "name": "stdout",
          "text": [
            "Requirement already satisfied: pami in /usr/local/lib/python3.10/dist-packages (2024.5.29.2)\n",
            "Requirement already satisfied: psutil in /usr/local/lib/python3.10/dist-packages (from pami) (5.9.5)\n",
            "Requirement already satisfied: pandas in /usr/local/lib/python3.10/dist-packages (from pami) (2.0.3)\n",
            "Requirement already satisfied: plotly in /usr/local/lib/python3.10/dist-packages (from pami) (5.15.0)\n",
            "Requirement already satisfied: matplotlib in /usr/local/lib/python3.10/dist-packages (from pami) (3.7.1)\n",
            "Requirement already satisfied: resource in /usr/local/lib/python3.10/dist-packages (from pami) (0.2.1)\n",
            "Requirement already satisfied: validators in /usr/local/lib/python3.10/dist-packages (from pami) (0.28.3)\n",
            "Requirement already satisfied: urllib3 in /usr/local/lib/python3.10/dist-packages (from pami) (2.0.7)\n",
            "Requirement already satisfied: Pillow in /usr/local/lib/python3.10/dist-packages (from pami) (9.4.0)\n",
            "Requirement already satisfied: numpy in /usr/local/lib/python3.10/dist-packages (from pami) (1.25.2)\n",
            "Requirement already satisfied: sphinx in /usr/local/lib/python3.10/dist-packages (from pami) (5.0.2)\n",
            "Requirement already satisfied: sphinx-rtd-theme in /usr/local/lib/python3.10/dist-packages (from pami) (2.0.0)\n",
            "Requirement already satisfied: discord.py in /usr/local/lib/python3.10/dist-packages (from pami) (2.3.2)\n",
            "Requirement already satisfied: networkx in /usr/local/lib/python3.10/dist-packages (from pami) (3.3)\n",
            "Requirement already satisfied: deprecated in /usr/local/lib/python3.10/dist-packages (from pami) (1.2.14)\n",
            "Requirement already satisfied: wrapt<2,>=1.10 in /usr/local/lib/python3.10/dist-packages (from deprecated->pami) (1.14.1)\n",
            "Requirement already satisfied: aiohttp<4,>=3.7.4 in /usr/local/lib/python3.10/dist-packages (from discord.py->pami) (3.9.5)\n",
            "Requirement already satisfied: contourpy>=1.0.1 in /usr/local/lib/python3.10/dist-packages (from matplotlib->pami) (1.2.1)\n",
            "Requirement already satisfied: cycler>=0.10 in /usr/local/lib/python3.10/dist-packages (from matplotlib->pami) (0.12.1)\n",
            "Requirement already satisfied: fonttools>=4.22.0 in /usr/local/lib/python3.10/dist-packages (from matplotlib->pami) (4.53.0)\n",
            "Requirement already satisfied: kiwisolver>=1.0.1 in /usr/local/lib/python3.10/dist-packages (from matplotlib->pami) (1.4.5)\n",
            "Requirement already satisfied: packaging>=20.0 in /usr/local/lib/python3.10/dist-packages (from matplotlib->pami) (24.0)\n",
            "Requirement already satisfied: pyparsing>=2.3.1 in /usr/local/lib/python3.10/dist-packages (from matplotlib->pami) (3.1.2)\n",
            "Requirement already satisfied: python-dateutil>=2.7 in /usr/local/lib/python3.10/dist-packages (from matplotlib->pami) (2.8.2)\n",
            "Requirement already satisfied: pytz>=2020.1 in /usr/local/lib/python3.10/dist-packages (from pandas->pami) (2023.4)\n",
            "Requirement already satisfied: tzdata>=2022.1 in /usr/local/lib/python3.10/dist-packages (from pandas->pami) (2024.1)\n",
            "Requirement already satisfied: tenacity>=6.2.0 in /usr/local/lib/python3.10/dist-packages (from plotly->pami) (8.3.0)\n",
            "Requirement already satisfied: JsonForm>=0.0.2 in /usr/local/lib/python3.10/dist-packages (from resource->pami) (0.0.2)\n",
            "Requirement already satisfied: JsonSir>=0.0.2 in /usr/local/lib/python3.10/dist-packages (from resource->pami) (0.0.2)\n",
            "Requirement already satisfied: python-easyconfig>=0.1.0 in /usr/local/lib/python3.10/dist-packages (from resource->pami) (0.1.7)\n",
            "Requirement already satisfied: sphinxcontrib-applehelp in /usr/local/lib/python3.10/dist-packages (from sphinx->pami) (1.0.8)\n",
            "Requirement already satisfied: sphinxcontrib-devhelp in /usr/local/lib/python3.10/dist-packages (from sphinx->pami) (1.0.6)\n",
            "Requirement already satisfied: sphinxcontrib-jsmath in /usr/local/lib/python3.10/dist-packages (from sphinx->pami) (1.0.1)\n",
            "Requirement already satisfied: sphinxcontrib-htmlhelp>=2.0.0 in /usr/local/lib/python3.10/dist-packages (from sphinx->pami) (2.0.5)\n",
            "Requirement already satisfied: sphinxcontrib-serializinghtml>=1.1.5 in /usr/local/lib/python3.10/dist-packages (from sphinx->pami) (1.1.10)\n",
            "Requirement already satisfied: sphinxcontrib-qthelp in /usr/local/lib/python3.10/dist-packages (from sphinx->pami) (1.0.7)\n",
            "Requirement already satisfied: Jinja2>=2.3 in /usr/local/lib/python3.10/dist-packages (from sphinx->pami) (3.1.4)\n",
            "Requirement already satisfied: Pygments>=2.0 in /usr/local/lib/python3.10/dist-packages (from sphinx->pami) (2.16.1)\n",
            "Requirement already satisfied: docutils<0.19,>=0.14 in /usr/local/lib/python3.10/dist-packages (from sphinx->pami) (0.18.1)\n",
            "Requirement already satisfied: snowballstemmer>=1.1 in /usr/local/lib/python3.10/dist-packages (from sphinx->pami) (2.2.0)\n",
            "Requirement already satisfied: babel>=1.3 in /usr/local/lib/python3.10/dist-packages (from sphinx->pami) (2.15.0)\n",
            "Requirement already satisfied: alabaster<0.8,>=0.7 in /usr/local/lib/python3.10/dist-packages (from sphinx->pami) (0.7.16)\n",
            "Requirement already satisfied: imagesize in /usr/local/lib/python3.10/dist-packages (from sphinx->pami) (1.4.1)\n",
            "Requirement already satisfied: requests>=2.5.0 in /usr/local/lib/python3.10/dist-packages (from sphinx->pami) (2.31.0)\n",
            "Requirement already satisfied: sphinxcontrib-jquery<5,>=4 in /usr/local/lib/python3.10/dist-packages (from sphinx-rtd-theme->pami) (4.1)\n",
            "Requirement already satisfied: aiosignal>=1.1.2 in /usr/local/lib/python3.10/dist-packages (from aiohttp<4,>=3.7.4->discord.py->pami) (1.3.1)\n",
            "Requirement already satisfied: attrs>=17.3.0 in /usr/local/lib/python3.10/dist-packages (from aiohttp<4,>=3.7.4->discord.py->pami) (23.2.0)\n",
            "Requirement already satisfied: frozenlist>=1.1.1 in /usr/local/lib/python3.10/dist-packages (from aiohttp<4,>=3.7.4->discord.py->pami) (1.4.1)\n",
            "Requirement already satisfied: multidict<7.0,>=4.5 in /usr/local/lib/python3.10/dist-packages (from aiohttp<4,>=3.7.4->discord.py->pami) (6.0.5)\n",
            "Requirement already satisfied: yarl<2.0,>=1.0 in /usr/local/lib/python3.10/dist-packages (from aiohttp<4,>=3.7.4->discord.py->pami) (1.9.4)\n",
            "Requirement already satisfied: async-timeout<5.0,>=4.0 in /usr/local/lib/python3.10/dist-packages (from aiohttp<4,>=3.7.4->discord.py->pami) (4.0.3)\n",
            "Requirement already satisfied: MarkupSafe>=2.0 in /usr/local/lib/python3.10/dist-packages (from Jinja2>=2.3->sphinx->pami) (2.1.5)\n",
            "Requirement already satisfied: jsonschema in /usr/local/lib/python3.10/dist-packages (from JsonForm>=0.0.2->resource->pami) (4.19.2)\n",
            "Requirement already satisfied: six>=1.5 in /usr/local/lib/python3.10/dist-packages (from python-dateutil>=2.7->matplotlib->pami) (1.16.0)\n",
            "Requirement already satisfied: PyYAML in /usr/local/lib/python3.10/dist-packages (from python-easyconfig>=0.1.0->resource->pami) (6.0.1)\n",
            "Requirement already satisfied: charset-normalizer<4,>=2 in /usr/local/lib/python3.10/dist-packages (from requests>=2.5.0->sphinx->pami) (3.3.2)\n",
            "Requirement already satisfied: idna<4,>=2.5 in /usr/local/lib/python3.10/dist-packages (from requests>=2.5.0->sphinx->pami) (3.7)\n",
            "Requirement already satisfied: certifi>=2017.4.17 in /usr/local/lib/python3.10/dist-packages (from requests>=2.5.0->sphinx->pami) (2024.6.2)\n",
            "Requirement already satisfied: jsonschema-specifications>=2023.03.6 in /usr/local/lib/python3.10/dist-packages (from jsonschema->JsonForm>=0.0.2->resource->pami) (2023.12.1)\n",
            "Requirement already satisfied: referencing>=0.28.4 in /usr/local/lib/python3.10/dist-packages (from jsonschema->JsonForm>=0.0.2->resource->pami) (0.35.1)\n",
            "Requirement already satisfied: rpds-py>=0.7.1 in /usr/local/lib/python3.10/dist-packages (from jsonschema->JsonForm>=0.0.2->resource->pami) (0.18.1)\n"
          ]
        }
      ]
    },
    {
      "cell_type": "markdown",
      "source": [
        "#Test Cases for T10I4D100K Dataset"
      ],
      "metadata": {
        "id": "cLfV1dPzWj18"
      }
    },
    {
      "cell_type": "markdown",
      "source": [
        "##Test case 1 for T10I4D100K Dataset"
      ],
      "metadata": {
        "id": "hLgApfC4W1Cn"
      }
    },
    {
      "cell_type": "code",
      "source": [
        "from PAMI.frequentPattern.basic import ECLATbitset as alg\n",
        "import pandas as pd\n",
        "\n",
        "#Set the input parameters\n",
        "url='https://u-aizu.ac.jp/~udayrage/datasets/transactionalDatabases/Transactional_T10I4D100K.csv'\n",
        "separetor='\\t'\n",
        "MinimumSupportCountList=[500,1000,1500,2000,2500]\n",
        "\n",
        "# Initialize a data frame to store the results of ECLATbitset\n",
        "result = pd.DataFrame(columns=['algorithm', 'minSup', 'patterns', 'runtime', 'memory'])\n",
        "\n",
        "# Execute the algorithm at different minSup values\n",
        "\n",
        "for minSupCount in MinimumSupportCountList:\n",
        "  obj = alg.ECLATbitset(url, minSup=minSupCount, sep=separetor)\n",
        "  obj.mine()\n",
        "  #Store the results in the data frame\n",
        "  result.loc[result.shape[0]] = ['ECLATbitset', minSupCount, len(obj.getPatterns()), obj.getRuntime(), obj.getMemoryRSS()]\n",
        "\n",
        "# Print the results\n",
        "print(f\"Frequent patterns were generated successfully using ECLATbitset algorithm\")\n",
        "print(result)"
      ],
      "metadata": {
        "colab": {
          "base_uri": "https://localhost:8080/"
        },
        "id": "tBX90tM9WgdJ",
        "outputId": "cfadeefa-b3a4-486e-9a83-ea4793ea14ae"
      },
      "execution_count": null,
      "outputs": [
        {
          "output_type": "stream",
          "name": "stdout",
          "text": [
            "Frequent patterns were generated successfully using ECLAT algorithm \n",
            "Frequent patterns were generated successfully using ECLAT algorithm \n",
            "Frequent patterns were generated successfully using ECLAT algorithm \n",
            "Frequent patterns were generated successfully using ECLAT algorithm \n",
            "Frequent patterns were generated successfully using ECLAT algorithm \n",
            "Frequent patterns were generated successfully using ECLATbitset algorithm\n",
            "     algorithm  minSup  patterns    runtime     memory\n",
            "0  ECLATbitset     500      1072  16.556171  251486208\n",
            "1  ECLATbitset    1000       385   9.251929  250613760\n",
            "2  ECLATbitset    1500       237   7.924543  251170816\n",
            "3  ECLATbitset    2000       155   8.452111  251383808\n",
            "4  ECLATbitset    2500       107   7.466906  251121664\n"
          ]
        }
      ]
    },
    {
      "cell_type": "markdown",
      "source": [
        "##Test case 2 for T10I4D100K Dataset"
      ],
      "metadata": {
        "id": "iD56o75ZYM8g"
      }
    },
    {
      "cell_type": "code",
      "source": [
        "from PAMI.frequentPattern.basic import ECLATbitset as alg\n",
        "import pandas as pd\n",
        "\n",
        "# Set the input parameters\n",
        "inputFile = 'Transactional_T10I4D100K.csv'\n",
        "separator = '\\t'\n",
        "MinimumSupportCountList = [500, 1000, 1500, 2000, 2500]\n",
        "\n",
        "# Initialize a data frame to store the results of ECLATbitset\n",
        "result = pd.DataFrame(columns=['algorithm', 'minSup', 'patterns', 'runtime', 'memory'])\n",
        "\n",
        "# Execute the algorithm at different minSup values\n",
        "for minSupCount in MinimumSupportCountList:\n",
        "    obj = alg.ECLATbitset(inputFile, minSup=minSupCount, sep=separator)\n",
        "    obj.mine()\n",
        "    # Store the results in the data frame\n",
        "    result.loc[result.shape[0]] = ['ECLATbitset', minSupCount, len(obj.getPatterns()), obj.getRuntime(), obj.getMemoryRSS()]\n",
        "\n",
        "# Print the results\n",
        "print(f\"Frequent patterns were generated successfully using ECLATbitset algorithm\")\n",
        "print(result)"
      ],
      "metadata": {
        "colab": {
          "base_uri": "https://localhost:8080/"
        },
        "id": "vYp33_iJYtmQ",
        "outputId": "37abc436-0363-426b-81b8-f0c1fa9b918d"
      },
      "execution_count": null,
      "outputs": [
        {
          "output_type": "stream",
          "name": "stdout",
          "text": [
            "Frequent patterns were generated successfully using ECLAT algorithm \n",
            "Frequent patterns were generated successfully using ECLAT algorithm \n",
            "Frequent patterns were generated successfully using ECLAT algorithm \n",
            "Frequent patterns were generated successfully using ECLAT algorithm \n",
            "Frequent patterns were generated successfully using ECLAT algorithm \n",
            "Frequent patterns were generated successfully using ECLATbitset algorithm\n",
            "     algorithm  minSup  patterns   runtime     memory\n",
            "0  ECLATbitset     500      1072  8.051158  252637184\n",
            "1  ECLATbitset    1000       385  5.664874  252874752\n",
            "2  ECLATbitset    1500       237  7.385778  252678144\n",
            "3  ECLATbitset    2000       155  2.710894  252858368\n",
            "4  ECLATbitset    2500       107  2.167968  252669952\n"
          ]
        }
      ]
    },
    {
      "cell_type": "markdown",
      "source": [
        "##Test case 3 for T10I4D100K Dataset"
      ],
      "metadata": {
        "id": "yxQ3mPl0aDW0"
      }
    },
    {
      "cell_type": "code",
      "source": [
        "from PAMI.frequentPattern.basic import ECLATbitset as alg\n",
        "import pandas as pd\n",
        "\n",
        "# Set the input parameters\n",
        "inputFile = 'Transactional_T10I4D100K.csv'\n",
        "separator = '\\t'\n",
        "MinimumSupportCountList = [500, 1000, 1500, 2000, 2500]\n",
        "\n",
        "# Read the CSV file into a DataFrame\n",
        "df = pd.read_csv(inputFile, header=[0], sep=' ')\n",
        "df = df.rename(columns={df.columns[0]: \"Transactions\"})\n",
        "\n",
        "# Ensure all data in the \"Transaction\" column is string before splitting\n",
        "df[\"Transactions\"] = df[\"Transactions\"].astype(str)\n",
        "\n",
        "# Preprocess the dataset\n",
        "# transactions = df[\"Transaction\"].apply(lambda x: x.split(separator)).tolist()\n",
        "transactions = df['Transactions'].apply(lambda x: x.split(separator))\n",
        "transactions = pd.DataFrame(transactions, columns=['Transactions'])\n",
        "\n",
        "# Initialize a data frame to store the results of ECLATbitset\n",
        "result = pd.DataFrame(columns=['algorithm', 'minSup', 'patterns', 'runtime', 'memory'])\n",
        "\n",
        "# Execute the algorithm at different minSup values\n",
        "for minSupCount in MinimumSupportCountList:\n",
        "    obj = alg.ECLATbitset(transactions, minSup=minSupCount, sep=separator)\n",
        "    obj.mine()\n",
        "\n",
        "    # Get the patterns found\n",
        "    patterns = obj.getPatterns()\n",
        "\n",
        "    # Store the results in the data frame\n",
        "    result.loc[len(result)] = ['ECLATbitset', minSupCount, len(patterns), obj.getRuntime(), obj.getMemoryRSS()]\n",
        "\n",
        "# Print the results\n",
        "print(\"Frequent patterns were generated successfully using ECLATbitset algorithm\")\n",
        "print(result)\n"
      ],
      "metadata": {
        "colab": {
          "base_uri": "https://localhost:8080/"
        },
        "id": "sPtFLCnRZS2P",
        "outputId": "e89171ab-857b-4ae8-8487-22b409b72e72"
      },
      "execution_count": null,
      "outputs": [
        {
          "output_type": "stream",
          "name": "stdout",
          "text": [
            "Frequent patterns were generated successfully using ECLAT algorithm \n",
            "Frequent patterns were generated successfully using ECLAT algorithm \n",
            "Frequent patterns were generated successfully using ECLAT algorithm \n",
            "Frequent patterns were generated successfully using ECLAT algorithm \n",
            "Frequent patterns were generated successfully using ECLAT algorithm \n",
            "Frequent patterns were generated successfully using ECLATbitset algorithm\n",
            "     algorithm  minSup  patterns   runtime     memory\n",
            "0  ECLATbitset     500      1072  7.425098  325390336\n",
            "1  ECLATbitset    1000       385  3.908376  325308416\n",
            "2  ECLATbitset    1500       237  2.747658  324259840\n",
            "3  ECLATbitset    2000       155  2.061534  324259840\n",
            "4  ECLATbitset    2500       107  2.669462  323342336\n"
          ]
        }
      ]
    },
    {
      "cell_type": "markdown",
      "source": [
        "# Test Cases Retail Dataset"
      ],
      "metadata": {
        "id": "a-MknH0yaQge"
      }
    },
    {
      "cell_type": "markdown",
      "source": [
        "##Test case 1 for Retail Dataset"
      ],
      "metadata": {
        "id": "LHVv3kqHdOvB"
      }
    },
    {
      "cell_type": "code",
      "source": [
        "from PAMI.frequentPattern.basic import ECLATbitset as alg\n",
        "import pandas as pd\n",
        "# Set the input parameters\n",
        "URL = 'https://u-aizu.ac.jp/~udayrage/datasets/transactionalDatabases/Transactional_retail.csv'\n",
        "separator = '\\t'\n",
        "minimumSupportCountList = [500, 1000, 1500, 2000, 2500]\n",
        "\n",
        "# Initialize a data frame to store the results of ECLATbitset\n",
        "result = pd.DataFrame(columns=['algorithm', 'minSup', 'patterns', 'runtime', 'memory'])\n",
        "\n",
        "# Execute the algorithm at different minSup values\n",
        "for minSupCount in minimumSupportCountList:\n",
        "    obj = alg.ECLATbitset(URL, minSup=minSupCount, sep=separator)\n",
        "    obj.mine()\n",
        "    # Store the results in the data frame\n",
        "    result.loc[result.shape[0]] = ['ECLATbitset', minSupCount, len(obj.getPatterns()), obj.getRuntime(), obj.getMemoryRSS()]\n",
        "\n",
        "# Print the results\n",
        "print(f\"Frequent patterns were generated successfully using ECLATbitset algorithm\")\n",
        "print(result)"
      ],
      "metadata": {
        "colab": {
          "base_uri": "https://localhost:8080/"
        },
        "id": "3y3Vyu5TaGyB",
        "outputId": "fa539eaa-2361-44c8-e70e-8d15de384a84"
      },
      "execution_count": null,
      "outputs": [
        {
          "output_type": "stream",
          "name": "stdout",
          "text": [
            "Frequent patterns were generated successfully using ECLAT algorithm \n",
            "Frequent patterns were generated successfully using ECLAT algorithm \n",
            "Frequent patterns were generated successfully using ECLAT algorithm \n",
            "Frequent patterns were generated successfully using ECLAT algorithm \n",
            "Frequent patterns were generated successfully using ECLAT algorithm \n",
            "Frequent patterns were generated successfully using ECLATbitset algorithm\n",
            "     algorithm  minSup  patterns   runtime     memory\n",
            "0  ECLATbitset     500       468  7.676986  340942848\n",
            "1  ECLATbitset    1000       135  6.893762  340967424\n",
            "2  ECLATbitset    1500        68  7.016364  340983808\n",
            "3  ECLATbitset    2000        45  6.405282  341041152\n",
            "4  ECLATbitset    2500        34  7.363243  341041152\n"
          ]
        }
      ]
    },
    {
      "cell_type": "markdown",
      "source": [
        "##Test case 2 for Retail Dataset"
      ],
      "metadata": {
        "id": "sBgF2j1pdYFs"
      }
    },
    {
      "cell_type": "code",
      "source": [
        "from PAMI.frequentPattern.basic import ECLATbitset as alg\n",
        "import pandas as pd\n",
        "\n",
        "# Set the input parameters\n",
        "inputFile = 'Transactional_retail.csv'\n",
        "separator = '\\t'\n",
        "minimumSupportCountList = [500, 1000, 1500, 2000, 2500]\n",
        "\n",
        "# Initialize a data frame to store the results of ECLATbitset\n",
        "result = pd.DataFrame(columns=['algorithm', 'minSup', 'patterns', 'runtime', 'memory'])\n",
        "\n",
        "# Execute the algorithm at different minSup values\n",
        "for minSupCount in minimumSupportCountList:\n",
        "    obj = alg.ECLATbitset(inputFile, minSup=minSupCount, sep=separator)\n",
        "    obj.mine()\n",
        "    # Store the results in the data frame\n",
        "    result.loc[result.shape[0]] = ['ECLATbitset', minSupCount, len(obj.getPatterns()), obj.getRuntime(), obj.getMemoryRSS()]\n",
        "\n",
        "# Print the results\n",
        "print(f\"Frequent patterns were generated successfully using ECLATbitset algorithm\")\n",
        "print(result)"
      ],
      "metadata": {
        "colab": {
          "base_uri": "https://localhost:8080/"
        },
        "id": "b7DjVlh4auoH",
        "outputId": "edc50194-8e25-425d-8f88-f53436064fe2"
      },
      "execution_count": null,
      "outputs": [
        {
          "output_type": "stream",
          "name": "stdout",
          "text": [
            "Frequent patterns were generated successfully using ECLAT algorithm \n",
            "Frequent patterns were generated successfully using ECLAT algorithm \n",
            "Frequent patterns were generated successfully using ECLAT algorithm \n",
            "Frequent patterns were generated successfully using ECLAT algorithm \n",
            "Frequent patterns were generated successfully using ECLAT algorithm \n",
            "Frequent patterns were generated successfully using ECLATbitset algorithm\n",
            "     algorithm  minSup  patterns   runtime     memory\n",
            "0  ECLATbitset     500       468  2.940637  346218496\n",
            "1  ECLATbitset    1000       135  1.746866  348270592\n",
            "2  ECLATbitset    1500        68  1.892447  346034176\n",
            "3  ECLATbitset    2000        45  1.643735  366137344\n",
            "4  ECLATbitset    2500        34  1.571319  348205056\n"
          ]
        }
      ]
    },
    {
      "cell_type": "markdown",
      "source": [
        "##Test case 3 for Retail Dataset"
      ],
      "metadata": {
        "id": "asPH72UPdbzV"
      }
    },
    {
      "cell_type": "code",
      "source": [
        "from PAMI.frequentPattern.basic import ECLATbitset as alg\n",
        "import pandas as pd\n",
        "\n",
        "# Set the input parameters\n",
        "inputFile = 'Transactional_retail.csv'\n",
        "separator = '\\t'\n",
        "minimumSupportCountList = [500, 1000, 1500, 2000, 2500]\n",
        "\n",
        "# Read the CSV file into a DataFrame\n",
        "df = pd.read_csv(inputFile, header=[0], sep=' ')\n",
        "df = df.rename(columns={df.columns[0]: \"Transactions\"})\n",
        "\n",
        "# Ensure all data in the \"Transaction\" column is string before splitting\n",
        "df[\"Transactions\"] = df[\"Transactions\"].astype(str)\n",
        "\n",
        "# Preprocess the dataset\n",
        "# transactions = df[\"Transaction\"].apply(lambda x: x.split(separator)).tolist()\n",
        "transactions = df['Transactions'].apply(lambda x: x.split(separator))\n",
        "transactions = pd.DataFrame(transactions, columns=['Transactions'])\n",
        "\n",
        "# Initialize a data frame to store the results of ECLATbitset\n",
        "result = pd.DataFrame(columns=['algorithm', 'minSup', 'patterns', 'runtime', 'memory'])\n",
        "\n",
        "# Execute the algorithm at different minSup values\n",
        "for minSupCount in minimumSupportCountList:\n",
        "    obj = alg.ECLATbitset(transactions, minSup=minSupCount, sep=separator)\n",
        "    obj.mine()\n",
        "\n",
        "    # Get the patterns found\n",
        "    patterns = obj.getPatterns()\n",
        "\n",
        "    # Store the results in the data frame\n",
        "    result.loc[len(result)] = ['ECLATbitset', minSupCount, len(patterns), obj.getRuntime(), obj.getMemoryRSS()]\n",
        "\n",
        "# Print the results\n",
        "print(\"Frequent patterns were generated successfully using ECLATbitset algorithm\")\n",
        "print(result)\n"
      ],
      "metadata": {
        "colab": {
          "base_uri": "https://localhost:8080/"
        },
        "id": "TX-1anxPbJfG",
        "outputId": "ecf4548f-08b1-4eee-c5d5-e25b36400ad3"
      },
      "execution_count": null,
      "outputs": [
        {
          "output_type": "stream",
          "name": "stdout",
          "text": [
            "Frequent patterns were generated successfully using ECLAT algorithm \n",
            "Frequent patterns were generated successfully using ECLAT algorithm \n",
            "Frequent patterns were generated successfully using ECLAT algorithm \n",
            "Frequent patterns were generated successfully using ECLAT algorithm \n",
            "Frequent patterns were generated successfully using ECLAT algorithm \n",
            "Frequent patterns were generated successfully using ECLATbitset algorithm\n",
            "     algorithm  minSup  patterns   runtime     memory\n",
            "0  ECLATbitset     500       468  2.145578  328237056\n",
            "1  ECLATbitset    1000       135  2.190593  328237056\n",
            "2  ECLATbitset    1500        68  1.128405  327208960\n",
            "3  ECLATbitset    2000        45  1.308591  327208960\n",
            "4  ECLATbitset    2500        34  1.073439  327208960\n"
          ]
        }
      ]
    },
    {
      "cell_type": "markdown",
      "source": [
        "# Test Cases for Chess Dataset"
      ],
      "metadata": {
        "id": "4hK7XBAsbbQV"
      }
    },
    {
      "cell_type": "markdown",
      "source": [
        "## Test Case1 for chess Dataset"
      ],
      "metadata": {
        "id": "egnVrUUObd30"
      }
    },
    {
      "cell_type": "code",
      "source": [
        "from PAMI.frequentPattern.basic import ECLATbitset as alg\n",
        "import pandas as pd\n",
        "# Set the input parameters\n",
        "URL = 'https://u-aizu.ac.jp/~udayrage/datasets/transactionalDatabases/Transactional_chess1.csv'\n",
        "separator = '\\t'\n",
        "minimumSupportCountList = [2500, 3000]\n",
        "\n",
        "# Initialize a data frame to store the results of ECLATbitset\n",
        "result = pd.DataFrame(columns=['algorithm', 'minSup', 'patterns', 'runtime', 'memory'])\n",
        "\n",
        "# Execute the algorithm at different minSup values\n",
        "for minSupCount in minimumSupportCountList:\n",
        "    obj = alg.ECLATbitset(URL, minSup=minSupCount, sep=separator)\n",
        "    obj.mine()\n",
        "    # Store the results in the data frame\n",
        "    result.loc[result.shape[0]] = ['ECLATbitset', minSupCount, len(obj.getPatterns()), obj.getRuntime(), obj.getMemoryRSS()]\n",
        "\n",
        "# Print the results\n",
        "print(f\"Frequent patterns were generated successfully using ECLATbitset algorithm\")\n",
        "print(result)"
      ],
      "metadata": {
        "colab": {
          "base_uri": "https://localhost:8080/"
        },
        "id": "O9wBEwB9bWoM",
        "outputId": "4dc23edf-ec40-4618-82f6-d83232d64238"
      },
      "execution_count": null,
      "outputs": [
        {
          "output_type": "stream",
          "name": "stdout",
          "text": [
            "Frequent patterns were generated successfully using ECLAT algorithm \n",
            "Frequent patterns were generated successfully using ECLAT algorithm \n",
            "Frequent patterns were generated successfully using ECLATbitset algorithm\n",
            "     algorithm  minSup  patterns   runtime     memory\n",
            "0  ECLATbitset    2500     11474  2.385176  326160384\n",
            "1  ECLATbitset    3000       152  2.198492  326160384\n"
          ]
        }
      ]
    },
    {
      "cell_type": "markdown",
      "source": [
        "## Test Case2 for chess Dataset"
      ],
      "metadata": {
        "id": "XO1jPjSpbtAk"
      }
    },
    {
      "cell_type": "code",
      "source": [
        "from PAMI.frequentPattern.basic import ECLATbitset as alg\n",
        "import pandas as pd\n",
        "\n",
        "# Set the input parameters\n",
        "inputFile = 'Transactional_chess1.csv'\n",
        "separator = '\\t'\n",
        "minimumSupportCountList = [ 2500, 3000]\n",
        "\n",
        "# Initialize a data frame to store the results of ECLATbitset\n",
        "result = pd.DataFrame(columns=['algorithm', 'minSup', 'patterns', 'runtime', 'memory'])\n",
        "\n",
        "# Execute the algorithm at different minSup values\n",
        "for minSupCount in minimumSupportCountList:\n",
        "    obj = alg.ECLATbitset(inputFile, minSup=minSupCount, sep=separator)\n",
        "    obj.mine()\n",
        "    # Store the results in the data frame\n",
        "    result.loc[result.shape[0]] = ['ECLATbitset', minSupCount, len(obj.getPatterns()), obj.getRuntime(), obj.getMemoryRSS()]\n",
        "\n",
        "# Print the results\n",
        "print(f\"Frequent patterns were generated successfully using ECLATbitset algorithm\")\n",
        "print(result)"
      ],
      "metadata": {
        "colab": {
          "base_uri": "https://localhost:8080/"
        },
        "id": "xngPA6jnbmUy",
        "outputId": "cd4b70dc-f1e4-4ae5-9502-31ca6b357a96"
      },
      "execution_count": null,
      "outputs": [
        {
          "output_type": "stream",
          "name": "stdout",
          "text": [
            "Frequent patterns were generated successfully using ECLAT algorithm \n",
            "Frequent patterns were generated successfully using ECLAT algorithm \n",
            "Frequent patterns were generated successfully using ECLATbitset algorithm\n",
            "     algorithm  minSup  patterns   runtime     memory\n",
            "0  ECLATbitset    2500     11474  0.218362  326160384\n",
            "1  ECLATbitset    3000       152  0.090327  326160384\n"
          ]
        }
      ]
    },
    {
      "cell_type": "markdown",
      "source": [
        "## Test Case3 for chess Dataset"
      ],
      "metadata": {
        "id": "XmsIqeJXchat"
      }
    },
    {
      "cell_type": "code",
      "source": [
        "from PAMI.frequentPattern.basic import ECLATbitset as alg\n",
        "import pandas as pd\n",
        "\n",
        "# Set the input parameters\n",
        "inputFile = 'Transactional_chess1.csv'\n",
        "separator = '\\t'\n",
        "minimumSupportCountList = [2500, 3000]\n",
        "\n",
        "# Read the CSV file into a DataFrame\n",
        "df = pd.read_csv(inputFile, header=[0], sep=' ')\n",
        "df = df.rename(columns={df.columns[0]: \"Transactions\"})\n",
        "\n",
        "# Ensure all data in the \"Transaction\" column is string before splitting\n",
        "df[\"Transactions\"] = df[\"Transactions\"].astype(str)\n",
        "\n",
        "# Preprocess the dataset\n",
        "# transactions = df[\"Transaction\"].apply(lambda x: x.split(separator)).tolist()\n",
        "transactions = df['Transactions'].apply(lambda x: x.split(separator))\n",
        "transactions = pd.DataFrame(transactions, columns=['Transactions'])\n",
        "\n",
        "# Initialize a data frame to store the results of ECLATbitset\n",
        "result = pd.DataFrame(columns=['algorithm', 'minSup', 'patterns', 'runtime', 'memory'])\n",
        "\n",
        "# Execute the algorithm at different minSup values\n",
        "for minSupCount in minimumSupportCountList:\n",
        "    obj = alg.ECLATbitset(transactions, minSup=minSupCount, sep=separator)\n",
        "    obj.mine()\n",
        "\n",
        "    # Get the patterns found\n",
        "    patterns = obj.getPatterns()\n",
        "\n",
        "    # Store the results in the data frame\n",
        "    result.loc[len(result)] = ['ECLATbitset', minSupCount, len(patterns), obj.getRuntime(), obj.getMemoryRSS()]\n",
        "\n",
        "# Print the results\n",
        "print(\"Frequent patterns were generated successfully using ECLATbitset algorithm\")\n",
        "print(result)"
      ],
      "metadata": {
        "colab": {
          "base_uri": "https://localhost:8080/"
        },
        "id": "Kk7Y5sjScZtN",
        "outputId": "2b36d873-c6cf-4e08-e289-f1ff5898ccfa"
      },
      "execution_count": null,
      "outputs": [
        {
          "output_type": "stream",
          "name": "stdout",
          "text": [
            "Frequent patterns were generated successfully using ECLAT algorithm \n",
            "Frequent patterns were generated successfully using ECLAT algorithm \n",
            "Frequent patterns were generated successfully using ECLATbitset algorithm\n",
            "     algorithm  minSup  patterns   runtime     memory\n",
            "0  ECLATbitset    2500     11401  0.207789  270020608\n",
            "1  ECLATbitset    3000       151  0.069555  270020608\n"
          ]
        }
      ]
    },
    {
      "cell_type": "code",
      "source": [],
      "metadata": {
        "id": "-l1_kr6BczmN"
      },
      "execution_count": null,
      "outputs": []
    }
  ]
}