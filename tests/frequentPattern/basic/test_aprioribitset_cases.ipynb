{
  "nbformat": 4,
  "nbformat_minor": 0,
  "metadata": {
    "colab": {
      "provenance": [],
      "authorship_tag": "ABX9TyPiDv0Ek08Y3Kwuu4p8AS0x",
      "include_colab_link": true
    },
    "kernelspec": {
      "name": "python3",
      "display_name": "Python 3"
    },
    "language_info": {
      "name": "python"
    }
  },
  "cells": [
    {
      "cell_type": "markdown",
      "metadata": {
        "id": "view-in-github",
        "colab_type": "text"
      },
      "source": [
        "<a href=\"https://colab.research.google.com/github/LasyaPalla/PAMI/blob/main/tests/frequentPattern/basic/test_aprioribitset_cases.ipynb\" target=\"_parent\"><img src=\"https://colab.research.google.com/assets/colab-badge.svg\" alt=\"Open In Colab\"/></a>"
      ]
    },
    {
      "cell_type": "code",
      "execution_count": 2,
      "metadata": {
        "colab": {
          "base_uri": "https://localhost:8080/"
        },
        "id": "UVEhU5yHXLy2",
        "outputId": "3ace45ef-5d43-45b4-ba99-1b6ed8ec387c"
      },
      "outputs": [
        {
          "output_type": "stream",
          "name": "stdout",
          "text": [
            "Collecting pami\n",
            "  Downloading pami-2024.7.2-py3-none-any.whl (1.1 MB)\n",
            "\u001b[2K     \u001b[90m━━━━━━━━━━━━━━━━━━━━━━━━━━━━━━━━━━━━━━━━\u001b[0m \u001b[32m1.1/1.1 MB\u001b[0m \u001b[31m5.9 MB/s\u001b[0m eta \u001b[36m0:00:00\u001b[0m\n",
            "\u001b[?25hRequirement already satisfied: psutil in /usr/local/lib/python3.10/dist-packages (from pami) (5.9.5)\n",
            "Requirement already satisfied: pandas in /usr/local/lib/python3.10/dist-packages (from pami) (2.0.3)\n",
            "Requirement already satisfied: plotly in /usr/local/lib/python3.10/dist-packages (from pami) (5.15.0)\n",
            "Requirement already satisfied: matplotlib in /usr/local/lib/python3.10/dist-packages (from pami) (3.7.1)\n",
            "Collecting resource (from pami)\n",
            "  Downloading Resource-0.2.1-py2.py3-none-any.whl (25 kB)\n",
            "Collecting validators (from pami)\n",
            "  Downloading validators-0.30.0-py3-none-any.whl (42 kB)\n",
            "\u001b[2K     \u001b[90m━━━━━━━━━━━━━━━━━━━━━━━━━━━━━━━━━━━━━━━━\u001b[0m \u001b[32m42.4/42.4 kB\u001b[0m \u001b[31m4.0 MB/s\u001b[0m eta \u001b[36m0:00:00\u001b[0m\n",
            "\u001b[?25hRequirement already satisfied: urllib3 in /usr/local/lib/python3.10/dist-packages (from pami) (2.0.7)\n",
            "Requirement already satisfied: Pillow in /usr/local/lib/python3.10/dist-packages (from pami) (9.4.0)\n",
            "Requirement already satisfied: numpy in /usr/local/lib/python3.10/dist-packages (from pami) (1.25.2)\n",
            "Requirement already satisfied: sphinx in /usr/local/lib/python3.10/dist-packages (from pami) (5.0.2)\n",
            "Collecting sphinx-rtd-theme (from pami)\n",
            "  Downloading sphinx_rtd_theme-2.0.0-py2.py3-none-any.whl (2.8 MB)\n",
            "\u001b[2K     \u001b[90m━━━━━━━━━━━━━━━━━━━━━━━━━━━━━━━━━━━━━━━━\u001b[0m \u001b[32m2.8/2.8 MB\u001b[0m \u001b[31m41.1 MB/s\u001b[0m eta \u001b[36m0:00:00\u001b[0m\n",
            "\u001b[?25hCollecting discord.py (from pami)\n",
            "  Downloading discord.py-2.4.0-py3-none-any.whl (1.1 MB)\n",
            "\u001b[2K     \u001b[90m━━━━━━━━━━━━━━━━━━━━━━━━━━━━━━━━━━━━━━━━\u001b[0m \u001b[32m1.1/1.1 MB\u001b[0m \u001b[31m46.0 MB/s\u001b[0m eta \u001b[36m0:00:00\u001b[0m\n",
            "\u001b[?25hRequirement already satisfied: networkx in /usr/local/lib/python3.10/dist-packages (from pami) (3.3)\n",
            "Collecting deprecated (from pami)\n",
            "  Downloading Deprecated-1.2.14-py2.py3-none-any.whl (9.6 kB)\n",
            "Requirement already satisfied: wrapt<2,>=1.10 in /usr/local/lib/python3.10/dist-packages (from deprecated->pami) (1.14.1)\n",
            "Requirement already satisfied: aiohttp<4,>=3.7.4 in /usr/local/lib/python3.10/dist-packages (from discord.py->pami) (3.9.5)\n",
            "Requirement already satisfied: contourpy>=1.0.1 in /usr/local/lib/python3.10/dist-packages (from matplotlib->pami) (1.2.1)\n",
            "Requirement already satisfied: cycler>=0.10 in /usr/local/lib/python3.10/dist-packages (from matplotlib->pami) (0.12.1)\n",
            "Requirement already satisfied: fonttools>=4.22.0 in /usr/local/lib/python3.10/dist-packages (from matplotlib->pami) (4.53.0)\n",
            "Requirement already satisfied: kiwisolver>=1.0.1 in /usr/local/lib/python3.10/dist-packages (from matplotlib->pami) (1.4.5)\n",
            "Requirement already satisfied: packaging>=20.0 in /usr/local/lib/python3.10/dist-packages (from matplotlib->pami) (24.1)\n",
            "Requirement already satisfied: pyparsing>=2.3.1 in /usr/local/lib/python3.10/dist-packages (from matplotlib->pami) (3.1.2)\n",
            "Requirement already satisfied: python-dateutil>=2.7 in /usr/local/lib/python3.10/dist-packages (from matplotlib->pami) (2.8.2)\n",
            "Requirement already satisfied: pytz>=2020.1 in /usr/local/lib/python3.10/dist-packages (from pandas->pami) (2023.4)\n",
            "Requirement already satisfied: tzdata>=2022.1 in /usr/local/lib/python3.10/dist-packages (from pandas->pami) (2024.1)\n",
            "Requirement already satisfied: tenacity>=6.2.0 in /usr/local/lib/python3.10/dist-packages (from plotly->pami) (8.4.2)\n",
            "Collecting JsonForm>=0.0.2 (from resource->pami)\n",
            "  Downloading JsonForm-0.0.2.tar.gz (2.4 kB)\n",
            "  Preparing metadata (setup.py) ... \u001b[?25l\u001b[?25hdone\n",
            "Collecting JsonSir>=0.0.2 (from resource->pami)\n",
            "  Downloading JsonSir-0.0.2.tar.gz (2.2 kB)\n",
            "  Preparing metadata (setup.py) ... \u001b[?25l\u001b[?25hdone\n",
            "Collecting python-easyconfig>=0.1.0 (from resource->pami)\n",
            "  Downloading Python_EasyConfig-0.1.7-py2.py3-none-any.whl (5.4 kB)\n",
            "Requirement already satisfied: sphinxcontrib-applehelp in /usr/local/lib/python3.10/dist-packages (from sphinx->pami) (1.0.8)\n",
            "Requirement already satisfied: sphinxcontrib-devhelp in /usr/local/lib/python3.10/dist-packages (from sphinx->pami) (1.0.6)\n",
            "Requirement already satisfied: sphinxcontrib-jsmath in /usr/local/lib/python3.10/dist-packages (from sphinx->pami) (1.0.1)\n",
            "Requirement already satisfied: sphinxcontrib-htmlhelp>=2.0.0 in /usr/local/lib/python3.10/dist-packages (from sphinx->pami) (2.0.5)\n",
            "Requirement already satisfied: sphinxcontrib-serializinghtml>=1.1.5 in /usr/local/lib/python3.10/dist-packages (from sphinx->pami) (1.1.10)\n",
            "Requirement already satisfied: sphinxcontrib-qthelp in /usr/local/lib/python3.10/dist-packages (from sphinx->pami) (1.0.7)\n",
            "Requirement already satisfied: Jinja2>=2.3 in /usr/local/lib/python3.10/dist-packages (from sphinx->pami) (3.1.4)\n",
            "Requirement already satisfied: Pygments>=2.0 in /usr/local/lib/python3.10/dist-packages (from sphinx->pami) (2.16.1)\n",
            "Requirement already satisfied: docutils<0.19,>=0.14 in /usr/local/lib/python3.10/dist-packages (from sphinx->pami) (0.18.1)\n",
            "Requirement already satisfied: snowballstemmer>=1.1 in /usr/local/lib/python3.10/dist-packages (from sphinx->pami) (2.2.0)\n",
            "Requirement already satisfied: babel>=1.3 in /usr/local/lib/python3.10/dist-packages (from sphinx->pami) (2.15.0)\n",
            "Requirement already satisfied: alabaster<0.8,>=0.7 in /usr/local/lib/python3.10/dist-packages (from sphinx->pami) (0.7.16)\n",
            "Requirement already satisfied: imagesize in /usr/local/lib/python3.10/dist-packages (from sphinx->pami) (1.4.1)\n",
            "Requirement already satisfied: requests>=2.5.0 in /usr/local/lib/python3.10/dist-packages (from sphinx->pami) (2.31.0)\n",
            "Collecting sphinxcontrib-jquery<5,>=4 (from sphinx-rtd-theme->pami)\n",
            "  Downloading sphinxcontrib_jquery-4.1-py2.py3-none-any.whl (121 kB)\n",
            "\u001b[2K     \u001b[90m━━━━━━━━━━━━━━━━━━━━━━━━━━━━━━━━━━━━━━━━\u001b[0m \u001b[32m121.1/121.1 kB\u001b[0m \u001b[31m9.0 MB/s\u001b[0m eta \u001b[36m0:00:00\u001b[0m\n",
            "\u001b[?25hRequirement already satisfied: aiosignal>=1.1.2 in /usr/local/lib/python3.10/dist-packages (from aiohttp<4,>=3.7.4->discord.py->pami) (1.3.1)\n",
            "Requirement already satisfied: attrs>=17.3.0 in /usr/local/lib/python3.10/dist-packages (from aiohttp<4,>=3.7.4->discord.py->pami) (23.2.0)\n",
            "Requirement already satisfied: frozenlist>=1.1.1 in /usr/local/lib/python3.10/dist-packages (from aiohttp<4,>=3.7.4->discord.py->pami) (1.4.1)\n",
            "Requirement already satisfied: multidict<7.0,>=4.5 in /usr/local/lib/python3.10/dist-packages (from aiohttp<4,>=3.7.4->discord.py->pami) (6.0.5)\n",
            "Requirement already satisfied: yarl<2.0,>=1.0 in /usr/local/lib/python3.10/dist-packages (from aiohttp<4,>=3.7.4->discord.py->pami) (1.9.4)\n",
            "Requirement already satisfied: async-timeout<5.0,>=4.0 in /usr/local/lib/python3.10/dist-packages (from aiohttp<4,>=3.7.4->discord.py->pami) (4.0.3)\n",
            "Requirement already satisfied: MarkupSafe>=2.0 in /usr/local/lib/python3.10/dist-packages (from Jinja2>=2.3->sphinx->pami) (2.1.5)\n",
            "Requirement already satisfied: jsonschema in /usr/local/lib/python3.10/dist-packages (from JsonForm>=0.0.2->resource->pami) (4.19.2)\n",
            "Requirement already satisfied: six>=1.5 in /usr/local/lib/python3.10/dist-packages (from python-dateutil>=2.7->matplotlib->pami) (1.16.0)\n",
            "Requirement already satisfied: PyYAML in /usr/local/lib/python3.10/dist-packages (from python-easyconfig>=0.1.0->resource->pami) (6.0.1)\n",
            "Requirement already satisfied: charset-normalizer<4,>=2 in /usr/local/lib/python3.10/dist-packages (from requests>=2.5.0->sphinx->pami) (3.3.2)\n",
            "Requirement already satisfied: idna<4,>=2.5 in /usr/local/lib/python3.10/dist-packages (from requests>=2.5.0->sphinx->pami) (3.7)\n",
            "Requirement already satisfied: certifi>=2017.4.17 in /usr/local/lib/python3.10/dist-packages (from requests>=2.5.0->sphinx->pami) (2024.6.2)\n",
            "Requirement already satisfied: jsonschema-specifications>=2023.03.6 in /usr/local/lib/python3.10/dist-packages (from jsonschema->JsonForm>=0.0.2->resource->pami) (2023.12.1)\n",
            "Requirement already satisfied: referencing>=0.28.4 in /usr/local/lib/python3.10/dist-packages (from jsonschema->JsonForm>=0.0.2->resource->pami) (0.35.1)\n",
            "Requirement already satisfied: rpds-py>=0.7.1 in /usr/local/lib/python3.10/dist-packages (from jsonschema->JsonForm>=0.0.2->resource->pami) (0.18.1)\n",
            "Building wheels for collected packages: JsonForm, JsonSir\n",
            "  Building wheel for JsonForm (setup.py) ... \u001b[?25l\u001b[?25hdone\n",
            "  Created wheel for JsonForm: filename=JsonForm-0.0.2-py3-none-any.whl size=3314 sha256=83bbcc4187b80ecb9d0327ed527465a7e6c9d66d27c68fc22b5bc22be226b4f5\n",
            "  Stored in directory: /root/.cache/pip/wheels/b6/e5/87/11026246d3bd4ad67c0615682d2d6748bbd9a40ac0490882bd\n",
            "  Building wheel for JsonSir (setup.py) ... \u001b[?25l\u001b[?25hdone\n",
            "  Created wheel for JsonSir: filename=JsonSir-0.0.2-py3-none-any.whl size=4752 sha256=c5e9f4bba4f96a4739f5b525f808aa737e72e7fc2b583f3db545466a75c2af8d\n",
            "  Stored in directory: /root/.cache/pip/wheels/1d/4c/d3/4d9757425983b43eb709be1043d82cd03fb863ce5f56f117e6\n",
            "Successfully built JsonForm JsonSir\n",
            "Installing collected packages: JsonSir, validators, python-easyconfig, deprecated, sphinxcontrib-jquery, discord.py, sphinx-rtd-theme, JsonForm, resource, pami\n",
            "Successfully installed JsonForm-0.0.2 JsonSir-0.0.2 deprecated-1.2.14 discord.py-2.4.0 pami-2024.7.2 python-easyconfig-0.1.7 resource-0.2.1 sphinx-rtd-theme-2.0.0 sphinxcontrib-jquery-4.1 validators-0.30.0\n"
          ]
        }
      ],
      "source": [
        "!pip install -U pami"
      ]
    },
    {
      "cell_type": "markdown",
      "source": [
        "##Test Cases for T10I4D100K Dataset##"
      ],
      "metadata": {
        "id": "8qHjM_HeXedb"
      }
    },
    {
      "cell_type": "markdown",
      "source": [
        "###Test Case1 for T10I4D100K Dataset###"
      ],
      "metadata": {
        "id": "ALTEOMDQXnD0"
      }
    },
    {
      "cell_type": "code",
      "source": [
        "#import the class file\n",
        "from PAMI.frequentPattern.basic import Aprioribitset as alg\n",
        "import pandas as pd\n",
        "\n",
        "#set the input parameters\n",
        "URL = 'https://u-aizu.ac.jp/~udayrage/datasets/transactionalDatabases/Transactional_T10I4D100K.csv'\n",
        "separator = '\\t'\n",
        "minSupCntLst = [500,1000,1500,2000,2500]\n",
        "\n",
        "#Intialise a dataframe to store the results of Aprioribitset\n",
        "result = pd.DataFrame(columns = ['algorithm','minSup','patterns','runtime','memory'])\n",
        "\n",
        "#Execute the alogithm at minSup Values\n",
        "for minSupCnt in minSupCntLst:\n",
        "  obj = alg.Aprioribitset(URL,minSup=minSupCnt,sep=separator)\n",
        "  obj.mine()\n",
        "  #store the results in dataframe\n",
        "  result.loc[result.shape[0]] = ['Aprioribitset',minSupCnt,len(obj.getPatterns()),obj.getRuntime(),obj.getMemoryRSS()]\n",
        "\n",
        "#print the results\n",
        "print(\"\\n\\nFreqent Patterns were generated successfully using Aprioribitset algorithm\\n\\n\")\n",
        "print(result)\n"
      ],
      "metadata": {
        "colab": {
          "base_uri": "https://localhost:8080/"
        },
        "id": "lyFfAeBUXraZ",
        "outputId": "c2375d20-8198-4f18-8c40-29c17772e1c6"
      },
      "execution_count": 3,
      "outputs": [
        {
          "output_type": "stream",
          "name": "stdout",
          "text": [
            "Frequent patterns were generated successfully using Apriori algorithm \n",
            "Frequent patterns were generated successfully using Apriori algorithm \n",
            "Frequent patterns were generated successfully using Apriori algorithm \n",
            "Frequent patterns were generated successfully using Apriori algorithm \n",
            "Frequent patterns were generated successfully using Apriori algorithm \n",
            "\n",
            "\n",
            "Freqent Patterns were generated successfully using Aprioribitset algorithm\n",
            "\n",
            "\n",
            "       algorithm  minSup  patterns    runtime     memory\n",
            "0  Aprioribitset     500      1072  14.571368  253587456\n",
            "1  Aprioribitset    1000       385  11.520377  252743680\n",
            "2  Aprioribitset    1500       237  10.732496  253677568\n",
            "3  Aprioribitset    2000       155  10.594688  253358080\n",
            "4  Aprioribitset    2500       107   9.604827  253308928\n"
          ]
        }
      ]
    },
    {
      "cell_type": "markdown",
      "source": [
        "###Test Case2 for T10I4D100K Dataset###"
      ],
      "metadata": {
        "id": "Ac8d9-2NYXcW"
      }
    },
    {
      "cell_type": "code",
      "source": [
        "!wget -nc https://u-aizu.ac.jp/~udayrage/datasets/transactionalDatabases/Transactional_T10I4D100K.csv #download the sample transactional database"
      ],
      "metadata": {
        "colab": {
          "base_uri": "https://localhost:8080/"
        },
        "id": "jGVTYmb-Ydh0",
        "outputId": "507b1986-80e3-4d43-a5cb-aad979eec87e"
      },
      "execution_count": 4,
      "outputs": [
        {
          "output_type": "stream",
          "name": "stdout",
          "text": [
            "--2024-07-04 03:32:10--  https://u-aizu.ac.jp/~udayrage/datasets/transactionalDatabases/Transactional_T10I4D100K.csv\n",
            "Resolving u-aizu.ac.jp (u-aizu.ac.jp)... 150.95.161.176, 150.31.244.160\n",
            "Connecting to u-aizu.ac.jp (u-aizu.ac.jp)|150.95.161.176|:443... connected.\n",
            "HTTP request sent, awaiting response... 200 OK\n",
            "Length: 4019277 (3.8M) [text/csv]\n",
            "Saving to: ‘Transactional_T10I4D100K.csv’\n",
            "\n",
            "Transactional_T10I4 100%[===================>]   3.83M   884KB/s    in 4.4s    \n",
            "\n",
            "2024-07-04 03:32:15 (884 KB/s) - ‘Transactional_T10I4D100K.csv’ saved [4019277/4019277]\n",
            "\n"
          ]
        }
      ]
    },
    {
      "cell_type": "code",
      "source": [
        "#import the class file\n",
        "from PAMI.frequentPattern.basic import Aprioribitset as alg\n",
        "import pandas as pd\n",
        "\n",
        "#specify the filename\n",
        "inputFile = 'Transactional_T10I4D100K.csv'\n",
        "\n",
        "separator = '\\t'\n",
        "minSupCntLst = [500,1000,1500,2000,2500]\n",
        "\n",
        "#Intialise a dataframe to store the results of Aprioribitset\n",
        "result = pd.DataFrame(columns = ['algorithm','minSup','patterns','runtime','memory'])\n",
        "\n",
        "#Execute the alogithm at minSup Values\n",
        "for minSupCnt in minSupCntLst:\n",
        "  obj = alg.Aprioribitset(inputFile,minSup=minSupCnt,sep=separator)\n",
        "  obj.mine()\n",
        "  #store the results in dataframe\n",
        "  result.loc[result.shape[0]] = ['Aprioribitset',minSupCnt,len(obj.getPatterns()),obj.getRuntime(),obj.getMemoryRSS()]\n",
        "\n",
        "#print the results\n",
        "print(\"\\n\\nFreqent Patterns were generated successfully using Aprioribitset algorithm\\n\\n\")\n",
        "print(result)\n"
      ],
      "metadata": {
        "colab": {
          "base_uri": "https://localhost:8080/"
        },
        "id": "0aWGEBvuYpar",
        "outputId": "4b435aac-78f3-4343-91bf-e80a9e283894"
      },
      "execution_count": 5,
      "outputs": [
        {
          "output_type": "stream",
          "name": "stdout",
          "text": [
            "Frequent patterns were generated successfully using Apriori algorithm \n",
            "Frequent patterns were generated successfully using Apriori algorithm \n",
            "Frequent patterns were generated successfully using Apriori algorithm \n",
            "Frequent patterns were generated successfully using Apriori algorithm \n",
            "Frequent patterns were generated successfully using Apriori algorithm \n",
            "\n",
            "\n",
            "Freqent Patterns were generated successfully using Aprioribitset algorithm\n",
            "\n",
            "\n",
            "       algorithm  minSup  patterns   runtime     memory\n",
            "0  Aprioribitset     500      1072  6.241557  255098880\n",
            "1  Aprioribitset    1000       385  5.473691  254177280\n",
            "2  Aprioribitset    1500       237  3.351422  254128128\n",
            "3  Aprioribitset    2000       155  2.559693  267472896\n",
            "4  Aprioribitset    2500       107  2.152508  275714048\n"
          ]
        }
      ]
    },
    {
      "cell_type": "markdown",
      "source": [
        "###Test Case3 for T10I4D100K Dataset###"
      ],
      "metadata": {
        "id": "rpqV8wmVdkzB"
      }
    },
    {
      "cell_type": "code",
      "source": [
        "from PAMI.frequentPattern.basic import Aprioribitset as alg\n",
        "import pandas as pd\n",
        "\n",
        "inputFile = 'Transactional_T10I4D100K.csv'\n",
        "separator = '\\t'\n",
        "minimumSupportCountList = [500, 1000, 1500, 2000, 2500]\n",
        "\n",
        "#Read the CSV file into DataFrame\n",
        "df = pd.read_csv(inputFile, header=[0], sep=' ')\n",
        "df = df.rename(columns={df.columns[0]: \"Transactions\"})\n",
        "\n",
        "\n",
        "#Ensure all data in Transaction column in string before splitting\n",
        "df[\"Transactions\"] = df[\"Transactions\"].astype(str)\n",
        "\n",
        "transactions = pd.DataFrame(df['Transactions'], columns=['Transactions'])\n",
        "\n",
        "result = pd.DataFrame(columns=['algorithm', 'minSup', 'patterns', 'runtime', 'memory'])\n",
        "\n",
        "for minSupCount in minimumSupportCountList:\n",
        "    obj = alg.Aprioribitset(transactions, minSup=minSupCount, sep=separator)\n",
        "    obj.mine()\n",
        "\n",
        "    # Get the patterns found\n",
        "    patterns = obj.getPatterns()\n",
        "\n",
        "    # Store the results in the data frame\n",
        "    result.loc[len(result)] = ['Aprioribitset', minSupCount, len(patterns), obj.getRuntime(), obj.getMemoryRSS()]\n",
        "\n",
        "# Print the results\n",
        "print(\"\\n\\nFrequent patterns were generated successfully using Aprioribitset algorithm\\n\\n\")\n",
        "print(result)"
      ],
      "metadata": {
        "colab": {
          "base_uri": "https://localhost:8080/"
        },
        "id": "jA0drAPEdoxp",
        "outputId": "56c8e70d-7919-47cf-b663-c1a1db95f6bb"
      },
      "execution_count": 30,
      "outputs": [
        {
          "output_type": "stream",
          "name": "stdout",
          "text": [
            "Frequent patterns were generated successfully using Apriori algorithm \n",
            "Frequent patterns were generated successfully using Apriori algorithm \n",
            "Frequent patterns were generated successfully using Apriori algorithm \n",
            "Frequent patterns were generated successfully using Apriori algorithm \n",
            "Frequent patterns were generated successfully using Apriori algorithm \n",
            "\n",
            "\n",
            "Frequent patterns were generated successfully using Aprioribitset algorithm\n",
            "\n",
            "\n",
            "       algorithm  minSup  patterns   runtime     memory\n",
            "0  Aprioribitset     500      1072  6.082719  306425856\n",
            "1  Aprioribitset    1000       385  5.346934  307941376\n",
            "2  Aprioribitset    1500       237  3.094518  303828992\n",
            "3  Aprioribitset    2000       155  2.461744  295751680\n",
            "4  Aprioribitset    2500       107  2.017297  295825408\n"
          ]
        }
      ]
    },
    {
      "cell_type": "markdown",
      "source": [
        "##Test Cases for Retail Dataset##"
      ],
      "metadata": {
        "id": "EzXvqyhta1zw"
      }
    },
    {
      "cell_type": "markdown",
      "source": [
        "###Test Case1 for Retail Dataset###\n",
        "\n"
      ],
      "metadata": {
        "id": "Evs708aEagWY"
      }
    },
    {
      "cell_type": "code",
      "source": [
        "#import the class file\n",
        "from PAMI.frequentPattern.basic import Aprioribitset as alg\n",
        "import pandas as pd\n",
        "\n",
        "#set the input parameters\n",
        "URL = 'https://u-aizu.ac.jp/~udayrage/datasets/transactionalDatabases/Transactional_retail.csv'\n",
        "separator = '\\t'\n",
        "minSupCntLst = [500,1000,1500,2000,2500]\n",
        "\n",
        "#Intialise a dataframe to store the results of Aprioribitset\n",
        "result = pd.DataFrame(columns = ['algorithm','minSup','patterns','runtime','memory'])\n",
        "\n",
        "#Execute the alogithm at minSup Values\n",
        "for minSupCnt in minSupCntLst:\n",
        "  obj = alg.Aprioribitset(URL,minSup=minSupCnt,sep=separator)\n",
        "  obj.mine()\n",
        "  #store the results in dataframe\n",
        "  result.loc[result.shape[0]] = ['Aprioribitset',minSupCnt,len(obj.getPatterns()),obj.getRuntime(),obj.getMemoryRSS()]\n",
        "\n",
        "#print the results\n",
        "print(\"\\n\\nFreqent Patterns were generated successfully using Aprioribitset algorithm\\n\\n\")\n",
        "print(result)\n"
      ],
      "metadata": {
        "id": "DMIqJSxta9mj",
        "colab": {
          "base_uri": "https://localhost:8080/"
        },
        "outputId": "e55108bb-3b66-42c7-e5ed-d32daef3495e"
      },
      "execution_count": 32,
      "outputs": [
        {
          "output_type": "stream",
          "name": "stdout",
          "text": [
            "Frequent patterns were generated successfully using Apriori algorithm \n",
            "Frequent patterns were generated successfully using Apriori algorithm \n",
            "Frequent patterns were generated successfully using Apriori algorithm \n",
            "Frequent patterns were generated successfully using Apriori algorithm \n",
            "Frequent patterns were generated successfully using Apriori algorithm \n",
            "\n",
            "\n",
            "Freqent Patterns were generated successfully using Aprioribitset algorithm\n",
            "\n",
            "\n",
            "       algorithm  minSup  patterns   runtime     memory\n",
            "0  Aprioribitset     500       468  8.737210  291647488\n",
            "1  Aprioribitset    1000       135  7.209034  292458496\n",
            "2  Aprioribitset    1500        68  7.445092  291627008\n",
            "3  Aprioribitset    2000        45  7.018382  292438016\n",
            "4  Aprioribitset    2500        34  7.052685  292438016\n"
          ]
        }
      ]
    },
    {
      "cell_type": "markdown",
      "source": [
        "######Test Case2 for Retail Dataset###"
      ],
      "metadata": {
        "id": "N4DD68_ncbcN"
      }
    },
    {
      "cell_type": "code",
      "source": [
        "!wget -nc https://u-aizu.ac.jp/~udayrage/datasets/transactionalDatabases/Transactional_retail.csv"
      ],
      "metadata": {
        "id": "wBSyAU16ck9m",
        "colab": {
          "base_uri": "https://localhost:8080/"
        },
        "outputId": "8b728f9b-269e-4106-ef05-3c33600b5434"
      },
      "execution_count": 33,
      "outputs": [
        {
          "output_type": "stream",
          "name": "stdout",
          "text": [
            "--2024-07-04 03:43:23--  https://u-aizu.ac.jp/~udayrage/datasets/transactionalDatabases/Transactional_retail.csv\n",
            "Resolving u-aizu.ac.jp (u-aizu.ac.jp)... 150.31.244.160, 150.95.161.176\n",
            "Connecting to u-aizu.ac.jp (u-aizu.ac.jp)|150.31.244.160|:443... connected.\n",
            "HTTP request sent, awaiting response... 200 OK\n",
            "Length: 4165546 (4.0M) [text/csv]\n",
            "Saving to: ‘Transactional_retail.csv’\n",
            "\n",
            "Transactional_retai 100%[===================>]   3.97M   867KB/s    in 7.3s    \n",
            "\n",
            "2024-07-04 03:43:32 (555 KB/s) - ‘Transactional_retail.csv’ saved [4165546/4165546]\n",
            "\n"
          ]
        }
      ]
    },
    {
      "cell_type": "code",
      "source": [
        "#import the class file\n",
        "from PAMI.frequentPattern.basic import Aprioribitset as alg\n",
        "import pandas as pd\n",
        "\n",
        "#specify the filename\n",
        "inputFile = 'Transactional_retail.csv'\n",
        "\n",
        "separator = '\\t'\n",
        "minSupCntLst = [500,1000,1500,2000,2500]\n",
        "\n",
        "#Intialise a dataframe to store the results of Aprioribitset\n",
        "result = pd.DataFrame(columns = ['algorithm','minSup','patterns','runtime','memory'])\n",
        "\n",
        "#Execute the alogithm at minSup Values\n",
        "for minSupCnt in minSupCntLst:\n",
        "  obj = alg.Aprioribitset(URL,minSup=minSupCnt,sep=separator)\n",
        "  obj.mine()\n",
        "  #store the results in dataframe\n",
        "  result.loc[result.shape[0]] = ['Aprioribitset',minSupCnt,len(obj.getPatterns()),obj.getRuntime(),obj.getMemoryRSS()]\n",
        "\n",
        "#print the results\n",
        "print(\"\\n\\nFreqent Patterns were generated successfully using Aprioribitset algorithm\\n\\n\")\n",
        "print(result)\n"
      ],
      "metadata": {
        "id": "Ui1BxYkfcsS_",
        "colab": {
          "base_uri": "https://localhost:8080/"
        },
        "outputId": "02fa9f09-7977-4cd1-bdc1-5bd3df6f4912"
      },
      "execution_count": 34,
      "outputs": [
        {
          "output_type": "stream",
          "name": "stdout",
          "text": [
            "Frequent patterns were generated successfully using Apriori algorithm \n",
            "Frequent patterns were generated successfully using Apriori algorithm \n",
            "Frequent patterns were generated successfully using Apriori algorithm \n",
            "Frequent patterns were generated successfully using Apriori algorithm \n",
            "Frequent patterns were generated successfully using Apriori algorithm \n",
            "\n",
            "\n",
            "Freqent Patterns were generated successfully using Aprioribitset algorithm\n",
            "\n",
            "\n",
            "       algorithm  minSup  patterns    runtime     memory\n",
            "0  Aprioribitset     500       468  10.037322  292438016\n",
            "1  Aprioribitset    1000       135   9.866993  292438016\n",
            "2  Aprioribitset    1500        68   7.540963  292438016\n",
            "3  Aprioribitset    2000        45   7.486288  292438016\n",
            "4  Aprioribitset    2500        34   7.481368  292438016\n"
          ]
        }
      ]
    },
    {
      "cell_type": "markdown",
      "source": [
        "###Test Case3 for Retail Dataset###"
      ],
      "metadata": {
        "id": "kSikW736emEG"
      }
    },
    {
      "cell_type": "code",
      "source": [
        "from PAMI.frequentPattern.basic import Aprioribitset as alg\n",
        "import pandas as pd\n",
        "\n",
        "inputFile = 'Transactional_retail.csv'\n",
        "separator = '\\t'\n",
        "minimumSupportCountList = [500, 1000, 1500, 2000, 2500]\n",
        "\n",
        "#Read the CSV file into DataFrame\n",
        "df = pd.read_csv(inputFile, header=[0], sep=' ')\n",
        "df = df.rename(columns={df.columns[0]: \"Transactions\"})\n",
        "\n",
        "#Ensure all data in Transaction column in string before splitting\n",
        "df[\"Transactions\"] = df[\"Transactions\"].astype(str)\n",
        "\n",
        "transactions = df['Transactions']\n",
        "transactions = pd.DataFrame(transactions, columns=['Transactions'])\n",
        "\n",
        "result = pd.DataFrame(columns=['algorithm', 'minSup', 'patterns', 'runtime', 'memory'])\n",
        "\n",
        "for minSupCount in minimumSupportCountList:\n",
        "    obj = alg.Aprioribitset(transactions, minSup=minSupCount, sep=separator)\n",
        "    obj.mine()\n",
        "\n",
        "    # Get the patterns found\n",
        "    patterns = obj.getPatterns()\n",
        "\n",
        "    # Store the results in the data frame\n",
        "    result.loc[len(result)] = ['Aprioribitset', minSupCount, len(patterns), obj.getRuntime(), obj.getMemoryRSS()]\n",
        "\n",
        "# Print the results\n",
        "print(\"\\n\\nFrequent patterns were generated successfully using Aprioribitset algorithm\\n\\n\")\n",
        "print(result)"
      ],
      "metadata": {
        "id": "-1q5XKK5eoxS",
        "colab": {
          "base_uri": "https://localhost:8080/"
        },
        "outputId": "ff314d6f-5d51-4956-f044-4a3a049585cd"
      },
      "execution_count": 35,
      "outputs": [
        {
          "output_type": "stream",
          "name": "stdout",
          "text": [
            "Frequent patterns were generated successfully using Apriori algorithm \n",
            "Frequent patterns were generated successfully using Apriori algorithm \n",
            "Frequent patterns were generated successfully using Apriori algorithm \n",
            "Frequent patterns were generated successfully using Apriori algorithm \n",
            "Frequent patterns were generated successfully using Apriori algorithm \n",
            "\n",
            "\n",
            "Frequent patterns were generated successfully using Aprioribitset algorithm\n",
            "\n",
            "\n",
            "       algorithm  minSup  patterns   runtime     memory\n",
            "0  Aprioribitset     500       468  2.190175  309219328\n",
            "1  Aprioribitset    1000       135  1.474265  324956160\n",
            "2  Aprioribitset    1500        68  2.211581  297709568\n",
            "3  Aprioribitset    2000        45  1.649916  342855680\n",
            "4  Aprioribitset    2500        34  1.512680  296734720\n"
          ]
        }
      ]
    },
    {
      "cell_type": "markdown",
      "source": [
        "##Test Cases for Chess Dataset##"
      ],
      "metadata": {
        "id": "4TdFcoskbKmC"
      }
    },
    {
      "cell_type": "markdown",
      "source": [
        "###Test Case1 for chess Dataset###"
      ],
      "metadata": {
        "id": "z6klTDbdbRtr"
      }
    },
    {
      "cell_type": "code",
      "source": [
        "#import the class file\n",
        "from PAMI.frequentPattern.basic import Aprioribitset as alg\n",
        "import pandas as pd\n",
        "\n",
        "#set the input parameters\n",
        "URL = 'https://u-aizu.ac.jp/~udayrage/datasets/transactionalDatabases/Transactional_chess1.csv'\n",
        "separator = '\\t'\n",
        "minSupCntLst = [2500,3000]\n",
        "\n",
        "#Intialise a dataframe to store the results of Aprioribitset\n",
        "result = pd.DataFrame(columns = ['algorithm','minSup','patterns','runtime','memory'])\n",
        "\n",
        "#Execute the alogithm at minSup Values\n",
        "for minSupCnt in minSupCntLst:\n",
        "  obj = alg.Aprioribitset(URL,minSup=minSupCnt,sep=separator)\n",
        "  obj.mine()\n",
        "  #store the results in dataframe\n",
        "  result.loc[result.shape[0]] = ['Aprioribitset',minSupCnt,len(obj.getPatterns()),obj.getRuntime(),obj.getMemoryRSS()]\n",
        "\n",
        "#print the results\n",
        "print(\"\\n\\nFreqent Patterns were generated successfully using Aprioribitset algorithm\\n\\n\")\n",
        "print(result)\n"
      ],
      "metadata": {
        "id": "Cy5UcqsNbVWY",
        "colab": {
          "base_uri": "https://localhost:8080/"
        },
        "outputId": "146d99b9-96c9-4f7e-ccb3-1917a6b9e52a"
      },
      "execution_count": 36,
      "outputs": [
        {
          "output_type": "stream",
          "name": "stdout",
          "text": [
            "Frequent patterns were generated successfully using Apriori algorithm \n",
            "Frequent patterns were generated successfully using Apriori algorithm \n",
            "\n",
            "\n",
            "Freqent Patterns were generated successfully using Aprioribitset algorithm\n",
            "\n",
            "\n",
            "       algorithm  minSup  patterns   runtime     memory\n",
            "0  Aprioribitset    2500     11474  3.623773  295768064\n",
            "1  Aprioribitset    3000       152  3.084659  295768064\n"
          ]
        }
      ]
    },
    {
      "cell_type": "markdown",
      "source": [
        "###Test Case2 for chess Dataset###"
      ],
      "metadata": {
        "id": "d_6L_9zUdCbY"
      }
    },
    {
      "cell_type": "code",
      "source": [
        "!wget -nc https://u-aizu.ac.jp/~udayrage/datasets/transactionalDatabases/Transactional_chess1.csv"
      ],
      "metadata": {
        "id": "HfUqahcsdFGR",
        "colab": {
          "base_uri": "https://localhost:8080/"
        },
        "outputId": "a1c84aa4-2ecc-4ecd-9708-0e7b01324a0b"
      },
      "execution_count": 37,
      "outputs": [
        {
          "output_type": "stream",
          "name": "stdout",
          "text": [
            "--2024-07-04 03:45:20--  https://u-aizu.ac.jp/~udayrage/datasets/transactionalDatabases/Transactional_chess1.csv\n",
            "Resolving u-aizu.ac.jp (u-aizu.ac.jp)... 150.31.244.160, 150.95.161.176\n",
            "Connecting to u-aizu.ac.jp (u-aizu.ac.jp)|150.31.244.160|:443... connected.\n",
            "HTTP request sent, awaiting response... 200 OK\n",
            "Length: 341866 (334K) [text/csv]\n",
            "Saving to: ‘Transactional_chess1.csv’\n",
            "\n",
            "Transactional_chess 100%[===================>] 333.85K   174KB/s    in 1.9s    \n",
            "\n",
            "2024-07-04 03:45:23 (174 KB/s) - ‘Transactional_chess1.csv’ saved [341866/341866]\n",
            "\n"
          ]
        }
      ]
    },
    {
      "cell_type": "code",
      "source": [
        "#import the class file\n",
        "from PAMI.frequentPattern.basic import Aprioribitset as alg\n",
        "import pandas as pd\n",
        "\n",
        "#specify the filename\n",
        "inputFile = 'Transactional_chess1.csv'\n",
        "\n",
        "separator = '\\t'\n",
        "minSupCntLst = [2500,3000]\n",
        "\n",
        "#Intialise a dataframe to store the results of Aprioribitset\n",
        "result = pd.DataFrame(columns = ['algorithm','minSup','patterns','runtime','memory'])\n",
        "\n",
        "#Execute the alogithm at minSup Values\n",
        "for minSupCnt in minSupCntLst:\n",
        "  obj = alg.Aprioribitset(URL,minSup=minSupCnt,sep=separator)\n",
        "  obj.mine()\n",
        "  #store the results in dataframe\n",
        "  result.loc[result.shape[0]] = ['Aprioribitset',minSupCnt,len(obj.getPatterns()),obj.getRuntime(),obj.getMemoryRSS()]\n",
        "\n",
        "#print the results\n",
        "print(\"\\n\\nFreqent Patterns were generated successfully using Aprioribitset algorithm\\n\\n\")\n",
        "print(result)\n"
      ],
      "metadata": {
        "id": "Z9MH3OFPdX1y",
        "colab": {
          "base_uri": "https://localhost:8080/"
        },
        "outputId": "77358017-b6d6-4aab-d63a-eefd4d9121d0"
      },
      "execution_count": 38,
      "outputs": [
        {
          "output_type": "stream",
          "name": "stdout",
          "text": [
            "Frequent patterns were generated successfully using Apriori algorithm \n",
            "Frequent patterns were generated successfully using Apriori algorithm \n",
            "\n",
            "\n",
            "Freqent Patterns were generated successfully using Aprioribitset algorithm\n",
            "\n",
            "\n",
            "       algorithm  minSup  patterns   runtime     memory\n",
            "0  Aprioribitset    2500     11474  3.508803  295768064\n",
            "1  Aprioribitset    3000       152  3.355199  295768064\n"
          ]
        }
      ]
    },
    {
      "cell_type": "markdown",
      "source": [
        "###Test Case3 for chess Dataset###"
      ],
      "metadata": {
        "id": "v_in7ru6fFCT"
      }
    },
    {
      "cell_type": "code",
      "source": [
        "from PAMI.frequentPattern.basic import Aprioribitset as alg\n",
        "import pandas as pd\n",
        "\n",
        "inputFile = 'Transactional_chess1.csv'\n",
        "separator = '\\t'\n",
        "minimumSupportCountList = [2500,3000]\n",
        "\n",
        "#Read the CSV file into DataFrame\n",
        "df = pd.read_csv(inputFile, header=[0], sep=' ')\n",
        "df = df.rename(columns={df.columns[0]: \"Transactions\"})\n",
        "\n",
        "#Ensure all data in Transaction column in string before splitting\n",
        "df[\"Transactions\"] = df[\"Transactions\"].astype(str)\n",
        "\n",
        "\n",
        "transactions = df['Transactions']\n",
        "transactions = pd.DataFrame(transactions, columns=['Transactions'])\n",
        "\n",
        "result = pd.DataFrame(columns=['algorithm', 'minSup', 'patterns', 'runtime', 'memory'])\n",
        "\n",
        "for minSupCount in minimumSupportCountList:\n",
        "    obj = alg.Aprioribitset(transactions, minSup=minSupCount, sep=separator)\n",
        "    obj.mine()\n",
        "\n",
        "    # Get the patterns found\n",
        "    patterns = obj.getPatterns()\n",
        "\n",
        "    # Store the results in the data frame\n",
        "    result.loc[len(result)] = ['Aprioribitset', minSupCount, len(patterns), obj.getRuntime(), obj.getMemoryRSS()]\n",
        "\n",
        "# Print the results\n",
        "print(\"\\n\\nFrequent patterns were generated successfully using Aprioribitset algorithm\\n\\n\")\n",
        "print(result)"
      ],
      "metadata": {
        "id": "mfnQ_IQ2fIgI",
        "colab": {
          "base_uri": "https://localhost:8080/"
        },
        "outputId": "8590e6c0-f64c-45e2-d89d-1f234dd22b2d"
      },
      "execution_count": 39,
      "outputs": [
        {
          "output_type": "stream",
          "name": "stdout",
          "text": [
            "Frequent patterns were generated successfully using Apriori algorithm \n",
            "Frequent patterns were generated successfully using Apriori algorithm \n",
            "\n",
            "\n",
            "Frequent patterns were generated successfully using Aprioribitset algorithm\n",
            "\n",
            "\n",
            "       algorithm  minSup  patterns   runtime     memory\n",
            "0  Aprioribitset    2500     11401  0.192260  287772672\n",
            "1  Aprioribitset    3000       151  0.077244  287772672\n"
          ]
        }
      ]
    }
  ]
}