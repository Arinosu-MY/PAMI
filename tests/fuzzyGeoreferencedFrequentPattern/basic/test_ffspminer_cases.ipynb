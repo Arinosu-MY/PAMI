{
  "nbformat": 4,
  "nbformat_minor": 0,
  "metadata": {
    "colab": {
      "provenance": [],
      "authorship_tag": "ABX9TyP4STLAx8s+eqIwJLsTEE/Y"
    },
    "kernelspec": {
      "name": "python3",
      "display_name": "Python 3"
    },
    "language_info": {
      "name": "python"
    }
  },
  "cells": [
    {
      "cell_type": "code",
      "execution_count": 1,
      "metadata": {
        "colab": {
          "base_uri": "https://localhost:8080/"
        },
        "id": "43vYV0Xmytz6",
        "outputId": "298ce6b9-37ed-4a36-e0ca-80cdc8086b33"
      },
      "outputs": [
        {
          "output_type": "stream",
          "name": "stdout",
          "text": [
            "Collecting pami\n",
            "  Downloading pami-2024.6.10-py3-none-any.whl (1.0 MB)\n",
            "\u001b[2K     \u001b[90m━━━━━━━━━━━━━━━━━━━━━━━━━━━━━━━━━━━━━━━━\u001b[0m \u001b[32m1.0/1.0 MB\u001b[0m \u001b[31m8.4 MB/s\u001b[0m eta \u001b[36m0:00:00\u001b[0m\n",
            "\u001b[?25hRequirement already satisfied: psutil in /usr/local/lib/python3.10/dist-packages (from pami) (5.9.5)\n",
            "Requirement already satisfied: pandas in /usr/local/lib/python3.10/dist-packages (from pami) (2.0.3)\n",
            "Requirement already satisfied: plotly in /usr/local/lib/python3.10/dist-packages (from pami) (5.15.0)\n",
            "Requirement already satisfied: matplotlib in /usr/local/lib/python3.10/dist-packages (from pami) (3.7.1)\n",
            "Collecting resource (from pami)\n",
            "  Downloading Resource-0.2.1-py2.py3-none-any.whl (25 kB)\n",
            "Collecting validators (from pami)\n",
            "  Downloading validators-0.28.3-py3-none-any.whl (40 kB)\n",
            "\u001b[2K     \u001b[90m━━━━━━━━━━━━━━━━━━━━━━━━━━━━━━━━━━━━━━━━\u001b[0m \u001b[32m40.0/40.0 kB\u001b[0m \u001b[31m2.6 MB/s\u001b[0m eta \u001b[36m0:00:00\u001b[0m\n",
            "\u001b[?25hRequirement already satisfied: urllib3 in /usr/local/lib/python3.10/dist-packages (from pami) (2.0.7)\n",
            "Requirement already satisfied: Pillow in /usr/local/lib/python3.10/dist-packages (from pami) (9.4.0)\n",
            "Requirement already satisfied: numpy in /usr/local/lib/python3.10/dist-packages (from pami) (1.25.2)\n",
            "Requirement already satisfied: sphinx in /usr/local/lib/python3.10/dist-packages (from pami) (5.0.2)\n",
            "Collecting sphinx-rtd-theme (from pami)\n",
            "  Downloading sphinx_rtd_theme-2.0.0-py2.py3-none-any.whl (2.8 MB)\n",
            "\u001b[2K     \u001b[90m━━━━━━━━━━━━━━━━━━━━━━━━━━━━━━━━━━━━━━━━\u001b[0m \u001b[32m2.8/2.8 MB\u001b[0m \u001b[31m24.2 MB/s\u001b[0m eta \u001b[36m0:00:00\u001b[0m\n",
            "\u001b[?25hCollecting discord.py (from pami)\n",
            "  Downloading discord.py-2.3.2-py3-none-any.whl (1.1 MB)\n",
            "\u001b[2K     \u001b[90m━━━━━━━━━━━━━━━━━━━━━━━━━━━━━━━━━━━━━━━━\u001b[0m \u001b[32m1.1/1.1 MB\u001b[0m \u001b[31m30.8 MB/s\u001b[0m eta \u001b[36m0:00:00\u001b[0m\n",
            "\u001b[?25hRequirement already satisfied: networkx in /usr/local/lib/python3.10/dist-packages (from pami) (3.3)\n",
            "Collecting deprecated (from pami)\n",
            "  Downloading Deprecated-1.2.14-py2.py3-none-any.whl (9.6 kB)\n",
            "Requirement already satisfied: wrapt<2,>=1.10 in /usr/local/lib/python3.10/dist-packages (from deprecated->pami) (1.14.1)\n",
            "Requirement already satisfied: aiohttp<4,>=3.7.4 in /usr/local/lib/python3.10/dist-packages (from discord.py->pami) (3.9.5)\n",
            "Requirement already satisfied: contourpy>=1.0.1 in /usr/local/lib/python3.10/dist-packages (from matplotlib->pami) (1.2.1)\n",
            "Requirement already satisfied: cycler>=0.10 in /usr/local/lib/python3.10/dist-packages (from matplotlib->pami) (0.12.1)\n",
            "Requirement already satisfied: fonttools>=4.22.0 in /usr/local/lib/python3.10/dist-packages (from matplotlib->pami) (4.53.0)\n",
            "Requirement already satisfied: kiwisolver>=1.0.1 in /usr/local/lib/python3.10/dist-packages (from matplotlib->pami) (1.4.5)\n",
            "Requirement already satisfied: packaging>=20.0 in /usr/local/lib/python3.10/dist-packages (from matplotlib->pami) (24.1)\n",
            "Requirement already satisfied: pyparsing>=2.3.1 in /usr/local/lib/python3.10/dist-packages (from matplotlib->pami) (3.1.2)\n",
            "Requirement already satisfied: python-dateutil>=2.7 in /usr/local/lib/python3.10/dist-packages (from matplotlib->pami) (2.8.2)\n",
            "Requirement already satisfied: pytz>=2020.1 in /usr/local/lib/python3.10/dist-packages (from pandas->pami) (2023.4)\n",
            "Requirement already satisfied: tzdata>=2022.1 in /usr/local/lib/python3.10/dist-packages (from pandas->pami) (2024.1)\n",
            "Requirement already satisfied: tenacity>=6.2.0 in /usr/local/lib/python3.10/dist-packages (from plotly->pami) (8.3.0)\n",
            "Collecting JsonForm>=0.0.2 (from resource->pami)\n",
            "  Downloading JsonForm-0.0.2.tar.gz (2.4 kB)\n",
            "  Preparing metadata (setup.py) ... \u001b[?25l\u001b[?25hdone\n",
            "Collecting JsonSir>=0.0.2 (from resource->pami)\n",
            "  Downloading JsonSir-0.0.2.tar.gz (2.2 kB)\n",
            "  Preparing metadata (setup.py) ... \u001b[?25l\u001b[?25hdone\n",
            "Collecting python-easyconfig>=0.1.0 (from resource->pami)\n",
            "  Downloading Python_EasyConfig-0.1.7-py2.py3-none-any.whl (5.4 kB)\n",
            "Requirement already satisfied: sphinxcontrib-applehelp in /usr/local/lib/python3.10/dist-packages (from sphinx->pami) (1.0.8)\n",
            "Requirement already satisfied: sphinxcontrib-devhelp in /usr/local/lib/python3.10/dist-packages (from sphinx->pami) (1.0.6)\n",
            "Requirement already satisfied: sphinxcontrib-jsmath in /usr/local/lib/python3.10/dist-packages (from sphinx->pami) (1.0.1)\n",
            "Requirement already satisfied: sphinxcontrib-htmlhelp>=2.0.0 in /usr/local/lib/python3.10/dist-packages (from sphinx->pami) (2.0.5)\n",
            "Requirement already satisfied: sphinxcontrib-serializinghtml>=1.1.5 in /usr/local/lib/python3.10/dist-packages (from sphinx->pami) (1.1.10)\n",
            "Requirement already satisfied: sphinxcontrib-qthelp in /usr/local/lib/python3.10/dist-packages (from sphinx->pami) (1.0.7)\n",
            "Requirement already satisfied: Jinja2>=2.3 in /usr/local/lib/python3.10/dist-packages (from sphinx->pami) (3.1.4)\n",
            "Requirement already satisfied: Pygments>=2.0 in /usr/local/lib/python3.10/dist-packages (from sphinx->pami) (2.16.1)\n",
            "Requirement already satisfied: docutils<0.19,>=0.14 in /usr/local/lib/python3.10/dist-packages (from sphinx->pami) (0.18.1)\n",
            "Requirement already satisfied: snowballstemmer>=1.1 in /usr/local/lib/python3.10/dist-packages (from sphinx->pami) (2.2.0)\n",
            "Requirement already satisfied: babel>=1.3 in /usr/local/lib/python3.10/dist-packages (from sphinx->pami) (2.15.0)\n",
            "Requirement already satisfied: alabaster<0.8,>=0.7 in /usr/local/lib/python3.10/dist-packages (from sphinx->pami) (0.7.16)\n",
            "Requirement already satisfied: imagesize in /usr/local/lib/python3.10/dist-packages (from sphinx->pami) (1.4.1)\n",
            "Requirement already satisfied: requests>=2.5.0 in /usr/local/lib/python3.10/dist-packages (from sphinx->pami) (2.31.0)\n",
            "Collecting sphinxcontrib-jquery<5,>=4 (from sphinx-rtd-theme->pami)\n",
            "  Downloading sphinxcontrib_jquery-4.1-py2.py3-none-any.whl (121 kB)\n",
            "\u001b[2K     \u001b[90m━━━━━━━━━━━━━━━━━━━━━━━━━━━━━━━━━━━━━━━━\u001b[0m \u001b[32m121.1/121.1 kB\u001b[0m \u001b[31m10.1 MB/s\u001b[0m eta \u001b[36m0:00:00\u001b[0m\n",
            "\u001b[?25hRequirement already satisfied: aiosignal>=1.1.2 in /usr/local/lib/python3.10/dist-packages (from aiohttp<4,>=3.7.4->discord.py->pami) (1.3.1)\n",
            "Requirement already satisfied: attrs>=17.3.0 in /usr/local/lib/python3.10/dist-packages (from aiohttp<4,>=3.7.4->discord.py->pami) (23.2.0)\n",
            "Requirement already satisfied: frozenlist>=1.1.1 in /usr/local/lib/python3.10/dist-packages (from aiohttp<4,>=3.7.4->discord.py->pami) (1.4.1)\n",
            "Requirement already satisfied: multidict<7.0,>=4.5 in /usr/local/lib/python3.10/dist-packages (from aiohttp<4,>=3.7.4->discord.py->pami) (6.0.5)\n",
            "Requirement already satisfied: yarl<2.0,>=1.0 in /usr/local/lib/python3.10/dist-packages (from aiohttp<4,>=3.7.4->discord.py->pami) (1.9.4)\n",
            "Requirement already satisfied: async-timeout<5.0,>=4.0 in /usr/local/lib/python3.10/dist-packages (from aiohttp<4,>=3.7.4->discord.py->pami) (4.0.3)\n",
            "Requirement already satisfied: MarkupSafe>=2.0 in /usr/local/lib/python3.10/dist-packages (from Jinja2>=2.3->sphinx->pami) (2.1.5)\n",
            "Requirement already satisfied: jsonschema in /usr/local/lib/python3.10/dist-packages (from JsonForm>=0.0.2->resource->pami) (4.19.2)\n",
            "Requirement already satisfied: six>=1.5 in /usr/local/lib/python3.10/dist-packages (from python-dateutil>=2.7->matplotlib->pami) (1.16.0)\n",
            "Requirement already satisfied: PyYAML in /usr/local/lib/python3.10/dist-packages (from python-easyconfig>=0.1.0->resource->pami) (6.0.1)\n",
            "Requirement already satisfied: charset-normalizer<4,>=2 in /usr/local/lib/python3.10/dist-packages (from requests>=2.5.0->sphinx->pami) (3.3.2)\n",
            "Requirement already satisfied: idna<4,>=2.5 in /usr/local/lib/python3.10/dist-packages (from requests>=2.5.0->sphinx->pami) (3.7)\n",
            "Requirement already satisfied: certifi>=2017.4.17 in /usr/local/lib/python3.10/dist-packages (from requests>=2.5.0->sphinx->pami) (2024.6.2)\n",
            "Requirement already satisfied: jsonschema-specifications>=2023.03.6 in /usr/local/lib/python3.10/dist-packages (from jsonschema->JsonForm>=0.0.2->resource->pami) (2023.12.1)\n",
            "Requirement already satisfied: referencing>=0.28.4 in /usr/local/lib/python3.10/dist-packages (from jsonschema->JsonForm>=0.0.2->resource->pami) (0.35.1)\n",
            "Requirement already satisfied: rpds-py>=0.7.1 in /usr/local/lib/python3.10/dist-packages (from jsonschema->JsonForm>=0.0.2->resource->pami) (0.18.1)\n",
            "Building wheels for collected packages: JsonForm, JsonSir\n",
            "  Building wheel for JsonForm (setup.py) ... \u001b[?25l\u001b[?25hdone\n",
            "  Created wheel for JsonForm: filename=JsonForm-0.0.2-py3-none-any.whl size=3314 sha256=8166d098c671f7a760a114b70ebec950da0c7a2d54ece16309340d07e9f3e034\n",
            "  Stored in directory: /root/.cache/pip/wheels/b6/e5/87/11026246d3bd4ad67c0615682d2d6748bbd9a40ac0490882bd\n",
            "  Building wheel for JsonSir (setup.py) ... \u001b[?25l\u001b[?25hdone\n",
            "  Created wheel for JsonSir: filename=JsonSir-0.0.2-py3-none-any.whl size=4752 sha256=adfe0220b5135845f51ac3c61274ed9cfc42a32cd9c75d3ccb37b766025cd2e8\n",
            "  Stored in directory: /root/.cache/pip/wheels/1d/4c/d3/4d9757425983b43eb709be1043d82cd03fb863ce5f56f117e6\n",
            "Successfully built JsonForm JsonSir\n",
            "Installing collected packages: JsonSir, validators, python-easyconfig, deprecated, sphinxcontrib-jquery, discord.py, sphinx-rtd-theme, JsonForm, resource, pami\n",
            "Successfully installed JsonForm-0.0.2 JsonSir-0.0.2 deprecated-1.2.14 discord.py-2.3.2 pami-2024.6.10 python-easyconfig-0.1.7 resource-0.2.1 sphinx-rtd-theme-2.0.0 sphinxcontrib-jquery-4.1 validators-0.28.3\n"
          ]
        }
      ],
      "source": [
        "!pip install -U pami"
      ]
    },
    {
      "cell_type": "markdown",
      "source": [
        "## Test Cases for Fuzzy_T10I4D100K Dataset ##"
      ],
      "metadata": {
        "id": "GlNw1pMMz3yx"
      }
    },
    {
      "cell_type": "markdown",
      "source": [
        "### Test Case1 for Fuzzy_T10I4D100K Dataset ###"
      ],
      "metadata": {
        "id": "X4HHpEc4z5ok"
      }
    },
    {
      "cell_type": "code",
      "source": [
        "from PAMI.fuzzyGeoreferencedFrequentPattern.basic import FFSPMiner  as alg\n",
        "import pandas as pd\n",
        "# Set the input parameters\n",
        "URL = 'https://u-aizu.ac.jp/~udayrage/datasets/fuzzyDatabases/Fuzzy_T10I4D100K.csv'\n",
        "neighborFile='t10_neighbours.txt'\n",
        "separator = '\\t'\n",
        "minimumSupportCountList = [3000,3500,4000,4500,5000]\n",
        "\n",
        "# Initialize a data frame to store the results of FFSPMiner\n",
        "result = pd.DataFrame(columns=['algorithm', 'minSup', 'patterns', 'runtime', 'memory'])\n",
        "\n",
        "# Execute the algorithm at different minSup values\n",
        "for minSupCount in minimumSupportCountList:\n",
        "    obj = alg.FFSPMiner(URL, neighborFile,minSup=minSupCount, sep=separator)\n",
        "    obj.mine()\n",
        "    # Store the results in the data frame\n",
        "    result.loc[result.shape[0]] = ['FFSPMiner', minSupCount, len(obj.getPatterns()), obj.getRuntime(), obj.getMemoryRSS()]\n",
        "\n",
        "# Print the results\n",
        "print(f\"Frequent patterns were generated successfully using FFSPMiner algorithm\")\n",
        "\n",
        "print(result)"
      ],
      "metadata": {
        "colab": {
          "base_uri": "https://localhost:8080/"
        },
        "id": "8JPNuU2Gz8C4",
        "outputId": "a2c47826-7290-460a-d85e-aca0e9e5ee78"
      },
      "execution_count": 2,
      "outputs": [
        {
          "output_type": "stream",
          "name": "stdout",
          "text": [
            "Frequent patterns were generated successfully using FFSPMiner algorithm\n",
            "   algorithm  minSup  patterns    runtime     memory\n",
            "0  FFSPMiner    3000        46  10.764359  349032448\n",
            "1  FFSPMiner    3500        30   8.164770  340406272\n",
            "2  FFSPMiner    4000        19   9.637766  333725696\n",
            "3  FFSPMiner    4500        13   9.509286  329670656\n",
            "4  FFSPMiner    5000         6  10.226406  323334144\n"
          ]
        }
      ]
    },
    {
      "cell_type": "markdown",
      "source": [
        "### Test Case2 for Fuzzy_T10I4D100K Dataset ###"
      ],
      "metadata": {
        "id": "wmKbtU0ID6sT"
      }
    },
    {
      "cell_type": "code",
      "source": [
        "!wget -nc https://u-aizu.ac.jp/~udayrage/datasets/fuzzyDatabases/Fuzzy_T10I4D100K.csv"
      ],
      "metadata": {
        "colab": {
          "base_uri": "https://localhost:8080/"
        },
        "id": "AAGoLVG6D_WT",
        "outputId": "76c9968c-d696-430e-9337-d22bed5b836b"
      },
      "execution_count": 4,
      "outputs": [
        {
          "output_type": "stream",
          "name": "stdout",
          "text": [
            "--2024-06-15 17:01:52--  https://u-aizu.ac.jp/~udayrage/datasets/fuzzyDatabases/Fuzzy_T10I4D100K.csv\n",
            "Resolving u-aizu.ac.jp (u-aizu.ac.jp)... 150.31.244.160, 150.95.161.176\n",
            "Connecting to u-aizu.ac.jp (u-aizu.ac.jp)|150.31.244.160|:443... connected.\n",
            "HTTP request sent, awaiting response... 200 OK\n",
            "Length: 9151461 (8.7M) [text/csv]\n",
            "Saving to: ‘Fuzzy_T10I4D100K.csv’\n",
            "\n",
            "Fuzzy_T10I4D100K.cs 100%[===================>]   8.73M  1.70MB/s    in 6.7s    \n",
            "\n",
            "2024-06-15 17:02:00 (1.30 MB/s) - ‘Fuzzy_T10I4D100K.csv’ saved [9151461/9151461]\n",
            "\n"
          ]
        }
      ]
    },
    {
      "cell_type": "code",
      "source": [
        "from PAMI.fuzzyGeoreferencedFrequentPattern.basic import FFSPMiner  as alg\n",
        "import pandas as pd\n",
        "\n",
        "# Set the input parameters\n",
        "inputFile = 'Fuzzy_T10I4D100K.csv'\n",
        "neighborFile='t10_neighbours.txt'\n",
        "separator = '\\t'\n",
        "minimumSupportCountList = [3000,3500,4000,4500,5000]\n",
        "\n",
        "# Initialize a data frame to store the results of FFSPMiner\n",
        "result = pd.DataFrame(columns=['algorithm', 'minSup', 'patterns', 'runtime', 'memory'])\n",
        "\n",
        "# Execute the algorithm at different minSup values\n",
        "for minSupCount in minimumSupportCountList:\n",
        "    obj = alg.FFSPMiner(inputFile,neighborFile, minSup=minSupCount, sep=separator)\n",
        "    obj.mine()\n",
        "    # Store the results in the data frame\n",
        "    result.loc[result.shape[0]] = ['FFSPMiner', minSupCount, len(obj.getPatterns()), obj.getRuntime(), obj.getMemoryRSS()]\n",
        "\n",
        "# Print the results\n",
        "print(\"Frequent patterns were generated successfully using FFSPMiner algorithm\")\n",
        "\n",
        "print(result)"
      ],
      "metadata": {
        "colab": {
          "base_uri": "https://localhost:8080/"
        },
        "id": "sCKI4OQZEdte",
        "outputId": "472b7894-56f6-45ad-8ba1-946e6b0be0f2"
      },
      "execution_count": 5,
      "outputs": [
        {
          "output_type": "stream",
          "name": "stdout",
          "text": [
            "Frequent patterns were generated successfully using FFSPMiner algorithm\n",
            "   algorithm  minSup  patterns   runtime     memory\n",
            "0  FFSPMiner    3000        46  3.281769  351481856\n",
            "1  FFSPMiner    3500        30  2.725261  342302720\n",
            "2  FFSPMiner    4000        19  3.905959  335294464\n",
            "3  FFSPMiner    4500        13  2.527397  330682368\n",
            "4  FFSPMiner    5000         6  2.459370  324571136\n"
          ]
        }
      ]
    },
    {
      "cell_type": "markdown",
      "source": [
        "### Test Case3 for Fuzzy_T10I4D100K Dataset ###"
      ],
      "metadata": {
        "id": "XNuMHA8zE-9P"
      }
    },
    {
      "cell_type": "code",
      "source": [
        "from PAMI.fuzzyGeoreferencedFrequentPattern.basic import FFSPMiner  as alg\n",
        "import pandas as pd\n",
        "\n",
        "# Set the input parameters\n",
        "inputFile = 'Fuzzy_T10I4D100K.csv'\n",
        "neighborFile='t10_neighbours.txt'\n",
        "separator = '\\t'\n",
        "minimumSupportCountList = [3000,3500,4000,4500,5000]\n",
        "\n",
        "# Read the CSV file into a DataFrame\n",
        "df = pd.read_csv(inputFile, header=[0], sep=' ')\n",
        "df = df.rename(columns={df.columns[0]: \"Transactions\"})\n",
        "\n",
        "# Ensure all data in the \"Transaction\" column is string before splitting\n",
        "df[\"Transactions\"] = df[\"Transactions\"].astype(str)\n",
        "\n",
        "# Preprocess the dataset\n",
        "transactions = df['Transactions'].apply(lambda x: x.split(separator))\n",
        "transactions = pd.DataFrame(transactions, columns=['Transactions'])\n",
        "\n",
        "# Initialize a data frame to store the results of FFSPMiner\n",
        "result = pd.DataFrame(columns=['algorithm', 'minSup', 'patterns', 'runtime', 'memory'])\n",
        "\n",
        "# Execute the algorithm at different minSup values\n",
        "for minSupCount in minimumSupportCountList:\n",
        "    obj = alg.FFSPMiner(inputFile,neighborFile, minSup=minSupCount, sep=separator)\n",
        "    obj.mine()\n",
        "\n",
        "    # Get the patterns found\n",
        "    patterns = obj.getPatterns()\n",
        "\n",
        "    # Store the results in the data frame\n",
        "    result.loc[len(result)] = ['FFSPMiner', minSupCount, len(patterns), obj.getRuntime(), obj.getMemoryRSS()]\n",
        "\n",
        "# Print the results\n",
        "print(\"Frequent patterns were generated successfully using FFSPMiner algorithm\")\n",
        "print(result)"
      ],
      "metadata": {
        "colab": {
          "base_uri": "https://localhost:8080/"
        },
        "id": "xNCIa_NZFBl6",
        "outputId": "1ce55446-9be0-4f8f-9b4c-07152ec62fb3"
      },
      "execution_count": 6,
      "outputs": [
        {
          "output_type": "stream",
          "name": "stdout",
          "text": [
            "Frequent patterns were generated successfully using FFSPMiner algorithm\n",
            "   algorithm  minSup  patterns   runtime     memory\n",
            "0  FFSPMiner    3000        46  3.458493  475705344\n",
            "1  FFSPMiner    3500        30  2.715464  466710528\n",
            "2  FFSPMiner    4000        19  4.091982  459526144\n",
            "3  FFSPMiner    4500        13  2.585832  481140736\n",
            "4  FFSPMiner    5000         6  2.566938  449011712\n"
          ]
        }
      ]
    },
    {
      "cell_type": "markdown",
      "source": [
        "## Test Cases Retail Dataset ##"
      ],
      "metadata": {
        "id": "_5wBaRwbosmU"
      }
    },
    {
      "cell_type": "markdown",
      "source": [
        "###  Test Case1 Retail Dataset ###"
      ],
      "metadata": {
        "id": "yITQ6s7qouCN"
      }
    },
    {
      "cell_type": "code",
      "source": [
        "from PAMI.fuzzyGeoreferencedFrequentPattern.basic import FFSPMiner  as alg\n",
        "import pandas as pd\n",
        "# Set the input parameters\n",
        "URL = 'https://u-aizu.ac.jp/~udayrage/datasets/fuzzyDatabases/Fuzzy_retail.csv'\n",
        "separator = '\\t'\n",
        "neighborFile='t10_neighbours.txt'\n",
        "minimumSupportCountList = [3000,3500,4000,4500,5000]\n",
        "\n",
        "# Initialize a data frame to store the results of FFSPMiner\n",
        "result = pd.DataFrame(columns=['algorithm', 'minSup', 'patterns', 'runtime', 'memory'])\n",
        "\n",
        "# Execute the algorithm at different minSup values\n",
        "for minSupCount in minimumSupportCountList:\n",
        "    obj = alg.FFSPMiner(URL,neighborFile, minSup=minSupCount, sep=separator)\n",
        "    obj.mine()\n",
        "    # Store the results in the data frame\n",
        "    result.loc[result.shape[0]] = ['FFSPMiner', minSupCount, len(obj.getPatterns()), obj.getRuntime(), obj.getMemoryRSS()]\n",
        "\n",
        "# Print the results\n",
        "print(\"Frequent patterns were generated successfully using FFSPMiner algorithm\")\n",
        "\n",
        "print(result)"
      ],
      "metadata": {
        "colab": {
          "base_uri": "https://localhost:8080/"
        },
        "id": "K6RntV-9oxzN",
        "outputId": "d86faca0-f080-44bb-c4b8-ca6ac48aec8d"
      },
      "execution_count": 7,
      "outputs": [
        {
          "output_type": "stream",
          "name": "stdout",
          "text": [
            "Frequent patterns were generated successfully using FFSPMiner algorithm\n",
            "   algorithm  minSup  patterns    runtime     memory\n",
            "0  FFSPMiner    3000        10  12.173761  494854144\n",
            "1  FFSPMiner    3500        10  11.734481  495099904\n",
            "2  FFSPMiner    4000        10  11.742410  495280128\n",
            "3  FFSPMiner    4500         9  11.574620  493387776\n",
            "4  FFSPMiner    5000         9  10.298450  493387776\n"
          ]
        }
      ]
    },
    {
      "cell_type": "code",
      "source": [
        "!wget -nc https://u-aizu.ac.jp/~udayrage/datasets/fuzzyDatabases/Fuzzy_retail.csv"
      ],
      "metadata": {
        "colab": {
          "base_uri": "https://localhost:8080/"
        },
        "id": "3hpRI9MUrfSh",
        "outputId": "caf98dac-1dc7-4235-dd9d-9675d9a2f426"
      },
      "execution_count": 8,
      "outputs": [
        {
          "output_type": "stream",
          "name": "stdout",
          "text": [
            "--2024-06-15 17:09:02--  https://u-aizu.ac.jp/~udayrage/datasets/fuzzyDatabases/Fuzzy_retail.csv\n",
            "Resolving u-aizu.ac.jp (u-aizu.ac.jp)... 150.31.244.160, 150.95.161.176\n",
            "Connecting to u-aizu.ac.jp (u-aizu.ac.jp)|150.31.244.160|:443... connected.\n",
            "HTTP request sent, awaiting response... 200 OK\n",
            "Length: 12342035 (12M) [text/csv]\n",
            "Saving to: ‘Fuzzy_retail.csv’\n",
            "\n",
            "Fuzzy_retail.csv    100%[===================>]  11.77M  2.11MB/s    in 7.7s    \n",
            "\n",
            "2024-06-15 17:09:11 (1.53 MB/s) - ‘Fuzzy_retail.csv’ saved [12342035/12342035]\n",
            "\n"
          ]
        }
      ]
    },
    {
      "cell_type": "code",
      "source": [
        "from PAMI.fuzzyGeoreferencedFrequentPattern.basic import FFSPMiner  as alg\n",
        "import pandas as pd\n",
        "\n",
        "# Set the input parameters\n",
        "inputFile = 'Fuzzy_retail.csv'\n",
        "neighborFile='t10_neighbours.txt'\n",
        "separator = '\\t'\n",
        "minimumSupportCountList = [3000,3500,4000,4500,5000]\n",
        "\n",
        "# Initialize a data frame to store the results of FFSPMiner\n",
        "result = pd.DataFrame(columns=['algorithm', 'minSup', 'patterns', 'runtime', 'memory'])\n",
        "\n",
        "# Execute the algorithm at different minSup values\n",
        "for minSupCount in minimumSupportCountList:\n",
        "    obj = alg.FFSPMiner(inputFile, neighborFile,minSup=minSupCount, sep=separator)\n",
        "    obj.mine()\n",
        "    # Store the results in the data frame\n",
        "    result.loc[result.shape[0]] = ['FFSPMiner', minSupCount, len(obj.getPatterns()), obj.getRuntime(), obj.getMemoryRSS()]\n",
        "\n",
        "# Print the results\n",
        "print(f\"Frequent patterns were generated successfully using FFSPMiner algorithm\")\n",
        "\n",
        "print(result)"
      ],
      "metadata": {
        "colab": {
          "base_uri": "https://localhost:8080/"
        },
        "id": "C1U40Qxornf4",
        "outputId": "c9c60bd2-d524-4893-d611-5d8926cf4155"
      },
      "execution_count": 9,
      "outputs": [
        {
          "output_type": "stream",
          "name": "stdout",
          "text": [
            "Frequent patterns were generated successfully using FFSPMiner algorithm\n",
            "   algorithm  minSup  patterns   runtime     memory\n",
            "0  FFSPMiner    3000        10  6.246262  495517696\n",
            "1  FFSPMiner    3500        10  3.907621  495628288\n",
            "2  FFSPMiner    4000        10  4.312675  495935488\n",
            "3  FFSPMiner    4500         9  7.557032  494444544\n",
            "4  FFSPMiner    5000         9  4.058341  494473216\n"
          ]
        }
      ]
    },
    {
      "cell_type": "code",
      "source": [
        "from PAMI.fuzzyGeoreferencedFrequentPattern.basic import FFSPMiner  as alg\n",
        "import pandas as pd\n",
        "\n",
        "# Set the input parameters\n",
        "inputFile = 'Fuzzy_retail.csv'\n",
        "neighborFile='t10_neighbours.txt'\n",
        "separator = '\\t'\n",
        "minimumSupportCountList = [3000,3500,4000,4500,5000]\n",
        "\n",
        "# Read the CSV file into a DataFrame\n",
        "df = pd.read_csv(inputFile, header=[0], sep=' ')\n",
        "df = df.rename(columns={df.columns[0]: \"Transactions\"})\n",
        "\n",
        "# Ensure all data in the \"Transaction\" column is string before splitting\n",
        "df[\"Transactions\"] = df[\"Transactions\"].astype(str)\n",
        "\n",
        "# Preprocess the dataset\n",
        "\n",
        "transactions = df['Transactions'].apply(lambda x: x.split(separator))\n",
        "transactions = pd.DataFrame(transactions, columns=['Transactions'])\n",
        "\n",
        "# Initialize a data frame to store the results of FFSPMiner\n",
        "result = pd.DataFrame(columns=['algorithm', 'minSup', 'patterns', 'runtime', 'memory'])\n",
        "\n",
        "# Execute the algorithm at different minSup values\n",
        "for minSupCount in minimumSupportCountList:\n",
        "    obj = alg.FFSPMiner(inputFile, neighborFile,minSup=minSupCount, sep=separator)\n",
        "    obj.mine()\n",
        "\n",
        "    # Get the patterns found\n",
        "    patterns = obj.getPatterns()\n",
        "\n",
        "    # Store the results in the data frame\n",
        "    result.loc[len(result)] = ['FFSPMiner', minSupCount, len(patterns), obj.getRuntime(), obj.getMemoryRSS()]\n",
        "\n",
        "# Print the results\n",
        "print(\"Frequent patterns were generated successfully using FFSPMiner algorithm\")\n",
        "print(result)\n"
      ],
      "metadata": {
        "colab": {
          "base_uri": "https://localhost:8080/"
        },
        "id": "YkDGIC6FspFt",
        "outputId": "8aa05644-7d2c-4d8f-d3e5-1b9f944688bf"
      },
      "execution_count": 10,
      "outputs": [
        {
          "output_type": "stream",
          "name": "stdout",
          "text": [
            "Frequent patterns were generated successfully using FFSPMiner algorithm\n",
            "   algorithm  minSup  patterns   runtime     memory\n",
            "0  FFSPMiner    3000        10  4.460101  546082816\n",
            "1  FFSPMiner    3500        10  4.182145  546574336\n",
            "2  FFSPMiner    4000        10  4.632098  546607104\n",
            "3  FFSPMiner    4500         9  4.171232  545419264\n",
            "4  FFSPMiner    5000         9  3.919927  545394688\n"
          ]
        }
      ]
    },
    {
      "cell_type": "markdown",
      "source": [
        "## Test Cases for T20I6D100K Database ##"
      ],
      "metadata": {
        "id": "oMbPLT4ZtItC"
      }
    },
    {
      "cell_type": "markdown",
      "source": [
        "### Test Case1 for T20I6D100K Database ###"
      ],
      "metadata": {
        "id": "0kiE7jLDtMK3"
      }
    },
    {
      "cell_type": "code",
      "source": [
        "from PAMI.fuzzyGeoreferencedFrequentPattern.basic import FFSPMiner  as alg\n",
        "import pandas as pd\n",
        "# Set the input parameters\n",
        "URL = 'https://u-aizu.ac.jp/~udayrage/datasets/fuzzyDatabases/Fuzzy_T20I6D100K.csv'\n",
        "separator = '\\t'\n",
        "neighborFile='t10_neighbours.txt'\n",
        "minimumSupportCountList = [6000,6500,7000,8500,9000]\n",
        "\n",
        "# Initialize a data frame to store the results of FFSPMiner\n",
        "result = pd.DataFrame(columns=['algorithm', 'minSup', 'patterns', 'runtime', 'memory'])\n",
        "\n",
        "# Execute the algorithm at different minSup values\n",
        "for minSupCount in minimumSupportCountList:\n",
        "    obj = alg.FFSPMiner(URL, neighborFile,minSup=minSupCount, sep=separator)\n",
        "    obj.mine()\n",
        "    # Store the results in the data frame\n",
        "    result.loc[result.shape[0]] = ['FFSPMiner', minSupCount, len(obj.getPatterns()), obj.getRuntime(), obj.getMemoryRSS()]\n",
        "\n",
        "# Print the results\n",
        "print(\"Frequent patterns were generated successfully using FFSPMiner algorithm\")\n",
        "\n",
        "print(result)"
      ],
      "metadata": {
        "colab": {
          "base_uri": "https://localhost:8080/"
        },
        "id": "XFkPwiTFtO9e",
        "outputId": "89f60d1a-c1a1-4bd2-80fa-f758e0c4b712"
      },
      "execution_count": 11,
      "outputs": [
        {
          "output_type": "stream",
          "name": "stdout",
          "text": [
            "Frequent patterns were generated successfully using FFSPMiner algorithm\n",
            "   algorithm  minSup  patterns    runtime     memory\n",
            "0  FFSPMiner    6000        38  13.974858  665665536\n",
            "1  FFSPMiner    6500        30  14.086555  657072128\n",
            "2  FFSPMiner    7000        25  12.634418  651468800\n",
            "3  FFSPMiner    8500         9  11.500223  630611968\n",
            "4  FFSPMiner    9000         7  11.871365  627380224\n"
          ]
        }
      ]
    },
    {
      "cell_type": "markdown",
      "source": [
        "### Test Case2 for T20I6D100K Database ###"
      ],
      "metadata": {
        "id": "Sx3N0KZJuIhf"
      }
    },
    {
      "cell_type": "code",
      "source": [
        "!wget -nc https://u-aizu.ac.jp/~udayrage/datasets/fuzzyDatabases/Fuzzy_T20I6D100K.csv"
      ],
      "metadata": {
        "colab": {
          "base_uri": "https://localhost:8080/"
        },
        "id": "UzV17PgXuIz1",
        "outputId": "ef5cb3f8-ab59-464b-a0b1-30f43d541546"
      },
      "execution_count": 12,
      "outputs": [
        {
          "output_type": "stream",
          "name": "stdout",
          "text": [
            "--2024-06-15 17:12:35--  https://u-aizu.ac.jp/~udayrage/datasets/fuzzyDatabases/Fuzzy_T20I6D100K.csv\n",
            "Resolving u-aizu.ac.jp (u-aizu.ac.jp)... 150.95.161.176, 150.31.244.160\n",
            "Connecting to u-aizu.ac.jp (u-aizu.ac.jp)|150.95.161.176|:443... connected.\n",
            "HTTP request sent, awaiting response... 200 OK\n",
            "Length: 17657765 (17M) [text/csv]\n",
            "Saving to: ‘Fuzzy_T20I6D100K.csv’\n",
            "\n",
            "Fuzzy_T20I6D100K.cs 100%[===================>]  16.84M  3.46MB/s    in 6.1s    \n",
            "\n",
            "2024-06-15 17:12:42 (2.75 MB/s) - ‘Fuzzy_T20I6D100K.csv’ saved [17657765/17657765]\n",
            "\n"
          ]
        }
      ]
    },
    {
      "cell_type": "code",
      "source": [
        "from PAMI.fuzzyGeoreferencedFrequentPattern.basic import FFSPMiner  as alg\n",
        "import pandas as pd\n",
        "\n",
        "# Set the input parameters\n",
        "inputFile = 'Fuzzy_T20I6D100K.csv'\n",
        "neighborFile='t10_neighbours.txt'\n",
        "separator = '\\t'\n",
        "minimumSupportCountList = [6000,6500,7000,8500,9000]\n",
        "\n",
        "# Initialize a data frame to store the results of FFSPMiner\n",
        "result = pd.DataFrame(columns=['algorithm', 'minSup', 'patterns', 'runtime', 'memory'])\n",
        "\n",
        "# Execute the algorithm at different minSup values\n",
        "for minSupCount in minimumSupportCountList:\n",
        "    obj = alg.FFSPMiner(inputFile, neighborFile,minSup=minSupCount, sep=separator)\n",
        "    obj.mine()\n",
        "    # Store the results in the data frame\n",
        "    result.loc[result.shape[0]] = ['FFSPMiner', minSupCount, len(obj.getPatterns()), obj.getRuntime(), obj.getMemoryRSS()]\n",
        "\n",
        "# Print the results\n",
        "print(f\"Frequent patterns were generated successfully using FFSPMiner algorithm\")\n",
        "\n",
        "print(result)"
      ],
      "metadata": {
        "colab": {
          "base_uri": "https://localhost:8080/"
        },
        "id": "jzjozR7xuSZT",
        "outputId": "f09c0a17-c585-4fae-e746-e74a1f404f74"
      },
      "execution_count": 13,
      "outputs": [
        {
          "output_type": "stream",
          "name": "stdout",
          "text": [
            "Frequent patterns were generated successfully using FFSPMiner algorithm\n",
            "   algorithm  minSup  patterns   runtime     memory\n",
            "0  FFSPMiner    6000        38  5.651623  665493504\n",
            "1  FFSPMiner    6500        30  5.001116  657256448\n",
            "2  FFSPMiner    7000        25  5.939834  651771904\n",
            "3  FFSPMiner    8500         9  4.232827  630444032\n",
            "4  FFSPMiner    9000         7  5.457231  634490880\n"
          ]
        }
      ]
    },
    {
      "cell_type": "markdown",
      "source": [
        "### Test Case3 for T20I6D100K Database ###"
      ],
      "metadata": {
        "id": "XAB-ZWQUvPWq"
      }
    },
    {
      "cell_type": "code",
      "source": [
        "from PAMI.fuzzyGeoreferencedFrequentPattern.basic import FFSPMiner  as alg\n",
        "import pandas as pd\n",
        "\n",
        "# Set the input parameters\n",
        "inputFile = 'Fuzzy_T20I6D100K.csv'\n",
        "neighborFile='t10_neighbours.txt'\n",
        "separator = '\\t'\n",
        "minimumSupportCountList = [6000,6500,7000,8500,9000]\n",
        "\n",
        "# Read the CSV file into a DataFrame\n",
        "df = pd.read_csv(inputFile, header=[0], sep=' ')\n",
        "df = df.rename(columns={df.columns[0]: \"Transactions\"})\n",
        "\n",
        "# Ensure all data in the \"Transaction\" column is string before splitting\n",
        "df[\"Transactions\"] = df[\"Transactions\"].astype(str)\n",
        "\n",
        "# Preprocess the dataset\n",
        "transactions = df['Transactions'].apply(lambda x: x.split(separator))\n",
        "transactions = pd.DataFrame(transactions, columns=['Transactions'])\n",
        "\n",
        "# Initialize a data frame to store the results of FFSPMiner\n",
        "result = pd.DataFrame(columns=['algorithm', 'minSup', 'patterns', 'runtime', 'memory'])\n",
        "\n",
        "# Execute the algorithm at different minSup values\n",
        "for minSupCount in minimumSupportCountList:\n",
        "    obj = alg.FFSPMiner(inputFile, neighborFile, minSup=minSupCount, sep=separator)\n",
        "    obj.mine()\n",
        "\n",
        "    # Get the patterns found\n",
        "    patterns = obj.getPatterns()\n",
        "\n",
        "    # Store the results in the data frame\n",
        "    result.loc[len(result)] = ['FFSPMiner', minSupCount, len(patterns), obj.getRuntime(), obj.getMemoryRSS()]\n",
        "\n",
        "# Print the results\n",
        "print(\"Frequent patterns were generated successfully using FFSPMiner algorithm\")\n",
        "print(result)\n"
      ],
      "metadata": {
        "colab": {
          "base_uri": "https://localhost:8080/"
        },
        "id": "B_SaX7cmvRWW",
        "outputId": "b0f7318c-fcf5-49d2-f1b7-ccc2a8f11ece"
      },
      "execution_count": 14,
      "outputs": [
        {
          "output_type": "stream",
          "name": "stdout",
          "text": [
            "Frequent patterns were generated successfully using FFSPMiner algorithm\n",
            "   algorithm  minSup  patterns   runtime     memory\n",
            "0  FFSPMiner    6000        38  5.556042  722960384\n",
            "1  FFSPMiner    6500        30  6.784111  714489856\n",
            "2  FFSPMiner    7000        25  4.839377  723640320\n",
            "3  FFSPMiner    8500         9  5.250631  687800320\n",
            "4  FFSPMiner    9000         7  4.440488  684765184\n"
          ]
        }
      ]
    }
  ]
}